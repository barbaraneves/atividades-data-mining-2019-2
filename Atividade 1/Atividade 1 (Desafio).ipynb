{
 "cells": [
  {
   "cell_type": "markdown",
   "metadata": {},
   "source": [
    "# Atividades\n",
    "\n",
    "## Analisando dados de ocorrências de feminicídio na cidade de São Paulo\n",
    "\n",
    "Algumas perguntas com relação ao dataset podem ser respondidas\n",
    "- Como os índices de feminicídio evoluíram em relação ao tempo e como podem evoluir nos próximos anos?\n",
    "- Quais foram os períodos com maiores taxas nos últimos anos?\n",
    "- Quais são os logradouros, tipos de locais, bairros e regiões com maiores índices?\n",
    "- Quais são os dias da semana, horários com maiores índices?\n",
    "\n",
    "Dataset disponível em: http://www.ssp.sp.gov.br/transparenciassp/Default.aspx\n",
    "\n",
    "#### Bárbara Stéphanie Neves - 388713"
   ]
  },
  {
   "cell_type": "markdown",
   "metadata": {},
   "source": [
    "## Imports Necessários"
   ]
  },
  {
   "cell_type": "code",
   "execution_count": 1,
   "metadata": {},
   "outputs": [
    {
     "data": {
      "text/html": [
       "        <script type=\"text/javascript\">\n",
       "        window.PlotlyConfig = {MathJaxConfig: 'local'};\n",
       "        if (window.MathJax) {MathJax.Hub.Config({SVG: {font: \"STIX-Web\"}});}\n",
       "        if (typeof require !== 'undefined') {\n",
       "        require.undef(\"plotly\");\n",
       "        requirejs.config({\n",
       "            paths: {\n",
       "                'plotly': ['https://cdn.plot.ly/plotly-latest.min']\n",
       "            }\n",
       "        });\n",
       "        require(['plotly'], function(Plotly) {\n",
       "            window._Plotly = Plotly;\n",
       "        });\n",
       "        }\n",
       "        </script>\n",
       "        "
      ]
     },
     "metadata": {},
     "output_type": "display_data"
    }
   ],
   "source": [
    "import os\n",
    "import pandas as pd\n",
    "import numpy as np\n",
    "\n",
    "import calendar\n",
    "from time import strptime\n",
    "\n",
    "import matplotlib.pyplot as plt\n",
    "import plotly.offline as py\n",
    "import plotly.graph_objs as go\n",
    "py.init_notebook_mode(connected=True)"
   ]
  },
  {
   "cell_type": "markdown",
   "metadata": {},
   "source": [
    "## Leitura dos Dados "
   ]
  },
  {
   "cell_type": "markdown",
   "metadata": {},
   "source": [
    "### Lendo os Arquivos do Dataset"
   ]
  },
  {
   "cell_type": "code",
   "execution_count": 2,
   "metadata": {},
   "outputs": [
    {
     "ename": "FileNotFoundError",
     "evalue": "[Errno 2] No such file or directory: './Dataset/'",
     "output_type": "error",
     "traceback": [
      "\u001b[0;31m---------------------------------------------------------------------------\u001b[0m",
      "\u001b[0;31mFileNotFoundError\u001b[0m                         Traceback (most recent call last)",
      "\u001b[0;32m<ipython-input-2-b7b7724c8622>\u001b[0m in \u001b[0;36m<module>\u001b[0;34m\u001b[0m\n\u001b[1;32m      2\u001b[0m \u001b[0mpath\u001b[0m \u001b[0;34m=\u001b[0m \u001b[0;34m\"./Dataset/\"\u001b[0m\u001b[0;34m\u001b[0m\u001b[0;34m\u001b[0m\u001b[0m\n\u001b[1;32m      3\u001b[0m \u001b[0;34m\u001b[0m\u001b[0m\n\u001b[0;32m----> 4\u001b[0;31m \u001b[0;32mfor\u001b[0m \u001b[0mfile\u001b[0m \u001b[0;32min\u001b[0m \u001b[0mos\u001b[0m\u001b[0;34m.\u001b[0m\u001b[0mlistdir\u001b[0m\u001b[0;34m(\u001b[0m\u001b[0mpath\u001b[0m\u001b[0;34m=\u001b[0m\u001b[0mpath\u001b[0m\u001b[0;34m)\u001b[0m \u001b[0;34m:\u001b[0m\u001b[0;34m\u001b[0m\u001b[0;34m\u001b[0m\u001b[0m\n\u001b[0m\u001b[1;32m      5\u001b[0m     \u001b[0mdata\u001b[0m\u001b[0;34m.\u001b[0m\u001b[0mappend\u001b[0m\u001b[0;34m(\u001b[0m\u001b[0mpd\u001b[0m\u001b[0;34m.\u001b[0m\u001b[0mread_excel\u001b[0m\u001b[0;34m(\u001b[0m\u001b[0mpath\u001b[0m \u001b[0;34m+\u001b[0m \u001b[0mfile\u001b[0m\u001b[0;34m)\u001b[0m\u001b[0;34m)\u001b[0m\u001b[0;34m\u001b[0m\u001b[0;34m\u001b[0m\u001b[0m\n",
      "\u001b[0;31mFileNotFoundError\u001b[0m: [Errno 2] No such file or directory: './Dataset/'"
     ]
    }
   ],
   "source": [
    "data = []\n",
    "path = \"./Dataset/\"\n",
    "\n",
    "for file in os.listdir(path=path) :\n",
    "    data.append(pd.read_excel(path + file))"
   ]
  },
  {
   "cell_type": "markdown",
   "metadata": {},
   "source": [
    "### Concatenando os Dataframes"
   ]
  },
  {
   "cell_type": "code",
   "execution_count": null,
   "metadata": {},
   "outputs": [],
   "source": [
    "df_concat = pd.concat(data, axis=0, ignore_index=True, sort=False)\n",
    "\n",
    "print('O dataset de dados possui ' + str((df_concat.shape[0])) + ' instâncias e ' \n",
    "      + str((df_concat.shape[1])) + ' atributos')\n",
    "\n",
    "df_concat.head()"
   ]
  },
  {
   "cell_type": "markdown",
   "metadata": {},
   "source": [
    "### Salvando o Dataframe em Arquivo - Versão 0\n",
    "\n",
    "Caso seja necessário consultar/utilizar o dataset completo."
   ]
  },
  {
   "cell_type": "code",
   "execution_count": null,
   "metadata": {},
   "outputs": [],
   "source": [
    "df_concat.to_csv('DadosBO_2018_2019_SP_Feminicidio_Versao0.csv', index = False)"
   ]
  },
  {
   "cell_type": "markdown",
   "metadata": {},
   "source": [
    "## Pré-Processamento"
   ]
  },
  {
   "cell_type": "code",
   "execution_count": null,
   "metadata": {},
   "outputs": [],
   "source": [
    "df_concat.describe(include='all')"
   ]
  },
  {
   "cell_type": "code",
   "execution_count": null,
   "metadata": {},
   "outputs": [],
   "source": [
    "df_concat.corr()"
   ]
  },
  {
   "cell_type": "code",
   "execution_count": null,
   "metadata": {},
   "outputs": [],
   "source": [
    "df_concat.info()"
   ]
  },
  {
   "cell_type": "markdown",
   "metadata": {},
   "source": [
    "### Removendo Dados Duplicados \n",
    "\n",
    "Primeiro verificamos se existem instâncias duplicatas no dataset:"
   ]
  },
  {
   "cell_type": "code",
   "execution_count": null,
   "metadata": {},
   "outputs": [],
   "source": [
    "dups = df_concat.duplicated()\n",
    "print('Número de linhas duplicadas: ' + str((dups.sum())))"
   ]
  },
  {
   "cell_type": "markdown",
   "metadata": {},
   "source": [
    "### Padronizando as Strings\n",
    "\n",
    "Transformando as strings para *lowercase*, deixando apenas a primeira letra maiúscula:"
   ]
  },
  {
   "cell_type": "code",
   "execution_count": null,
   "metadata": {
    "scrolled": true
   },
   "outputs": [],
   "source": [
    "df_concat = df_concat.applymap(lambda s:s.lower().capitalize() if type(s) == str else s)\n",
    "    \n",
    "df_concat.head()"
   ]
  },
  {
   "cell_type": "markdown",
   "metadata": {},
   "source": [
    "### Verificando os Valores Faltantes\n",
    "\n",
    "Contagem dos valores não-nulos para verificar a quantidade de valores faltantes em cada coluna:"
   ]
  },
  {
   "cell_type": "code",
   "execution_count": null,
   "metadata": {},
   "outputs": [],
   "source": [
    "data2 = df_concat.replace('?', np.NaN)\n",
    "count = 0\n",
    "        \n",
    "print('Nome da coluna e sua quantidade de valores faltantes:\\n')\n",
    "\n",
    "for col in data2.columns :\n",
    "    value = data2[col].isna().sum() \n",
    "    if (value != 0) :\n",
    "        print('\\t%s = %d' % (col, data2[col].isna().sum()))\n",
    "    if (value >= 300) :\n",
    "        count += 1\n",
    "    \n",
    "        \n",
    "print('\\nQuantidade de colunas que possuem mais de 300 valores faltantes: ' + str(count))"
   ]
  },
  {
   "cell_type": "markdown",
   "metadata": {},
   "source": [
    "**DISCUSSÕES**\n",
    "\n",
    "Com base nos valores dados anteriormente, percebemos que os atributos \n",
    "1. **NUMERO_BOLETIM_PRINCIPAL**\n",
    "* **LOGRADOURO**\n",
    "* **LATIDUDE**\n",
    "* **LONGITUDE**\n",
    "* **PARENTESCO**\n",
    "* **PLACA_VEICULO**\n",
    "* **UF_VEICULO**\n",
    "* **CIDADE_VEICULO**\n",
    "* **DESCR_COR_VEICULO**\n",
    "* **DESCR_MARCA_VEICULO**\n",
    "* **DESCR_TIPO_VEICULO**\n",
    "* **QUANT_CELULAR**\n",
    "* **MARCA_CELULAR**\n",
    "\n",
    "possuem mais de 300 valores faltantes e quase todas eles se tornam desnecessários, pois não são relevantes para uma futura análise. \n",
    "\n",
    "- **NUMERO_BOLETIM_PRINCIPAL** não se torna relevante, pois, além de possuir 391 valores faltantes, este atributo é a junção de **NUMERO_BOLETIM** e mais um valor aleatório. Um detalhe que podemos perceber é que justamente essa coluna **NUMERO_BOLETIM**, já é junção de outras duas: **ANO_BO** e **NUM_BO**. O que também a torna desnecessária para nossa análise. \n",
    "- Outros atributos deste conjunto que poderiam ser relevantes são **LOGRADOURO** e **PARENTESCO**. Podemos obter alguma informação através deste último, como saber se as mulheres que sofreram feminicídio ou tentativa possuem relações familiares com seus assassinos, mas, esta coluna possui 455 valores faltantes, ou seja, está vazia de informações. Sem contar que podemos analisar se existe uma relação familiar entre vítima e assassino através da coluna **RELACIONAMENTO**. \n",
    "- Iremos desconsiderar também os atributos relacionados a veículos, pois temos informação apenas de uma pessoa.\n",
    "- Também não consideraremos valores pessoais, como os contidos em **RG** e **RG_UF**, nem **UF**, já que sabemos que os BOs são do estado de São Paulo."
   ]
  },
  {
   "cell_type": "markdown",
   "metadata": {},
   "source": [
    "### Agregação"
   ]
  },
  {
   "cell_type": "markdown",
   "metadata": {},
   "source": [
    "Como visto anteriormente, não existem linhas duplicadas, mas, ao analisar o dataset, percebe-se que alguns textos dos BOs estão \"quebrados\". \n",
    "Ou seja, temos várias instâncias com um mesmo número de BO, que possuem praticamente o mesmo conteúdo, mas que quase sempre se separam nas colunas\n",
    "- **ESPECIE**, \n",
    "- **RUBRICA**, \n",
    "- **DESDOBRAMENTO**, e \n",
    "- **NATUREZAVINCULADA**.\n",
    "\n",
    "O código abaixo mostra a quantidade de linhas que existe para um mesmo BO e as informações das colunas **NUM_BO**, **DATAOCORRENCIA**, **ESPECIE**, **RUBRICA**, **DESDOBRAMENTO**, **NOMEPESSOA** e **NATUREZAVINCULADA**, para termos uma noção dos valores \"quebrados\". "
   ]
  },
  {
   "cell_type": "code",
   "execution_count": null,
   "metadata": {},
   "outputs": [],
   "source": [
    "uniques = df_concat['NUM_BO'].unique()\n",
    "\n",
    "df = []\n",
    "\n",
    "for unique in uniques:\n",
    "    data3 = df_concat[df_concat.NUM_BO == unique]\n",
    "    df.append(data3)\n",
    "\n",
    "for data3 in df:\n",
    "    #columns = data3.columns.tolist()\n",
    "    #Exclui as últimas 11 colunas\n",
    "        #data3 = data3[columns[:len(columns)-11]]\n",
    "    print(data3[['NUM_BO', 'DATAOCORRENCIA', 'ESPECIE', 'RUBRICA', 'DESDOBRAMENTO', 'NOMEPESSOA',\n",
    "                 'NATUREZAVINCULADA']])\n",
    "    print('\\n')\n",
    "    \n",
    "# Verifica os valores para um único número de BO\n",
    "    #is_4432 = df_concat['NUM_BO'] == 4432\n",
    "    #df_4432 = df_concat[is_4432]\n",
    "    #df_4432[['NUM_BO', 'ESPECIE', 'RUBRICA', 'DESDOBRAMENTO', 'NATUREZAVINCULADA']]"
   ]
  },
  {
   "cell_type": "markdown",
   "metadata": {},
   "source": [
    "Dessa forma, os dados serão agrupados e agregados por **NUM_BO** e não consideraremos as colunas analisadas em **Verificando os Valores Faltantes**. \n",
    "\n",
    "Assim, formaremos um novo dataframe apenas com:"
   ]
  },
  {
   "cell_type": "code",
   "execution_count": null,
   "metadata": {},
   "outputs": [],
   "source": [
    "funcoesAgg = {'ANO_BO' : 'first', 'BO_INICIADO' : 'first', 'BO_EMITIDO' : 'first', 'DATAOCORRENCIA' : 'first',\n",
    "              'PERIDOOCORRENCIA': 'first', 'DATACOMUNICACAO' : 'last', 'DATAELABORACAO' : 'first', \n",
    "              'BO_AUTORIA' : 'first', 'FLAGRANTE' : 'first','LOGRADOURO' : 'first', 'NUMERO' : 'first', \n",
    "              'BAIRRO' : 'first', 'CIDADE' : 'first', 'DESCRICAOLOCAL' : 'first', 'EXAME' : 'first', \n",
    "              'SOLUCAO' : 'first', 'DELEGACIA_NOME' : 'first', 'DELEGACIA_CIRCUNSCRICAO' : 'first', \n",
    "              'ESPECIE' : 'last', 'RUBRICA' : 'last', 'DESDOBRAMENTO' : 'last', 'STATUS' : 'last', \n",
    "              'NOMEPESSOA' : 'last', 'TIPOPESSOA' : 'last', 'VITIMAFATAL' : 'last', 'NATURALIDADE' : 'last', \n",
    "              'NACIONALIDADE' : 'last', 'SEXO' : 'last', 'DATANASCIMENTO' : 'last', 'IDADE' : 'last', \n",
    "              'ESTADOCIVIL' : 'last', 'PROFISSAO' : 'last', 'GRAUINSTRUCAO' : 'last', 'CORCUTIS' : 'last', \n",
    "              'NATUREZAVINCULADA' : 'last', 'TIPOVINCULO' : 'last', 'RELACIONAMENTO' : 'last'}\n",
    "\n",
    "df_novo = df_concat.groupby(df_concat['NUM_BO']).agg(funcoesAgg)\n",
    "\n",
    "df_novo.head()"
   ]
  },
  {
   "cell_type": "markdown",
   "metadata": {},
   "source": [
    "### Transformando Dados Temporais no Tipo Apropriado\n",
    "\n",
    "Alterando tipos dos dados referentes a data para *datetime*:"
   ]
  },
  {
   "cell_type": "code",
   "execution_count": null,
   "metadata": {},
   "outputs": [],
   "source": [
    "# Data e horário em que o BO foi iniciado\n",
    "df_novo['BO_INICIADO'] = pd.to_datetime(df_novo['BO_INICIADO']) \n",
    "# Data e horário em que o BO foi emitido\n",
    "df_novo['BO_EMITIDO'] = pd.to_datetime(df_novo['BO_EMITIDO'])\n",
    "# Data da ocorrência (do assassinato)\n",
    "df_novo['DATAOCORRENCIA'] = pd.to_datetime(df_novo['DATAOCORRENCIA'])\n",
    "# Data em que o BO foi feito \n",
    "df_novo['DATACOMUNICACAO'] = pd.to_datetime(df_novo['DATACOMUNICACAO'])\n",
    "# Data em que o BO foi elaborado (igual a BO_INICIADO)\n",
    "df_novo['DATAELABORACAO'] = pd.to_datetime(df_novo['DATAELABORACAO'])\n",
    "# Data de nascimento da vítima\n",
    "df_novo['DATANASCIMENTO'] = pd.to_datetime(df_novo['DATANASCIMENTO'])\n",
    "\n",
    "# Tirando a data das colunas BO_EMITIDO e BO_INICIADO já que estão  \n",
    "    # em DATACOMUNICACAO, e a data e hora em DATAELABORACAO\n",
    "df_novo['BO_INICIADO'] = df_novo['BO_INICIADO'].dt.strftime('%H:%M:%S')\n",
    "df_novo['BO_EMITIDO'] = df_novo['BO_EMITIDO'].dt.strftime('%H:%M:%S')\n",
    "\n",
    "# Transformando DATAOCORRENCIA em duas novas colunas apenas com dia e mês\n",
    "df_novo['DIA_OCORRENCIA'] = df_novo['DATAOCORRENCIA'].dt.strftime('%d')\n",
    "df_novo['MES_OCORRENCIA'] = df_novo['DATAOCORRENCIA'].dt.strftime('%m')\n",
    "\n",
    "# Mudando os meses de MES_OCORRENCIA que estão em números para seus respectivos nomes\n",
    "df_novo['MES_OCORRENCIA'] = df_novo['MES_OCORRENCIA'].apply(lambda x: strptime(x, '%m').tm_mon) \n",
    "df_novo['MES_OCORRENCIA'] = df_novo['MES_OCORRENCIA'].apply(lambda x: calendar.month_abbr[x])\n",
    "\n",
    "# Transformando DATACOMUNICACAO em duas novas colunas apenas com dia e mês\n",
    "df_novo['DIA_COMUNICACAO'] = df_novo['DATACOMUNICACAO'].dt.strftime('%d')\n",
    "df_novo['MES_COMUNICACAO'] = df_novo['DATACOMUNICACAO'].dt.strftime('%m')\n",
    "del df_novo['DATACOMUNICACAO']\n",
    "\n",
    "# Mudando os meses de MES_COMUNICACAO que estão em números para seus respectivos nomes\n",
    "df_novo['MES_COMUNICACAO'] = df_novo['MES_COMUNICACAO'].apply(lambda x: strptime(x, '%m').tm_mon) \n",
    "df_novo['MES_COMUNICACAO'] = df_novo['MES_COMUNICACAO'].apply(lambda x: calendar.month_abbr[x])"
   ]
  },
  {
   "cell_type": "markdown",
   "metadata": {},
   "source": [
    "### Verificando o Novo Dataframe"
   ]
  },
  {
   "cell_type": "code",
   "execution_count": null,
   "metadata": {},
   "outputs": [],
   "source": [
    "print('O dataset de dados possui ' + str((df_novo.shape[0])) + ' instâncias e ' \n",
    "      + str((df_novo.shape[1])) + ' atributos')\n",
    "\n",
    "df_novo.head()"
   ]
  },
  {
   "cell_type": "markdown",
   "metadata": {},
   "source": [
    "### Salvando o Novo Dataframe em Arquivo - Versão 1"
   ]
  },
  {
   "cell_type": "code",
   "execution_count": null,
   "metadata": {},
   "outputs": [],
   "source": [
    "df_novo.to_csv('DadosBO_2018_2019_SP_Feminicidio_Versao1.csv', index = False)"
   ]
  },
  {
   "cell_type": "markdown",
   "metadata": {},
   "source": [
    "## Análise Exploratória\n",
    "\n",
    "Análise comparativa do período de Janeiro a Dezembro de 2018 e Janeiro a Junho de 2019."
   ]
  },
  {
   "cell_type": "markdown",
   "metadata": {},
   "source": [
    "### Evolução dos Índices de Femínicio em Relação ao Tempo\n",
    "\n",
    "#### Ano \n",
    "\n",
    "Lembrando que só temos os valores das taxas de feminicídio de 2019 até o mês de Junho, podemos constatar que o gráfico abaixo mostra que as taxas de feminicídio de 2019 já passaram da metade das que ocorreram em 2018."
   ]
  },
  {
   "cell_type": "code",
   "execution_count": null,
   "metadata": {},
   "outputs": [],
   "source": [
    "df_novo['ANO_BO'].value_counts().plot(kind='bar', figsize=(10,5), color='#e74c3c')\n",
    "\n",
    "plt.show()"
   ]
  },
  {
   "cell_type": "markdown",
   "metadata": {},
   "source": [
    "#### Períodos"
   ]
  },
  {
   "cell_type": "code",
   "execution_count": null,
   "metadata": {},
   "outputs": [],
   "source": [
    "trace1 = go.Bar(x = df_novo['PERIDOOCORRENCIA'],\n",
    "                y = df_novo[df_novo['ANO_BO'] == 2018].groupby('PERIDOOCORRENCIA').size().sort_values(ascending=False),\n",
    "                name = '2018',\n",
    "                marker = {'color': '#d35400'})\n",
    "trace2 = go.Bar(x = df_novo['PERIDOOCORRENCIA'],\n",
    "                y = df_novo[df_novo['ANO_BO'] == 2019].groupby('PERIDOOCORRENCIA').size().sort_values(ascending=False),\n",
    "                name = '2019',\n",
    "                marker = {'color': '#f39c12'})\n",
    "\n",
    "df = [trace1, trace2]\n",
    "\n",
    "py.iplot(df)"
   ]
  },
  {
   "cell_type": "markdown",
   "metadata": {},
   "source": [
    "Segundo o gráfico acima, concluímos que:\n",
    "1. em **2018**, os crimes de feminicídio ocorreram na sua maior parte no período da manhã, e\n",
    "* em **2019**, estes crimes ocorreram em sua maior parte também no período da manhã."
   ]
  },
  {
   "cell_type": "markdown",
   "metadata": {},
   "source": [
    "#### Meses\n",
    "\n",
    "Analisando o gráfico, vemos que há uma maior incidência de mortes no mês de Janeiro."
   ]
  },
  {
   "cell_type": "code",
   "execution_count": null,
   "metadata": {},
   "outputs": [],
   "source": [
    "trace1 = go.Scatter(x = ['Jan', 'Feb', 'Mar', 'Apr', 'May', 'Jun', 'Jul', 'Aug', 'Sep', 'Oct', 'Nov', 'Dec'],\n",
    "                    y = df_novo[df_novo['ANO_BO'] == 2018].groupby('MES_OCORRENCIA').size().sort_values(\n",
    "                        ascending=False),\n",
    "                    mode = 'lines',\n",
    "                    name = '2018',\n",
    "                    line = {'color': '#ee5253',\n",
    "                            'dash': 'dash'})\n",
    "\n",
    "trace2 = go.Scatter(x = ['Jan', 'Feb', 'Mar', 'Apr', 'May', 'Jun'],\n",
    "                    y = df_novo[df_novo['ANO_BO'] == 2019].groupby('MES_OCORRENCIA').size().sort_values(\n",
    "                        ascending=False),\n",
    "                    mode = 'lines',\n",
    "                    name = '2019',\n",
    "                    line = {'color': '#341f97',\n",
    "                            'dash': 'dot'})\n",
    "df = [trace1, trace2]\n",
    "\n",
    "py.iplot(df)"
   ]
  },
  {
   "cell_type": "markdown",
   "metadata": {},
   "source": [
    "#### Dias"
   ]
  },
  {
   "cell_type": "code",
   "execution_count": null,
   "metadata": {},
   "outputs": [],
   "source": [
    "trace1 = go.Bar(x = df_novo['DIA_OCORRENCIA'],\n",
    "                y = df_novo[df_novo['ANO_BO'] == 2018].groupby('DIA_OCORRENCIA').size().sort_values(ascending=False),\n",
    "                name = '2018')\n",
    "trace2 = go.Bar(x = df_novo['DIA_OCORRENCIA'],\n",
    "                y = df_novo[df_novo['ANO_BO'] == 2019].groupby('DIA_OCORRENCIA').size().sort_values(ascending=False),\n",
    "                name = '2019')\n",
    "\n",
    "df = [trace1, trace2]\n",
    "\n",
    "py.iplot(df)"
   ]
  },
  {
   "cell_type": "markdown",
   "metadata": {},
   "source": [
    "Os dias que possuem maior taxa de ocorrência do crime são:\n",
    "\n",
    "1. Em 2018:\n",
    "    - Dia 01.\n",
    "    - Dia 26.\n",
    "    - Dia 4.\n",
    "    \n",
    "\n",
    "* Em 2019:\n",
    "    - Dia 01.\n",
    "    - Dia 26.\n",
    "    - Dias 02, 06, 13 e 19."
   ]
  },
  {
   "cell_type": "markdown",
   "metadata": {},
   "source": [
    "### Locais com Maiores Taxas de Feminicídio"
   ]
  },
  {
   "cell_type": "markdown",
   "metadata": {},
   "source": [
    "#### Cidades\n",
    "\n",
    "O gráfico abaixo mostra que a **cidade de Campinas** é o local onde possui as maiores taxas de feminicídio."
   ]
  },
  {
   "cell_type": "code",
   "execution_count": null,
   "metadata": {},
   "outputs": [],
   "source": [
    "trace1 = go.Bar(x = df_novo['CIDADE'],\n",
    "                y = df_novo[df_novo['ANO_BO'] == 2018].groupby('CIDADE').size().sort_values(ascending=False),\n",
    "                name = '2018',\n",
    "                marker = {'color': '#d35400'})\n",
    "trace2 = go.Bar(x = df_novo['CIDADE'],\n",
    "                y = df_novo[df_novo['ANO_BO'] == 2019].groupby('CIDADE').size().sort_values(ascending=False),\n",
    "                name = '2019',\n",
    "                marker = {'color': '#f39c12'})\n",
    "\n",
    "df = [trace1, trace2]\n",
    "\n",
    "py.iplot(df)"
   ]
  },
  {
   "cell_type": "markdown",
   "metadata": {},
   "source": [
    "#### Bairros"
   ]
  },
  {
   "cell_type": "code",
   "execution_count": null,
   "metadata": {},
   "outputs": [],
   "source": [
    "trace1 = go.Bar(x = df_novo['BAIRRO'],\n",
    "                y = df_novo[df_novo['ANO_BO'] == 2018].groupby('BAIRRO').size().sort_values(ascending=False),\n",
    "                name = '2018',\n",
    "                marker = {'color': '#e74c3c'})\n",
    "trace2 = go.Bar(x = df_novo['BAIRRO'],\n",
    "                y = df_novo[df_novo['ANO_BO'] == 2019].groupby('BAIRRO').size().sort_values(ascending=False),\n",
    "                name = '2019',\n",
    "                marker = {'color': '#e67e22'})\n",
    "\n",
    "df = [trace1, trace2]\n",
    "\n",
    "py.iplot(df)"
   ]
  },
  {
   "cell_type": "markdown",
   "metadata": {},
   "source": [
    "Os crimes ocorrem mais na Zona Rural e também no Parque Valença, da cidade de Campinas."
   ]
  },
  {
   "cell_type": "markdown",
   "metadata": {},
   "source": [
    "#### Logradouros"
   ]
  },
  {
   "cell_type": "code",
   "execution_count": null,
   "metadata": {
    "scrolled": true
   },
   "outputs": [],
   "source": [
    "trace1 = go.Bar(x = df_novo['LOGRADOURO'],\n",
    "                y = df_novo[df_novo['ANO_BO'] == 2018].groupby('LOGRADOURO').size().sort_values(ascending=False),\n",
    "                name = '2018')\n",
    "trace2 = go.Bar(x = df_novo['LOGRADOURO'],\n",
    "                y = df_novo[df_novo['ANO_BO'] == 2019].groupby('LOGRADOURO').size().sort_values(ascending=False),\n",
    "                name = '2019')\n",
    "\n",
    "df = [trace1, trace2]\n",
    "\n",
    "py.iplot(df)"
   ]
  },
  {
   "cell_type": "markdown",
   "metadata": {},
   "source": [
    "#### Local\n",
    "\n",
    "O local onde há mais ocorrências de feminicídio são nas residências das próprias vítimas."
   ]
  },
  {
   "cell_type": "code",
   "execution_count": null,
   "metadata": {},
   "outputs": [],
   "source": [
    "trace1 = go.Bar(x = df_novo['DESCRICAOLOCAL'],\n",
    "                y = df_novo[df_novo['ANO_BO'] == 2018].groupby('BAIRRO').size().sort_values(ascending=False),\n",
    "                name = '2018',\n",
    "                marker = {'color': '#e74c3c'})\n",
    "trace2 = go.Bar(x = df_novo['DESCRICAOLOCAL'],\n",
    "                y = df_novo[df_novo['ANO_BO'] == 2019].groupby('BAIRRO').size().sort_values(ascending=False),\n",
    "                name = '2019',\n",
    "                marker = {'color': '#e67e22'})\n",
    "\n",
    "df = [trace1, trace2]\n",
    "\n",
    "py.iplot(df)"
   ]
  },
  {
   "cell_type": "markdown",
   "metadata": {},
   "source": [
    "### Delegacias Mais Procuradas"
   ]
  },
  {
   "cell_type": "markdown",
   "metadata": {},
   "source": [
    "Com base no gráfico abaixo, a delegacia mais procurada do estado de São Paulo é a **Delegacia do 1° Distrito Policial de Campinas**."
   ]
  },
  {
   "cell_type": "code",
   "execution_count": null,
   "metadata": {},
   "outputs": [],
   "source": [
    "trace1 = go.Bar(x = df_novo['DELEGACIA_NOME'],\n",
    "                y = df_novo[df_novo['ANO_BO'] == 2018].groupby('BAIRRO').size().sort_values(ascending=False),\n",
    "                name = '2018')\n",
    "trace2 = go.Bar(x = df_novo['DELEGACIA_NOME'],\n",
    "                y = df_novo[df_novo['ANO_BO'] == 2019].groupby('BAIRRO').size().sort_values(ascending=False),\n",
    "                name = '2019')\n",
    "\n",
    "df = [trace1, trace2]\n",
    "\n",
    "py.iplot(df)"
   ]
  },
  {
   "cell_type": "markdown",
   "metadata": {},
   "source": [
    "### Sobre o Crime"
   ]
  },
  {
   "cell_type": "markdown",
   "metadata": {},
   "source": [
    "#### Status"
   ]
  },
  {
   "cell_type": "code",
   "execution_count": null,
   "metadata": {},
   "outputs": [],
   "source": [
    "trace1 = go.Bar(x = df_novo['STATUS'],\n",
    "                y = df_novo[df_novo['ANO_BO'] == 2018].groupby('BAIRRO').size().sort_values(ascending=False),\n",
    "                name = '2018',\n",
    "                marker = {'color': '#e74c3c'})\n",
    "trace2 = go.Bar(x = df_novo['STATUS'],\n",
    "                y = df_novo[df_novo['ANO_BO'] == 2019].groupby('BAIRRO').size().sort_values(ascending=False),\n",
    "                name = '2019',\n",
    "                marker = {'color': '#e67e22'})\n",
    "\n",
    "df = [trace1, trace2]\n",
    "\n",
    "py.iplot(df)"
   ]
  },
  {
   "cell_type": "markdown",
   "metadata": {},
   "source": [
    "### Sobre as Vítimas"
   ]
  },
  {
   "cell_type": "markdown",
   "metadata": {},
   "source": [
    "#### Idade\n",
    "\n",
    "As idades das vítimas variam de 20 a 40 anos."
   ]
  },
  {
   "cell_type": "code",
   "execution_count": null,
   "metadata": {},
   "outputs": [],
   "source": [
    "df_novo['IDADE'].fillna(df_novo['IDADE'].mean(), inplace=True)\n",
    "\n",
    "hist = plt.hist(df_novo['IDADE'], bins=15, color='#e74c3c')\n",
    "\n",
    "plt.show()"
   ]
  },
  {
   "cell_type": "markdown",
   "metadata": {},
   "source": [
    "#### Estado Civil"
   ]
  },
  {
   "cell_type": "code",
   "execution_count": null,
   "metadata": {},
   "outputs": [],
   "source": [
    "df_novo['ESTADOCIVIL'].value_counts().plot(kind='bar', figsize=(15,5), color='#e74c3c')\n",
    "\n",
    "plt.show()"
   ]
  },
  {
   "cell_type": "markdown",
   "metadata": {},
   "source": [
    "#### Relacionamento com o Assassino"
   ]
  },
  {
   "cell_type": "code",
   "execution_count": null,
   "metadata": {},
   "outputs": [],
   "source": [
    "df_novo['RELACIONAMENTO'].value_counts().plot(kind='bar', figsize=(15,5), color='#e74c3c')\n",
    "\n",
    "plt.show()"
   ]
  },
  {
   "cell_type": "markdown",
   "metadata": {},
   "source": [
    "Com base nos dois gráficos anteriores, podemos concluir que as vítimas, em sua maioria, são solteiras e possuem apenas uma união estável com o agressor."
   ]
  },
  {
   "cell_type": "markdown",
   "metadata": {},
   "source": [
    "#### Cor da Pele"
   ]
  },
  {
   "cell_type": "code",
   "execution_count": null,
   "metadata": {
    "scrolled": true
   },
   "outputs": [],
   "source": [
    "df_novo['CORCUTIS'].value_counts().plot(kind='bar', figsize=(15,4), color='#e74c3c')\n",
    "\n",
    "plt.show()"
   ]
  },
  {
   "cell_type": "markdown",
   "metadata": {},
   "source": [
    "#### Grau de Instrução"
   ]
  },
  {
   "cell_type": "code",
   "execution_count": null,
   "metadata": {},
   "outputs": [],
   "source": [
    "df_novo['GRAUINSTRUCAO'].value_counts().plot(kind='bar', figsize=(15,5), color='#e74c3c')\n",
    "\n",
    "plt.show()"
   ]
  },
  {
   "cell_type": "markdown",
   "metadata": {},
   "source": [
    "#### Profissão"
   ]
  },
  {
   "cell_type": "code",
   "execution_count": null,
   "metadata": {},
   "outputs": [],
   "source": [
    "df_novo['PROFISSAO'].value_counts().plot(kind='bar', figsize=(20,7), color='#e74c3c')\n",
    "\n",
    "plt.show()"
   ]
  },
  {
   "cell_type": "markdown",
   "metadata": {},
   "source": [
    "#### Natureza da Morte"
   ]
  },
  {
   "cell_type": "code",
   "execution_count": null,
   "metadata": {},
   "outputs": [],
   "source": [
    "df_novo['NATUREZAVINCULADA'].value_counts().plot(kind='bar', figsize=(15,4), color='#e74c3c')\n",
    "\n",
    "plt.show()"
   ]
  },
  {
   "cell_type": "markdown",
   "metadata": {},
   "source": [
    "## Relatório"
   ]
  },
  {
   "cell_type": "markdown",
   "metadata": {},
   "source": [
    "Com base na análise exploratória feita, podemos concluir que as taxas de feminicídio de 2019 do estado de São Paulo já passaram da metade das que ocorreram em 2018. A cidade onde ocorre a maioria dos crimes é em Campinas, tendo uma maior incidência nos bairros Parque Valênça (de Campinas), e na Zona Rural. A delegacia mais procurada é a Delegacia do 1° Distrito Policial de Campinas com quase todas as ocorrências contendo o *status* de crime consumado.\n",
    "\n",
    "As vítimas possuem de 20 a 40 anos, solteiras, tendo apenas uma união estável com o assassino. Boa parte delas possuem a cor da pele branca, seguido de cor parda e preta. Quase 30% das vítimas tem apenas o 1ª Grau Completo e cerca de 22% são domésticas e estudantes. \n",
    "\n",
    "O mês de Janeiro é o que possui mais de 16% das ocorrências, sendo a maioria delas feitas no período da manhã, vindo em seguida do período da tarde, da noite e, por último, de madrugada, quase sempre nas próprias residências das vítimas."
   ]
  }
 ],
 "metadata": {
  "kernelspec": {
   "display_name": "Python 3",
   "language": "python",
   "name": "python3"
  },
  "language_info": {
   "codemirror_mode": {
    "name": "ipython",
    "version": 3
   },
   "file_extension": ".py",
   "mimetype": "text/x-python",
   "name": "python",
   "nbconvert_exporter": "python",
   "pygments_lexer": "ipython3",
   "version": "3.7.3"
  }
 },
 "nbformat": 4,
 "nbformat_minor": 2
}
