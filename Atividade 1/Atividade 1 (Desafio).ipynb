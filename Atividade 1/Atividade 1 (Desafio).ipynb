{
 "cells": [
  {
   "cell_type": "markdown",
   "metadata": {},
   "source": [
    "# Atividades\n",
    "\n",
    "## Analisando dados de ocorrências de feminicídio na cidade de São Paulo\n",
    "\n",
    "Algumas perguntas com relação ao dataset podem ser respondidas\n",
    "- Como os índices de feminicídio evoluíram em relação ao tempo e como podem evoluir nos próximos anos?\n",
    "- Quais foram os períodos com maiores taxas nos últimos anos?\n",
    "- Quais são os logradouros, tipos de locais, bairros e regiões com maiores índices?\n",
    "- Quais são os dias da semana, horários com maiores índices?\n",
    "\n",
    "Dataset disponível em: http://www.ssp.sp.gov.br/transparenciassp/Default.aspx\n",
    "\n",
    "#### Bárbara Stéphanie Neves - 388713"
   ]
  },
  {
   "cell_type": "markdown",
   "metadata": {},
   "source": [
    "## Imports Necessários"
   ]
  },
  {
   "cell_type": "code",
   "execution_count": 1,
   "metadata": {},
   "outputs": [
    {
     "data": {
      "text/html": [
       "        <script type=\"text/javascript\">\n",
       "        window.PlotlyConfig = {MathJaxConfig: 'local'};\n",
       "        if (window.MathJax) {MathJax.Hub.Config({SVG: {font: \"STIX-Web\"}});}\n",
       "        if (typeof require !== 'undefined') {\n",
       "        require.undef(\"plotly\");\n",
       "        requirejs.config({\n",
       "            paths: {\n",
       "                'plotly': ['https://cdn.plot.ly/plotly-latest.min']\n",
       "            }\n",
       "        });\n",
       "        require(['plotly'], function(Plotly) {\n",
       "            window._Plotly = Plotly;\n",
       "        });\n",
       "        }\n",
       "        </script>\n",
       "        "
      ]
     },
     "metadata": {},
     "output_type": "display_data"
    }
   ],
   "source": [
    "import os\n",
    "import pandas as pd\n",
    "import numpy as np\n",
    "\n",
    "import calendar\n",
    "from time import strptime\n",
    "\n",
    "import matplotlib.pyplot as plt\n",
    "import plotly.offline as py\n",
    "import plotly.graph_objs as go\n",
    "py.init_notebook_mode(connected=True)"
   ]
  },
  {
   "cell_type": "markdown",
   "metadata": {},
   "source": [
    "## Leitura dos Dados "
   ]
  },
  {
   "cell_type": "markdown",
   "metadata": {},
   "source": [
    "### Lendo os Arquivos do Dataset"
   ]
  },
  {
   "cell_type": "code",
   "execution_count": 2,
   "metadata": {},
   "outputs": [],
   "source": [
    "data = []\n",
    "path = \"./Dataset/\"\n",
    "\n",
    "for file in os.listdir(path=path) :\n",
    "    data.append(pd.read_excel(path + file))"
   ]
  },
  {
   "cell_type": "markdown",
   "metadata": {},
   "source": [
    "### Concatenando os Dataframes"
   ]
  },
  {
   "cell_type": "code",
   "execution_count": 3,
   "metadata": {},
   "outputs": [
    {
     "name": "stdout",
     "output_type": "stream",
     "text": [
      "O dataset de dados possui 455 instâncias e 56 atributos\n"
     ]
    },
    {
     "data": {
      "text/html": [
       "<div>\n",
       "<style scoped>\n",
       "    .dataframe tbody tr th:only-of-type {\n",
       "        vertical-align: middle;\n",
       "    }\n",
       "\n",
       "    .dataframe tbody tr th {\n",
       "        vertical-align: top;\n",
       "    }\n",
       "\n",
       "    .dataframe thead th {\n",
       "        text-align: right;\n",
       "    }\n",
       "</style>\n",
       "<table border=\"1\" class=\"dataframe\">\n",
       "  <thead>\n",
       "    <tr style=\"text-align: right;\">\n",
       "      <th></th>\n",
       "      <th>ANO_BO</th>\n",
       "      <th>NUM_BO</th>\n",
       "      <th>NUMERO_BOLETIM</th>\n",
       "      <th>BO_INICIADO</th>\n",
       "      <th>BO_EMITIDO</th>\n",
       "      <th>DATAOCORRENCIA</th>\n",
       "      <th>PERIDOOCORRENCIA</th>\n",
       "      <th>DATACOMUNICACAO</th>\n",
       "      <th>DATAELABORACAO</th>\n",
       "      <th>BO_AUTORIA</th>\n",
       "      <th>...</th>\n",
       "      <th>PLACA_VEICULO</th>\n",
       "      <th>UF_VEICULO</th>\n",
       "      <th>CIDADE_VEICULO</th>\n",
       "      <th>DESCR_COR_VEICULO</th>\n",
       "      <th>DESCR_MARCA_VEICULO</th>\n",
       "      <th>ANO_FABRICACAO</th>\n",
       "      <th>ANO_MODELO</th>\n",
       "      <th>DESCR_TIPO_VEICULO</th>\n",
       "      <th>QUANT_CELULAR</th>\n",
       "      <th>MARCA_CELULAR</th>\n",
       "    </tr>\n",
       "  </thead>\n",
       "  <tbody>\n",
       "    <tr>\n",
       "      <th>0</th>\n",
       "      <td>2018</td>\n",
       "      <td>3608</td>\n",
       "      <td>3608/2018</td>\n",
       "      <td>01/11/2018 20:16:28</td>\n",
       "      <td>01/11/2018 21:29:35</td>\n",
       "      <td>01/11/2018</td>\n",
       "      <td>A TARDE</td>\n",
       "      <td>01/11/2018</td>\n",
       "      <td>01/11/2018 20:16:28</td>\n",
       "      <td>Conhecida</td>\n",
       "      <td>...</td>\n",
       "      <td>NaN</td>\n",
       "      <td>NaN</td>\n",
       "      <td>NaN</td>\n",
       "      <td>NaN</td>\n",
       "      <td>NaN</td>\n",
       "      <td>0</td>\n",
       "      <td>0</td>\n",
       "      <td>NaN</td>\n",
       "      <td>NaN</td>\n",
       "      <td>NaN</td>\n",
       "    </tr>\n",
       "    <tr>\n",
       "      <th>1</th>\n",
       "      <td>2018</td>\n",
       "      <td>3608</td>\n",
       "      <td>3608/2018</td>\n",
       "      <td>01/11/2018 20:16:28</td>\n",
       "      <td>01/11/2018 21:29:35</td>\n",
       "      <td>01/11/2018</td>\n",
       "      <td>A TARDE</td>\n",
       "      <td>01/11/2018</td>\n",
       "      <td>01/11/2018 20:16:28</td>\n",
       "      <td>Conhecida</td>\n",
       "      <td>...</td>\n",
       "      <td>NaN</td>\n",
       "      <td>NaN</td>\n",
       "      <td>NaN</td>\n",
       "      <td>NaN</td>\n",
       "      <td>NaN</td>\n",
       "      <td>0</td>\n",
       "      <td>0</td>\n",
       "      <td>NaN</td>\n",
       "      <td>NaN</td>\n",
       "      <td>NaN</td>\n",
       "    </tr>\n",
       "    <tr>\n",
       "      <th>2</th>\n",
       "      <td>2018</td>\n",
       "      <td>9548</td>\n",
       "      <td>9548/2018</td>\n",
       "      <td>02/11/2018 23:42:07</td>\n",
       "      <td>03/11/2018 04:10:23</td>\n",
       "      <td>02/11/2018</td>\n",
       "      <td>A NOITE</td>\n",
       "      <td>02/11/2018</td>\n",
       "      <td>02/11/2018 23:42:07</td>\n",
       "      <td>Conhecida</td>\n",
       "      <td>...</td>\n",
       "      <td>NaN</td>\n",
       "      <td>NaN</td>\n",
       "      <td>NaN</td>\n",
       "      <td>NaN</td>\n",
       "      <td>NaN</td>\n",
       "      <td>0</td>\n",
       "      <td>0</td>\n",
       "      <td>NaN</td>\n",
       "      <td>NaN</td>\n",
       "      <td>NaN</td>\n",
       "    </tr>\n",
       "    <tr>\n",
       "      <th>3</th>\n",
       "      <td>2018</td>\n",
       "      <td>1290</td>\n",
       "      <td>1290/2018</td>\n",
       "      <td>06/11/2018 19:48:09</td>\n",
       "      <td>07/11/2018 12:16:05</td>\n",
       "      <td>06/11/2018</td>\n",
       "      <td>EM HORA INCERTA</td>\n",
       "      <td>06/11/2018</td>\n",
       "      <td>06/11/2018 19:48:09</td>\n",
       "      <td>Conhecida</td>\n",
       "      <td>...</td>\n",
       "      <td>NaN</td>\n",
       "      <td>NaN</td>\n",
       "      <td>NaN</td>\n",
       "      <td>NaN</td>\n",
       "      <td>NaN</td>\n",
       "      <td>0</td>\n",
       "      <td>0</td>\n",
       "      <td>NaN</td>\n",
       "      <td>NaN</td>\n",
       "      <td>NaN</td>\n",
       "    </tr>\n",
       "    <tr>\n",
       "      <th>4</th>\n",
       "      <td>2018</td>\n",
       "      <td>1290</td>\n",
       "      <td>1290/2018</td>\n",
       "      <td>06/11/2018 19:48:09</td>\n",
       "      <td>07/11/2018 12:16:05</td>\n",
       "      <td>06/11/2018</td>\n",
       "      <td>EM HORA INCERTA</td>\n",
       "      <td>06/11/2018</td>\n",
       "      <td>06/11/2018 19:48:09</td>\n",
       "      <td>Conhecida</td>\n",
       "      <td>...</td>\n",
       "      <td>NaN</td>\n",
       "      <td>NaN</td>\n",
       "      <td>NaN</td>\n",
       "      <td>NaN</td>\n",
       "      <td>NaN</td>\n",
       "      <td>0</td>\n",
       "      <td>0</td>\n",
       "      <td>NaN</td>\n",
       "      <td>NaN</td>\n",
       "      <td>NaN</td>\n",
       "    </tr>\n",
       "  </tbody>\n",
       "</table>\n",
       "<p>5 rows × 56 columns</p>\n",
       "</div>"
      ],
      "text/plain": [
       "   ANO_BO  NUM_BO NUMERO_BOLETIM          BO_INICIADO           BO_EMITIDO  \\\n",
       "0    2018    3608      3608/2018  01/11/2018 20:16:28  01/11/2018 21:29:35   \n",
       "1    2018    3608      3608/2018  01/11/2018 20:16:28  01/11/2018 21:29:35   \n",
       "2    2018    9548      9548/2018  02/11/2018 23:42:07  03/11/2018 04:10:23   \n",
       "3    2018    1290      1290/2018  06/11/2018 19:48:09  07/11/2018 12:16:05   \n",
       "4    2018    1290      1290/2018  06/11/2018 19:48:09  07/11/2018 12:16:05   \n",
       "\n",
       "  DATAOCORRENCIA PERIDOOCORRENCIA DATACOMUNICACAO       DATAELABORACAO  \\\n",
       "0     01/11/2018          A TARDE      01/11/2018  01/11/2018 20:16:28   \n",
       "1     01/11/2018          A TARDE      01/11/2018  01/11/2018 20:16:28   \n",
       "2     02/11/2018          A NOITE      02/11/2018  02/11/2018 23:42:07   \n",
       "3     06/11/2018  EM HORA INCERTA      06/11/2018  06/11/2018 19:48:09   \n",
       "4     06/11/2018  EM HORA INCERTA      06/11/2018  06/11/2018 19:48:09   \n",
       "\n",
       "  BO_AUTORIA  ... PLACA_VEICULO UF_VEICULO CIDADE_VEICULO  DESCR_COR_VEICULO  \\\n",
       "0  Conhecida  ...           NaN        NaN            NaN                NaN   \n",
       "1  Conhecida  ...           NaN        NaN            NaN                NaN   \n",
       "2  Conhecida  ...           NaN        NaN            NaN                NaN   \n",
       "3  Conhecida  ...           NaN        NaN            NaN                NaN   \n",
       "4  Conhecida  ...           NaN        NaN            NaN                NaN   \n",
       "\n",
       "  DESCR_MARCA_VEICULO ANO_FABRICACAO ANO_MODELO  DESCR_TIPO_VEICULO  \\\n",
       "0                 NaN              0          0                 NaN   \n",
       "1                 NaN              0          0                 NaN   \n",
       "2                 NaN              0          0                 NaN   \n",
       "3                 NaN              0          0                 NaN   \n",
       "4                 NaN              0          0                 NaN   \n",
       "\n",
       "   QUANT_CELULAR MARCA_CELULAR  \n",
       "0            NaN           NaN  \n",
       "1            NaN           NaN  \n",
       "2            NaN           NaN  \n",
       "3            NaN           NaN  \n",
       "4            NaN           NaN  \n",
       "\n",
       "[5 rows x 56 columns]"
      ]
     },
     "execution_count": 3,
     "metadata": {},
     "output_type": "execute_result"
    }
   ],
   "source": [
    "df_concat = pd.concat(data, axis=0, ignore_index=True, sort=False)\n",
    "\n",
    "print('O dataset de dados possui ' + str((df_concat.shape[0])) + ' instâncias e ' \n",
    "      + str((df_concat.shape[1])) + ' atributos')\n",
    "\n",
    "df_concat.head()"
   ]
  },
  {
   "cell_type": "markdown",
   "metadata": {},
   "source": [
    "### Salvando o Dataframe em Arquivo - Versão 0\n",
    "\n",
    "Caso seja necessário consultar/utilizar o dataset completo."
   ]
  },
  {
   "cell_type": "code",
   "execution_count": 4,
   "metadata": {},
   "outputs": [],
   "source": [
    "df_concat.to_csv('DadosBO_2018_2019_SP_Feminicidio_Versao0.csv', index = False)"
   ]
  },
  {
   "cell_type": "markdown",
   "metadata": {},
   "source": [
    "## Pré-Processamento"
   ]
  },
  {
   "cell_type": "code",
   "execution_count": 5,
   "metadata": {},
   "outputs": [
    {
     "data": {
      "text/html": [
       "<div>\n",
       "<style scoped>\n",
       "    .dataframe tbody tr th:only-of-type {\n",
       "        vertical-align: middle;\n",
       "    }\n",
       "\n",
       "    .dataframe tbody tr th {\n",
       "        vertical-align: top;\n",
       "    }\n",
       "\n",
       "    .dataframe thead th {\n",
       "        text-align: right;\n",
       "    }\n",
       "</style>\n",
       "<table border=\"1\" class=\"dataframe\">\n",
       "  <thead>\n",
       "    <tr style=\"text-align: right;\">\n",
       "      <th></th>\n",
       "      <th>ANO_BO</th>\n",
       "      <th>NUM_BO</th>\n",
       "      <th>NUMERO_BOLETIM</th>\n",
       "      <th>BO_INICIADO</th>\n",
       "      <th>BO_EMITIDO</th>\n",
       "      <th>DATAOCORRENCIA</th>\n",
       "      <th>PERIDOOCORRENCIA</th>\n",
       "      <th>DATACOMUNICACAO</th>\n",
       "      <th>DATAELABORACAO</th>\n",
       "      <th>BO_AUTORIA</th>\n",
       "      <th>...</th>\n",
       "      <th>PLACA_VEICULO</th>\n",
       "      <th>UF_VEICULO</th>\n",
       "      <th>CIDADE_VEICULO</th>\n",
       "      <th>DESCR_COR_VEICULO</th>\n",
       "      <th>DESCR_MARCA_VEICULO</th>\n",
       "      <th>ANO_FABRICACAO</th>\n",
       "      <th>ANO_MODELO</th>\n",
       "      <th>DESCR_TIPO_VEICULO</th>\n",
       "      <th>QUANT_CELULAR</th>\n",
       "      <th>MARCA_CELULAR</th>\n",
       "    </tr>\n",
       "  </thead>\n",
       "  <tbody>\n",
       "    <tr>\n",
       "      <th>count</th>\n",
       "      <td>455.000000</td>\n",
       "      <td>455.000000</td>\n",
       "      <td>455</td>\n",
       "      <td>455</td>\n",
       "      <td>455</td>\n",
       "      <td>455</td>\n",
       "      <td>455</td>\n",
       "      <td>455</td>\n",
       "      <td>455</td>\n",
       "      <td>455</td>\n",
       "      <td>...</td>\n",
       "      <td>1</td>\n",
       "      <td>1</td>\n",
       "      <td>1</td>\n",
       "      <td>1</td>\n",
       "      <td>1</td>\n",
       "      <td>455.000000</td>\n",
       "      <td>455.000000</td>\n",
       "      <td>1</td>\n",
       "      <td>0.0</td>\n",
       "      <td>0.0</td>\n",
       "    </tr>\n",
       "    <tr>\n",
       "      <th>unique</th>\n",
       "      <td>NaN</td>\n",
       "      <td>NaN</td>\n",
       "      <td>215</td>\n",
       "      <td>216</td>\n",
       "      <td>216</td>\n",
       "      <td>170</td>\n",
       "      <td>5</td>\n",
       "      <td>169</td>\n",
       "      <td>216</td>\n",
       "      <td>3</td>\n",
       "      <td>...</td>\n",
       "      <td>1</td>\n",
       "      <td>1</td>\n",
       "      <td>1</td>\n",
       "      <td>1</td>\n",
       "      <td>1</td>\n",
       "      <td>NaN</td>\n",
       "      <td>NaN</td>\n",
       "      <td>1</td>\n",
       "      <td>NaN</td>\n",
       "      <td>NaN</td>\n",
       "    </tr>\n",
       "    <tr>\n",
       "      <th>top</th>\n",
       "      <td>NaN</td>\n",
       "      <td>NaN</td>\n",
       "      <td>1078/2019</td>\n",
       "      <td>19/04/2019 18:26:06</td>\n",
       "      <td>19/04/2019 21:32:11</td>\n",
       "      <td>03/10/2018</td>\n",
       "      <td>A TARDE</td>\n",
       "      <td>03/10/2018</td>\n",
       "      <td>19/04/2019 18:26:06</td>\n",
       "      <td>Conhecida</td>\n",
       "      <td>...</td>\n",
       "      <td>EEG0342</td>\n",
       "      <td>SP</td>\n",
       "      <td>CAMPINAS</td>\n",
       "      <td>Preta</td>\n",
       "      <td>HONDA/CG 160 FAN</td>\n",
       "      <td>NaN</td>\n",
       "      <td>NaN</td>\n",
       "      <td>MOTOCICLO</td>\n",
       "      <td>NaN</td>\n",
       "      <td>NaN</td>\n",
       "    </tr>\n",
       "    <tr>\n",
       "      <th>freq</th>\n",
       "      <td>NaN</td>\n",
       "      <td>NaN</td>\n",
       "      <td>7</td>\n",
       "      <td>7</td>\n",
       "      <td>7</td>\n",
       "      <td>9</td>\n",
       "      <td>130</td>\n",
       "      <td>9</td>\n",
       "      <td>7</td>\n",
       "      <td>397</td>\n",
       "      <td>...</td>\n",
       "      <td>1</td>\n",
       "      <td>1</td>\n",
       "      <td>1</td>\n",
       "      <td>1</td>\n",
       "      <td>1</td>\n",
       "      <td>NaN</td>\n",
       "      <td>NaN</td>\n",
       "      <td>1</td>\n",
       "      <td>NaN</td>\n",
       "      <td>NaN</td>\n",
       "    </tr>\n",
       "    <tr>\n",
       "      <th>mean</th>\n",
       "      <td>2018.373626</td>\n",
       "      <td>2629.213187</td>\n",
       "      <td>NaN</td>\n",
       "      <td>NaN</td>\n",
       "      <td>NaN</td>\n",
       "      <td>NaN</td>\n",
       "      <td>NaN</td>\n",
       "      <td>NaN</td>\n",
       "      <td>NaN</td>\n",
       "      <td>NaN</td>\n",
       "      <td>...</td>\n",
       "      <td>NaN</td>\n",
       "      <td>NaN</td>\n",
       "      <td>NaN</td>\n",
       "      <td>NaN</td>\n",
       "      <td>NaN</td>\n",
       "      <td>4.437363</td>\n",
       "      <td>4.437363</td>\n",
       "      <td>NaN</td>\n",
       "      <td>NaN</td>\n",
       "      <td>NaN</td>\n",
       "    </tr>\n",
       "    <tr>\n",
       "      <th>std</th>\n",
       "      <td>0.484299</td>\n",
       "      <td>3676.736474</td>\n",
       "      <td>NaN</td>\n",
       "      <td>NaN</td>\n",
       "      <td>NaN</td>\n",
       "      <td>NaN</td>\n",
       "      <td>NaN</td>\n",
       "      <td>NaN</td>\n",
       "      <td>NaN</td>\n",
       "      <td>NaN</td>\n",
       "      <td>...</td>\n",
       "      <td>NaN</td>\n",
       "      <td>NaN</td>\n",
       "      <td>NaN</td>\n",
       "      <td>NaN</td>\n",
       "      <td>NaN</td>\n",
       "      <td>94.652180</td>\n",
       "      <td>94.652180</td>\n",
       "      <td>NaN</td>\n",
       "      <td>NaN</td>\n",
       "      <td>NaN</td>\n",
       "    </tr>\n",
       "    <tr>\n",
       "      <th>min</th>\n",
       "      <td>2018.000000</td>\n",
       "      <td>12.000000</td>\n",
       "      <td>NaN</td>\n",
       "      <td>NaN</td>\n",
       "      <td>NaN</td>\n",
       "      <td>NaN</td>\n",
       "      <td>NaN</td>\n",
       "      <td>NaN</td>\n",
       "      <td>NaN</td>\n",
       "      <td>NaN</td>\n",
       "      <td>...</td>\n",
       "      <td>NaN</td>\n",
       "      <td>NaN</td>\n",
       "      <td>NaN</td>\n",
       "      <td>NaN</td>\n",
       "      <td>NaN</td>\n",
       "      <td>0.000000</td>\n",
       "      <td>0.000000</td>\n",
       "      <td>NaN</td>\n",
       "      <td>NaN</td>\n",
       "      <td>NaN</td>\n",
       "    </tr>\n",
       "    <tr>\n",
       "      <th>25%</th>\n",
       "      <td>2018.000000</td>\n",
       "      <td>469.000000</td>\n",
       "      <td>NaN</td>\n",
       "      <td>NaN</td>\n",
       "      <td>NaN</td>\n",
       "      <td>NaN</td>\n",
       "      <td>NaN</td>\n",
       "      <td>NaN</td>\n",
       "      <td>NaN</td>\n",
       "      <td>NaN</td>\n",
       "      <td>...</td>\n",
       "      <td>NaN</td>\n",
       "      <td>NaN</td>\n",
       "      <td>NaN</td>\n",
       "      <td>NaN</td>\n",
       "      <td>NaN</td>\n",
       "      <td>0.000000</td>\n",
       "      <td>0.000000</td>\n",
       "      <td>NaN</td>\n",
       "      <td>NaN</td>\n",
       "      <td>NaN</td>\n",
       "    </tr>\n",
       "    <tr>\n",
       "      <th>50%</th>\n",
       "      <td>2018.000000</td>\n",
       "      <td>1440.000000</td>\n",
       "      <td>NaN</td>\n",
       "      <td>NaN</td>\n",
       "      <td>NaN</td>\n",
       "      <td>NaN</td>\n",
       "      <td>NaN</td>\n",
       "      <td>NaN</td>\n",
       "      <td>NaN</td>\n",
       "      <td>NaN</td>\n",
       "      <td>...</td>\n",
       "      <td>NaN</td>\n",
       "      <td>NaN</td>\n",
       "      <td>NaN</td>\n",
       "      <td>NaN</td>\n",
       "      <td>NaN</td>\n",
       "      <td>0.000000</td>\n",
       "      <td>0.000000</td>\n",
       "      <td>NaN</td>\n",
       "      <td>NaN</td>\n",
       "      <td>NaN</td>\n",
       "    </tr>\n",
       "    <tr>\n",
       "      <th>75%</th>\n",
       "      <td>2019.000000</td>\n",
       "      <td>3321.000000</td>\n",
       "      <td>NaN</td>\n",
       "      <td>NaN</td>\n",
       "      <td>NaN</td>\n",
       "      <td>NaN</td>\n",
       "      <td>NaN</td>\n",
       "      <td>NaN</td>\n",
       "      <td>NaN</td>\n",
       "      <td>NaN</td>\n",
       "      <td>...</td>\n",
       "      <td>NaN</td>\n",
       "      <td>NaN</td>\n",
       "      <td>NaN</td>\n",
       "      <td>NaN</td>\n",
       "      <td>NaN</td>\n",
       "      <td>0.000000</td>\n",
       "      <td>0.000000</td>\n",
       "      <td>NaN</td>\n",
       "      <td>NaN</td>\n",
       "      <td>NaN</td>\n",
       "    </tr>\n",
       "    <tr>\n",
       "      <th>max</th>\n",
       "      <td>2019.000000</td>\n",
       "      <td>29551.000000</td>\n",
       "      <td>NaN</td>\n",
       "      <td>NaN</td>\n",
       "      <td>NaN</td>\n",
       "      <td>NaN</td>\n",
       "      <td>NaN</td>\n",
       "      <td>NaN</td>\n",
       "      <td>NaN</td>\n",
       "      <td>NaN</td>\n",
       "      <td>...</td>\n",
       "      <td>NaN</td>\n",
       "      <td>NaN</td>\n",
       "      <td>NaN</td>\n",
       "      <td>NaN</td>\n",
       "      <td>NaN</td>\n",
       "      <td>2019.000000</td>\n",
       "      <td>2019.000000</td>\n",
       "      <td>NaN</td>\n",
       "      <td>NaN</td>\n",
       "      <td>NaN</td>\n",
       "    </tr>\n",
       "  </tbody>\n",
       "</table>\n",
       "<p>11 rows × 56 columns</p>\n",
       "</div>"
      ],
      "text/plain": [
       "             ANO_BO        NUM_BO NUMERO_BOLETIM          BO_INICIADO  \\\n",
       "count    455.000000    455.000000            455                  455   \n",
       "unique          NaN           NaN            215                  216   \n",
       "top             NaN           NaN      1078/2019  19/04/2019 18:26:06   \n",
       "freq            NaN           NaN              7                    7   \n",
       "mean    2018.373626   2629.213187            NaN                  NaN   \n",
       "std        0.484299   3676.736474            NaN                  NaN   \n",
       "min     2018.000000     12.000000            NaN                  NaN   \n",
       "25%     2018.000000    469.000000            NaN                  NaN   \n",
       "50%     2018.000000   1440.000000            NaN                  NaN   \n",
       "75%     2019.000000   3321.000000            NaN                  NaN   \n",
       "max     2019.000000  29551.000000            NaN                  NaN   \n",
       "\n",
       "                 BO_EMITIDO DATAOCORRENCIA PERIDOOCORRENCIA DATACOMUNICACAO  \\\n",
       "count                   455            455              455             455   \n",
       "unique                  216            170                5             169   \n",
       "top     19/04/2019 21:32:11     03/10/2018          A TARDE      03/10/2018   \n",
       "freq                      7              9              130               9   \n",
       "mean                    NaN            NaN              NaN             NaN   \n",
       "std                     NaN            NaN              NaN             NaN   \n",
       "min                     NaN            NaN              NaN             NaN   \n",
       "25%                     NaN            NaN              NaN             NaN   \n",
       "50%                     NaN            NaN              NaN             NaN   \n",
       "75%                     NaN            NaN              NaN             NaN   \n",
       "max                     NaN            NaN              NaN             NaN   \n",
       "\n",
       "             DATAELABORACAO BO_AUTORIA  ... PLACA_VEICULO UF_VEICULO  \\\n",
       "count                   455        455  ...             1          1   \n",
       "unique                  216          3  ...             1          1   \n",
       "top     19/04/2019 18:26:06  Conhecida  ...       EEG0342         SP   \n",
       "freq                      7        397  ...             1          1   \n",
       "mean                    NaN        NaN  ...           NaN        NaN   \n",
       "std                     NaN        NaN  ...           NaN        NaN   \n",
       "min                     NaN        NaN  ...           NaN        NaN   \n",
       "25%                     NaN        NaN  ...           NaN        NaN   \n",
       "50%                     NaN        NaN  ...           NaN        NaN   \n",
       "75%                     NaN        NaN  ...           NaN        NaN   \n",
       "max                     NaN        NaN  ...           NaN        NaN   \n",
       "\n",
       "       CIDADE_VEICULO  DESCR_COR_VEICULO DESCR_MARCA_VEICULO ANO_FABRICACAO  \\\n",
       "count               1                  1                   1     455.000000   \n",
       "unique              1                  1                   1            NaN   \n",
       "top          CAMPINAS              Preta    HONDA/CG 160 FAN            NaN   \n",
       "freq                1                  1                   1            NaN   \n",
       "mean              NaN                NaN                 NaN       4.437363   \n",
       "std               NaN                NaN                 NaN      94.652180   \n",
       "min               NaN                NaN                 NaN       0.000000   \n",
       "25%               NaN                NaN                 NaN       0.000000   \n",
       "50%               NaN                NaN                 NaN       0.000000   \n",
       "75%               NaN                NaN                 NaN       0.000000   \n",
       "max               NaN                NaN                 NaN    2019.000000   \n",
       "\n",
       "         ANO_MODELO  DESCR_TIPO_VEICULO  QUANT_CELULAR MARCA_CELULAR  \n",
       "count    455.000000                   1            0.0           0.0  \n",
       "unique          NaN                   1            NaN           NaN  \n",
       "top             NaN           MOTOCICLO            NaN           NaN  \n",
       "freq            NaN                   1            NaN           NaN  \n",
       "mean       4.437363                 NaN            NaN           NaN  \n",
       "std       94.652180                 NaN            NaN           NaN  \n",
       "min        0.000000                 NaN            NaN           NaN  \n",
       "25%        0.000000                 NaN            NaN           NaN  \n",
       "50%        0.000000                 NaN            NaN           NaN  \n",
       "75%        0.000000                 NaN            NaN           NaN  \n",
       "max     2019.000000                 NaN            NaN           NaN  \n",
       "\n",
       "[11 rows x 56 columns]"
      ]
     },
     "execution_count": 5,
     "metadata": {},
     "output_type": "execute_result"
    }
   ],
   "source": [
    "df_concat.describe(include='all')"
   ]
  },
  {
   "cell_type": "code",
   "execution_count": 6,
   "metadata": {},
   "outputs": [
    {
     "data": {
      "text/html": [
       "<div>\n",
       "<style scoped>\n",
       "    .dataframe tbody tr th:only-of-type {\n",
       "        vertical-align: middle;\n",
       "    }\n",
       "\n",
       "    .dataframe tbody tr th {\n",
       "        vertical-align: top;\n",
       "    }\n",
       "\n",
       "    .dataframe thead th {\n",
       "        text-align: right;\n",
       "    }\n",
       "</style>\n",
       "<table border=\"1\" class=\"dataframe\">\n",
       "  <thead>\n",
       "    <tr style=\"text-align: right;\">\n",
       "      <th></th>\n",
       "      <th>ANO_BO</th>\n",
       "      <th>NUM_BO</th>\n",
       "      <th>NUMERO</th>\n",
       "      <th>LATITUDE</th>\n",
       "      <th>LONGITUDE</th>\n",
       "      <th>RG</th>\n",
       "      <th>IDADE</th>\n",
       "      <th>PARENTESCO</th>\n",
       "      <th>ANO_FABRICACAO</th>\n",
       "      <th>ANO_MODELO</th>\n",
       "      <th>QUANT_CELULAR</th>\n",
       "      <th>MARCA_CELULAR</th>\n",
       "    </tr>\n",
       "  </thead>\n",
       "  <tbody>\n",
       "    <tr>\n",
       "      <th>ANO_BO</th>\n",
       "      <td>1.000000</td>\n",
       "      <td>-0.248549</td>\n",
       "      <td>-0.110380</td>\n",
       "      <td>0.029376</td>\n",
       "      <td>-0.096624</td>\n",
       "      <td>-0.072146</td>\n",
       "      <td>0.042624</td>\n",
       "      <td>NaN</td>\n",
       "      <td>0.060767</td>\n",
       "      <td>0.060767</td>\n",
       "      <td>NaN</td>\n",
       "      <td>NaN</td>\n",
       "    </tr>\n",
       "    <tr>\n",
       "      <th>NUM_BO</th>\n",
       "      <td>-0.248549</td>\n",
       "      <td>1.000000</td>\n",
       "      <td>0.000626</td>\n",
       "      <td>-0.069436</td>\n",
       "      <td>-0.161094</td>\n",
       "      <td>0.046839</td>\n",
       "      <td>-0.064436</td>\n",
       "      <td>NaN</td>\n",
       "      <td>-0.008961</td>\n",
       "      <td>-0.008961</td>\n",
       "      <td>NaN</td>\n",
       "      <td>NaN</td>\n",
       "    </tr>\n",
       "    <tr>\n",
       "      <th>NUMERO</th>\n",
       "      <td>-0.110380</td>\n",
       "      <td>0.000626</td>\n",
       "      <td>1.000000</td>\n",
       "      <td>0.033974</td>\n",
       "      <td>0.080661</td>\n",
       "      <td>0.089189</td>\n",
       "      <td>-0.051512</td>\n",
       "      <td>NaN</td>\n",
       "      <td>-0.001543</td>\n",
       "      <td>-0.001543</td>\n",
       "      <td>NaN</td>\n",
       "      <td>NaN</td>\n",
       "    </tr>\n",
       "    <tr>\n",
       "      <th>LATITUDE</th>\n",
       "      <td>0.029376</td>\n",
       "      <td>-0.069436</td>\n",
       "      <td>0.033974</td>\n",
       "      <td>1.000000</td>\n",
       "      <td>-0.601541</td>\n",
       "      <td>-0.009059</td>\n",
       "      <td>0.083429</td>\n",
       "      <td>NaN</td>\n",
       "      <td>-0.010885</td>\n",
       "      <td>-0.010885</td>\n",
       "      <td>NaN</td>\n",
       "      <td>NaN</td>\n",
       "    </tr>\n",
       "    <tr>\n",
       "      <th>LONGITUDE</th>\n",
       "      <td>-0.096624</td>\n",
       "      <td>-0.161094</td>\n",
       "      <td>0.080661</td>\n",
       "      <td>-0.601541</td>\n",
       "      <td>1.000000</td>\n",
       "      <td>-0.012225</td>\n",
       "      <td>-0.048884</td>\n",
       "      <td>NaN</td>\n",
       "      <td>0.012941</td>\n",
       "      <td>0.012941</td>\n",
       "      <td>NaN</td>\n",
       "      <td>NaN</td>\n",
       "    </tr>\n",
       "    <tr>\n",
       "      <th>RG</th>\n",
       "      <td>-0.072146</td>\n",
       "      <td>0.046839</td>\n",
       "      <td>0.089189</td>\n",
       "      <td>-0.009059</td>\n",
       "      <td>-0.012225</td>\n",
       "      <td>1.000000</td>\n",
       "      <td>-0.716866</td>\n",
       "      <td>NaN</td>\n",
       "      <td>NaN</td>\n",
       "      <td>NaN</td>\n",
       "      <td>NaN</td>\n",
       "      <td>NaN</td>\n",
       "    </tr>\n",
       "    <tr>\n",
       "      <th>IDADE</th>\n",
       "      <td>0.042624</td>\n",
       "      <td>-0.064436</td>\n",
       "      <td>-0.051512</td>\n",
       "      <td>0.083429</td>\n",
       "      <td>-0.048884</td>\n",
       "      <td>-0.716866</td>\n",
       "      <td>1.000000</td>\n",
       "      <td>NaN</td>\n",
       "      <td>NaN</td>\n",
       "      <td>NaN</td>\n",
       "      <td>NaN</td>\n",
       "      <td>NaN</td>\n",
       "    </tr>\n",
       "    <tr>\n",
       "      <th>PARENTESCO</th>\n",
       "      <td>NaN</td>\n",
       "      <td>NaN</td>\n",
       "      <td>NaN</td>\n",
       "      <td>NaN</td>\n",
       "      <td>NaN</td>\n",
       "      <td>NaN</td>\n",
       "      <td>NaN</td>\n",
       "      <td>NaN</td>\n",
       "      <td>NaN</td>\n",
       "      <td>NaN</td>\n",
       "      <td>NaN</td>\n",
       "      <td>NaN</td>\n",
       "    </tr>\n",
       "    <tr>\n",
       "      <th>ANO_FABRICACAO</th>\n",
       "      <td>0.060767</td>\n",
       "      <td>-0.008961</td>\n",
       "      <td>-0.001543</td>\n",
       "      <td>-0.010885</td>\n",
       "      <td>0.012941</td>\n",
       "      <td>NaN</td>\n",
       "      <td>NaN</td>\n",
       "      <td>NaN</td>\n",
       "      <td>1.000000</td>\n",
       "      <td>1.000000</td>\n",
       "      <td>NaN</td>\n",
       "      <td>NaN</td>\n",
       "    </tr>\n",
       "    <tr>\n",
       "      <th>ANO_MODELO</th>\n",
       "      <td>0.060767</td>\n",
       "      <td>-0.008961</td>\n",
       "      <td>-0.001543</td>\n",
       "      <td>-0.010885</td>\n",
       "      <td>0.012941</td>\n",
       "      <td>NaN</td>\n",
       "      <td>NaN</td>\n",
       "      <td>NaN</td>\n",
       "      <td>1.000000</td>\n",
       "      <td>1.000000</td>\n",
       "      <td>NaN</td>\n",
       "      <td>NaN</td>\n",
       "    </tr>\n",
       "    <tr>\n",
       "      <th>QUANT_CELULAR</th>\n",
       "      <td>NaN</td>\n",
       "      <td>NaN</td>\n",
       "      <td>NaN</td>\n",
       "      <td>NaN</td>\n",
       "      <td>NaN</td>\n",
       "      <td>NaN</td>\n",
       "      <td>NaN</td>\n",
       "      <td>NaN</td>\n",
       "      <td>NaN</td>\n",
       "      <td>NaN</td>\n",
       "      <td>NaN</td>\n",
       "      <td>NaN</td>\n",
       "    </tr>\n",
       "    <tr>\n",
       "      <th>MARCA_CELULAR</th>\n",
       "      <td>NaN</td>\n",
       "      <td>NaN</td>\n",
       "      <td>NaN</td>\n",
       "      <td>NaN</td>\n",
       "      <td>NaN</td>\n",
       "      <td>NaN</td>\n",
       "      <td>NaN</td>\n",
       "      <td>NaN</td>\n",
       "      <td>NaN</td>\n",
       "      <td>NaN</td>\n",
       "      <td>NaN</td>\n",
       "      <td>NaN</td>\n",
       "    </tr>\n",
       "  </tbody>\n",
       "</table>\n",
       "</div>"
      ],
      "text/plain": [
       "                  ANO_BO    NUM_BO    NUMERO  LATITUDE  LONGITUDE        RG  \\\n",
       "ANO_BO          1.000000 -0.248549 -0.110380  0.029376  -0.096624 -0.072146   \n",
       "NUM_BO         -0.248549  1.000000  0.000626 -0.069436  -0.161094  0.046839   \n",
       "NUMERO         -0.110380  0.000626  1.000000  0.033974   0.080661  0.089189   \n",
       "LATITUDE        0.029376 -0.069436  0.033974  1.000000  -0.601541 -0.009059   \n",
       "LONGITUDE      -0.096624 -0.161094  0.080661 -0.601541   1.000000 -0.012225   \n",
       "RG             -0.072146  0.046839  0.089189 -0.009059  -0.012225  1.000000   \n",
       "IDADE           0.042624 -0.064436 -0.051512  0.083429  -0.048884 -0.716866   \n",
       "PARENTESCO           NaN       NaN       NaN       NaN        NaN       NaN   \n",
       "ANO_FABRICACAO  0.060767 -0.008961 -0.001543 -0.010885   0.012941       NaN   \n",
       "ANO_MODELO      0.060767 -0.008961 -0.001543 -0.010885   0.012941       NaN   \n",
       "QUANT_CELULAR        NaN       NaN       NaN       NaN        NaN       NaN   \n",
       "MARCA_CELULAR        NaN       NaN       NaN       NaN        NaN       NaN   \n",
       "\n",
       "                   IDADE  PARENTESCO  ANO_FABRICACAO  ANO_MODELO  \\\n",
       "ANO_BO          0.042624         NaN        0.060767    0.060767   \n",
       "NUM_BO         -0.064436         NaN       -0.008961   -0.008961   \n",
       "NUMERO         -0.051512         NaN       -0.001543   -0.001543   \n",
       "LATITUDE        0.083429         NaN       -0.010885   -0.010885   \n",
       "LONGITUDE      -0.048884         NaN        0.012941    0.012941   \n",
       "RG             -0.716866         NaN             NaN         NaN   \n",
       "IDADE           1.000000         NaN             NaN         NaN   \n",
       "PARENTESCO           NaN         NaN             NaN         NaN   \n",
       "ANO_FABRICACAO       NaN         NaN        1.000000    1.000000   \n",
       "ANO_MODELO           NaN         NaN        1.000000    1.000000   \n",
       "QUANT_CELULAR        NaN         NaN             NaN         NaN   \n",
       "MARCA_CELULAR        NaN         NaN             NaN         NaN   \n",
       "\n",
       "                QUANT_CELULAR  MARCA_CELULAR  \n",
       "ANO_BO                    NaN            NaN  \n",
       "NUM_BO                    NaN            NaN  \n",
       "NUMERO                    NaN            NaN  \n",
       "LATITUDE                  NaN            NaN  \n",
       "LONGITUDE                 NaN            NaN  \n",
       "RG                        NaN            NaN  \n",
       "IDADE                     NaN            NaN  \n",
       "PARENTESCO                NaN            NaN  \n",
       "ANO_FABRICACAO            NaN            NaN  \n",
       "ANO_MODELO                NaN            NaN  \n",
       "QUANT_CELULAR             NaN            NaN  \n",
       "MARCA_CELULAR             NaN            NaN  "
      ]
     },
     "execution_count": 6,
     "metadata": {},
     "output_type": "execute_result"
    }
   ],
   "source": [
    "df_concat.corr()"
   ]
  },
  {
   "cell_type": "code",
   "execution_count": 7,
   "metadata": {},
   "outputs": [
    {
     "name": "stdout",
     "output_type": "stream",
     "text": [
      "<class 'pandas.core.frame.DataFrame'>\n",
      "RangeIndex: 455 entries, 0 to 454\n",
      "Data columns (total 56 columns):\n",
      "ANO_BO                      455 non-null int64\n",
      "NUM_BO                      455 non-null int64\n",
      "NUMERO_BOLETIM              455 non-null object\n",
      "BO_INICIADO                 455 non-null object\n",
      "BO_EMITIDO                  455 non-null object\n",
      "DATAOCORRENCIA              455 non-null object\n",
      "PERIDOOCORRENCIA            455 non-null object\n",
      "DATACOMUNICACAO             455 non-null object\n",
      "DATAELABORACAO              455 non-null object\n",
      "BO_AUTORIA                  455 non-null object\n",
      "FLAGRANTE                   455 non-null object\n",
      "NUMERO_BOLETIM_PRINCIPAL    64 non-null object\n",
      "LOGRADOURO                  135 non-null object\n",
      "NUMERO                      453 non-null float64\n",
      "BAIRRO                      453 non-null object\n",
      "CIDADE                      453 non-null object\n",
      "UF                          453 non-null object\n",
      "LATITUDE                    135 non-null float64\n",
      "LONGITUDE                   135 non-null float64\n",
      "DESCRICAOLOCAL              455 non-null object\n",
      "EXAME                       411 non-null object\n",
      "SOLUCAO                     455 non-null object\n",
      "DELEGACIA_NOME              455 non-null object\n",
      "DELEGACIA_CIRCUNSCRICAO     455 non-null object\n",
      "ESPECIE                     455 non-null object\n",
      "RUBRICA                     455 non-null object\n",
      "DESDOBRAMENTO               336 non-null object\n",
      "STATUS                      455 non-null object\n",
      "NOMEPESSOA                  402 non-null object\n",
      "TIPOPESSOA                  402 non-null object\n",
      "VITIMAFATAL                 402 non-null object\n",
      "RG                          389 non-null float64\n",
      "RG_UF                       391 non-null object\n",
      "NATURALIDADE                394 non-null object\n",
      "NACIONALIDADE               371 non-null object\n",
      "SEXO                        398 non-null object\n",
      "DATANASCIMENTO              392 non-null object\n",
      "IDADE                       394 non-null float64\n",
      "ESTADOCIVIL                 368 non-null object\n",
      "PROFISSAO                   288 non-null object\n",
      "GRAUINSTRUCAO               170 non-null object\n",
      "CORCUTIS                    402 non-null object\n",
      "NATUREZAVINCULADA           402 non-null object\n",
      "TIPOVINCULO                 402 non-null object\n",
      "RELACIONAMENTO              185 non-null object\n",
      "PARENTESCO                  0 non-null float64\n",
      "PLACA_VEICULO               1 non-null object\n",
      "UF_VEICULO                  1 non-null object\n",
      "CIDADE_VEICULO              1 non-null object\n",
      "DESCR_COR_VEICULO           1 non-null object\n",
      "DESCR_MARCA_VEICULO         1 non-null object\n",
      "ANO_FABRICACAO              455 non-null int64\n",
      "ANO_MODELO                  455 non-null int64\n",
      "DESCR_TIPO_VEICULO          1 non-null object\n",
      "QUANT_CELULAR               0 non-null float64\n",
      "MARCA_CELULAR               0 non-null float64\n",
      "dtypes: float64(8), int64(4), object(44)\n",
      "memory usage: 199.1+ KB\n"
     ]
    }
   ],
   "source": [
    "df_concat.info()"
   ]
  },
  {
   "cell_type": "markdown",
   "metadata": {},
   "source": [
    "### Removendo Dados Duplicados \n",
    "\n",
    "Primeiro verificamos se existem instâncias duplicatas no dataset:"
   ]
  },
  {
   "cell_type": "code",
   "execution_count": 7,
   "metadata": {},
   "outputs": [
    {
     "name": "stdout",
     "output_type": "stream",
     "text": [
      "Número de linhas duplicadas: 0\n"
     ]
    }
   ],
   "source": [
    "dups = df_concat.duplicated()\n",
    "print('Número de linhas duplicadas: ' + str((dups.sum())))"
   ]
  },
  {
   "cell_type": "markdown",
   "metadata": {},
   "source": [
    "### Padronizando as Strings\n",
    "\n",
    "Transformando as strings para *lowercase*, deixando apenas a primeira letra maiúscula:"
   ]
  },
  {
   "cell_type": "code",
   "execution_count": 8,
   "metadata": {
    "scrolled": true
   },
   "outputs": [
    {
     "data": {
      "text/html": [
       "<div>\n",
       "<style scoped>\n",
       "    .dataframe tbody tr th:only-of-type {\n",
       "        vertical-align: middle;\n",
       "    }\n",
       "\n",
       "    .dataframe tbody tr th {\n",
       "        vertical-align: top;\n",
       "    }\n",
       "\n",
       "    .dataframe thead th {\n",
       "        text-align: right;\n",
       "    }\n",
       "</style>\n",
       "<table border=\"1\" class=\"dataframe\">\n",
       "  <thead>\n",
       "    <tr style=\"text-align: right;\">\n",
       "      <th></th>\n",
       "      <th>ANO_BO</th>\n",
       "      <th>NUM_BO</th>\n",
       "      <th>NUMERO_BOLETIM</th>\n",
       "      <th>BO_INICIADO</th>\n",
       "      <th>BO_EMITIDO</th>\n",
       "      <th>DATAOCORRENCIA</th>\n",
       "      <th>PERIDOOCORRENCIA</th>\n",
       "      <th>DATACOMUNICACAO</th>\n",
       "      <th>DATAELABORACAO</th>\n",
       "      <th>BO_AUTORIA</th>\n",
       "      <th>...</th>\n",
       "      <th>PLACA_VEICULO</th>\n",
       "      <th>UF_VEICULO</th>\n",
       "      <th>CIDADE_VEICULO</th>\n",
       "      <th>DESCR_COR_VEICULO</th>\n",
       "      <th>DESCR_MARCA_VEICULO</th>\n",
       "      <th>ANO_FABRICACAO</th>\n",
       "      <th>ANO_MODELO</th>\n",
       "      <th>DESCR_TIPO_VEICULO</th>\n",
       "      <th>QUANT_CELULAR</th>\n",
       "      <th>MARCA_CELULAR</th>\n",
       "    </tr>\n",
       "  </thead>\n",
       "  <tbody>\n",
       "    <tr>\n",
       "      <th>0</th>\n",
       "      <td>2018</td>\n",
       "      <td>3608</td>\n",
       "      <td>3608/2018</td>\n",
       "      <td>01/11/2018 20:16:28</td>\n",
       "      <td>01/11/2018 21:29:35</td>\n",
       "      <td>01/11/2018</td>\n",
       "      <td>A tarde</td>\n",
       "      <td>01/11/2018</td>\n",
       "      <td>01/11/2018 20:16:28</td>\n",
       "      <td>Conhecida</td>\n",
       "      <td>...</td>\n",
       "      <td>NaN</td>\n",
       "      <td>NaN</td>\n",
       "      <td>NaN</td>\n",
       "      <td>NaN</td>\n",
       "      <td>NaN</td>\n",
       "      <td>0</td>\n",
       "      <td>0</td>\n",
       "      <td>NaN</td>\n",
       "      <td>NaN</td>\n",
       "      <td>NaN</td>\n",
       "    </tr>\n",
       "    <tr>\n",
       "      <th>1</th>\n",
       "      <td>2018</td>\n",
       "      <td>3608</td>\n",
       "      <td>3608/2018</td>\n",
       "      <td>01/11/2018 20:16:28</td>\n",
       "      <td>01/11/2018 21:29:35</td>\n",
       "      <td>01/11/2018</td>\n",
       "      <td>A tarde</td>\n",
       "      <td>01/11/2018</td>\n",
       "      <td>01/11/2018 20:16:28</td>\n",
       "      <td>Conhecida</td>\n",
       "      <td>...</td>\n",
       "      <td>NaN</td>\n",
       "      <td>NaN</td>\n",
       "      <td>NaN</td>\n",
       "      <td>NaN</td>\n",
       "      <td>NaN</td>\n",
       "      <td>0</td>\n",
       "      <td>0</td>\n",
       "      <td>NaN</td>\n",
       "      <td>NaN</td>\n",
       "      <td>NaN</td>\n",
       "    </tr>\n",
       "    <tr>\n",
       "      <th>2</th>\n",
       "      <td>2018</td>\n",
       "      <td>9548</td>\n",
       "      <td>9548/2018</td>\n",
       "      <td>02/11/2018 23:42:07</td>\n",
       "      <td>03/11/2018 04:10:23</td>\n",
       "      <td>02/11/2018</td>\n",
       "      <td>A noite</td>\n",
       "      <td>02/11/2018</td>\n",
       "      <td>02/11/2018 23:42:07</td>\n",
       "      <td>Conhecida</td>\n",
       "      <td>...</td>\n",
       "      <td>NaN</td>\n",
       "      <td>NaN</td>\n",
       "      <td>NaN</td>\n",
       "      <td>NaN</td>\n",
       "      <td>NaN</td>\n",
       "      <td>0</td>\n",
       "      <td>0</td>\n",
       "      <td>NaN</td>\n",
       "      <td>NaN</td>\n",
       "      <td>NaN</td>\n",
       "    </tr>\n",
       "    <tr>\n",
       "      <th>3</th>\n",
       "      <td>2018</td>\n",
       "      <td>1290</td>\n",
       "      <td>1290/2018</td>\n",
       "      <td>06/11/2018 19:48:09</td>\n",
       "      <td>07/11/2018 12:16:05</td>\n",
       "      <td>06/11/2018</td>\n",
       "      <td>Em hora incerta</td>\n",
       "      <td>06/11/2018</td>\n",
       "      <td>06/11/2018 19:48:09</td>\n",
       "      <td>Conhecida</td>\n",
       "      <td>...</td>\n",
       "      <td>NaN</td>\n",
       "      <td>NaN</td>\n",
       "      <td>NaN</td>\n",
       "      <td>NaN</td>\n",
       "      <td>NaN</td>\n",
       "      <td>0</td>\n",
       "      <td>0</td>\n",
       "      <td>NaN</td>\n",
       "      <td>NaN</td>\n",
       "      <td>NaN</td>\n",
       "    </tr>\n",
       "    <tr>\n",
       "      <th>4</th>\n",
       "      <td>2018</td>\n",
       "      <td>1290</td>\n",
       "      <td>1290/2018</td>\n",
       "      <td>06/11/2018 19:48:09</td>\n",
       "      <td>07/11/2018 12:16:05</td>\n",
       "      <td>06/11/2018</td>\n",
       "      <td>Em hora incerta</td>\n",
       "      <td>06/11/2018</td>\n",
       "      <td>06/11/2018 19:48:09</td>\n",
       "      <td>Conhecida</td>\n",
       "      <td>...</td>\n",
       "      <td>NaN</td>\n",
       "      <td>NaN</td>\n",
       "      <td>NaN</td>\n",
       "      <td>NaN</td>\n",
       "      <td>NaN</td>\n",
       "      <td>0</td>\n",
       "      <td>0</td>\n",
       "      <td>NaN</td>\n",
       "      <td>NaN</td>\n",
       "      <td>NaN</td>\n",
       "    </tr>\n",
       "  </tbody>\n",
       "</table>\n",
       "<p>5 rows × 56 columns</p>\n",
       "</div>"
      ],
      "text/plain": [
       "   ANO_BO  NUM_BO NUMERO_BOLETIM          BO_INICIADO           BO_EMITIDO  \\\n",
       "0    2018    3608      3608/2018  01/11/2018 20:16:28  01/11/2018 21:29:35   \n",
       "1    2018    3608      3608/2018  01/11/2018 20:16:28  01/11/2018 21:29:35   \n",
       "2    2018    9548      9548/2018  02/11/2018 23:42:07  03/11/2018 04:10:23   \n",
       "3    2018    1290      1290/2018  06/11/2018 19:48:09  07/11/2018 12:16:05   \n",
       "4    2018    1290      1290/2018  06/11/2018 19:48:09  07/11/2018 12:16:05   \n",
       "\n",
       "  DATAOCORRENCIA PERIDOOCORRENCIA DATACOMUNICACAO       DATAELABORACAO  \\\n",
       "0     01/11/2018          A tarde      01/11/2018  01/11/2018 20:16:28   \n",
       "1     01/11/2018          A tarde      01/11/2018  01/11/2018 20:16:28   \n",
       "2     02/11/2018          A noite      02/11/2018  02/11/2018 23:42:07   \n",
       "3     06/11/2018  Em hora incerta      06/11/2018  06/11/2018 19:48:09   \n",
       "4     06/11/2018  Em hora incerta      06/11/2018  06/11/2018 19:48:09   \n",
       "\n",
       "  BO_AUTORIA  ... PLACA_VEICULO UF_VEICULO CIDADE_VEICULO  DESCR_COR_VEICULO  \\\n",
       "0  Conhecida  ...           NaN        NaN            NaN                NaN   \n",
       "1  Conhecida  ...           NaN        NaN            NaN                NaN   \n",
       "2  Conhecida  ...           NaN        NaN            NaN                NaN   \n",
       "3  Conhecida  ...           NaN        NaN            NaN                NaN   \n",
       "4  Conhecida  ...           NaN        NaN            NaN                NaN   \n",
       "\n",
       "  DESCR_MARCA_VEICULO ANO_FABRICACAO ANO_MODELO  DESCR_TIPO_VEICULO  \\\n",
       "0                 NaN              0          0                 NaN   \n",
       "1                 NaN              0          0                 NaN   \n",
       "2                 NaN              0          0                 NaN   \n",
       "3                 NaN              0          0                 NaN   \n",
       "4                 NaN              0          0                 NaN   \n",
       "\n",
       "   QUANT_CELULAR MARCA_CELULAR  \n",
       "0            NaN           NaN  \n",
       "1            NaN           NaN  \n",
       "2            NaN           NaN  \n",
       "3            NaN           NaN  \n",
       "4            NaN           NaN  \n",
       "\n",
       "[5 rows x 56 columns]"
      ]
     },
     "execution_count": 8,
     "metadata": {},
     "output_type": "execute_result"
    }
   ],
   "source": [
    "df_concat = df_concat.applymap(lambda s:s.lower().capitalize() if type(s) == str else s)\n",
    "    \n",
    "df_concat.head()"
   ]
  },
  {
   "cell_type": "markdown",
   "metadata": {},
   "source": [
    "### Verificando os Valores Faltantes\n",
    "\n",
    "Contagem dos valores não-nulos para verificar a quantidade de valores faltantes em cada coluna:"
   ]
  },
  {
   "cell_type": "code",
   "execution_count": 9,
   "metadata": {},
   "outputs": [
    {
     "name": "stdout",
     "output_type": "stream",
     "text": [
      "Nome da coluna e sua quantidade de valores faltantes:\n",
      "\n",
      "\tNUMERO_BOLETIM_PRINCIPAL = 391\n",
      "\tLOGRADOURO = 320\n",
      "\tNUMERO = 2\n",
      "\tBAIRRO = 2\n",
      "\tCIDADE = 2\n",
      "\tUF = 2\n",
      "\tLATITUDE = 320\n",
      "\tLONGITUDE = 320\n",
      "\tEXAME = 44\n",
      "\tDESDOBRAMENTO = 119\n",
      "\tNOMEPESSOA = 53\n",
      "\tTIPOPESSOA = 53\n",
      "\tVITIMAFATAL = 53\n",
      "\tRG = 66\n",
      "\tRG_UF = 64\n",
      "\tNATURALIDADE = 61\n",
      "\tNACIONALIDADE = 84\n",
      "\tSEXO = 57\n",
      "\tDATANASCIMENTO = 63\n",
      "\tIDADE = 61\n",
      "\tESTADOCIVIL = 87\n",
      "\tPROFISSAO = 167\n",
      "\tGRAUINSTRUCAO = 285\n",
      "\tCORCUTIS = 53\n",
      "\tNATUREZAVINCULADA = 53\n",
      "\tTIPOVINCULO = 53\n",
      "\tRELACIONAMENTO = 270\n",
      "\tPARENTESCO = 455\n",
      "\tPLACA_VEICULO = 454\n",
      "\tUF_VEICULO = 454\n",
      "\tCIDADE_VEICULO = 454\n",
      "\tDESCR_COR_VEICULO = 454\n",
      "\tDESCR_MARCA_VEICULO = 454\n",
      "\tDESCR_TIPO_VEICULO = 454\n",
      "\tQUANT_CELULAR = 455\n",
      "\tMARCA_CELULAR = 455\n",
      "\n",
      "Quantidade de colunas que possuem mais de 300 valores faltantes: 13\n"
     ]
    }
   ],
   "source": [
    "data2 = df_concat.replace('?', np.NaN)\n",
    "count = 0\n",
    "        \n",
    "print('Nome da coluna e sua quantidade de valores faltantes:\\n')\n",
    "\n",
    "for col in data2.columns :\n",
    "    value = data2[col].isna().sum() \n",
    "    if (value != 0) :\n",
    "        print('\\t%s = %d' % (col, data2[col].isna().sum()))\n",
    "    if (value >= 300) :\n",
    "        count += 1\n",
    "    \n",
    "        \n",
    "print('\\nQuantidade de colunas que possuem mais de 300 valores faltantes: ' + str(count))"
   ]
  },
  {
   "cell_type": "markdown",
   "metadata": {},
   "source": [
    "**DISCUSSÕES**\n",
    "\n",
    "Com base nos valores dados anteriormente, percebemos que os atributos \n",
    "1. **NUMERO_BOLETIM_PRINCIPAL**\n",
    "* **LOGRADOURO**\n",
    "* **LATIDUDE**\n",
    "* **LONGITUDE**\n",
    "* **PARENTESCO**\n",
    "* **PLACA_VEICULO**\n",
    "* **UF_VEICULO**\n",
    "* **CIDADE_VEICULO**\n",
    "* **DESCR_COR_VEICULO**\n",
    "* **DESCR_MARCA_VEICULO**\n",
    "* **DESCR_TIPO_VEICULO**\n",
    "* **QUANT_CELULAR**\n",
    "* **MARCA_CELULAR**\n",
    "\n",
    "possuem mais de 300 valores faltantes e quase todas eles se tornam desnecessários, pois não são relevantes para uma futura análise. \n",
    "\n",
    "- **NUMERO_BOLETIM_PRINCIPAL** não se torna relevante, pois, além de possuir 391 valores faltantes, este atributo é a junção de **NUMERO_BOLETIM** e mais um valor aleatório. Um detalhe que podemos perceber é que justamente essa coluna **NUMERO_BOLETIM**, já é junção de outras duas: **ANO_BO** e **NUM_BO**. O que também a torna desnecessária para nossa análise. \n",
    "- Outros atributos deste conjunto que poderiam ser relevantes são **LOGRADOURO** e **PARENTESCO**. Podemos obter alguma informação através deste último, como saber se as mulheres que sofreram feminicídio ou tentativa possuem relações familiares com seus assassinos, mas, esta coluna possui 455 valores faltantes, ou seja, está vazia de informações. Sem contar que podemos analisar se existe uma relação familiar entre vítima e assassino através da coluna **RELACIONAMENTO**. \n",
    "- Iremos desconsiderar também os atributos relacionados a veículos, pois temos informação apenas de uma pessoa.\n",
    "- Também não consideraremos valores pessoais, como os contidos em **RG** e **RG_UF**, nem **UF**, já que sabemos que os BOs são do estado de São Paulo."
   ]
  },
  {
   "cell_type": "markdown",
   "metadata": {},
   "source": [
    "### Agregação"
   ]
  },
  {
   "cell_type": "markdown",
   "metadata": {},
   "source": [
    "Como visto anteriormente, não existem linhas duplicadas, mas, ao analisar o dataset, percebe-se que alguns textos dos BOs estão \"quebrados\". \n",
    "Ou seja, temos várias instâncias com um mesmo número de BO, que possuem praticamente o mesmo conteúdo, mas que quase sempre se separam nas colunas\n",
    "- **ESPECIE**, \n",
    "- **RUBRICA**, \n",
    "- **DESDOBRAMENTO**, e \n",
    "- **NATUREZAVINCULADA**.\n",
    "\n",
    "O código abaixo mostra a quantidade de linhas que existe para um mesmo BO e as informações das colunas **NUM_BO**, **DATAOCORRENCIA**, **ESPECIE**, **RUBRICA**, **DESDOBRAMENTO**, **NOMEPESSOA** e **NATUREZAVINCULADA**, para termos uma noção dos valores \"quebrados\". "
   ]
  },
  {
   "cell_type": "code",
   "execution_count": null,
   "metadata": {},
   "outputs": [],
   "source": [
    "uniques = df_concat['NUM_BO'].unique()\n",
    "\n",
    "df = []\n",
    "\n",
    "for unique in uniques:\n",
    "    data3 = df_concat[df_concat.NUM_BO == unique]\n",
    "    df.append(data3)\n",
    "\n",
    "for data3 in df:\n",
    "    #columns = data3.columns.tolist()\n",
    "    #Exclui as últimas 11 colunas\n",
    "        #data3 = data3[columns[:len(columns)-11]]\n",
    "    print(data3[['NUM_BO', 'DATAOCORRENCIA', 'ESPECIE', 'RUBRICA', 'DESDOBRAMENTO', 'NOMEPESSOA',\n",
    "                 'NATUREZAVINCULADA']])\n",
    "    print('\\n')\n",
    "    \n",
    "# Verifica os valores para um único número de BO\n",
    "    #is_4432 = df_concat['NUM_BO'] == 4432\n",
    "    #df_4432 = df_concat[is_4432]\n",
    "    #df_4432[['NUM_BO', 'ESPECIE', 'RUBRICA', 'DESDOBRAMENTO', 'NATUREZAVINCULADA']]"
   ]
  },
  {
   "cell_type": "markdown",
   "metadata": {},
   "source": [
    "Dessa forma, os dados serão agrupados e agregados por **NUM_BO** e não consideraremos as colunas analisadas em **Verificando os Valores Faltantes**. \n",
    "\n",
    "Assim, formaremos um novo dataframe apenas com:"
   ]
  },
  {
   "cell_type": "code",
   "execution_count": 10,
   "metadata": {},
   "outputs": [
    {
     "data": {
      "text/html": [
       "<div>\n",
       "<style scoped>\n",
       "    .dataframe tbody tr th:only-of-type {\n",
       "        vertical-align: middle;\n",
       "    }\n",
       "\n",
       "    .dataframe tbody tr th {\n",
       "        vertical-align: top;\n",
       "    }\n",
       "\n",
       "    .dataframe thead th {\n",
       "        text-align: right;\n",
       "    }\n",
       "</style>\n",
       "<table border=\"1\" class=\"dataframe\">\n",
       "  <thead>\n",
       "    <tr style=\"text-align: right;\">\n",
       "      <th></th>\n",
       "      <th>ANO_BO</th>\n",
       "      <th>BO_INICIADO</th>\n",
       "      <th>BO_EMITIDO</th>\n",
       "      <th>DATAOCORRENCIA</th>\n",
       "      <th>PERIDOOCORRENCIA</th>\n",
       "      <th>DATACOMUNICACAO</th>\n",
       "      <th>DATAELABORACAO</th>\n",
       "      <th>BO_AUTORIA</th>\n",
       "      <th>FLAGRANTE</th>\n",
       "      <th>LOGRADOURO</th>\n",
       "      <th>...</th>\n",
       "      <th>SEXO</th>\n",
       "      <th>DATANASCIMENTO</th>\n",
       "      <th>IDADE</th>\n",
       "      <th>ESTADOCIVIL</th>\n",
       "      <th>PROFISSAO</th>\n",
       "      <th>GRAUINSTRUCAO</th>\n",
       "      <th>CORCUTIS</th>\n",
       "      <th>NATUREZAVINCULADA</th>\n",
       "      <th>TIPOVINCULO</th>\n",
       "      <th>RELACIONAMENTO</th>\n",
       "    </tr>\n",
       "    <tr>\n",
       "      <th>NUM_BO</th>\n",
       "      <th></th>\n",
       "      <th></th>\n",
       "      <th></th>\n",
       "      <th></th>\n",
       "      <th></th>\n",
       "      <th></th>\n",
       "      <th></th>\n",
       "      <th></th>\n",
       "      <th></th>\n",
       "      <th></th>\n",
       "      <th></th>\n",
       "      <th></th>\n",
       "      <th></th>\n",
       "      <th></th>\n",
       "      <th></th>\n",
       "      <th></th>\n",
       "      <th></th>\n",
       "      <th></th>\n",
       "      <th></th>\n",
       "      <th></th>\n",
       "      <th></th>\n",
       "    </tr>\n",
       "  </thead>\n",
       "  <tbody>\n",
       "    <tr>\n",
       "      <th>12</th>\n",
       "      <td>2018</td>\n",
       "      <td>13/03/2018 17:26:13</td>\n",
       "      <td>13/03/2018 19:50:39</td>\n",
       "      <td>13/03/2018</td>\n",
       "      <td>A tarde</td>\n",
       "      <td>13/03/2018</td>\n",
       "      <td>13/03/2018 17:26:13</td>\n",
       "      <td>Conhecida</td>\n",
       "      <td>Não</td>\n",
       "      <td>Avenida av. dep. luis eduardo magalhães</td>\n",
       "      <td>...</td>\n",
       "      <td>Feminino</td>\n",
       "      <td>1993-10-07</td>\n",
       "      <td>24.0</td>\n",
       "      <td>Solteiro</td>\n",
       "      <td>Nao informada</td>\n",
       "      <td>NaN</td>\n",
       "      <td>Branca</td>\n",
       "      <td>Homicídio qualificado (art. 121, §2o.)</td>\n",
       "      <td>Vítima</td>\n",
       "      <td>NaN</td>\n",
       "    </tr>\n",
       "    <tr>\n",
       "      <th>13</th>\n",
       "      <td>2019</td>\n",
       "      <td>08/06/2019 15:48:33</td>\n",
       "      <td>08/06/2019 18:46:30</td>\n",
       "      <td>06/06/2019</td>\n",
       "      <td>A noite</td>\n",
       "      <td>08/06/2019</td>\n",
       "      <td>08/06/2019 15:48:33</td>\n",
       "      <td>Conhecida</td>\n",
       "      <td>Não</td>\n",
       "      <td>NaN</td>\n",
       "      <td>...</td>\n",
       "      <td>Feminino</td>\n",
       "      <td>1944-11-09</td>\n",
       "      <td>74.0</td>\n",
       "      <td>Casado</td>\n",
       "      <td>Pensionista</td>\n",
       "      <td>1 grau incompleto</td>\n",
       "      <td>Parda</td>\n",
       "      <td>Destruição, subtração ou ocultação de cadáver ...</td>\n",
       "      <td>Vítima</td>\n",
       "      <td>Casamento</td>\n",
       "    </tr>\n",
       "    <tr>\n",
       "      <th>15</th>\n",
       "      <td>2019</td>\n",
       "      <td>19/01/2019 13:28:56</td>\n",
       "      <td>19/01/2019 17:21:12</td>\n",
       "      <td>19/01/2019</td>\n",
       "      <td>Pela manhã</td>\n",
       "      <td>19/01/2019</td>\n",
       "      <td>19/01/2019 13:28:56</td>\n",
       "      <td>Conhecida</td>\n",
       "      <td>Sim</td>\n",
       "      <td>NaN</td>\n",
       "      <td>...</td>\n",
       "      <td>Masculino</td>\n",
       "      <td>1977-01-13</td>\n",
       "      <td>42.0</td>\n",
       "      <td>Solteiro</td>\n",
       "      <td>Autonomo(a)</td>\n",
       "      <td>1 grau incompleto</td>\n",
       "      <td>Parda</td>\n",
       "      <td>Homicídio qualificado (art. 121, §2o.)</td>\n",
       "      <td>Vítima</td>\n",
       "      <td>NaN</td>\n",
       "    </tr>\n",
       "    <tr>\n",
       "      <th>24</th>\n",
       "      <td>2019</td>\n",
       "      <td>09/02/2019 07:51:28</td>\n",
       "      <td>09/02/2019 11:16:54</td>\n",
       "      <td>09/02/2019</td>\n",
       "      <td>Pela manhã</td>\n",
       "      <td>09/02/2019</td>\n",
       "      <td>09/02/2019 07:51:28</td>\n",
       "      <td>Conhecida</td>\n",
       "      <td>Sim</td>\n",
       "      <td>NaN</td>\n",
       "      <td>...</td>\n",
       "      <td>Feminino</td>\n",
       "      <td>1958-03-21</td>\n",
       "      <td>60.0</td>\n",
       "      <td>Casado</td>\n",
       "      <td>Prendas domesticas</td>\n",
       "      <td>NaN</td>\n",
       "      <td>Branca</td>\n",
       "      <td>Homicídio qualificado (art. 121, §2o.)</td>\n",
       "      <td>Vítima</td>\n",
       "      <td>Casamento</td>\n",
       "    </tr>\n",
       "    <tr>\n",
       "      <th>25</th>\n",
       "      <td>2019</td>\n",
       "      <td>03/01/2019 12:17:20</td>\n",
       "      <td>03/01/2019 19:05:46</td>\n",
       "      <td>03/01/2019</td>\n",
       "      <td>De madrugada</td>\n",
       "      <td>03/01/2019</td>\n",
       "      <td>03/01/2019 12:17:20</td>\n",
       "      <td>Conhecida</td>\n",
       "      <td>Sim</td>\n",
       "      <td>Rua ângelo scarpato</td>\n",
       "      <td>...</td>\n",
       "      <td>Feminino</td>\n",
       "      <td>1979-11-17</td>\n",
       "      <td>39.0</td>\n",
       "      <td>Ignorado</td>\n",
       "      <td>NaN</td>\n",
       "      <td>NaN</td>\n",
       "      <td>Branca</td>\n",
       "      <td>Homicídio qualificado (art. 121, §2o.)</td>\n",
       "      <td>Vítima</td>\n",
       "      <td>NaN</td>\n",
       "    </tr>\n",
       "  </tbody>\n",
       "</table>\n",
       "<p>5 rows × 37 columns</p>\n",
       "</div>"
      ],
      "text/plain": [
       "        ANO_BO          BO_INICIADO           BO_EMITIDO DATAOCORRENCIA  \\\n",
       "NUM_BO                                                                    \n",
       "12        2018  13/03/2018 17:26:13  13/03/2018 19:50:39     13/03/2018   \n",
       "13        2019  08/06/2019 15:48:33  08/06/2019 18:46:30     06/06/2019   \n",
       "15        2019  19/01/2019 13:28:56  19/01/2019 17:21:12     19/01/2019   \n",
       "24        2019  09/02/2019 07:51:28  09/02/2019 11:16:54     09/02/2019   \n",
       "25        2019  03/01/2019 12:17:20  03/01/2019 19:05:46     03/01/2019   \n",
       "\n",
       "       PERIDOOCORRENCIA DATACOMUNICACAO       DATAELABORACAO BO_AUTORIA  \\\n",
       "NUM_BO                                                                    \n",
       "12              A tarde      13/03/2018  13/03/2018 17:26:13  Conhecida   \n",
       "13              A noite      08/06/2019  08/06/2019 15:48:33  Conhecida   \n",
       "15           Pela manhã      19/01/2019  19/01/2019 13:28:56  Conhecida   \n",
       "24           Pela manhã      09/02/2019  09/02/2019 07:51:28  Conhecida   \n",
       "25         De madrugada      03/01/2019  03/01/2019 12:17:20  Conhecida   \n",
       "\n",
       "       FLAGRANTE                               LOGRADOURO  ...       SEXO  \\\n",
       "NUM_BO                                                     ...              \n",
       "12           Não  Avenida av. dep. luis eduardo magalhães  ...   Feminino   \n",
       "13           Não                                      NaN  ...   Feminino   \n",
       "15           Sim                                      NaN  ...  Masculino   \n",
       "24           Sim                                      NaN  ...   Feminino   \n",
       "25           Sim                      Rua ângelo scarpato  ...   Feminino   \n",
       "\n",
       "       DATANASCIMENTO IDADE ESTADOCIVIL           PROFISSAO  \\\n",
       "NUM_BO                                                        \n",
       "12         1993-10-07  24.0    Solteiro       Nao informada   \n",
       "13         1944-11-09  74.0      Casado         Pensionista   \n",
       "15         1977-01-13  42.0    Solteiro         Autonomo(a)   \n",
       "24         1958-03-21  60.0      Casado  Prendas domesticas   \n",
       "25         1979-11-17  39.0    Ignorado                 NaN   \n",
       "\n",
       "            GRAUINSTRUCAO CORCUTIS  \\\n",
       "NUM_BO                               \n",
       "12                    NaN   Branca   \n",
       "13      1 grau incompleto    Parda   \n",
       "15      1 grau incompleto    Parda   \n",
       "24                    NaN   Branca   \n",
       "25                    NaN   Branca   \n",
       "\n",
       "                                        NATUREZAVINCULADA TIPOVINCULO  \\\n",
       "NUM_BO                                                                  \n",
       "12                 Homicídio qualificado (art. 121, §2o.)      Vítima   \n",
       "13      Destruição, subtração ou ocultação de cadáver ...      Vítima   \n",
       "15                 Homicídio qualificado (art. 121, §2o.)      Vítima   \n",
       "24                 Homicídio qualificado (art. 121, §2o.)      Vítima   \n",
       "25                 Homicídio qualificado (art. 121, §2o.)      Vítima   \n",
       "\n",
       "       RELACIONAMENTO  \n",
       "NUM_BO                 \n",
       "12                NaN  \n",
       "13          Casamento  \n",
       "15                NaN  \n",
       "24          Casamento  \n",
       "25                NaN  \n",
       "\n",
       "[5 rows x 37 columns]"
      ]
     },
     "execution_count": 10,
     "metadata": {},
     "output_type": "execute_result"
    }
   ],
   "source": [
    "funcoesAgg = {'ANO_BO' : 'first', 'BO_INICIADO' : 'first', 'BO_EMITIDO' : 'first', 'DATAOCORRENCIA' : 'first',\n",
    "              'PERIDOOCORRENCIA': 'first', 'DATACOMUNICACAO' : 'last', 'DATAELABORACAO' : 'first', \n",
    "              'BO_AUTORIA' : 'first', 'FLAGRANTE' : 'first','LOGRADOURO' : 'first', 'NUMERO' : 'first', \n",
    "              'BAIRRO' : 'first', 'CIDADE' : 'first', 'DESCRICAOLOCAL' : 'first', 'EXAME' : 'first', \n",
    "              'SOLUCAO' : 'first', 'DELEGACIA_NOME' : 'first', 'DELEGACIA_CIRCUNSCRICAO' : 'first', \n",
    "              'ESPECIE' : 'last', 'RUBRICA' : 'last', 'DESDOBRAMENTO' : 'last', 'STATUS' : 'last', \n",
    "              'NOMEPESSOA' : 'last', 'TIPOPESSOA' : 'last', 'VITIMAFATAL' : 'last', 'NATURALIDADE' : 'last', \n",
    "              'NACIONALIDADE' : 'last', 'SEXO' : 'last', 'DATANASCIMENTO' : 'last', 'IDADE' : 'last', \n",
    "              'ESTADOCIVIL' : 'last', 'PROFISSAO' : 'last', 'GRAUINSTRUCAO' : 'last', 'CORCUTIS' : 'last', \n",
    "              'NATUREZAVINCULADA' : 'last', 'TIPOVINCULO' : 'last', 'RELACIONAMENTO' : 'last'}\n",
    "\n",
    "df_novo = df_concat.groupby(df_concat['NUM_BO']).agg(funcoesAgg)\n",
    "\n",
    "df_novo.head()"
   ]
  },
  {
   "cell_type": "markdown",
   "metadata": {},
   "source": [
    "### Transformando Dados Temporais no Tipo Apropriado\n",
    "\n",
    "Alterando tipos dos dados referentes a data para *datetime*:"
   ]
  },
  {
   "cell_type": "code",
   "execution_count": 11,
   "metadata": {},
   "outputs": [],
   "source": [
    "# Data e horário em que o BO foi iniciado\n",
    "df_novo['BO_INICIADO'] = pd.to_datetime(df_novo['BO_INICIADO']) \n",
    "# Data e horário em que o BO foi emitido\n",
    "df_novo['BO_EMITIDO'] = pd.to_datetime(df_novo['BO_EMITIDO'])\n",
    "# Data da ocorrência (do assassinato)\n",
    "df_novo['DATAOCORRENCIA'] = pd.to_datetime(df_novo['DATAOCORRENCIA'])\n",
    "# Data em que o BO foi feito \n",
    "df_novo['DATACOMUNICACAO'] = pd.to_datetime(df_novo['DATACOMUNICACAO'])\n",
    "# Data em que o BO foi elaborado (igual a BO_INICIADO)\n",
    "df_novo['DATAELABORACAO'] = pd.to_datetime(df_novo['DATAELABORACAO'])\n",
    "# Data de nascimento da vítima\n",
    "df_novo['DATANASCIMENTO'] = pd.to_datetime(df_novo['DATANASCIMENTO'])\n",
    "\n",
    "# Tirando a data das colunas BO_EMITIDO e BO_INICIADO já que estão  \n",
    "    # em DATACOMUNICACAO, e a data e hora em DATAELABORACAO\n",
    "df_novo['BO_INICIADO'] = df_novo['BO_INICIADO'].dt.strftime('%H:%M:%S')\n",
    "df_novo['BO_EMITIDO'] = df_novo['BO_EMITIDO'].dt.strftime('%H:%M:%S')\n",
    "\n",
    "# Transformando DATAOCORRENCIA em duas novas colunas apenas com dia e mês\n",
    "df_novo['DIA_OCORRENCIA'] = df_novo['DATAOCORRENCIA'].dt.strftime('%d')\n",
    "df_novo['MES_OCORRENCIA'] = df_novo['DATAOCORRENCIA'].dt.strftime('%m')\n",
    "\n",
    "# Mudando os meses de MES_OCORRENCIA que estão em números para seus respectivos nomes\n",
    "df_novo['MES_OCORRENCIA'] = df_novo['MES_OCORRENCIA'].apply(lambda x: strptime(x, '%m').tm_mon) \n",
    "df_novo['MES_OCORRENCIA'] = df_novo['MES_OCORRENCIA'].apply(lambda x: calendar.month_abbr[x])\n",
    "\n",
    "# Transformando DATACOMUNICACAO em duas novas colunas apenas com dia e mês\n",
    "df_novo['DIA_COMUNICACAO'] = df_novo['DATACOMUNICACAO'].dt.strftime('%d')\n",
    "df_novo['MES_COMUNICACAO'] = df_novo['DATACOMUNICACAO'].dt.strftime('%m')\n",
    "del df_novo['DATACOMUNICACAO']\n",
    "\n",
    "# Mudando os meses de MES_COMUNICACAO que estão em números para seus respectivos nomes\n",
    "df_novo['MES_COMUNICACAO'] = df_novo['MES_COMUNICACAO'].apply(lambda x: strptime(x, '%m').tm_mon) \n",
    "df_novo['MES_COMUNICACAO'] = df_novo['MES_COMUNICACAO'].apply(lambda x: calendar.month_abbr[x])"
   ]
  },
  {
   "cell_type": "markdown",
   "metadata": {},
   "source": [
    "### Verificando o Novo Dataframe"
   ]
  },
  {
   "cell_type": "code",
   "execution_count": 12,
   "metadata": {},
   "outputs": [
    {
     "name": "stdout",
     "output_type": "stream",
     "text": [
      "O dataset de dados possui 211 instâncias e 40 atributos\n"
     ]
    },
    {
     "data": {
      "text/html": [
       "<div>\n",
       "<style scoped>\n",
       "    .dataframe tbody tr th:only-of-type {\n",
       "        vertical-align: middle;\n",
       "    }\n",
       "\n",
       "    .dataframe tbody tr th {\n",
       "        vertical-align: top;\n",
       "    }\n",
       "\n",
       "    .dataframe thead th {\n",
       "        text-align: right;\n",
       "    }\n",
       "</style>\n",
       "<table border=\"1\" class=\"dataframe\">\n",
       "  <thead>\n",
       "    <tr style=\"text-align: right;\">\n",
       "      <th></th>\n",
       "      <th>ANO_BO</th>\n",
       "      <th>BO_INICIADO</th>\n",
       "      <th>BO_EMITIDO</th>\n",
       "      <th>DATAOCORRENCIA</th>\n",
       "      <th>PERIDOOCORRENCIA</th>\n",
       "      <th>DATAELABORACAO</th>\n",
       "      <th>BO_AUTORIA</th>\n",
       "      <th>FLAGRANTE</th>\n",
       "      <th>LOGRADOURO</th>\n",
       "      <th>NUMERO</th>\n",
       "      <th>...</th>\n",
       "      <th>PROFISSAO</th>\n",
       "      <th>GRAUINSTRUCAO</th>\n",
       "      <th>CORCUTIS</th>\n",
       "      <th>NATUREZAVINCULADA</th>\n",
       "      <th>TIPOVINCULO</th>\n",
       "      <th>RELACIONAMENTO</th>\n",
       "      <th>DIA_OCORRENCIA</th>\n",
       "      <th>MES_OCORRENCIA</th>\n",
       "      <th>DIA_COMUNICACAO</th>\n",
       "      <th>MES_COMUNICACAO</th>\n",
       "    </tr>\n",
       "    <tr>\n",
       "      <th>NUM_BO</th>\n",
       "      <th></th>\n",
       "      <th></th>\n",
       "      <th></th>\n",
       "      <th></th>\n",
       "      <th></th>\n",
       "      <th></th>\n",
       "      <th></th>\n",
       "      <th></th>\n",
       "      <th></th>\n",
       "      <th></th>\n",
       "      <th></th>\n",
       "      <th></th>\n",
       "      <th></th>\n",
       "      <th></th>\n",
       "      <th></th>\n",
       "      <th></th>\n",
       "      <th></th>\n",
       "      <th></th>\n",
       "      <th></th>\n",
       "      <th></th>\n",
       "      <th></th>\n",
       "    </tr>\n",
       "  </thead>\n",
       "  <tbody>\n",
       "    <tr>\n",
       "      <th>12</th>\n",
       "      <td>2018</td>\n",
       "      <td>17:26:13</td>\n",
       "      <td>19:50:39</td>\n",
       "      <td>2018-03-13</td>\n",
       "      <td>A tarde</td>\n",
       "      <td>2018-03-13 17:26:13</td>\n",
       "      <td>Conhecida</td>\n",
       "      <td>Não</td>\n",
       "      <td>Avenida av. dep. luis eduardo magalhães</td>\n",
       "      <td>2605.0</td>\n",
       "      <td>...</td>\n",
       "      <td>Nao informada</td>\n",
       "      <td>NaN</td>\n",
       "      <td>Branca</td>\n",
       "      <td>Homicídio qualificado (art. 121, §2o.)</td>\n",
       "      <td>Vítima</td>\n",
       "      <td>NaN</td>\n",
       "      <td>13</td>\n",
       "      <td>Mar</td>\n",
       "      <td>13</td>\n",
       "      <td>Mar</td>\n",
       "    </tr>\n",
       "    <tr>\n",
       "      <th>13</th>\n",
       "      <td>2019</td>\n",
       "      <td>15:48:33</td>\n",
       "      <td>18:46:30</td>\n",
       "      <td>2019-06-06</td>\n",
       "      <td>A noite</td>\n",
       "      <td>2019-08-06 15:48:33</td>\n",
       "      <td>Conhecida</td>\n",
       "      <td>Não</td>\n",
       "      <td>NaN</td>\n",
       "      <td>0.0</td>\n",
       "      <td>...</td>\n",
       "      <td>Pensionista</td>\n",
       "      <td>1 grau incompleto</td>\n",
       "      <td>Parda</td>\n",
       "      <td>Destruição, subtração ou ocultação de cadáver ...</td>\n",
       "      <td>Vítima</td>\n",
       "      <td>Casamento</td>\n",
       "      <td>06</td>\n",
       "      <td>Jun</td>\n",
       "      <td>06</td>\n",
       "      <td>Aug</td>\n",
       "    </tr>\n",
       "    <tr>\n",
       "      <th>15</th>\n",
       "      <td>2019</td>\n",
       "      <td>13:28:56</td>\n",
       "      <td>17:21:12</td>\n",
       "      <td>2019-01-19</td>\n",
       "      <td>Pela manhã</td>\n",
       "      <td>2019-01-19 13:28:56</td>\n",
       "      <td>Conhecida</td>\n",
       "      <td>Sim</td>\n",
       "      <td>NaN</td>\n",
       "      <td>0.0</td>\n",
       "      <td>...</td>\n",
       "      <td>Autonomo(a)</td>\n",
       "      <td>1 grau incompleto</td>\n",
       "      <td>Parda</td>\n",
       "      <td>Homicídio qualificado (art. 121, §2o.)</td>\n",
       "      <td>Vítima</td>\n",
       "      <td>NaN</td>\n",
       "      <td>19</td>\n",
       "      <td>Jan</td>\n",
       "      <td>19</td>\n",
       "      <td>Jan</td>\n",
       "    </tr>\n",
       "    <tr>\n",
       "      <th>24</th>\n",
       "      <td>2019</td>\n",
       "      <td>07:51:28</td>\n",
       "      <td>11:16:54</td>\n",
       "      <td>2019-09-02</td>\n",
       "      <td>Pela manhã</td>\n",
       "      <td>2019-09-02 07:51:28</td>\n",
       "      <td>Conhecida</td>\n",
       "      <td>Sim</td>\n",
       "      <td>NaN</td>\n",
       "      <td>0.0</td>\n",
       "      <td>...</td>\n",
       "      <td>Prendas domesticas</td>\n",
       "      <td>NaN</td>\n",
       "      <td>Branca</td>\n",
       "      <td>Homicídio qualificado (art. 121, §2o.)</td>\n",
       "      <td>Vítima</td>\n",
       "      <td>Casamento</td>\n",
       "      <td>02</td>\n",
       "      <td>Sep</td>\n",
       "      <td>02</td>\n",
       "      <td>Sep</td>\n",
       "    </tr>\n",
       "    <tr>\n",
       "      <th>25</th>\n",
       "      <td>2019</td>\n",
       "      <td>12:17:20</td>\n",
       "      <td>19:05:46</td>\n",
       "      <td>2019-03-01</td>\n",
       "      <td>De madrugada</td>\n",
       "      <td>2019-03-01 12:17:20</td>\n",
       "      <td>Conhecida</td>\n",
       "      <td>Sim</td>\n",
       "      <td>Rua ângelo scarpato</td>\n",
       "      <td>1.0</td>\n",
       "      <td>...</td>\n",
       "      <td>NaN</td>\n",
       "      <td>NaN</td>\n",
       "      <td>Branca</td>\n",
       "      <td>Homicídio qualificado (art. 121, §2o.)</td>\n",
       "      <td>Vítima</td>\n",
       "      <td>NaN</td>\n",
       "      <td>01</td>\n",
       "      <td>Mar</td>\n",
       "      <td>01</td>\n",
       "      <td>Mar</td>\n",
       "    </tr>\n",
       "  </tbody>\n",
       "</table>\n",
       "<p>5 rows × 40 columns</p>\n",
       "</div>"
      ],
      "text/plain": [
       "        ANO_BO BO_INICIADO BO_EMITIDO DATAOCORRENCIA PERIDOOCORRENCIA  \\\n",
       "NUM_BO                                                                  \n",
       "12        2018    17:26:13   19:50:39     2018-03-13          A tarde   \n",
       "13        2019    15:48:33   18:46:30     2019-06-06          A noite   \n",
       "15        2019    13:28:56   17:21:12     2019-01-19       Pela manhã   \n",
       "24        2019    07:51:28   11:16:54     2019-09-02       Pela manhã   \n",
       "25        2019    12:17:20   19:05:46     2019-03-01     De madrugada   \n",
       "\n",
       "            DATAELABORACAO BO_AUTORIA FLAGRANTE  \\\n",
       "NUM_BO                                            \n",
       "12     2018-03-13 17:26:13  Conhecida       Não   \n",
       "13     2019-08-06 15:48:33  Conhecida       Não   \n",
       "15     2019-01-19 13:28:56  Conhecida       Sim   \n",
       "24     2019-09-02 07:51:28  Conhecida       Sim   \n",
       "25     2019-03-01 12:17:20  Conhecida       Sim   \n",
       "\n",
       "                                     LOGRADOURO  NUMERO  ...  \\\n",
       "NUM_BO                                                   ...   \n",
       "12      Avenida av. dep. luis eduardo magalhães  2605.0  ...   \n",
       "13                                          NaN     0.0  ...   \n",
       "15                                          NaN     0.0  ...   \n",
       "24                                          NaN     0.0  ...   \n",
       "25                          Rua ângelo scarpato     1.0  ...   \n",
       "\n",
       "                 PROFISSAO      GRAUINSTRUCAO CORCUTIS  \\\n",
       "NUM_BO                                                   \n",
       "12           Nao informada                NaN   Branca   \n",
       "13             Pensionista  1 grau incompleto    Parda   \n",
       "15             Autonomo(a)  1 grau incompleto    Parda   \n",
       "24      Prendas domesticas                NaN   Branca   \n",
       "25                     NaN                NaN   Branca   \n",
       "\n",
       "                                        NATUREZAVINCULADA TIPOVINCULO  \\\n",
       "NUM_BO                                                                  \n",
       "12                 Homicídio qualificado (art. 121, §2o.)      Vítima   \n",
       "13      Destruição, subtração ou ocultação de cadáver ...      Vítima   \n",
       "15                 Homicídio qualificado (art. 121, §2o.)      Vítima   \n",
       "24                 Homicídio qualificado (art. 121, §2o.)      Vítima   \n",
       "25                 Homicídio qualificado (art. 121, §2o.)      Vítima   \n",
       "\n",
       "       RELACIONAMENTO DIA_OCORRENCIA MES_OCORRENCIA DIA_COMUNICACAO  \\\n",
       "NUM_BO                                                                \n",
       "12                NaN             13            Mar              13   \n",
       "13          Casamento             06            Jun              06   \n",
       "15                NaN             19            Jan              19   \n",
       "24          Casamento             02            Sep              02   \n",
       "25                NaN             01            Mar              01   \n",
       "\n",
       "       MES_COMUNICACAO  \n",
       "NUM_BO                  \n",
       "12                 Mar  \n",
       "13                 Aug  \n",
       "15                 Jan  \n",
       "24                 Sep  \n",
       "25                 Mar  \n",
       "\n",
       "[5 rows x 40 columns]"
      ]
     },
     "execution_count": 12,
     "metadata": {},
     "output_type": "execute_result"
    }
   ],
   "source": [
    "print('O dataset de dados possui ' + str((df_novo.shape[0])) + ' instâncias e ' \n",
    "      + str((df_novo.shape[1])) + ' atributos')\n",
    "\n",
    "df_novo.head()"
   ]
  },
  {
   "cell_type": "markdown",
   "metadata": {},
   "source": [
    "### Salvando o Novo Dataframe em Arquivo - Versão 1"
   ]
  },
  {
   "cell_type": "code",
   "execution_count": 13,
   "metadata": {},
   "outputs": [],
   "source": [
    "df_novo.to_csv('DadosBO_2018_2019_SP_Feminicidio_Versao1.csv', index = False)"
   ]
  },
  {
   "cell_type": "markdown",
   "metadata": {},
   "source": [
    "## Análise Exploratória\n",
    "\n",
    "Análise comparativa do período de Janeiro a Dezembro de 2018 e Janeiro a Junho de 2019."
   ]
  },
  {
   "cell_type": "markdown",
   "metadata": {},
   "source": [
    "### Evolução dos Índices de Femínicio em Relação ao Tempo\n",
    "\n",
    "#### Ano \n",
    "\n",
    "Lembrando que só temos os valores das taxas de feminicídio de 2019 até o mês de Junho, podemos constatar que o gráfico abaixo mostra que as taxas de feminicídio de 2019 já passaram da metade das que ocorreram em 2018."
   ]
  },
  {
   "cell_type": "code",
   "execution_count": 16,
   "metadata": {},
   "outputs": [
    {
     "data": {
      "image/png": "[encoded data removed]",
      "text/plain": [
       "<Figure size 720x360 with 1 Axes>"
      ]
     },
     "metadata": {
      "needs_background": "light"
     },
     "output_type": "display_data"
    }
   ],
   "source": [
    "df_novo['ANO_BO'].value_counts().plot(kind='bar', figsize=(10,5), color='#e74c3c')\n",
    "\n",
    "plt.show()"
   ]
  },
  {
   "cell_type": "markdown",
   "metadata": {},
   "source": [
    "#### Períodos"
   ]
  },
  {
   "cell_type": "code",
   "execution_count": 561,
   "metadata": {},
   "outputs": [
    {
     "data": {
      "application/vnd.plotly.v1+json": {
       "config": {
        "linkText": "Export to plot.ly",
        "plotlyServerURL": "https://plot.ly",
        "showLink": false
       },
       "data": [
        {
         "marker": {
          "color": "#d35400"
         },
         "name": "2018",
         "type": "bar",
         "x": [
          "A tarde",
          "A noite",
          "Pela manhã",
          "Pela manhã",
          "De madrugada",
          "A noite",
          "Pela manhã",
          "De madrugada",
          "Pela manhã",
          "Pela manhã",
          "A tarde",
          "A tarde",
          "A noite",
          "Pela manhã",
          "Pela manhã",
          "De madrugada",
          "Pela manhã",
          "Pela manhã",
          "Pela manhã",
          "A tarde",
          "A tarde",
          "De madrugada",
          "De madrugada",
          "A tarde",
          "De madrugada",
          "Pela manhã",
          "A noite",
          "De madrugada",
          "A tarde",
          "A noite",
          "A noite",
          "Pela manhã",
          "A noite",
          "De madrugada",
          "A tarde",
          "Pela manhã",
          "A tarde",
          "De madrugada",
          "A noite",
          "Pela manhã",
          "De madrugada",
          "A tarde",
          "De madrugada",
          "Pela manhã",
          "Em hora incerta",
          "De madrugada",
          "A tarde",
          "Em hora incerta",
          "De madrugada",
          "A noite",
          "A tarde",
          "Pela manhã",
          "A tarde",
          "A noite",
          "A noite",
          "De madrugada",
          "A tarde",
          "De madrugada",
          "De madrugada",
          "De madrugada",
          "A tarde",
          "A tarde",
          "A noite",
          "A tarde",
          "A tarde",
          "De madrugada",
          "Pela manhã",
          "De madrugada",
          "A noite",
          "A tarde",
          "De madrugada",
          "A tarde",
          "De madrugada",
          "A tarde",
          "Pela manhã",
          "A noite",
          "A noite",
          "A tarde",
          "A tarde",
          "De madrugada",
          "De madrugada",
          "A tarde",
          "A tarde",
          "Pela manhã",
          "Pela manhã",
          "De madrugada",
          "Pela manhã",
          "A noite",
          "De madrugada",
          "A tarde",
          "Em hora incerta",
          "A noite",
          "De madrugada",
          "De madrugada",
          "Pela manhã",
          "A tarde",
          "A noite",
          "A tarde",
          "A noite",
          "A tarde",
          "Pela manhã",
          "A noite",
          "De madrugada",
          "De madrugada",
          "A noite",
          "A tarde",
          "A noite",
          "A noite",
          "De madrugada",
          "De madrugada",
          "Pela manhã",
          "A noite",
          "Pela manhã",
          "Pela manhã",
          "A noite",
          "De madrugada",
          "A noite",
          "A noite",
          "A tarde",
          "A noite",
          "A noite",
          "Pela manhã",
          "Pela manhã",
          "De madrugada",
          "A noite",
          "A tarde",
          "A tarde",
          "Em hora incerta",
          "A noite",
          "A noite",
          "A tarde",
          "A tarde",
          "A tarde",
          "A tarde",
          "De madrugada",
          "A noite",
          "A tarde",
          "Pela manhã",
          "De madrugada",
          "A noite",
          "De madrugada",
          "A tarde",
          "A noite",
          "De madrugada",
          "A noite",
          "De madrugada",
          "De madrugada",
          "De madrugada",
          "A noite",
          "A noite",
          "A tarde",
          "A noite",
          "A noite",
          "A tarde",
          "Pela manhã",
          "A noite",
          "A tarde",
          "Pela manhã",
          "A noite",
          "A tarde",
          "A noite",
          "A tarde",
          "De madrugada",
          "Pela manhã",
          "A noite",
          "A noite",
          "De madrugada",
          "A noite",
          "A noite",
          "Pela manhã",
          "A noite",
          "De madrugada",
          "A tarde",
          "A tarde",
          "Pela manhã",
          "A noite",
          "A noite",
          "A tarde",
          "A tarde",
          "A noite",
          "A tarde",
          "A noite",
          "A tarde",
          "De madrugada",
          "Pela manhã",
          "Pela manhã",
          "A tarde",
          "A noite",
          "De madrugada",
          "A noite",
          "Pela manhã",
          "A tarde",
          "A noite",
          "A tarde",
          "A noite",
          "Pela manhã",
          "Pela manhã",
          "Pela manhã",
          "A tarde",
          "A noite",
          "A noite",
          "A noite",
          "A noite",
          "Pela manhã",
          "A noite",
          "Pela manhã",
          "A tarde",
          "A noite",
          "A noite",
          "A noite",
          "A tarde"
         ],
         "y": [
          42,
          38,
          29,
          17,
          4
         ]
        },
        {
         "marker": {
          "color": "#f39c12"
         },
         "name": "2019",
         "type": "bar",
         "x": [
          "A tarde",
          "A noite",
          "Pela manhã",
          "Pela manhã",
          "De madrugada",
          "A noite",
          "Pela manhã",
          "De madrugada",
          "Pela manhã",
          "Pela manhã",
          "A tarde",
          "A tarde",
          "A noite",
          "Pela manhã",
          "Pela manhã",
          "De madrugada",
          "Pela manhã",
          "Pela manhã",
          "Pela manhã",
          "A tarde",
          "A tarde",
          "De madrugada",
          "De madrugada",
          "A tarde",
          "De madrugada",
          "Pela manhã",
          "A noite",
          "De madrugada",
          "A tarde",
          "A noite",
          "A noite",
          "Pela manhã",
          "A noite",
          "De madrugada",
          "A tarde",
          "Pela manhã",
          "A tarde",
          "De madrugada",
          "A noite",
          "Pela manhã",
          "De madrugada",
          "A tarde",
          "De madrugada",
          "Pela manhã",
          "Em hora incerta",
          "De madrugada",
          "A tarde",
          "Em hora incerta",
          "De madrugada",
          "A noite",
          "A tarde",
          "Pela manhã",
          "A tarde",
          "A noite",
          "A noite",
          "De madrugada",
          "A tarde",
          "De madrugada",
          "De madrugada",
          "De madrugada",
          "A tarde",
          "A tarde",
          "A noite",
          "A tarde",
          "A tarde",
          "De madrugada",
          "Pela manhã",
          "De madrugada",
          "A noite",
          "A tarde",
          "De madrugada",
          "A tarde",
          "De madrugada",
          "A tarde",
          "Pela manhã",
          "A noite",
          "A noite",
          "A tarde",
          "A tarde",
          "De madrugada",
          "De madrugada",
          "A tarde",
          "A tarde",
          "Pela manhã",
          "Pela manhã",
          "De madrugada",
          "Pela manhã",
          "A noite",
          "De madrugada",
          "A tarde",
          "Em hora incerta",
          "A noite",
          "De madrugada",
          "De madrugada",
          "Pela manhã",
          "A tarde",
          "A noite",
          "A tarde",
          "A noite",
          "A tarde",
          "Pela manhã",
          "A noite",
          "De madrugada",
          "De madrugada",
          "A noite",
          "A tarde",
          "A noite",
          "A noite",
          "De madrugada",
          "De madrugada",
          "Pela manhã",
          "A noite",
          "Pela manhã",
          "Pela manhã",
          "A noite",
          "De madrugada",
          "A noite",
          "A noite",
          "A tarde",
          "A noite",
          "A noite",
          "Pela manhã",
          "Pela manhã",
          "De madrugada",
          "A noite",
          "A tarde",
          "A tarde",
          "Em hora incerta",
          "A noite",
          "A noite",
          "A tarde",
          "A tarde",
          "A tarde",
          "A tarde",
          "De madrugada",
          "A noite",
          "A tarde",
          "Pela manhã",
          "De madrugada",
          "A noite",
          "De madrugada",
          "A tarde",
          "A noite",
          "De madrugada",
          "A noite",
          "De madrugada",
          "De madrugada",
          "De madrugada",
          "A noite",
          "A noite",
          "A tarde",
          "A noite",
          "A noite",
          "A tarde",
          "Pela manhã",
          "A noite",
          "A tarde",
          "Pela manhã",
          "A noite",
          "A tarde",
          "A noite",
          "A tarde",
          "De madrugada",
          "Pela manhã",
          "A noite",
          "A noite",
          "De madrugada",
          "A noite",
          "A noite",
          "Pela manhã",
          "A noite",
          "De madrugada",
          "A tarde",
          "A tarde",
          "Pela manhã",
          "A noite",
          "A noite",
          "A tarde",
          "A tarde",
          "A noite",
          "A tarde",
          "A noite",
          "A tarde",
          "De madrugada",
          "Pela manhã",
          "Pela manhã",
          "A tarde",
          "A noite",
          "De madrugada",
          "A noite",
          "Pela manhã",
          "A tarde",
          "A noite",
          "A tarde",
          "A noite",
          "Pela manhã",
          "Pela manhã",
          "Pela manhã",
          "A tarde",
          "A noite",
          "A noite",
          "A noite",
          "A noite",
          "Pela manhã",
          "A noite",
          "Pela manhã",
          "A tarde",
          "A noite",
          "A noite",
          "A noite",
          "A tarde"
         ],
         "y": [
          28,
          22,
          18,
          13
         ]
        }
       ],
       "layout": {
        "template": {
         "data": {
          "bar": [
           {
            "error_x": {
             "color": "#2a3f5f"
            },
            "error_y": {
             "color": "#2a3f5f"
            },
            "marker": {
             "line": {
              "color": "#E5ECF6",
              "width": 0.5
             }
            },
            "type": "bar"
           }
          ],
          "barpolar": [
           {
            "marker": {
             "line": {
              "color": "#E5ECF6",
              "width": 0.5
             }
            },
            "type": "barpolar"
           }
          ],
          "carpet": [
           {
            "aaxis": {
             "endlinecolor": "#2a3f5f",
             "gridcolor": "white",
             "linecolor": "white",
             "minorgridcolor": "white",
             "startlinecolor": "#2a3f5f"
            },
            "baxis": {
             "endlinecolor": "#2a3f5f",
             "gridcolor": "white",
             "linecolor": "white",
             "minorgridcolor": "white",
             "startlinecolor": "#2a3f5f"
            },
            "type": "carpet"
           }
          ],
          "choropleth": [
           {
            "colorbar": {
             "outlinewidth": 0,
             "ticks": ""
            },
            "type": "choropleth"
           }
          ],
          "contour": [
           {
            "colorbar": {
             "outlinewidth": 0,
             "ticks": ""
            },
            "colorscale": [
             [
              0,
              "#0d0887"
             ],
             [
              0.1111111111111111,
              "#46039f"
             ],
             [
              0.2222222222222222,
              "#7201a8"
             ],
             [
              0.3333333333333333,
              "#9c179e"
             ],
             [
              0.4444444444444444,
              "#bd3786"
             ],
             [
              0.5555555555555556,
              "#d8576b"
             ],
             [
              0.6666666666666666,
              "#ed7953"
             ],
             [
              0.7777777777777778,
              "#fb9f3a"
             ],
             [
              0.8888888888888888,
              "#fdca26"
             ],
             [
              1,
              "#f0f921"
             ]
            ],
            "type": "contour"
           }
          ],
          "contourcarpet": [
           {
            "colorbar": {
             "outlinewidth": 0,
             "ticks": ""
            },
            "type": "contourcarpet"
           }
          ],
          "heatmap": [
           {
            "colorbar": {
             "outlinewidth": 0,
             "ticks": ""
            },
            "colorscale": [
             [
              0,
              "#0d0887"
             ],
             [
              0.1111111111111111,
              "#46039f"
             ],
             [
              0.2222222222222222,
              "#7201a8"
             ],
             [
              0.3333333333333333,
              "#9c179e"
             ],
             [
              0.4444444444444444,
              "#bd3786"
             ],
             [
              0.5555555555555556,
              "#d8576b"
             ],
             [
              0.6666666666666666,
              "#ed7953"
             ],
             [
              0.7777777777777778,
              "#fb9f3a"
             ],
             [
              0.8888888888888888,
              "#fdca26"
             ],
             [
              1,
              "#f0f921"
             ]
            ],
            "type": "heatmap"
           }
          ],
          "heatmapgl": [
           {
            "colorbar": {
             "outlinewidth": 0,
             "ticks": ""
            },
            "colorscale": [
             [
              0,
              "#0d0887"
             ],
             [
              0.1111111111111111,
              "#46039f"
             ],
             [
              0.2222222222222222,
              "#7201a8"
             ],
             [
              0.3333333333333333,
              "#9c179e"
             ],
             [
              0.4444444444444444,
              "#bd3786"
             ],
             [
              0.5555555555555556,
              "#d8576b"
             ],
             [
              0.6666666666666666,
              "#ed7953"
             ],
             [
              0.7777777777777778,
              "#fb9f3a"
             ],
             [
              0.8888888888888888,
              "#fdca26"
             ],
             [
              1,
              "#f0f921"
             ]
            ],
            "type": "heatmapgl"
           }
          ],
          "histogram": [
           {
            "marker": {
             "colorbar": {
              "outlinewidth": 0,
              "ticks": ""
             }
            },
            "type": "histogram"
           }
          ],
          "histogram2d": [
           {
            "colorbar": {
             "outlinewidth": 0,
             "ticks": ""
            },
            "colorscale": [
             [
              0,
              "#0d0887"
             ],
             [
              0.1111111111111111,
              "#46039f"
             ],
             [
              0.2222222222222222,
              "#7201a8"
             ],
             [
              0.3333333333333333,
              "#9c179e"
             ],
             [
              0.4444444444444444,
              "#bd3786"
             ],
             [
              0.5555555555555556,
              "#d8576b"
             ],
             [
              0.6666666666666666,
              "#ed7953"
             ],
             [
              0.7777777777777778,
              "#fb9f3a"
             ],
             [
              0.8888888888888888,
              "#fdca26"
             ],
             [
              1,
              "#f0f921"
             ]
            ],
            "type": "histogram2d"
           }
          ],
          "histogram2dcontour": [
           {
            "colorbar": {
             "outlinewidth": 0,
             "ticks": ""
            },
            "colorscale": [
             [
              0,
              "#0d0887"
             ],
             [
              0.1111111111111111,
              "#46039f"
             ],
             [
              0.2222222222222222,
              "#7201a8"
             ],
             [
              0.3333333333333333,
              "#9c179e"
             ],
             [
              0.4444444444444444,
              "#bd3786"
             ],
             [
              0.5555555555555556,
              "#d8576b"
             ],
             [
              0.6666666666666666,
              "#ed7953"
             ],
             [
              0.7777777777777778,
              "#fb9f3a"
             ],
             [
              0.8888888888888888,
              "#fdca26"
             ],
             [
              1,
              "#f0f921"
             ]
            ],
            "type": "histogram2dcontour"
           }
          ],
          "mesh3d": [
           {
            "colorbar": {
             "outlinewidth": 0,
             "ticks": ""
            },
            "type": "mesh3d"
           }
          ],
          "parcoords": [
           {
            "line": {
             "colorbar": {
              "outlinewidth": 0,
              "ticks": ""
             }
            },
            "type": "parcoords"
           }
          ],
          "scatter": [
           {
            "marker": {
             "colorbar": {
              "outlinewidth": 0,
              "ticks": ""
             }
            },
            "type": "scatter"
           }
          ],
          "scatter3d": [
           {
            "line": {
             "colorbar": {
              "outlinewidth": 0,
              "ticks": ""
             }
            },
            "marker": {
             "colorbar": {
              "outlinewidth": 0,
              "ticks": ""
             }
            },
            "type": "scatter3d"
           }
          ],
          "scattercarpet": [
           {
            "marker": {
             "colorbar": {
              "outlinewidth": 0,
              "ticks": ""
             }
            },
            "type": "scattercarpet"
           }
          ],
          "scattergeo": [
           {
            "marker": {
             "colorbar": {
              "outlinewidth": 0,
              "ticks": ""
             }
            },
            "type": "scattergeo"
           }
          ],
          "scattergl": [
           {
            "marker": {
             "colorbar": {
              "outlinewidth": 0,
              "ticks": ""
             }
            },
            "type": "scattergl"
           }
          ],
          "scattermapbox": [
           {
            "marker": {
             "colorbar": {
              "outlinewidth": 0,
              "ticks": ""
             }
            },
            "type": "scattermapbox"
           }
          ],
          "scatterpolar": [
           {
            "marker": {
             "colorbar": {
              "outlinewidth": 0,
              "ticks": ""
             }
            },
            "type": "scatterpolar"
           }
          ],
          "scatterpolargl": [
           {
            "marker": {
             "colorbar": {
              "outlinewidth": 0,
              "ticks": ""
             }
            },
            "type": "scatterpolargl"
           }
          ],
          "scatterternary": [
           {
            "marker": {
             "colorbar": {
              "outlinewidth": 0,
              "ticks": ""
             }
            },
            "type": "scatterternary"
           }
          ],
          "surface": [
           {
            "colorbar": {
             "outlinewidth": 0,
             "ticks": ""
            },
            "colorscale": [
             [
              0,
              "#0d0887"
             ],
             [
              0.1111111111111111,
              "#46039f"
             ],
             [
              0.2222222222222222,
              "#7201a8"
             ],
             [
              0.3333333333333333,
              "#9c179e"
             ],
             [
              0.4444444444444444,
              "#bd3786"
             ],
             [
              0.5555555555555556,
              "#d8576b"
             ],
             [
              0.6666666666666666,
              "#ed7953"
             ],
             [
              0.7777777777777778,
              "#fb9f3a"
             ],
             [
              0.8888888888888888,
              "#fdca26"
             ],
             [
              1,
              "#f0f921"
             ]
            ],
            "type": "surface"
           }
          ],
          "table": [
           {
            "cells": {
             "fill": {
              "color": "#EBF0F8"
             },
             "line": {
              "color": "white"
             }
            },
            "header": {
             "fill": {
              "color": "#C8D4E3"
             },
             "line": {
              "color": "white"
             }
            },
            "type": "table"
           }
          ]
         },
         "layout": {
          "annotationdefaults": {
           "arrowcolor": "#2a3f5f",
           "arrowhead": 0,
           "arrowwidth": 1
          },
          "colorscale": {
           "diverging": [
            [
             0,
             "#8e0152"
            ],
            [
             0.1,
             "#c51b7d"
            ],
            [
             0.2,
             "#de77ae"
            ],
            [
             0.3,
             "#f1b6da"
            ],
            [
             0.4,
             "#fde0ef"
            ],
            [
             0.5,
             "#f7f7f7"
            ],
            [
             0.6,
             "#e6f5d0"
            ],
            [
             0.7,
             "#b8e186"
            ],
            [
             0.8,
             "#7fbc41"
            ],
            [
             0.9,
             "#4d9221"
            ],
            [
             1,
             "#276419"
            ]
           ],
           "sequential": [
            [
             0,
             "#0d0887"
            ],
            [
             0.1111111111111111,
             "#46039f"
            ],
            [
             0.2222222222222222,
             "#7201a8"
            ],
            [
             0.3333333333333333,
             "#9c179e"
            ],
            [
             0.4444444444444444,
             "#bd3786"
            ],
            [
             0.5555555555555556,
             "#d8576b"
            ],
            [
             0.6666666666666666,
             "#ed7953"
            ],
            [
             0.7777777777777778,
             "#fb9f3a"
            ],
            [
             0.8888888888888888,
             "#fdca26"
            ],
            [
             1,
             "#f0f921"
            ]
           ],
           "sequentialminus": [
            [
             0,
             "#0d0887"
            ],
            [
             0.1111111111111111,
             "#46039f"
            ],
            [
             0.2222222222222222,
             "#7201a8"
            ],
            [
             0.3333333333333333,
             "#9c179e"
            ],
            [
             0.4444444444444444,
             "#bd3786"
            ],
            [
             0.5555555555555556,
             "#d8576b"
            ],
            [
             0.6666666666666666,
             "#ed7953"
            ],
            [
             0.7777777777777778,
             "#fb9f3a"
            ],
            [
             0.8888888888888888,
             "#fdca26"
            ],
            [
             1,
             "#f0f921"
            ]
           ]
          },
          "colorway": [
           "#636efa",
           "#EF553B",
           "#00cc96",
           "#ab63fa",
           "#FFA15A",
           "#19d3f3",
           "#FF6692",
           "#B6E880",
           "#FF97FF",
           "#FECB52"
          ],
          "font": {
           "color": "#2a3f5f"
          },
          "geo": {
           "bgcolor": "white",
           "lakecolor": "white",
           "landcolor": "#E5ECF6",
           "showlakes": true,
           "showland": true,
           "subunitcolor": "white"
          },
          "hoverlabel": {
           "align": "left"
          },
          "hovermode": "closest",
          "mapbox": {
           "style": "light"
          },
          "paper_bgcolor": "white",
          "plot_bgcolor": "#E5ECF6",
          "polar": {
           "angularaxis": {
            "gridcolor": "white",
            "linecolor": "white",
            "ticks": ""
           },
           "bgcolor": "#E5ECF6",
           "radialaxis": {
            "gridcolor": "white",
            "linecolor": "white",
            "ticks": ""
           }
          },
          "scene": {
           "xaxis": {
            "backgroundcolor": "#E5ECF6",
            "gridcolor": "white",
            "gridwidth": 2,
            "linecolor": "white",
            "showbackground": true,
            "ticks": "",
            "zerolinecolor": "white"
           },
           "yaxis": {
            "backgroundcolor": "#E5ECF6",
            "gridcolor": "white",
            "gridwidth": 2,
            "linecolor": "white",
            "showbackground": true,
            "ticks": "",
            "zerolinecolor": "white"
           },
           "zaxis": {
            "backgroundcolor": "#E5ECF6",
            "gridcolor": "white",
            "gridwidth": 2,
            "linecolor": "white",
            "showbackground": true,
            "ticks": "",
            "zerolinecolor": "white"
           }
          },
          "shapedefaults": {
           "line": {
            "color": "#2a3f5f"
           }
          },
          "ternary": {
           "aaxis": {
            "gridcolor": "white",
            "linecolor": "white",
            "ticks": ""
           },
           "baxis": {
            "gridcolor": "white",
            "linecolor": "white",
            "ticks": ""
           },
           "bgcolor": "#E5ECF6",
           "caxis": {
            "gridcolor": "white",
            "linecolor": "white",
            "ticks": ""
           }
          },
          "title": {
           "x": 0.05
          },
          "xaxis": {
           "automargin": true,
           "gridcolor": "white",
           "linecolor": "white",
           "ticks": "",
           "zerolinecolor": "white",
           "zerolinewidth": 2
          },
          "yaxis": {
           "automargin": true,
           "gridcolor": "white",
           "linecolor": "white",
           "ticks": "",
           "zerolinecolor": "white",
           "zerolinewidth": 2
          }
         }
        }
       }
      },
      "text/html": [
       "<div>\n",
       "        \n",
       "        \n",
       "            <div id=\"9c7422b8-a38b-4cd5-9cb2-aaa87e90f5a9\" class=\"plotly-graph-div\" style=\"height:525px; width:100%;\"></div>\n",
       "            <script type=\"text/javascript\">\n",
       "                require([\"plotly\"], function(Plotly) {\n",
       "                    window.PLOTLYENV=window.PLOTLYENV || {};\n",
       "                    \n",
       "                if (document.getElementById(\"9c7422b8-a38b-4cd5-9cb2-aaa87e90f5a9\")) {\n",
       "                    Plotly.newPlot(\n",
       "                        '9c7422b8-a38b-4cd5-9cb2-aaa87e90f5a9',\n",
       "                        [{\"marker\": {\"color\": \"#d35400\"}, \"name\": \"2018\", \"type\": \"bar\", \"x\": [\"A tarde\", \"A noite\", \"Pela manh\\u00e3\", \"Pela manh\\u00e3\", \"De madrugada\", \"A noite\", \"Pela manh\\u00e3\", \"De madrugada\", \"Pela manh\\u00e3\", \"Pela manh\\u00e3\", \"A tarde\", \"A tarde\", \"A noite\", \"Pela manh\\u00e3\", \"Pela manh\\u00e3\", \"De madrugada\", \"Pela manh\\u00e3\", \"Pela manh\\u00e3\", \"Pela manh\\u00e3\", \"A tarde\", \"A tarde\", \"De madrugada\", \"De madrugada\", \"A tarde\", \"De madrugada\", \"Pela manh\\u00e3\", \"A noite\", \"De madrugada\", \"A tarde\", \"A noite\", \"A noite\", \"Pela manh\\u00e3\", \"A noite\", \"De madrugada\", \"A tarde\", \"Pela manh\\u00e3\", \"A tarde\", \"De madrugada\", \"A noite\", \"Pela manh\\u00e3\", \"De madrugada\", \"A tarde\", \"De madrugada\", \"Pela manh\\u00e3\", \"Em hora incerta\", \"De madrugada\", \"A tarde\", \"Em hora incerta\", \"De madrugada\", \"A noite\", \"A tarde\", \"Pela manh\\u00e3\", \"A tarde\", \"A noite\", \"A noite\", \"De madrugada\", \"A tarde\", \"De madrugada\", \"De madrugada\", \"De madrugada\", \"A tarde\", \"A tarde\", \"A noite\", \"A tarde\", \"A tarde\", \"De madrugada\", \"Pela manh\\u00e3\", \"De madrugada\", \"A noite\", \"A tarde\", \"De madrugada\", \"A tarde\", \"De madrugada\", \"A tarde\", \"Pela manh\\u00e3\", \"A noite\", \"A noite\", \"A tarde\", \"A tarde\", \"De madrugada\", \"De madrugada\", \"A tarde\", \"A tarde\", \"Pela manh\\u00e3\", \"Pela manh\\u00e3\", \"De madrugada\", \"Pela manh\\u00e3\", \"A noite\", \"De madrugada\", \"A tarde\", \"Em hora incerta\", \"A noite\", \"De madrugada\", \"De madrugada\", \"Pela manh\\u00e3\", \"A tarde\", \"A noite\", \"A tarde\", \"A noite\", \"A tarde\", \"Pela manh\\u00e3\", \"A noite\", \"De madrugada\", \"De madrugada\", \"A noite\", \"A tarde\", \"A noite\", \"A noite\", \"De madrugada\", \"De madrugada\", \"Pela manh\\u00e3\", \"A noite\", \"Pela manh\\u00e3\", \"Pela manh\\u00e3\", \"A noite\", \"De madrugada\", \"A noite\", \"A noite\", \"A tarde\", \"A noite\", \"A noite\", \"Pela manh\\u00e3\", \"Pela manh\\u00e3\", \"De madrugada\", \"A noite\", \"A tarde\", \"A tarde\", \"Em hora incerta\", \"A noite\", \"A noite\", \"A tarde\", \"A tarde\", \"A tarde\", \"A tarde\", \"De madrugada\", \"A noite\", \"A tarde\", \"Pela manh\\u00e3\", \"De madrugada\", \"A noite\", \"De madrugada\", \"A tarde\", \"A noite\", \"De madrugada\", \"A noite\", \"De madrugada\", \"De madrugada\", \"De madrugada\", \"A noite\", \"A noite\", \"A tarde\", \"A noite\", \"A noite\", \"A tarde\", \"Pela manh\\u00e3\", \"A noite\", \"A tarde\", \"Pela manh\\u00e3\", \"A noite\", \"A tarde\", \"A noite\", \"A tarde\", \"De madrugada\", \"Pela manh\\u00e3\", \"A noite\", \"A noite\", \"De madrugada\", \"A noite\", \"A noite\", \"Pela manh\\u00e3\", \"A noite\", \"De madrugada\", \"A tarde\", \"A tarde\", \"Pela manh\\u00e3\", \"A noite\", \"A noite\", \"A tarde\", \"A tarde\", \"A noite\", \"A tarde\", \"A noite\", \"A tarde\", \"De madrugada\", \"Pela manh\\u00e3\", \"Pela manh\\u00e3\", \"A tarde\", \"A noite\", \"De madrugada\", \"A noite\", \"Pela manh\\u00e3\", \"A tarde\", \"A noite\", \"A tarde\", \"A noite\", \"Pela manh\\u00e3\", \"Pela manh\\u00e3\", \"Pela manh\\u00e3\", \"A tarde\", \"A noite\", \"A noite\", \"A noite\", \"A noite\", \"Pela manh\\u00e3\", \"A noite\", \"Pela manh\\u00e3\", \"A tarde\", \"A noite\", \"A noite\", \"A noite\", \"A tarde\"], \"y\": [42, 38, 29, 17, 4]}, {\"marker\": {\"color\": \"#f39c12\"}, \"name\": \"2019\", \"type\": \"bar\", \"x\": [\"A tarde\", \"A noite\", \"Pela manh\\u00e3\", \"Pela manh\\u00e3\", \"De madrugada\", \"A noite\", \"Pela manh\\u00e3\", \"De madrugada\", \"Pela manh\\u00e3\", \"Pela manh\\u00e3\", \"A tarde\", \"A tarde\", \"A noite\", \"Pela manh\\u00e3\", \"Pela manh\\u00e3\", \"De madrugada\", \"Pela manh\\u00e3\", \"Pela manh\\u00e3\", \"Pela manh\\u00e3\", \"A tarde\", \"A tarde\", \"De madrugada\", \"De madrugada\", \"A tarde\", \"De madrugada\", \"Pela manh\\u00e3\", \"A noite\", \"De madrugada\", \"A tarde\", \"A noite\", \"A noite\", \"Pela manh\\u00e3\", \"A noite\", \"De madrugada\", \"A tarde\", \"Pela manh\\u00e3\", \"A tarde\", \"De madrugada\", \"A noite\", \"Pela manh\\u00e3\", \"De madrugada\", \"A tarde\", \"De madrugada\", \"Pela manh\\u00e3\", \"Em hora incerta\", \"De madrugada\", \"A tarde\", \"Em hora incerta\", \"De madrugada\", \"A noite\", \"A tarde\", \"Pela manh\\u00e3\", \"A tarde\", \"A noite\", \"A noite\", \"De madrugada\", \"A tarde\", \"De madrugada\", \"De madrugada\", \"De madrugada\", \"A tarde\", \"A tarde\", \"A noite\", \"A tarde\", \"A tarde\", \"De madrugada\", \"Pela manh\\u00e3\", \"De madrugada\", \"A noite\", \"A tarde\", \"De madrugada\", \"A tarde\", \"De madrugada\", \"A tarde\", \"Pela manh\\u00e3\", \"A noite\", \"A noite\", \"A tarde\", \"A tarde\", \"De madrugada\", \"De madrugada\", \"A tarde\", \"A tarde\", \"Pela manh\\u00e3\", \"Pela manh\\u00e3\", \"De madrugada\", \"Pela manh\\u00e3\", \"A noite\", \"De madrugada\", \"A tarde\", \"Em hora incerta\", \"A noite\", \"De madrugada\", \"De madrugada\", \"Pela manh\\u00e3\", \"A tarde\", \"A noite\", \"A tarde\", \"A noite\", \"A tarde\", \"Pela manh\\u00e3\", \"A noite\", \"De madrugada\", \"De madrugada\", \"A noite\", \"A tarde\", \"A noite\", \"A noite\", \"De madrugada\", \"De madrugada\", \"Pela manh\\u00e3\", \"A noite\", \"Pela manh\\u00e3\", \"Pela manh\\u00e3\", \"A noite\", \"De madrugada\", \"A noite\", \"A noite\", \"A tarde\", \"A noite\", \"A noite\", \"Pela manh\\u00e3\", \"Pela manh\\u00e3\", \"De madrugada\", \"A noite\", \"A tarde\", \"A tarde\", \"Em hora incerta\", \"A noite\", \"A noite\", \"A tarde\", \"A tarde\", \"A tarde\", \"A tarde\", \"De madrugada\", \"A noite\", \"A tarde\", \"Pela manh\\u00e3\", \"De madrugada\", \"A noite\", \"De madrugada\", \"A tarde\", \"A noite\", \"De madrugada\", \"A noite\", \"De madrugada\", \"De madrugada\", \"De madrugada\", \"A noite\", \"A noite\", \"A tarde\", \"A noite\", \"A noite\", \"A tarde\", \"Pela manh\\u00e3\", \"A noite\", \"A tarde\", \"Pela manh\\u00e3\", \"A noite\", \"A tarde\", \"A noite\", \"A tarde\", \"De madrugada\", \"Pela manh\\u00e3\", \"A noite\", \"A noite\", \"De madrugada\", \"A noite\", \"A noite\", \"Pela manh\\u00e3\", \"A noite\", \"De madrugada\", \"A tarde\", \"A tarde\", \"Pela manh\\u00e3\", \"A noite\", \"A noite\", \"A tarde\", \"A tarde\", \"A noite\", \"A tarde\", \"A noite\", \"A tarde\", \"De madrugada\", \"Pela manh\\u00e3\", \"Pela manh\\u00e3\", \"A tarde\", \"A noite\", \"De madrugada\", \"A noite\", \"Pela manh\\u00e3\", \"A tarde\", \"A noite\", \"A tarde\", \"A noite\", \"Pela manh\\u00e3\", \"Pela manh\\u00e3\", \"Pela manh\\u00e3\", \"A tarde\", \"A noite\", \"A noite\", \"A noite\", \"A noite\", \"Pela manh\\u00e3\", \"A noite\", \"Pela manh\\u00e3\", \"A tarde\", \"A noite\", \"A noite\", \"A noite\", \"A tarde\"], \"y\": [28, 22, 18, 13]}],\n",
       "                        {\"template\": {\"data\": {\"bar\": [{\"error_x\": {\"color\": \"#2a3f5f\"}, \"error_y\": {\"color\": \"#2a3f5f\"}, \"marker\": {\"line\": {\"color\": \"#E5ECF6\", \"width\": 0.5}}, \"type\": \"bar\"}], \"barpolar\": [{\"marker\": {\"line\": {\"color\": \"#E5ECF6\", \"width\": 0.5}}, \"type\": \"barpolar\"}], \"carpet\": [{\"aaxis\": {\"endlinecolor\": \"#2a3f5f\", \"gridcolor\": \"white\", \"linecolor\": \"white\", \"minorgridcolor\": \"white\", \"startlinecolor\": \"#2a3f5f\"}, \"baxis\": {\"endlinecolor\": \"#2a3f5f\", \"gridcolor\": \"white\", \"linecolor\": \"white\", \"minorgridcolor\": \"white\", \"startlinecolor\": \"#2a3f5f\"}, \"type\": \"carpet\"}], \"choropleth\": [{\"colorbar\": {\"outlinewidth\": 0, \"ticks\": \"\"}, \"type\": \"choropleth\"}], \"contour\": [{\"colorbar\": {\"outlinewidth\": 0, \"ticks\": \"\"}, \"colorscale\": [[0.0, \"#0d0887\"], [0.1111111111111111, \"#46039f\"], [0.2222222222222222, \"#7201a8\"], [0.3333333333333333, \"#9c179e\"], [0.4444444444444444, \"#bd3786\"], [0.5555555555555556, \"#d8576b\"], [0.6666666666666666, \"#ed7953\"], [0.7777777777777778, \"#fb9f3a\"], [0.8888888888888888, \"#fdca26\"], [1.0, \"#f0f921\"]], \"type\": \"contour\"}], \"contourcarpet\": [{\"colorbar\": {\"outlinewidth\": 0, \"ticks\": \"\"}, \"type\": \"contourcarpet\"}], \"heatmap\": [{\"colorbar\": {\"outlinewidth\": 0, \"ticks\": \"\"}, \"colorscale\": [[0.0, \"#0d0887\"], [0.1111111111111111, \"#46039f\"], [0.2222222222222222, \"#7201a8\"], [0.3333333333333333, \"#9c179e\"], [0.4444444444444444, \"#bd3786\"], [0.5555555555555556, \"#d8576b\"], [0.6666666666666666, \"#ed7953\"], [0.7777777777777778, \"#fb9f3a\"], [0.8888888888888888, \"#fdca26\"], [1.0, \"#f0f921\"]], \"type\": \"heatmap\"}], \"heatmapgl\": [{\"colorbar\": {\"outlinewidth\": 0, \"ticks\": \"\"}, \"colorscale\": [[0.0, \"#0d0887\"], [0.1111111111111111, \"#46039f\"], [0.2222222222222222, \"#7201a8\"], [0.3333333333333333, \"#9c179e\"], [0.4444444444444444, \"#bd3786\"], [0.5555555555555556, \"#d8576b\"], [0.6666666666666666, \"#ed7953\"], [0.7777777777777778, \"#fb9f3a\"], [0.8888888888888888, \"#fdca26\"], [1.0, \"#f0f921\"]], \"type\": \"heatmapgl\"}], \"histogram\": [{\"marker\": {\"colorbar\": {\"outlinewidth\": 0, \"ticks\": \"\"}}, \"type\": \"histogram\"}], \"histogram2d\": [{\"colorbar\": {\"outlinewidth\": 0, \"ticks\": \"\"}, \"colorscale\": [[0.0, \"#0d0887\"], [0.1111111111111111, \"#46039f\"], [0.2222222222222222, \"#7201a8\"], [0.3333333333333333, \"#9c179e\"], [0.4444444444444444, \"#bd3786\"], [0.5555555555555556, \"#d8576b\"], [0.6666666666666666, \"#ed7953\"], [0.7777777777777778, \"#fb9f3a\"], [0.8888888888888888, \"#fdca26\"], [1.0, \"#f0f921\"]], \"type\": \"histogram2d\"}], \"histogram2dcontour\": [{\"colorbar\": {\"outlinewidth\": 0, \"ticks\": \"\"}, \"colorscale\": [[0.0, \"#0d0887\"], [0.1111111111111111, \"#46039f\"], [0.2222222222222222, \"#7201a8\"], [0.3333333333333333, \"#9c179e\"], [0.4444444444444444, \"#bd3786\"], [0.5555555555555556, \"#d8576b\"], [0.6666666666666666, \"#ed7953\"], [0.7777777777777778, \"#fb9f3a\"], [0.8888888888888888, \"#fdca26\"], [1.0, \"#f0f921\"]], \"type\": \"histogram2dcontour\"}], \"mesh3d\": [{\"colorbar\": {\"outlinewidth\": 0, \"ticks\": \"\"}, \"type\": \"mesh3d\"}], \"parcoords\": [{\"line\": {\"colorbar\": {\"outlinewidth\": 0, \"ticks\": \"\"}}, \"type\": \"parcoords\"}], \"scatter\": [{\"marker\": {\"colorbar\": {\"outlinewidth\": 0, \"ticks\": \"\"}}, \"type\": \"scatter\"}], \"scatter3d\": [{\"line\": {\"colorbar\": {\"outlinewidth\": 0, \"ticks\": \"\"}}, \"marker\": {\"colorbar\": {\"outlinewidth\": 0, \"ticks\": \"\"}}, \"type\": \"scatter3d\"}], \"scattercarpet\": [{\"marker\": {\"colorbar\": {\"outlinewidth\": 0, \"ticks\": \"\"}}, \"type\": \"scattercarpet\"}], \"scattergeo\": [{\"marker\": {\"colorbar\": {\"outlinewidth\": 0, \"ticks\": \"\"}}, \"type\": \"scattergeo\"}], \"scattergl\": [{\"marker\": {\"colorbar\": {\"outlinewidth\": 0, \"ticks\": \"\"}}, \"type\": \"scattergl\"}], \"scattermapbox\": [{\"marker\": {\"colorbar\": {\"outlinewidth\": 0, \"ticks\": \"\"}}, \"type\": \"scattermapbox\"}], \"scatterpolar\": [{\"marker\": {\"colorbar\": {\"outlinewidth\": 0, \"ticks\": \"\"}}, \"type\": \"scatterpolar\"}], \"scatterpolargl\": [{\"marker\": {\"colorbar\": {\"outlinewidth\": 0, \"ticks\": \"\"}}, \"type\": \"scatterpolargl\"}], \"scatterternary\": [{\"marker\": {\"colorbar\": {\"outlinewidth\": 0, \"ticks\": \"\"}}, \"type\": \"scatterternary\"}], \"surface\": [{\"colorbar\": {\"outlinewidth\": 0, \"ticks\": \"\"}, \"colorscale\": [[0.0, \"#0d0887\"], [0.1111111111111111, \"#46039f\"], [0.2222222222222222, \"#7201a8\"], [0.3333333333333333, \"#9c179e\"], [0.4444444444444444, \"#bd3786\"], [0.5555555555555556, \"#d8576b\"], [0.6666666666666666, \"#ed7953\"], [0.7777777777777778, \"#fb9f3a\"], [0.8888888888888888, \"#fdca26\"], [1.0, \"#f0f921\"]], \"type\": \"surface\"}], \"table\": [{\"cells\": {\"fill\": {\"color\": \"#EBF0F8\"}, \"line\": {\"color\": \"white\"}}, \"header\": {\"fill\": {\"color\": \"#C8D4E3\"}, \"line\": {\"color\": \"white\"}}, \"type\": \"table\"}]}, \"layout\": {\"annotationdefaults\": {\"arrowcolor\": \"#2a3f5f\", \"arrowhead\": 0, \"arrowwidth\": 1}, \"colorscale\": {\"diverging\": [[0, \"#8e0152\"], [0.1, \"#c51b7d\"], [0.2, \"#de77ae\"], [0.3, \"#f1b6da\"], [0.4, \"#fde0ef\"], [0.5, \"#f7f7f7\"], [0.6, \"#e6f5d0\"], [0.7, \"#b8e186\"], [0.8, \"#7fbc41\"], [0.9, \"#4d9221\"], [1, \"#276419\"]], \"sequential\": [[0.0, \"#0d0887\"], [0.1111111111111111, \"#46039f\"], [0.2222222222222222, \"#7201a8\"], [0.3333333333333333, \"#9c179e\"], [0.4444444444444444, \"#bd3786\"], [0.5555555555555556, \"#d8576b\"], [0.6666666666666666, \"#ed7953\"], [0.7777777777777778, \"#fb9f3a\"], [0.8888888888888888, \"#fdca26\"], [1.0, \"#f0f921\"]], \"sequentialminus\": [[0.0, \"#0d0887\"], [0.1111111111111111, \"#46039f\"], [0.2222222222222222, \"#7201a8\"], [0.3333333333333333, \"#9c179e\"], [0.4444444444444444, \"#bd3786\"], [0.5555555555555556, \"#d8576b\"], [0.6666666666666666, \"#ed7953\"], [0.7777777777777778, \"#fb9f3a\"], [0.8888888888888888, \"#fdca26\"], [1.0, \"#f0f921\"]]}, \"colorway\": [\"#636efa\", \"#EF553B\", \"#00cc96\", \"#ab63fa\", \"#FFA15A\", \"#19d3f3\", \"#FF6692\", \"#B6E880\", \"#FF97FF\", \"#FECB52\"], \"font\": {\"color\": \"#2a3f5f\"}, \"geo\": {\"bgcolor\": \"white\", \"lakecolor\": \"white\", \"landcolor\": \"#E5ECF6\", \"showlakes\": true, \"showland\": true, \"subunitcolor\": \"white\"}, \"hoverlabel\": {\"align\": \"left\"}, \"hovermode\": \"closest\", \"mapbox\": {\"style\": \"light\"}, \"paper_bgcolor\": \"white\", \"plot_bgcolor\": \"#E5ECF6\", \"polar\": {\"angularaxis\": {\"gridcolor\": \"white\", \"linecolor\": \"white\", \"ticks\": \"\"}, \"bgcolor\": \"#E5ECF6\", \"radialaxis\": {\"gridcolor\": \"white\", \"linecolor\": \"white\", \"ticks\": \"\"}}, \"scene\": {\"xaxis\": {\"backgroundcolor\": \"#E5ECF6\", \"gridcolor\": \"white\", \"gridwidth\": 2, \"linecolor\": \"white\", \"showbackground\": true, \"ticks\": \"\", \"zerolinecolor\": \"white\"}, \"yaxis\": {\"backgroundcolor\": \"#E5ECF6\", \"gridcolor\": \"white\", \"gridwidth\": 2, \"linecolor\": \"white\", \"showbackground\": true, \"ticks\": \"\", \"zerolinecolor\": \"white\"}, \"zaxis\": {\"backgroundcolor\": \"#E5ECF6\", \"gridcolor\": \"white\", \"gridwidth\": 2, \"linecolor\": \"white\", \"showbackground\": true, \"ticks\": \"\", \"zerolinecolor\": \"white\"}}, \"shapedefaults\": {\"line\": {\"color\": \"#2a3f5f\"}}, \"ternary\": {\"aaxis\": {\"gridcolor\": \"white\", \"linecolor\": \"white\", \"ticks\": \"\"}, \"baxis\": {\"gridcolor\": \"white\", \"linecolor\": \"white\", \"ticks\": \"\"}, \"bgcolor\": \"#E5ECF6\", \"caxis\": {\"gridcolor\": \"white\", \"linecolor\": \"white\", \"ticks\": \"\"}}, \"title\": {\"x\": 0.05}, \"xaxis\": {\"automargin\": true, \"gridcolor\": \"white\", \"linecolor\": \"white\", \"ticks\": \"\", \"zerolinecolor\": \"white\", \"zerolinewidth\": 2}, \"yaxis\": {\"automargin\": true, \"gridcolor\": \"white\", \"linecolor\": \"white\", \"ticks\": \"\", \"zerolinecolor\": \"white\", \"zerolinewidth\": 2}}}},\n",
       "                        {\"responsive\": true}\n",
       "                    ).then(function(){\n",
       "                            \n",
       "var gd = document.getElementById('9c7422b8-a38b-4cd5-9cb2-aaa87e90f5a9');\n",
       "var x = new MutationObserver(function (mutations, observer) {{\n",
       "        var display = window.getComputedStyle(gd).display;\n",
       "        if (!display || display === 'none') {{\n",
       "            console.log([gd, 'removed!']);\n",
       "            Plotly.purge(gd);\n",
       "            observer.disconnect();\n",
       "        }}\n",
       "}});\n",
       "\n",
       "// Listen for the removal of the full notebook cells\n",
       "var notebookContainer = gd.closest('#notebook-container');\n",
       "if (notebookContainer) {{\n",
       "    x.observe(notebookContainer, {childList: true});\n",
       "}}\n",
       "\n",
       "// Listen for the clearing of the current output cell\n",
       "var outputEl = gd.closest('.output');\n",
       "if (outputEl) {{\n",
       "    x.observe(outputEl, {childList: true});\n",
       "}}\n",
       "\n",
       "                        })\n",
       "                };\n",
       "                });\n",
       "            </script>\n",
       "        </div>"
      ]
     },
     "metadata": {},
     "output_type": "display_data"
    }
   ],
   "source": [
    "trace1 = go.Bar(x = df_novo['PERIDOOCORRENCIA'],\n",
    "                y = df_novo[df_novo['ANO_BO'] == 2018].groupby('PERIDOOCORRENCIA').size().sort_values(ascending=False),\n",
    "                name = '2018',\n",
    "                marker = {'color': '#d35400'})\n",
    "trace2 = go.Bar(x = df_novo['PERIDOOCORRENCIA'],\n",
    "                y = df_novo[df_novo['ANO_BO'] == 2019].groupby('PERIDOOCORRENCIA').size().sort_values(ascending=False),\n",
    "                name = '2019',\n",
    "                marker = {'color': '#f39c12'})\n",
    "\n",
    "df = [trace1, trace2]\n",
    "\n",
    "py.iplot(df)"
   ]
  },
  {
   "cell_type": "markdown",
   "metadata": {},
   "source": [
    "Segundo o gráfico acima, concluímos que:\n",
    "1. em **2018**, os crimes de feminicídio ocorreram na sua maior parte no período da manhã, e\n",
    "* em **2019**, estes crimes ocorreram em sua maior parte também no período da manhã."
   ]
  },
  {
   "cell_type": "markdown",
   "metadata": {},
   "source": [
    "#### Meses\n",
    "\n",
    "Analisando o gráfico, vemos que há uma maior incidência de mortes no mês de Janeiro."
   ]
  },
  {
   "cell_type": "code",
   "execution_count": 576,
   "metadata": {},
   "outputs": [
    {
     "data": {
      "application/vnd.plotly.v1+json": {
       "config": {
        "linkText": "Export to plot.ly",
        "plotlyServerURL": "https://plot.ly",
        "showLink": false
       },
       "data": [
        {
         "line": {
          "color": "#ee5253",
          "dash": "dash"
         },
         "mode": "lines",
         "name": "2018",
         "type": "scatter",
         "x": [
          "Jan",
          "Feb",
          "Mar",
          "Apr",
          "May",
          "Jun",
          "Jul",
          "Aug",
          "Sep",
          "Oct",
          "Nov",
          "Dec"
         ],
         "y": [
          17,
          14,
          13,
          12,
          12,
          11,
          10,
          10,
          9,
          8,
          8,
          6
         ]
        },
        {
         "line": {
          "color": "#341f97",
          "dash": "dot"
         },
         "mode": "lines",
         "name": "2019",
         "type": "scatter",
         "x": [
          "Jan",
          "Feb",
          "Mar",
          "Apr",
          "May",
          "Jun"
         ],
         "y": [
          15,
          14,
          12,
          11,
          10,
          6,
          4,
          3,
          3,
          2,
          1
         ]
        }
       ],
       "layout": {
        "template": {
         "data": {
          "bar": [
           {
            "error_x": {
             "color": "#2a3f5f"
            },
            "error_y": {
             "color": "#2a3f5f"
            },
            "marker": {
             "line": {
              "color": "#E5ECF6",
              "width": 0.5
             }
            },
            "type": "bar"
           }
          ],
          "barpolar": [
           {
            "marker": {
             "line": {
              "color": "#E5ECF6",
              "width": 0.5
             }
            },
            "type": "barpolar"
           }
          ],
          "carpet": [
           {
            "aaxis": {
             "endlinecolor": "#2a3f5f",
             "gridcolor": "white",
             "linecolor": "white",
             "minorgridcolor": "white",
             "startlinecolor": "#2a3f5f"
            },
            "baxis": {
             "endlinecolor": "#2a3f5f",
             "gridcolor": "white",
             "linecolor": "white",
             "minorgridcolor": "white",
             "startlinecolor": "#2a3f5f"
            },
            "type": "carpet"
           }
          ],
          "choropleth": [
           {
            "colorbar": {
             "outlinewidth": 0,
             "ticks": ""
            },
            "type": "choropleth"
           }
          ],
          "contour": [
           {
            "colorbar": {
             "outlinewidth": 0,
             "ticks": ""
            },
            "colorscale": [
             [
              0,
              "#0d0887"
             ],
             [
              0.1111111111111111,
              "#46039f"
             ],
             [
              0.2222222222222222,
              "#7201a8"
             ],
             [
              0.3333333333333333,
              "#9c179e"
             ],
             [
              0.4444444444444444,
              "#bd3786"
             ],
             [
              0.5555555555555556,
              "#d8576b"
             ],
             [
              0.6666666666666666,
              "#ed7953"
             ],
             [
              0.7777777777777778,
              "#fb9f3a"
             ],
             [
              0.8888888888888888,
              "#fdca26"
             ],
             [
              1,
              "#f0f921"
             ]
            ],
            "type": "contour"
           }
          ],
          "contourcarpet": [
           {
            "colorbar": {
             "outlinewidth": 0,
             "ticks": ""
            },
            "type": "contourcarpet"
           }
          ],
          "heatmap": [
           {
            "colorbar": {
             "outlinewidth": 0,
             "ticks": ""
            },
            "colorscale": [
             [
              0,
              "#0d0887"
             ],
             [
              0.1111111111111111,
              "#46039f"
             ],
             [
              0.2222222222222222,
              "#7201a8"
             ],
             [
              0.3333333333333333,
              "#9c179e"
             ],
             [
              0.4444444444444444,
              "#bd3786"
             ],
             [
              0.5555555555555556,
              "#d8576b"
             ],
             [
              0.6666666666666666,
              "#ed7953"
             ],
             [
              0.7777777777777778,
              "#fb9f3a"
             ],
             [
              0.8888888888888888,
              "#fdca26"
             ],
             [
              1,
              "#f0f921"
             ]
            ],
            "type": "heatmap"
           }
          ],
          "heatmapgl": [
           {
            "colorbar": {
             "outlinewidth": 0,
             "ticks": ""
            },
            "colorscale": [
             [
              0,
              "#0d0887"
             ],
             [
              0.1111111111111111,
              "#46039f"
             ],
             [
              0.2222222222222222,
              "#7201a8"
             ],
             [
              0.3333333333333333,
              "#9c179e"
             ],
             [
              0.4444444444444444,
              "#bd3786"
             ],
             [
              0.5555555555555556,
              "#d8576b"
             ],
             [
              0.6666666666666666,
              "#ed7953"
             ],
             [
              0.7777777777777778,
              "#fb9f3a"
             ],
             [
              0.8888888888888888,
              "#fdca26"
             ],
             [
              1,
              "#f0f921"
             ]
            ],
            "type": "heatmapgl"
           }
          ],
          "histogram": [
           {
            "marker": {
             "colorbar": {
              "outlinewidth": 0,
              "ticks": ""
             }
            },
            "type": "histogram"
           }
          ],
          "histogram2d": [
           {
            "colorbar": {
             "outlinewidth": 0,
             "ticks": ""
            },
            "colorscale": [
             [
              0,
              "#0d0887"
             ],
             [
              0.1111111111111111,
              "#46039f"
             ],
             [
              0.2222222222222222,
              "#7201a8"
             ],
             [
              0.3333333333333333,
              "#9c179e"
             ],
             [
              0.4444444444444444,
              "#bd3786"
             ],
             [
              0.5555555555555556,
              "#d8576b"
             ],
             [
              0.6666666666666666,
              "#ed7953"
             ],
             [
              0.7777777777777778,
              "#fb9f3a"
             ],
             [
              0.8888888888888888,
              "#fdca26"
             ],
             [
              1,
              "#f0f921"
             ]
            ],
            "type": "histogram2d"
           }
          ],
          "histogram2dcontour": [
           {
            "colorbar": {
             "outlinewidth": 0,
             "ticks": ""
            },
            "colorscale": [
             [
              0,
              "#0d0887"
             ],
             [
              0.1111111111111111,
              "#46039f"
             ],
             [
              0.2222222222222222,
              "#7201a8"
             ],
             [
              0.3333333333333333,
              "#9c179e"
             ],
             [
              0.4444444444444444,
              "#bd3786"
             ],
             [
              0.5555555555555556,
              "#d8576b"
             ],
             [
              0.6666666666666666,
              "#ed7953"
             ],
             [
              0.7777777777777778,
              "#fb9f3a"
             ],
             [
              0.8888888888888888,
              "#fdca26"
             ],
             [
              1,
              "#f0f921"
             ]
            ],
            "type": "histogram2dcontour"
           }
          ],
          "mesh3d": [
           {
            "colorbar": {
             "outlinewidth": 0,
             "ticks": ""
            },
            "type": "mesh3d"
           }
          ],
          "parcoords": [
           {
            "line": {
             "colorbar": {
              "outlinewidth": 0,
              "ticks": ""
             }
            },
            "type": "parcoords"
           }
          ],
          "scatter": [
           {
            "marker": {
             "colorbar": {
              "outlinewidth": 0,
              "ticks": ""
             }
            },
            "type": "scatter"
           }
          ],
          "scatter3d": [
           {
            "line": {
             "colorbar": {
              "outlinewidth": 0,
              "ticks": ""
             }
            },
            "marker": {
             "colorbar": {
              "outlinewidth": 0,
              "ticks": ""
             }
            },
            "type": "scatter3d"
           }
          ],
          "scattercarpet": [
           {
            "marker": {
             "colorbar": {
              "outlinewidth": 0,
              "ticks": ""
             }
            },
            "type": "scattercarpet"
           }
          ],
          "scattergeo": [
           {
            "marker": {
             "colorbar": {
              "outlinewidth": 0,
              "ticks": ""
             }
            },
            "type": "scattergeo"
           }
          ],
          "scattergl": [
           {
            "marker": {
             "colorbar": {
              "outlinewidth": 0,
              "ticks": ""
             }
            },
            "type": "scattergl"
           }
          ],
          "scattermapbox": [
           {
            "marker": {
             "colorbar": {
              "outlinewidth": 0,
              "ticks": ""
             }
            },
            "type": "scattermapbox"
           }
          ],
          "scatterpolar": [
           {
            "marker": {
             "colorbar": {
              "outlinewidth": 0,
              "ticks": ""
             }
            },
            "type": "scatterpolar"
           }
          ],
          "scatterpolargl": [
           {
            "marker": {
             "colorbar": {
              "outlinewidth": 0,
              "ticks": ""
             }
            },
            "type": "scatterpolargl"
           }
          ],
          "scatterternary": [
           {
            "marker": {
             "colorbar": {
              "outlinewidth": 0,
              "ticks": ""
             }
            },
            "type": "scatterternary"
           }
          ],
          "surface": [
           {
            "colorbar": {
             "outlinewidth": 0,
             "ticks": ""
            },
            "colorscale": [
             [
              0,
              "#0d0887"
             ],
             [
              0.1111111111111111,
              "#46039f"
             ],
             [
              0.2222222222222222,
              "#7201a8"
             ],
             [
              0.3333333333333333,
              "#9c179e"
             ],
             [
              0.4444444444444444,
              "#bd3786"
             ],
             [
              0.5555555555555556,
              "#d8576b"
             ],
             [
              0.6666666666666666,
              "#ed7953"
             ],
             [
              0.7777777777777778,
              "#fb9f3a"
             ],
             [
              0.8888888888888888,
              "#fdca26"
             ],
             [
              1,
              "#f0f921"
             ]
            ],
            "type": "surface"
           }
          ],
          "table": [
           {
            "cells": {
             "fill": {
              "color": "#EBF0F8"
             },
             "line": {
              "color": "white"
             }
            },
            "header": {
             "fill": {
              "color": "#C8D4E3"
             },
             "line": {
              "color": "white"
             }
            },
            "type": "table"
           }
          ]
         },
         "layout": {
          "annotationdefaults": {
           "arrowcolor": "#2a3f5f",
           "arrowhead": 0,
           "arrowwidth": 1
          },
          "colorscale": {
           "diverging": [
            [
             0,
             "#8e0152"
            ],
            [
             0.1,
             "#c51b7d"
            ],
            [
             0.2,
             "#de77ae"
            ],
            [
             0.3,
             "#f1b6da"
            ],
            [
             0.4,
             "#fde0ef"
            ],
            [
             0.5,
             "#f7f7f7"
            ],
            [
             0.6,
             "#e6f5d0"
            ],
            [
             0.7,
             "#b8e186"
            ],
            [
             0.8,
             "#7fbc41"
            ],
            [
             0.9,
             "#4d9221"
            ],
            [
             1,
             "#276419"
            ]
           ],
           "sequential": [
            [
             0,
             "#0d0887"
            ],
            [
             0.1111111111111111,
             "#46039f"
            ],
            [
             0.2222222222222222,
             "#7201a8"
            ],
            [
             0.3333333333333333,
             "#9c179e"
            ],
            [
             0.4444444444444444,
             "#bd3786"
            ],
            [
             0.5555555555555556,
             "#d8576b"
            ],
            [
             0.6666666666666666,
             "#ed7953"
            ],
            [
             0.7777777777777778,
             "#fb9f3a"
            ],
            [
             0.8888888888888888,
             "#fdca26"
            ],
            [
             1,
             "#f0f921"
            ]
           ],
           "sequentialminus": [
            [
             0,
             "#0d0887"
            ],
            [
             0.1111111111111111,
             "#46039f"
            ],
            [
             0.2222222222222222,
             "#7201a8"
            ],
            [
             0.3333333333333333,
             "#9c179e"
            ],
            [
             0.4444444444444444,
             "#bd3786"
            ],
            [
             0.5555555555555556,
             "#d8576b"
            ],
            [
             0.6666666666666666,
             "#ed7953"
            ],
            [
             0.7777777777777778,
             "#fb9f3a"
            ],
            [
             0.8888888888888888,
             "#fdca26"
            ],
            [
             1,
             "#f0f921"
            ]
           ]
          },
          "colorway": [
           "#636efa",
           "#EF553B",
           "#00cc96",
           "#ab63fa",
           "#FFA15A",
           "#19d3f3",
           "#FF6692",
           "#B6E880",
           "#FF97FF",
           "#FECB52"
          ],
          "font": {
           "color": "#2a3f5f"
          },
          "geo": {
           "bgcolor": "white",
           "lakecolor": "white",
           "landcolor": "#E5ECF6",
           "showlakes": true,
           "showland": true,
           "subunitcolor": "white"
          },
          "hoverlabel": {
           "align": "left"
          },
          "hovermode": "closest",
          "mapbox": {
           "style": "light"
          },
          "paper_bgcolor": "white",
          "plot_bgcolor": "#E5ECF6",
          "polar": {
           "angularaxis": {
            "gridcolor": "white",
            "linecolor": "white",
            "ticks": ""
           },
           "bgcolor": "#E5ECF6",
           "radialaxis": {
            "gridcolor": "white",
            "linecolor": "white",
            "ticks": ""
           }
          },
          "scene": {
           "xaxis": {
            "backgroundcolor": "#E5ECF6",
            "gridcolor": "white",
            "gridwidth": 2,
            "linecolor": "white",
            "showbackground": true,
            "ticks": "",
            "zerolinecolor": "white"
           },
           "yaxis": {
            "backgroundcolor": "#E5ECF6",
            "gridcolor": "white",
            "gridwidth": 2,
            "linecolor": "white",
            "showbackground": true,
            "ticks": "",
            "zerolinecolor": "white"
           },
           "zaxis": {
            "backgroundcolor": "#E5ECF6",
            "gridcolor": "white",
            "gridwidth": 2,
            "linecolor": "white",
            "showbackground": true,
            "ticks": "",
            "zerolinecolor": "white"
           }
          },
          "shapedefaults": {
           "line": {
            "color": "#2a3f5f"
           }
          },
          "ternary": {
           "aaxis": {
            "gridcolor": "white",
            "linecolor": "white",
            "ticks": ""
           },
           "baxis": {
            "gridcolor": "white",
            "linecolor": "white",
            "ticks": ""
           },
           "bgcolor": "#E5ECF6",
           "caxis": {
            "gridcolor": "white",
            "linecolor": "white",
            "ticks": ""
           }
          },
          "title": {
           "x": 0.05
          },
          "xaxis": {
           "automargin": true,
           "gridcolor": "white",
           "linecolor": "white",
           "ticks": "",
           "zerolinecolor": "white",
           "zerolinewidth": 2
          },
          "yaxis": {
           "automargin": true,
           "gridcolor": "white",
           "linecolor": "white",
           "ticks": "",
           "zerolinecolor": "white",
           "zerolinewidth": 2
          }
         }
        }
       }
      },
      "text/html": [
       "<div>\n",
       "        \n",
       "        \n",
       "            <div id=\"46e466ed-a658-4007-891e-1313612f47d9\" class=\"plotly-graph-div\" style=\"height:525px; width:100%;\"></div>\n",
       "            <script type=\"text/javascript\">\n",
       "                require([\"plotly\"], function(Plotly) {\n",
       "                    window.PLOTLYENV=window.PLOTLYENV || {};\n",
       "                    \n",
       "                if (document.getElementById(\"46e466ed-a658-4007-891e-1313612f47d9\")) {\n",
       "                    Plotly.newPlot(\n",
       "                        '46e466ed-a658-4007-891e-1313612f47d9',\n",
       "                        [{\"line\": {\"color\": \"#ee5253\", \"dash\": \"dash\"}, \"mode\": \"lines\", \"name\": \"2018\", \"type\": \"scatter\", \"x\": [\"Jan\", \"Feb\", \"Mar\", \"Apr\", \"May\", \"Jun\", \"Jul\", \"Aug\", \"Sep\", \"Oct\", \"Nov\", \"Dec\"], \"y\": [17, 14, 13, 12, 12, 11, 10, 10, 9, 8, 8, 6]}, {\"line\": {\"color\": \"#341f97\", \"dash\": \"dot\"}, \"mode\": \"lines\", \"name\": \"2019\", \"type\": \"scatter\", \"x\": [\"Jan\", \"Feb\", \"Mar\", \"Apr\", \"May\", \"Jun\"], \"y\": [15, 14, 12, 11, 10, 6, 4, 3, 3, 2, 1]}],\n",
       "                        {\"template\": {\"data\": {\"bar\": [{\"error_x\": {\"color\": \"#2a3f5f\"}, \"error_y\": {\"color\": \"#2a3f5f\"}, \"marker\": {\"line\": {\"color\": \"#E5ECF6\", \"width\": 0.5}}, \"type\": \"bar\"}], \"barpolar\": [{\"marker\": {\"line\": {\"color\": \"#E5ECF6\", \"width\": 0.5}}, \"type\": \"barpolar\"}], \"carpet\": [{\"aaxis\": {\"endlinecolor\": \"#2a3f5f\", \"gridcolor\": \"white\", \"linecolor\": \"white\", \"minorgridcolor\": \"white\", \"startlinecolor\": \"#2a3f5f\"}, \"baxis\": {\"endlinecolor\": \"#2a3f5f\", \"gridcolor\": \"white\", \"linecolor\": \"white\", \"minorgridcolor\": \"white\", \"startlinecolor\": \"#2a3f5f\"}, \"type\": \"carpet\"}], \"choropleth\": [{\"colorbar\": {\"outlinewidth\": 0, \"ticks\": \"\"}, \"type\": \"choropleth\"}], \"contour\": [{\"colorbar\": {\"outlinewidth\": 0, \"ticks\": \"\"}, \"colorscale\": [[0.0, \"#0d0887\"], [0.1111111111111111, \"#46039f\"], [0.2222222222222222, \"#7201a8\"], [0.3333333333333333, \"#9c179e\"], [0.4444444444444444, \"#bd3786\"], [0.5555555555555556, \"#d8576b\"], [0.6666666666666666, \"#ed7953\"], [0.7777777777777778, \"#fb9f3a\"], [0.8888888888888888, \"#fdca26\"], [1.0, \"#f0f921\"]], \"type\": \"contour\"}], \"contourcarpet\": [{\"colorbar\": {\"outlinewidth\": 0, \"ticks\": \"\"}, \"type\": \"contourcarpet\"}], \"heatmap\": [{\"colorbar\": {\"outlinewidth\": 0, \"ticks\": \"\"}, \"colorscale\": [[0.0, \"#0d0887\"], [0.1111111111111111, \"#46039f\"], [0.2222222222222222, \"#7201a8\"], [0.3333333333333333, \"#9c179e\"], [0.4444444444444444, \"#bd3786\"], [0.5555555555555556, \"#d8576b\"], [0.6666666666666666, \"#ed7953\"], [0.7777777777777778, \"#fb9f3a\"], [0.8888888888888888, \"#fdca26\"], [1.0, \"#f0f921\"]], \"type\": \"heatmap\"}], \"heatmapgl\": [{\"colorbar\": {\"outlinewidth\": 0, \"ticks\": \"\"}, \"colorscale\": [[0.0, \"#0d0887\"], [0.1111111111111111, \"#46039f\"], [0.2222222222222222, \"#7201a8\"], [0.3333333333333333, \"#9c179e\"], [0.4444444444444444, \"#bd3786\"], [0.5555555555555556, \"#d8576b\"], [0.6666666666666666, \"#ed7953\"], [0.7777777777777778, \"#fb9f3a\"], [0.8888888888888888, \"#fdca26\"], [1.0, \"#f0f921\"]], \"type\": \"heatmapgl\"}], \"histogram\": [{\"marker\": {\"colorbar\": {\"outlinewidth\": 0, \"ticks\": \"\"}}, \"type\": \"histogram\"}], \"histogram2d\": [{\"colorbar\": {\"outlinewidth\": 0, \"ticks\": \"\"}, \"colorscale\": [[0.0, \"#0d0887\"], [0.1111111111111111, \"#46039f\"], [0.2222222222222222, \"#7201a8\"], [0.3333333333333333, \"#9c179e\"], [0.4444444444444444, \"#bd3786\"], [0.5555555555555556, \"#d8576b\"], [0.6666666666666666, \"#ed7953\"], [0.7777777777777778, \"#fb9f3a\"], [0.8888888888888888, \"#fdca26\"], [1.0, \"#f0f921\"]], \"type\": \"histogram2d\"}], \"histogram2dcontour\": [{\"colorbar\": {\"outlinewidth\": 0, \"ticks\": \"\"}, \"colorscale\": [[0.0, \"#0d0887\"], [0.1111111111111111, \"#46039f\"], [0.2222222222222222, \"#7201a8\"], [0.3333333333333333, \"#9c179e\"], [0.4444444444444444, \"#bd3786\"], [0.5555555555555556, \"#d8576b\"], [0.6666666666666666, \"#ed7953\"], [0.7777777777777778, \"#fb9f3a\"], [0.8888888888888888, \"#fdca26\"], [1.0, \"#f0f921\"]], \"type\": \"histogram2dcontour\"}], \"mesh3d\": [{\"colorbar\": {\"outlinewidth\": 0, \"ticks\": \"\"}, \"type\": \"mesh3d\"}], \"parcoords\": [{\"line\": {\"colorbar\": {\"outlinewidth\": 0, \"ticks\": \"\"}}, \"type\": \"parcoords\"}], \"scatter\": [{\"marker\": {\"colorbar\": {\"outlinewidth\": 0, \"ticks\": \"\"}}, \"type\": \"scatter\"}], \"scatter3d\": [{\"line\": {\"colorbar\": {\"outlinewidth\": 0, \"ticks\": \"\"}}, \"marker\": {\"colorbar\": {\"outlinewidth\": 0, \"ticks\": \"\"}}, \"type\": \"scatter3d\"}], \"scattercarpet\": [{\"marker\": {\"colorbar\": {\"outlinewidth\": 0, \"ticks\": \"\"}}, \"type\": \"scattercarpet\"}], \"scattergeo\": [{\"marker\": {\"colorbar\": {\"outlinewidth\": 0, \"ticks\": \"\"}}, \"type\": \"scattergeo\"}], \"scattergl\": [{\"marker\": {\"colorbar\": {\"outlinewidth\": 0, \"ticks\": \"\"}}, \"type\": \"scattergl\"}], \"scattermapbox\": [{\"marker\": {\"colorbar\": {\"outlinewidth\": 0, \"ticks\": \"\"}}, \"type\": \"scattermapbox\"}], \"scatterpolar\": [{\"marker\": {\"colorbar\": {\"outlinewidth\": 0, \"ticks\": \"\"}}, \"type\": \"scatterpolar\"}], \"scatterpolargl\": [{\"marker\": {\"colorbar\": {\"outlinewidth\": 0, \"ticks\": \"\"}}, \"type\": \"scatterpolargl\"}], \"scatterternary\": [{\"marker\": {\"colorbar\": {\"outlinewidth\": 0, \"ticks\": \"\"}}, \"type\": \"scatterternary\"}], \"surface\": [{\"colorbar\": {\"outlinewidth\": 0, \"ticks\": \"\"}, \"colorscale\": [[0.0, \"#0d0887\"], [0.1111111111111111, \"#46039f\"], [0.2222222222222222, \"#7201a8\"], [0.3333333333333333, \"#9c179e\"], [0.4444444444444444, \"#bd3786\"], [0.5555555555555556, \"#d8576b\"], [0.6666666666666666, \"#ed7953\"], [0.7777777777777778, \"#fb9f3a\"], [0.8888888888888888, \"#fdca26\"], [1.0, \"#f0f921\"]], \"type\": \"surface\"}], \"table\": [{\"cells\": {\"fill\": {\"color\": \"#EBF0F8\"}, \"line\": {\"color\": \"white\"}}, \"header\": {\"fill\": {\"color\": \"#C8D4E3\"}, \"line\": {\"color\": \"white\"}}, \"type\": \"table\"}]}, \"layout\": {\"annotationdefaults\": {\"arrowcolor\": \"#2a3f5f\", \"arrowhead\": 0, \"arrowwidth\": 1}, \"colorscale\": {\"diverging\": [[0, \"#8e0152\"], [0.1, \"#c51b7d\"], [0.2, \"#de77ae\"], [0.3, \"#f1b6da\"], [0.4, \"#fde0ef\"], [0.5, \"#f7f7f7\"], [0.6, \"#e6f5d0\"], [0.7, \"#b8e186\"], [0.8, \"#7fbc41\"], [0.9, \"#4d9221\"], [1, \"#276419\"]], \"sequential\": [[0.0, \"#0d0887\"], [0.1111111111111111, \"#46039f\"], [0.2222222222222222, \"#7201a8\"], [0.3333333333333333, \"#9c179e\"], [0.4444444444444444, \"#bd3786\"], [0.5555555555555556, \"#d8576b\"], [0.6666666666666666, \"#ed7953\"], [0.7777777777777778, \"#fb9f3a\"], [0.8888888888888888, \"#fdca26\"], [1.0, \"#f0f921\"]], \"sequentialminus\": [[0.0, \"#0d0887\"], [0.1111111111111111, \"#46039f\"], [0.2222222222222222, \"#7201a8\"], [0.3333333333333333, \"#9c179e\"], [0.4444444444444444, \"#bd3786\"], [0.5555555555555556, \"#d8576b\"], [0.6666666666666666, \"#ed7953\"], [0.7777777777777778, \"#fb9f3a\"], [0.8888888888888888, \"#fdca26\"], [1.0, \"#f0f921\"]]}, \"colorway\": [\"#636efa\", \"#EF553B\", \"#00cc96\", \"#ab63fa\", \"#FFA15A\", \"#19d3f3\", \"#FF6692\", \"#B6E880\", \"#FF97FF\", \"#FECB52\"], \"font\": {\"color\": \"#2a3f5f\"}, \"geo\": {\"bgcolor\": \"white\", \"lakecolor\": \"white\", \"landcolor\": \"#E5ECF6\", \"showlakes\": true, \"showland\": true, \"subunitcolor\": \"white\"}, \"hoverlabel\": {\"align\": \"left\"}, \"hovermode\": \"closest\", \"mapbox\": {\"style\": \"light\"}, \"paper_bgcolor\": \"white\", \"plot_bgcolor\": \"#E5ECF6\", \"polar\": {\"angularaxis\": {\"gridcolor\": \"white\", \"linecolor\": \"white\", \"ticks\": \"\"}, \"bgcolor\": \"#E5ECF6\", \"radialaxis\": {\"gridcolor\": \"white\", \"linecolor\": \"white\", \"ticks\": \"\"}}, \"scene\": {\"xaxis\": {\"backgroundcolor\": \"#E5ECF6\", \"gridcolor\": \"white\", \"gridwidth\": 2, \"linecolor\": \"white\", \"showbackground\": true, \"ticks\": \"\", \"zerolinecolor\": \"white\"}, \"yaxis\": {\"backgroundcolor\": \"#E5ECF6\", \"gridcolor\": \"white\", \"gridwidth\": 2, \"linecolor\": \"white\", \"showbackground\": true, \"ticks\": \"\", \"zerolinecolor\": \"white\"}, \"zaxis\": {\"backgroundcolor\": \"#E5ECF6\", \"gridcolor\": \"white\", \"gridwidth\": 2, \"linecolor\": \"white\", \"showbackground\": true, \"ticks\": \"\", \"zerolinecolor\": \"white\"}}, \"shapedefaults\": {\"line\": {\"color\": \"#2a3f5f\"}}, \"ternary\": {\"aaxis\": {\"gridcolor\": \"white\", \"linecolor\": \"white\", \"ticks\": \"\"}, \"baxis\": {\"gridcolor\": \"white\", \"linecolor\": \"white\", \"ticks\": \"\"}, \"bgcolor\": \"#E5ECF6\", \"caxis\": {\"gridcolor\": \"white\", \"linecolor\": \"white\", \"ticks\": \"\"}}, \"title\": {\"x\": 0.05}, \"xaxis\": {\"automargin\": true, \"gridcolor\": \"white\", \"linecolor\": \"white\", \"ticks\": \"\", \"zerolinecolor\": \"white\", \"zerolinewidth\": 2}, \"yaxis\": {\"automargin\": true, \"gridcolor\": \"white\", \"linecolor\": \"white\", \"ticks\": \"\", \"zerolinecolor\": \"white\", \"zerolinewidth\": 2}}}},\n",
       "                        {\"responsive\": true}\n",
       "                    ).then(function(){\n",
       "                            \n",
       "var gd = document.getElementById('46e466ed-a658-4007-891e-1313612f47d9');\n",
       "var x = new MutationObserver(function (mutations, observer) {{\n",
       "        var display = window.getComputedStyle(gd).display;\n",
       "        if (!display || display === 'none') {{\n",
       "            console.log([gd, 'removed!']);\n",
       "            Plotly.purge(gd);\n",
       "            observer.disconnect();\n",
       "        }}\n",
       "}});\n",
       "\n",
       "// Listen for the removal of the full notebook cells\n",
       "var notebookContainer = gd.closest('#notebook-container');\n",
       "if (notebookContainer) {{\n",
       "    x.observe(notebookContainer, {childList: true});\n",
       "}}\n",
       "\n",
       "// Listen for the clearing of the current output cell\n",
       "var outputEl = gd.closest('.output');\n",
       "if (outputEl) {{\n",
       "    x.observe(outputEl, {childList: true});\n",
       "}}\n",
       "\n",
       "                        })\n",
       "                };\n",
       "                });\n",
       "            </script>\n",
       "        </div>"
      ]
     },
     "metadata": {},
     "output_type": "display_data"
    }
   ],
   "source": [
    "trace1 = go.Scatter(x = ['Jan', 'Feb', 'Mar', 'Apr', 'May', 'Jun', 'Jul', 'Aug', 'Sep', 'Oct', 'Nov', 'Dec'],\n",
    "                    y = df_novo[df_novo['ANO_BO'] == 2018].groupby('MES_OCORRENCIA').size().sort_values(\n",
    "                        ascending=False),\n",
    "                    mode = 'lines',\n",
    "                    name = '2018',\n",
    "                    line = {'color': '#ee5253',\n",
    "                            'dash': 'dash'})\n",
    "\n",
    "trace2 = go.Scatter(x = ['Jan', 'Feb', 'Mar', 'Apr', 'May', 'Jun'],\n",
    "                    y = df_novo[df_novo['ANO_BO'] == 2019].groupby('MES_OCORRENCIA').size().sort_values(\n",
    "                        ascending=False),\n",
    "                    mode = 'lines',\n",
    "                    name = '2019',\n",
    "                    line = {'color': '#341f97',\n",
    "                            'dash': 'dot'})\n",
    "df = [trace1, trace2]\n",
    "\n",
    "py.iplot(df)"
   ]
  },
  {
   "cell_type": "markdown",
   "metadata": {},
   "source": [
    "#### Dias"
   ]
  },
  {
   "cell_type": "code",
   "execution_count": 577,
   "metadata": {},
   "outputs": [
    {
     "data": {
      "application/vnd.plotly.v1+json": {
       "config": {
        "linkText": "Export to plot.ly",
        "plotlyServerURL": "https://plot.ly",
        "showLink": false
       },
       "data": [
        {
         "name": "2018",
         "type": "bar",
         "x": [
          "13",
          "06",
          "19",
          "02",
          "01",
          "25",
          "28",
          "26",
          "26",
          "16",
          "03",
          "14",
          "17",
          "26",
          "01",
          "02",
          "17",
          "22",
          "16",
          "01",
          "04",
          "01",
          "01",
          "19",
          "22",
          "13",
          "18",
          "28",
          "28",
          "16",
          "03",
          "13",
          "02",
          "29",
          "28",
          "17",
          "28",
          "15",
          "15",
          "18",
          "02",
          "02",
          "20",
          "24",
          "19",
          "15",
          "27",
          "04",
          "02",
          "04",
          "04",
          "04",
          "29",
          "29",
          "30",
          "03",
          "24",
          "25",
          "19",
          "30",
          "18",
          "09",
          "04",
          "16",
          "18",
          "02",
          "13",
          "03",
          "02",
          "28",
          "22",
          "04",
          "02",
          "26",
          "13",
          "28",
          "31",
          "07",
          "26",
          "05",
          "03",
          "19",
          "07",
          "11",
          "05",
          "13",
          "13",
          "22",
          "06",
          "22",
          "11",
          "11",
          "14",
          "21",
          "18",
          "02",
          "04",
          "17",
          "06",
          "14",
          "13",
          "04",
          "21",
          "25",
          "30",
          "13",
          "05",
          "13",
          "17",
          "15",
          "18",
          "18",
          "12",
          "03",
          "27",
          "04",
          "04",
          "28",
          "14",
          "24",
          "24",
          "30",
          "21",
          "29",
          "20",
          "17",
          "22",
          "05",
          "28",
          "25",
          "10",
          "30",
          "31",
          "05",
          "20",
          "24",
          "17",
          "04",
          "10",
          "04",
          "25",
          "09",
          "13",
          "19",
          "24",
          "27",
          "21",
          "27",
          "17",
          "10",
          "18",
          "05",
          "05",
          "29",
          "10",
          "14",
          "11",
          "05",
          "16",
          "06",
          "27",
          "07",
          "26",
          "05",
          "07",
          "13",
          "05",
          "23",
          "28",
          "12",
          "30",
          "24",
          "05",
          "19",
          "17",
          "12",
          "07",
          "29",
          "13",
          "21",
          "25",
          "23",
          "12",
          "09",
          "08",
          "07",
          "09",
          "22",
          "14",
          "30",
          "13",
          "12",
          "10",
          "25",
          "29",
          "22",
          "10",
          "10",
          "17",
          "29",
          "11",
          "25",
          "26",
          "05",
          "29",
          "12",
          "26",
          "27",
          "19",
          "16",
          "31"
         ],
         "y": [
          9,
          9,
          8,
          8,
          7,
          6,
          6,
          6,
          5,
          5,
          5,
          5,
          4,
          4,
          4,
          4,
          4,
          4,
          4,
          3,
          3,
          3,
          3,
          3,
          2,
          1,
          1,
          1,
          1,
          1,
          1
         ]
        },
        {
         "name": "2019",
         "type": "bar",
         "x": [
          "13",
          "06",
          "19",
          "02",
          "01",
          "25",
          "28",
          "26",
          "26",
          "16",
          "03",
          "14",
          "17",
          "26",
          "01",
          "02",
          "17",
          "22",
          "16",
          "01",
          "04",
          "01",
          "01",
          "19",
          "22",
          "13",
          "18",
          "28",
          "28",
          "16",
          "03",
          "13",
          "02",
          "29",
          "28",
          "17",
          "28",
          "15",
          "15",
          "18",
          "02",
          "02",
          "20",
          "24",
          "19",
          "15",
          "27",
          "04",
          "02",
          "04",
          "04",
          "04",
          "29",
          "29",
          "30",
          "03",
          "24",
          "25",
          "19",
          "30",
          "18",
          "09",
          "04",
          "16",
          "18",
          "02",
          "13",
          "03",
          "02",
          "28",
          "22",
          "04",
          "02",
          "26",
          "13",
          "28",
          "31",
          "07",
          "26",
          "05",
          "03",
          "19",
          "07",
          "11",
          "05",
          "13",
          "13",
          "22",
          "06",
          "22",
          "11",
          "11",
          "14",
          "21",
          "18",
          "02",
          "04",
          "17",
          "06",
          "14",
          "13",
          "04",
          "21",
          "25",
          "30",
          "13",
          "05",
          "13",
          "17",
          "15",
          "18",
          "18",
          "12",
          "03",
          "27",
          "04",
          "04",
          "28",
          "14",
          "24",
          "24",
          "30",
          "21",
          "29",
          "20",
          "17",
          "22",
          "05",
          "28",
          "25",
          "10",
          "30",
          "31",
          "05",
          "20",
          "24",
          "17",
          "04",
          "10",
          "04",
          "25",
          "09",
          "13",
          "19",
          "24",
          "27",
          "21",
          "27",
          "17",
          "10",
          "18",
          "05",
          "05",
          "29",
          "10",
          "14",
          "11",
          "05",
          "16",
          "06",
          "27",
          "07",
          "26",
          "05",
          "07",
          "13",
          "05",
          "23",
          "28",
          "12",
          "30",
          "24",
          "05",
          "19",
          "17",
          "12",
          "07",
          "29",
          "13",
          "21",
          "25",
          "23",
          "12",
          "09",
          "08",
          "07",
          "09",
          "22",
          "14",
          "30",
          "13",
          "12",
          "10",
          "25",
          "29",
          "22",
          "10",
          "10",
          "17",
          "29",
          "11",
          "25",
          "26",
          "05",
          "29",
          "12",
          "26",
          "27",
          "19",
          "16",
          "31"
         ],
         "y": [
          7,
          7,
          6,
          5,
          5,
          5,
          5,
          4,
          4,
          4,
          4,
          4,
          3,
          2,
          2,
          2,
          2,
          2,
          2,
          2,
          1,
          1,
          1,
          1
         ]
        }
       ],
       "layout": {
        "template": {
         "data": {
          "bar": [
           {
            "error_x": {
             "color": "#2a3f5f"
            },
            "error_y": {
             "color": "#2a3f5f"
            },
            "marker": {
             "line": {
              "color": "#E5ECF6",
              "width": 0.5
             }
            },
            "type": "bar"
           }
          ],
          "barpolar": [
           {
            "marker": {
             "line": {
              "color": "#E5ECF6",
              "width": 0.5
             }
            },
            "type": "barpolar"
           }
          ],
          "carpet": [
           {
            "aaxis": {
             "endlinecolor": "#2a3f5f",
             "gridcolor": "white",
             "linecolor": "white",
             "minorgridcolor": "white",
             "startlinecolor": "#2a3f5f"
            },
            "baxis": {
             "endlinecolor": "#2a3f5f",
             "gridcolor": "white",
             "linecolor": "white",
             "minorgridcolor": "white",
             "startlinecolor": "#2a3f5f"
            },
            "type": "carpet"
           }
          ],
          "choropleth": [
           {
            "colorbar": {
             "outlinewidth": 0,
             "ticks": ""
            },
            "type": "choropleth"
           }
          ],
          "contour": [
           {
            "colorbar": {
             "outlinewidth": 0,
             "ticks": ""
            },
            "colorscale": [
             [
              0,
              "#0d0887"
             ],
             [
              0.1111111111111111,
              "#46039f"
             ],
             [
              0.2222222222222222,
              "#7201a8"
             ],
             [
              0.3333333333333333,
              "#9c179e"
             ],
             [
              0.4444444444444444,
              "#bd3786"
             ],
             [
              0.5555555555555556,
              "#d8576b"
             ],
             [
              0.6666666666666666,
              "#ed7953"
             ],
             [
              0.7777777777777778,
              "#fb9f3a"
             ],
             [
              0.8888888888888888,
              "#fdca26"
             ],
             [
              1,
              "#f0f921"
             ]
            ],
            "type": "contour"
           }
          ],
          "contourcarpet": [
           {
            "colorbar": {
             "outlinewidth": 0,
             "ticks": ""
            },
            "type": "contourcarpet"
           }
          ],
          "heatmap": [
           {
            "colorbar": {
             "outlinewidth": 0,
             "ticks": ""
            },
            "colorscale": [
             [
              0,
              "#0d0887"
             ],
             [
              0.1111111111111111,
              "#46039f"
             ],
             [
              0.2222222222222222,
              "#7201a8"
             ],
             [
              0.3333333333333333,
              "#9c179e"
             ],
             [
              0.4444444444444444,
              "#bd3786"
             ],
             [
              0.5555555555555556,
              "#d8576b"
             ],
             [
              0.6666666666666666,
              "#ed7953"
             ],
             [
              0.7777777777777778,
              "#fb9f3a"
             ],
             [
              0.8888888888888888,
              "#fdca26"
             ],
             [
              1,
              "#f0f921"
             ]
            ],
            "type": "heatmap"
           }
          ],
          "heatmapgl": [
           {
            "colorbar": {
             "outlinewidth": 0,
             "ticks": ""
            },
            "colorscale": [
             [
              0,
              "#0d0887"
             ],
             [
              0.1111111111111111,
              "#46039f"
             ],
             [
              0.2222222222222222,
              "#7201a8"
             ],
             [
              0.3333333333333333,
              "#9c179e"
             ],
             [
              0.4444444444444444,
              "#bd3786"
             ],
             [
              0.5555555555555556,
              "#d8576b"
             ],
             [
              0.6666666666666666,
              "#ed7953"
             ],
             [
              0.7777777777777778,
              "#fb9f3a"
             ],
             [
              0.8888888888888888,
              "#fdca26"
             ],
             [
              1,
              "#f0f921"
             ]
            ],
            "type": "heatmapgl"
           }
          ],
          "histogram": [
           {
            "marker": {
             "colorbar": {
              "outlinewidth": 0,
              "ticks": ""
             }
            },
            "type": "histogram"
           }
          ],
          "histogram2d": [
           {
            "colorbar": {
             "outlinewidth": 0,
             "ticks": ""
            },
            "colorscale": [
             [
              0,
              "#0d0887"
             ],
             [
              0.1111111111111111,
              "#46039f"
             ],
             [
              0.2222222222222222,
              "#7201a8"
             ],
             [
              0.3333333333333333,
              "#9c179e"
             ],
             [
              0.4444444444444444,
              "#bd3786"
             ],
             [
              0.5555555555555556,
              "#d8576b"
             ],
             [
              0.6666666666666666,
              "#ed7953"
             ],
             [
              0.7777777777777778,
              "#fb9f3a"
             ],
             [
              0.8888888888888888,
              "#fdca26"
             ],
             [
              1,
              "#f0f921"
             ]
            ],
            "type": "histogram2d"
           }
          ],
          "histogram2dcontour": [
           {
            "colorbar": {
             "outlinewidth": 0,
             "ticks": ""
            },
            "colorscale": [
             [
              0,
              "#0d0887"
             ],
             [
              0.1111111111111111,
              "#46039f"
             ],
             [
              0.2222222222222222,
              "#7201a8"
             ],
             [
              0.3333333333333333,
              "#9c179e"
             ],
             [
              0.4444444444444444,
              "#bd3786"
             ],
             [
              0.5555555555555556,
              "#d8576b"
             ],
             [
              0.6666666666666666,
              "#ed7953"
             ],
             [
              0.7777777777777778,
              "#fb9f3a"
             ],
             [
              0.8888888888888888,
              "#fdca26"
             ],
             [
              1,
              "#f0f921"
             ]
            ],
            "type": "histogram2dcontour"
           }
          ],
          "mesh3d": [
           {
            "colorbar": {
             "outlinewidth": 0,
             "ticks": ""
            },
            "type": "mesh3d"
           }
          ],
          "parcoords": [
           {
            "line": {
             "colorbar": {
              "outlinewidth": 0,
              "ticks": ""
             }
            },
            "type": "parcoords"
           }
          ],
          "scatter": [
           {
            "marker": {
             "colorbar": {
              "outlinewidth": 0,
              "ticks": ""
             }
            },
            "type": "scatter"
           }
          ],
          "scatter3d": [
           {
            "line": {
             "colorbar": {
              "outlinewidth": 0,
              "ticks": ""
             }
            },
            "marker": {
             "colorbar": {
              "outlinewidth": 0,
              "ticks": ""
             }
            },
            "type": "scatter3d"
           }
          ],
          "scattercarpet": [
           {
            "marker": {
             "colorbar": {
              "outlinewidth": 0,
              "ticks": ""
             }
            },
            "type": "scattercarpet"
           }
          ],
          "scattergeo": [
           {
            "marker": {
             "colorbar": {
              "outlinewidth": 0,
              "ticks": ""
             }
            },
            "type": "scattergeo"
           }
          ],
          "scattergl": [
           {
            "marker": {
             "colorbar": {
              "outlinewidth": 0,
              "ticks": ""
             }
            },
            "type": "scattergl"
           }
          ],
          "scattermapbox": [
           {
            "marker": {
             "colorbar": {
              "outlinewidth": 0,
              "ticks": ""
             }
            },
            "type": "scattermapbox"
           }
          ],
          "scatterpolar": [
           {
            "marker": {
             "colorbar": {
              "outlinewidth": 0,
              "ticks": ""
             }
            },
            "type": "scatterpolar"
           }
          ],
          "scatterpolargl": [
           {
            "marker": {
             "colorbar": {
              "outlinewidth": 0,
              "ticks": ""
             }
            },
            "type": "scatterpolargl"
           }
          ],
          "scatterternary": [
           {
            "marker": {
             "colorbar": {
              "outlinewidth": 0,
              "ticks": ""
             }
            },
            "type": "scatterternary"
           }
          ],
          "surface": [
           {
            "colorbar": {
             "outlinewidth": 0,
             "ticks": ""
            },
            "colorscale": [
             [
              0,
              "#0d0887"
             ],
             [
              0.1111111111111111,
              "#46039f"
             ],
             [
              0.2222222222222222,
              "#7201a8"
             ],
             [
              0.3333333333333333,
              "#9c179e"
             ],
             [
              0.4444444444444444,
              "#bd3786"
             ],
             [
              0.5555555555555556,
              "#d8576b"
             ],
             [
              0.6666666666666666,
              "#ed7953"
             ],
             [
              0.7777777777777778,
              "#fb9f3a"
             ],
             [
              0.8888888888888888,
              "#fdca26"
             ],
             [
              1,
              "#f0f921"
             ]
            ],
            "type": "surface"
           }
          ],
          "table": [
           {
            "cells": {
             "fill": {
              "color": "#EBF0F8"
             },
             "line": {
              "color": "white"
             }
            },
            "header": {
             "fill": {
              "color": "#C8D4E3"
             },
             "line": {
              "color": "white"
             }
            },
            "type": "table"
           }
          ]
         },
         "layout": {
          "annotationdefaults": {
           "arrowcolor": "#2a3f5f",
           "arrowhead": 0,
           "arrowwidth": 1
          },
          "colorscale": {
           "diverging": [
            [
             0,
             "#8e0152"
            ],
            [
             0.1,
             "#c51b7d"
            ],
            [
             0.2,
             "#de77ae"
            ],
            [
             0.3,
             "#f1b6da"
            ],
            [
             0.4,
             "#fde0ef"
            ],
            [
             0.5,
             "#f7f7f7"
            ],
            [
             0.6,
             "#e6f5d0"
            ],
            [
             0.7,
             "#b8e186"
            ],
            [
             0.8,
             "#7fbc41"
            ],
            [
             0.9,
             "#4d9221"
            ],
            [
             1,
             "#276419"
            ]
           ],
           "sequential": [
            [
             0,
             "#0d0887"
            ],
            [
             0.1111111111111111,
             "#46039f"
            ],
            [
             0.2222222222222222,
             "#7201a8"
            ],
            [
             0.3333333333333333,
             "#9c179e"
            ],
            [
             0.4444444444444444,
             "#bd3786"
            ],
            [
             0.5555555555555556,
             "#d8576b"
            ],
            [
             0.6666666666666666,
             "#ed7953"
            ],
            [
             0.7777777777777778,
             "#fb9f3a"
            ],
            [
             0.8888888888888888,
             "#fdca26"
            ],
            [
             1,
             "#f0f921"
            ]
           ],
           "sequentialminus": [
            [
             0,
             "#0d0887"
            ],
            [
             0.1111111111111111,
             "#46039f"
            ],
            [
             0.2222222222222222,
             "#7201a8"
            ],
            [
             0.3333333333333333,
             "#9c179e"
            ],
            [
             0.4444444444444444,
             "#bd3786"
            ],
            [
             0.5555555555555556,
             "#d8576b"
            ],
            [
             0.6666666666666666,
             "#ed7953"
            ],
            [
             0.7777777777777778,
             "#fb9f3a"
            ],
            [
             0.8888888888888888,
             "#fdca26"
            ],
            [
             1,
             "#f0f921"
            ]
           ]
          },
          "colorway": [
           "#636efa",
           "#EF553B",
           "#00cc96",
           "#ab63fa",
           "#FFA15A",
           "#19d3f3",
           "#FF6692",
           "#B6E880",
           "#FF97FF",
           "#FECB52"
          ],
          "font": {
           "color": "#2a3f5f"
          },
          "geo": {
           "bgcolor": "white",
           "lakecolor": "white",
           "landcolor": "#E5ECF6",
           "showlakes": true,
           "showland": true,
           "subunitcolor": "white"
          },
          "hoverlabel": {
           "align": "left"
          },
          "hovermode": "closest",
          "mapbox": {
           "style": "light"
          },
          "paper_bgcolor": "white",
          "plot_bgcolor": "#E5ECF6",
          "polar": {
           "angularaxis": {
            "gridcolor": "white",
            "linecolor": "white",
            "ticks": ""
           },
           "bgcolor": "#E5ECF6",
           "radialaxis": {
            "gridcolor": "white",
            "linecolor": "white",
            "ticks": ""
           }
          },
          "scene": {
           "xaxis": {
            "backgroundcolor": "#E5ECF6",
            "gridcolor": "white",
            "gridwidth": 2,
            "linecolor": "white",
            "showbackground": true,
            "ticks": "",
            "zerolinecolor": "white"
           },
           "yaxis": {
            "backgroundcolor": "#E5ECF6",
            "gridcolor": "white",
            "gridwidth": 2,
            "linecolor": "white",
            "showbackground": true,
            "ticks": "",
            "zerolinecolor": "white"
           },
           "zaxis": {
            "backgroundcolor": "#E5ECF6",
            "gridcolor": "white",
            "gridwidth": 2,
            "linecolor": "white",
            "showbackground": true,
            "ticks": "",
            "zerolinecolor": "white"
           }
          },
          "shapedefaults": {
           "line": {
            "color": "#2a3f5f"
           }
          },
          "ternary": {
           "aaxis": {
            "gridcolor": "white",
            "linecolor": "white",
            "ticks": ""
           },
           "baxis": {
            "gridcolor": "white",
            "linecolor": "white",
            "ticks": ""
           },
           "bgcolor": "#E5ECF6",
           "caxis": {
            "gridcolor": "white",
            "linecolor": "white",
            "ticks": ""
           }
          },
          "title": {
           "x": 0.05
          },
          "xaxis": {
           "automargin": true,
           "gridcolor": "white",
           "linecolor": "white",
           "ticks": "",
           "zerolinecolor": "white",
           "zerolinewidth": 2
          },
          "yaxis": {
           "automargin": true,
           "gridcolor": "white",
           "linecolor": "white",
           "ticks": "",
           "zerolinecolor": "white",
           "zerolinewidth": 2
          }
         }
        }
       }
      },
      "text/html": [
       "<div>\n",
       "        \n",
       "        \n",
       "            <div id=\"227ab018-d691-44dc-b9b2-57391cdb7def\" class=\"plotly-graph-div\" style=\"height:525px; width:100%;\"></div>\n",
       "            <script type=\"text/javascript\">\n",
       "                require([\"plotly\"], function(Plotly) {\n",
       "                    window.PLOTLYENV=window.PLOTLYENV || {};\n",
       "                    \n",
       "                if (document.getElementById(\"227ab018-d691-44dc-b9b2-57391cdb7def\")) {\n",
       "                    Plotly.newPlot(\n",
       "                        '227ab018-d691-44dc-b9b2-57391cdb7def',\n",
       "                        [{\"name\": \"2018\", \"type\": \"bar\", \"x\": [\"13\", \"06\", \"19\", \"02\", \"01\", \"25\", \"28\", \"26\", \"26\", \"16\", \"03\", \"14\", \"17\", \"26\", \"01\", \"02\", \"17\", \"22\", \"16\", \"01\", \"04\", \"01\", \"01\", \"19\", \"22\", \"13\", \"18\", \"28\", \"28\", \"16\", \"03\", \"13\", \"02\", \"29\", \"28\", \"17\", \"28\", \"15\", \"15\", \"18\", \"02\", \"02\", \"20\", \"24\", \"19\", \"15\", \"27\", \"04\", \"02\", \"04\", \"04\", \"04\", \"29\", \"29\", \"30\", \"03\", \"24\", \"25\", \"19\", \"30\", \"18\", \"09\", \"04\", \"16\", \"18\", \"02\", \"13\", \"03\", \"02\", \"28\", \"22\", \"04\", \"02\", \"26\", \"13\", \"28\", \"31\", \"07\", \"26\", \"05\", \"03\", \"19\", \"07\", \"11\", \"05\", \"13\", \"13\", \"22\", \"06\", \"22\", \"11\", \"11\", \"14\", \"21\", \"18\", \"02\", \"04\", \"17\", \"06\", \"14\", \"13\", \"04\", \"21\", \"25\", \"30\", \"13\", \"05\", \"13\", \"17\", \"15\", \"18\", \"18\", \"12\", \"03\", \"27\", \"04\", \"04\", \"28\", \"14\", \"24\", \"24\", \"30\", \"21\", \"29\", \"20\", \"17\", \"22\", \"05\", \"28\", \"25\", \"10\", \"30\", \"31\", \"05\", \"20\", \"24\", \"17\", \"04\", \"10\", \"04\", \"25\", \"09\", \"13\", \"19\", \"24\", \"27\", \"21\", \"27\", \"17\", \"10\", \"18\", \"05\", \"05\", \"29\", \"10\", \"14\", \"11\", \"05\", \"16\", \"06\", \"27\", \"07\", \"26\", \"05\", \"07\", \"13\", \"05\", \"23\", \"28\", \"12\", \"30\", \"24\", \"05\", \"19\", \"17\", \"12\", \"07\", \"29\", \"13\", \"21\", \"25\", \"23\", \"12\", \"09\", \"08\", \"07\", \"09\", \"22\", \"14\", \"30\", \"13\", \"12\", \"10\", \"25\", \"29\", \"22\", \"10\", \"10\", \"17\", \"29\", \"11\", \"25\", \"26\", \"05\", \"29\", \"12\", \"26\", \"27\", \"19\", \"16\", \"31\"], \"y\": [9, 9, 8, 8, 7, 6, 6, 6, 5, 5, 5, 5, 4, 4, 4, 4, 4, 4, 4, 3, 3, 3, 3, 3, 2, 1, 1, 1, 1, 1, 1]}, {\"name\": \"2019\", \"type\": \"bar\", \"x\": [\"13\", \"06\", \"19\", \"02\", \"01\", \"25\", \"28\", \"26\", \"26\", \"16\", \"03\", \"14\", \"17\", \"26\", \"01\", \"02\", \"17\", \"22\", \"16\", \"01\", \"04\", \"01\", \"01\", \"19\", \"22\", \"13\", \"18\", \"28\", \"28\", \"16\", \"03\", \"13\", \"02\", \"29\", \"28\", \"17\", \"28\", \"15\", \"15\", \"18\", \"02\", \"02\", \"20\", \"24\", \"19\", \"15\", \"27\", \"04\", \"02\", \"04\", \"04\", \"04\", \"29\", \"29\", \"30\", \"03\", \"24\", \"25\", \"19\", \"30\", \"18\", \"09\", \"04\", \"16\", \"18\", \"02\", \"13\", \"03\", \"02\", \"28\", \"22\", \"04\", \"02\", \"26\", \"13\", \"28\", \"31\", \"07\", \"26\", \"05\", \"03\", \"19\", \"07\", \"11\", \"05\", \"13\", \"13\", \"22\", \"06\", \"22\", \"11\", \"11\", \"14\", \"21\", \"18\", \"02\", \"04\", \"17\", \"06\", \"14\", \"13\", \"04\", \"21\", \"25\", \"30\", \"13\", \"05\", \"13\", \"17\", \"15\", \"18\", \"18\", \"12\", \"03\", \"27\", \"04\", \"04\", \"28\", \"14\", \"24\", \"24\", \"30\", \"21\", \"29\", \"20\", \"17\", \"22\", \"05\", \"28\", \"25\", \"10\", \"30\", \"31\", \"05\", \"20\", \"24\", \"17\", \"04\", \"10\", \"04\", \"25\", \"09\", \"13\", \"19\", \"24\", \"27\", \"21\", \"27\", \"17\", \"10\", \"18\", \"05\", \"05\", \"29\", \"10\", \"14\", \"11\", \"05\", \"16\", \"06\", \"27\", \"07\", \"26\", \"05\", \"07\", \"13\", \"05\", \"23\", \"28\", \"12\", \"30\", \"24\", \"05\", \"19\", \"17\", \"12\", \"07\", \"29\", \"13\", \"21\", \"25\", \"23\", \"12\", \"09\", \"08\", \"07\", \"09\", \"22\", \"14\", \"30\", \"13\", \"12\", \"10\", \"25\", \"29\", \"22\", \"10\", \"10\", \"17\", \"29\", \"11\", \"25\", \"26\", \"05\", \"29\", \"12\", \"26\", \"27\", \"19\", \"16\", \"31\"], \"y\": [7, 7, 6, 5, 5, 5, 5, 4, 4, 4, 4, 4, 3, 2, 2, 2, 2, 2, 2, 2, 1, 1, 1, 1]}],\n",
       "                        {\"template\": {\"data\": {\"bar\": [{\"error_x\": {\"color\": \"#2a3f5f\"}, \"error_y\": {\"color\": \"#2a3f5f\"}, \"marker\": {\"line\": {\"color\": \"#E5ECF6\", \"width\": 0.5}}, \"type\": \"bar\"}], \"barpolar\": [{\"marker\": {\"line\": {\"color\": \"#E5ECF6\", \"width\": 0.5}}, \"type\": \"barpolar\"}], \"carpet\": [{\"aaxis\": {\"endlinecolor\": \"#2a3f5f\", \"gridcolor\": \"white\", \"linecolor\": \"white\", \"minorgridcolor\": \"white\", \"startlinecolor\": \"#2a3f5f\"}, \"baxis\": {\"endlinecolor\": \"#2a3f5f\", \"gridcolor\": \"white\", \"linecolor\": \"white\", \"minorgridcolor\": \"white\", \"startlinecolor\": \"#2a3f5f\"}, \"type\": \"carpet\"}], \"choropleth\": [{\"colorbar\": {\"outlinewidth\": 0, \"ticks\": \"\"}, \"type\": \"choropleth\"}], \"contour\": [{\"colorbar\": {\"outlinewidth\": 0, \"ticks\": \"\"}, \"colorscale\": [[0.0, \"#0d0887\"], [0.1111111111111111, \"#46039f\"], [0.2222222222222222, \"#7201a8\"], [0.3333333333333333, \"#9c179e\"], [0.4444444444444444, \"#bd3786\"], [0.5555555555555556, \"#d8576b\"], [0.6666666666666666, \"#ed7953\"], [0.7777777777777778, \"#fb9f3a\"], [0.8888888888888888, \"#fdca26\"], [1.0, \"#f0f921\"]], \"type\": \"contour\"}], \"contourcarpet\": [{\"colorbar\": {\"outlinewidth\": 0, \"ticks\": \"\"}, \"type\": \"contourcarpet\"}], \"heatmap\": [{\"colorbar\": {\"outlinewidth\": 0, \"ticks\": \"\"}, \"colorscale\": [[0.0, \"#0d0887\"], [0.1111111111111111, \"#46039f\"], [0.2222222222222222, \"#7201a8\"], [0.3333333333333333, \"#9c179e\"], [0.4444444444444444, \"#bd3786\"], [0.5555555555555556, \"#d8576b\"], [0.6666666666666666, \"#ed7953\"], [0.7777777777777778, \"#fb9f3a\"], [0.8888888888888888, \"#fdca26\"], [1.0, \"#f0f921\"]], \"type\": \"heatmap\"}], \"heatmapgl\": [{\"colorbar\": {\"outlinewidth\": 0, \"ticks\": \"\"}, \"colorscale\": [[0.0, \"#0d0887\"], [0.1111111111111111, \"#46039f\"], [0.2222222222222222, \"#7201a8\"], [0.3333333333333333, \"#9c179e\"], [0.4444444444444444, \"#bd3786\"], [0.5555555555555556, \"#d8576b\"], [0.6666666666666666, \"#ed7953\"], [0.7777777777777778, \"#fb9f3a\"], [0.8888888888888888, \"#fdca26\"], [1.0, \"#f0f921\"]], \"type\": \"heatmapgl\"}], \"histogram\": [{\"marker\": {\"colorbar\": {\"outlinewidth\": 0, \"ticks\": \"\"}}, \"type\": \"histogram\"}], \"histogram2d\": [{\"colorbar\": {\"outlinewidth\": 0, \"ticks\": \"\"}, \"colorscale\": [[0.0, \"#0d0887\"], [0.1111111111111111, \"#46039f\"], [0.2222222222222222, \"#7201a8\"], [0.3333333333333333, \"#9c179e\"], [0.4444444444444444, \"#bd3786\"], [0.5555555555555556, \"#d8576b\"], [0.6666666666666666, \"#ed7953\"], [0.7777777777777778, \"#fb9f3a\"], [0.8888888888888888, \"#fdca26\"], [1.0, \"#f0f921\"]], \"type\": \"histogram2d\"}], \"histogram2dcontour\": [{\"colorbar\": {\"outlinewidth\": 0, \"ticks\": \"\"}, \"colorscale\": [[0.0, \"#0d0887\"], [0.1111111111111111, \"#46039f\"], [0.2222222222222222, \"#7201a8\"], [0.3333333333333333, \"#9c179e\"], [0.4444444444444444, \"#bd3786\"], [0.5555555555555556, \"#d8576b\"], [0.6666666666666666, \"#ed7953\"], [0.7777777777777778, \"#fb9f3a\"], [0.8888888888888888, \"#fdca26\"], [1.0, \"#f0f921\"]], \"type\": \"histogram2dcontour\"}], \"mesh3d\": [{\"colorbar\": {\"outlinewidth\": 0, \"ticks\": \"\"}, \"type\": \"mesh3d\"}], \"parcoords\": [{\"line\": {\"colorbar\": {\"outlinewidth\": 0, \"ticks\": \"\"}}, \"type\": \"parcoords\"}], \"scatter\": [{\"marker\": {\"colorbar\": {\"outlinewidth\": 0, \"ticks\": \"\"}}, \"type\": \"scatter\"}], \"scatter3d\": [{\"line\": {\"colorbar\": {\"outlinewidth\": 0, \"ticks\": \"\"}}, \"marker\": {\"colorbar\": {\"outlinewidth\": 0, \"ticks\": \"\"}}, \"type\": \"scatter3d\"}], \"scattercarpet\": [{\"marker\": {\"colorbar\": {\"outlinewidth\": 0, \"ticks\": \"\"}}, \"type\": \"scattercarpet\"}], \"scattergeo\": [{\"marker\": {\"colorbar\": {\"outlinewidth\": 0, \"ticks\": \"\"}}, \"type\": \"scattergeo\"}], \"scattergl\": [{\"marker\": {\"colorbar\": {\"outlinewidth\": 0, \"ticks\": \"\"}}, \"type\": \"scattergl\"}], \"scattermapbox\": [{\"marker\": {\"colorbar\": {\"outlinewidth\": 0, \"ticks\": \"\"}}, \"type\": \"scattermapbox\"}], \"scatterpolar\": [{\"marker\": {\"colorbar\": {\"outlinewidth\": 0, \"ticks\": \"\"}}, \"type\": \"scatterpolar\"}], \"scatterpolargl\": [{\"marker\": {\"colorbar\": {\"outlinewidth\": 0, \"ticks\": \"\"}}, \"type\": \"scatterpolargl\"}], \"scatterternary\": [{\"marker\": {\"colorbar\": {\"outlinewidth\": 0, \"ticks\": \"\"}}, \"type\": \"scatterternary\"}], \"surface\": [{\"colorbar\": {\"outlinewidth\": 0, \"ticks\": \"\"}, \"colorscale\": [[0.0, \"#0d0887\"], [0.1111111111111111, \"#46039f\"], [0.2222222222222222, \"#7201a8\"], [0.3333333333333333, \"#9c179e\"], [0.4444444444444444, \"#bd3786\"], [0.5555555555555556, \"#d8576b\"], [0.6666666666666666, \"#ed7953\"], [0.7777777777777778, \"#fb9f3a\"], [0.8888888888888888, \"#fdca26\"], [1.0, \"#f0f921\"]], \"type\": \"surface\"}], \"table\": [{\"cells\": {\"fill\": {\"color\": \"#EBF0F8\"}, \"line\": {\"color\": \"white\"}}, \"header\": {\"fill\": {\"color\": \"#C8D4E3\"}, \"line\": {\"color\": \"white\"}}, \"type\": \"table\"}]}, \"layout\": {\"annotationdefaults\": {\"arrowcolor\": \"#2a3f5f\", \"arrowhead\": 0, \"arrowwidth\": 1}, \"colorscale\": {\"diverging\": [[0, \"#8e0152\"], [0.1, \"#c51b7d\"], [0.2, \"#de77ae\"], [0.3, \"#f1b6da\"], [0.4, \"#fde0ef\"], [0.5, \"#f7f7f7\"], [0.6, \"#e6f5d0\"], [0.7, \"#b8e186\"], [0.8, \"#7fbc41\"], [0.9, \"#4d9221\"], [1, \"#276419\"]], \"sequential\": [[0.0, \"#0d0887\"], [0.1111111111111111, \"#46039f\"], [0.2222222222222222, \"#7201a8\"], [0.3333333333333333, \"#9c179e\"], [0.4444444444444444, \"#bd3786\"], [0.5555555555555556, \"#d8576b\"], [0.6666666666666666, \"#ed7953\"], [0.7777777777777778, \"#fb9f3a\"], [0.8888888888888888, \"#fdca26\"], [1.0, \"#f0f921\"]], \"sequentialminus\": [[0.0, \"#0d0887\"], [0.1111111111111111, \"#46039f\"], [0.2222222222222222, \"#7201a8\"], [0.3333333333333333, \"#9c179e\"], [0.4444444444444444, \"#bd3786\"], [0.5555555555555556, \"#d8576b\"], [0.6666666666666666, \"#ed7953\"], [0.7777777777777778, \"#fb9f3a\"], [0.8888888888888888, \"#fdca26\"], [1.0, \"#f0f921\"]]}, \"colorway\": [\"#636efa\", \"#EF553B\", \"#00cc96\", \"#ab63fa\", \"#FFA15A\", \"#19d3f3\", \"#FF6692\", \"#B6E880\", \"#FF97FF\", \"#FECB52\"], \"font\": {\"color\": \"#2a3f5f\"}, \"geo\": {\"bgcolor\": \"white\", \"lakecolor\": \"white\", \"landcolor\": \"#E5ECF6\", \"showlakes\": true, \"showland\": true, \"subunitcolor\": \"white\"}, \"hoverlabel\": {\"align\": \"left\"}, \"hovermode\": \"closest\", \"mapbox\": {\"style\": \"light\"}, \"paper_bgcolor\": \"white\", \"plot_bgcolor\": \"#E5ECF6\", \"polar\": {\"angularaxis\": {\"gridcolor\": \"white\", \"linecolor\": \"white\", \"ticks\": \"\"}, \"bgcolor\": \"#E5ECF6\", \"radialaxis\": {\"gridcolor\": \"white\", \"linecolor\": \"white\", \"ticks\": \"\"}}, \"scene\": {\"xaxis\": {\"backgroundcolor\": \"#E5ECF6\", \"gridcolor\": \"white\", \"gridwidth\": 2, \"linecolor\": \"white\", \"showbackground\": true, \"ticks\": \"\", \"zerolinecolor\": \"white\"}, \"yaxis\": {\"backgroundcolor\": \"#E5ECF6\", \"gridcolor\": \"white\", \"gridwidth\": 2, \"linecolor\": \"white\", \"showbackground\": true, \"ticks\": \"\", \"zerolinecolor\": \"white\"}, \"zaxis\": {\"backgroundcolor\": \"#E5ECF6\", \"gridcolor\": \"white\", \"gridwidth\": 2, \"linecolor\": \"white\", \"showbackground\": true, \"ticks\": \"\", \"zerolinecolor\": \"white\"}}, \"shapedefaults\": {\"line\": {\"color\": \"#2a3f5f\"}}, \"ternary\": {\"aaxis\": {\"gridcolor\": \"white\", \"linecolor\": \"white\", \"ticks\": \"\"}, \"baxis\": {\"gridcolor\": \"white\", \"linecolor\": \"white\", \"ticks\": \"\"}, \"bgcolor\": \"#E5ECF6\", \"caxis\": {\"gridcolor\": \"white\", \"linecolor\": \"white\", \"ticks\": \"\"}}, \"title\": {\"x\": 0.05}, \"xaxis\": {\"automargin\": true, \"gridcolor\": \"white\", \"linecolor\": \"white\", \"ticks\": \"\", \"zerolinecolor\": \"white\", \"zerolinewidth\": 2}, \"yaxis\": {\"automargin\": true, \"gridcolor\": \"white\", \"linecolor\": \"white\", \"ticks\": \"\", \"zerolinecolor\": \"white\", \"zerolinewidth\": 2}}}},\n",
       "                        {\"responsive\": true}\n",
       "                    ).then(function(){\n",
       "                            \n",
       "var gd = document.getElementById('227ab018-d691-44dc-b9b2-57391cdb7def');\n",
       "var x = new MutationObserver(function (mutations, observer) {{\n",
       "        var display = window.getComputedStyle(gd).display;\n",
       "        if (!display || display === 'none') {{\n",
       "            console.log([gd, 'removed!']);\n",
       "            Plotly.purge(gd);\n",
       "            observer.disconnect();\n",
       "        }}\n",
       "}});\n",
       "\n",
       "// Listen for the removal of the full notebook cells\n",
       "var notebookContainer = gd.closest('#notebook-container');\n",
       "if (notebookContainer) {{\n",
       "    x.observe(notebookContainer, {childList: true});\n",
       "}}\n",
       "\n",
       "// Listen for the clearing of the current output cell\n",
       "var outputEl = gd.closest('.output');\n",
       "if (outputEl) {{\n",
       "    x.observe(outputEl, {childList: true});\n",
       "}}\n",
       "\n",
       "                        })\n",
       "                };\n",
       "                });\n",
       "            </script>\n",
       "        </div>"
      ]
     },
     "metadata": {},
     "output_type": "display_data"
    }
   ],
   "source": [
    "trace1 = go.Bar(x = df_novo['DIA_OCORRENCIA'],\n",
    "                y = df_novo[df_novo['ANO_BO'] == 2018].groupby('DIA_OCORRENCIA').size().sort_values(ascending=False),\n",
    "                name = '2018')\n",
    "trace2 = go.Bar(x = df_novo['DIA_OCORRENCIA'],\n",
    "                y = df_novo[df_novo['ANO_BO'] == 2019].groupby('DIA_OCORRENCIA').size().sort_values(ascending=False),\n",
    "                name = '2019')\n",
    "\n",
    "df = [trace1, trace2]\n",
    "\n",
    "py.iplot(df)"
   ]
  },
  {
   "cell_type": "markdown",
   "metadata": {},
   "source": [
    "Os dias que possuem maior taxa de ocorrência do crime são:\n",
    "\n",
    "1. Em 2018:\n",
    "    - Dia 01.\n",
    "    - Dia 26.\n",
    "    - Dia 4.\n",
    "    \n",
    "\n",
    "* Em 2019:\n",
    "    - Dia 01.\n",
    "    - Dia 26.\n",
    "    - Dias 02, 06, 13 e 19."
   ]
  },
  {
   "cell_type": "markdown",
   "metadata": {},
   "source": [
    "### Locais com Maiores Taxas de Feminicídio"
   ]
  },
  {
   "cell_type": "markdown",
   "metadata": {},
   "source": [
    "#### Cidades\n",
    "\n",
    "O gráfico abaixo mostra que a **cidade de Campinas** é o local onde possui as maiores taxas de feminicídio."
   ]
  },
  {
   "cell_type": "code",
   "execution_count": 544,
   "metadata": {},
   "outputs": [
    {
     "data": {
      "application/vnd.plotly.v1+json": {
       "config": {
        "linkText": "Export to plot.ly",
        "plotlyServerURL": "https://plot.ly",
        "showLink": false
       },
       "data": [
        {
         "marker": {
          "color": "#d35400"
         },
         "name": "2018",
         "type": "bar",
         "x": [
          "Campinas",
          "Guara",
          "Poloni",
          "Jeriquara",
          "Pedreira",
          "Campinas",
          "Sarapui",
          "S.isabel",
          "S.carlos",
          "Campinas",
          "Campinas",
          "Campinas",
          "Itapira",
          "Campinas",
          "Francisco morato",
          "Cesario lange",
          "Campinas",
          "Americana",
          "Piracicaba",
          "Campinas",
          "Dumont",
          "Praia grande",
          "Lins",
          "Ourinhos",
          "Ibate",
          "Salto",
          "Botucatu",
          "S.paulo",
          "S.paulo",
          "Palmital",
          "Guararema",
          "Canas",
          "Cajamar",
          "Itajobi",
          "Cubatao",
          "Votorantim",
          "Engenheiro coelho",
          "S.vicente",
          "Braganca paulista",
          "Icem",
          "S.caetano do sul",
          "Barueri",
          "Tatui",
          "S.paulo",
          "Paraguacu paulista",
          "S.paulo",
          "Jundiai",
          "Teodoro sampaio",
          "S.paulo",
          "Pitangueiras",
          "Araraquara",
          "Guara",
          "Guaira",
          "Tiete",
          "Vera cruz",
          "Itaquaquecetuba",
          "S.jose dos campos",
          "Brotas",
          "Morro agudo",
          "Cajamar",
          "S.jose do rio preto",
          "Pindamonhangaba",
          "Monte alto",
          "Jaboticabal",
          "Cordeiropolis",
          "S.paulo",
          "Cafelandia",
          "Borborema",
          "Maua",
          "Itapevi",
          "S.paulo",
          "S.paulo",
          "S.paulo",
          "Barretos",
          "Serra negra",
          "Guaira",
          "Aguas de lindoia",
          "Vargem grande paulista",
          "Adamantina",
          "Ibate",
          "S.paulo",
          "S.jose dos campos",
          "Ituverava",
          "Presidente prudente",
          "Presidente venceslau",
          null,
          "Franco da rocha",
          "S.jose dos campos",
          "Hortolandia",
          "Tatui",
          "Miracatu",
          "Alvares machado",
          "Taboao da serra",
          "Campinas",
          "S.bernardo do campo",
          "S.paulo",
          "Osasco",
          "Guarulhos",
          "Colina",
          "S.andre",
          "Santana de parnaiba",
          "Varzea paulista",
          "S.paulo",
          "Batatais",
          "Cosmopolis",
          "Guarulhos",
          "Pirapora bom jesus",
          "Praia grande",
          "Guarulhos",
          "Capivari",
          "S.andre",
          "S.andre",
          "Osasco",
          "S.bernardo do campo",
          "S.andre",
          "Guarulhos",
          "Suzano",
          "Campinas",
          "Franca",
          "Indaiatuba",
          "Indaiatuba",
          "Itanhaem",
          "S.paulo",
          "S.roque",
          "Santana de parnaiba",
          "S.andre",
          "Jales",
          "Mogi das cruzes",
          "Guarulhos",
          "Votuporanga",
          "S.jose dos campos",
          "Guarulhos",
          "Tupa",
          "Itaquaquecetuba",
          "Ubatuba",
          "Maua",
          "Piracicaba",
          "Atibaia",
          "S.roque",
          "S.gertrudes",
          "Marilia",
          "Jandira",
          "S.paulo",
          "S.paulo",
          "Suzano",
          "S.paulo",
          "Itapira",
          "S.paulo",
          "S.paulo",
          "S.jose dos campos",
          "Piracicaba",
          "S.paulo",
          "S.paulo",
          "Guarulhos",
          "S.paulo",
          "Osasco",
          "Cacapava",
          "Carapicuiba",
          "Marilia",
          "Guaimbe",
          "S.paulo",
          "Guarulhos",
          "S.paulo",
          "S.paulo",
          "Maua",
          "S.paulo",
          "S.paulo",
          "S.paulo",
          "S.paulo",
          "Ferraz de vasconcelos",
          "S.paulo",
          "Ribeirao pires",
          "Campinas",
          "Franca",
          "S.joao da boa vista",
          "S.paulo",
          "S.paulo",
          "Bebedouro",
          "S.paulo",
          "Presidente prudente",
          "S.bernardo do campo",
          "Maua",
          "Diadema",
          "S.paulo",
          "S.paulo",
          "Campinas",
          "S.paulo",
          "S.paulo",
          "Guarulhos",
          "S.barbara d oeste",
          "Campinas",
          "Jau",
          "S.paulo",
          "S.paulo",
          "S.jose do rio preto",
          "S.paulo",
          "S.paulo",
          "S.paulo",
          "Osasco",
          "S.jose do rio preto",
          "S.paulo",
          "S.jose do rio preto",
          "Campinas",
          "Ribeirao preto",
          "S.paulo",
          "S.paulo",
          "Sorocaba",
          "Sorocaba",
          "Bauru",
          "Ribeirao preto",
          "Bauru"
         ],
         "y": [
          27,
          9,
          6,
          4,
          3,
          3,
          2,
          2,
          2,
          2,
          2,
          2,
          2,
          2,
          2,
          2,
          2,
          1,
          1,
          1,
          1,
          1,
          1,
          1,
          1,
          1,
          1,
          1,
          1,
          1,
          1,
          1,
          1,
          1,
          1,
          1,
          1,
          1,
          1,
          1,
          1,
          1,
          1,
          1,
          1,
          1,
          1,
          1,
          1,
          1,
          1,
          1,
          1,
          1,
          1,
          1,
          1,
          1,
          1,
          1,
          1,
          1,
          1,
          1,
          1,
          1,
          1,
          1,
          1,
          1,
          1,
          1,
          1
         ]
        },
        {
         "marker": {
          "color": "#f39c12"
         },
         "name": "2019",
         "type": "bar",
         "x": [
          "Campinas",
          "Guara",
          "Poloni",
          "Jeriquara",
          "Pedreira",
          "Campinas",
          "Sarapui",
          "S.isabel",
          "S.carlos",
          "Campinas",
          "Campinas",
          "Campinas",
          "Itapira",
          "Campinas",
          "Francisco morato",
          "Cesario lange",
          "Campinas",
          "Americana",
          "Piracicaba",
          "Campinas",
          "Dumont",
          "Praia grande",
          "Lins",
          "Ourinhos",
          "Ibate",
          "Salto",
          "Botucatu",
          "S.paulo",
          "S.paulo",
          "Palmital",
          "Guararema",
          "Canas",
          "Cajamar",
          "Itajobi",
          "Cubatao",
          "Votorantim",
          "Engenheiro coelho",
          "S.vicente",
          "Braganca paulista",
          "Icem",
          "S.caetano do sul",
          "Barueri",
          "Tatui",
          "S.paulo",
          "Paraguacu paulista",
          "S.paulo",
          "Jundiai",
          "Teodoro sampaio",
          "S.paulo",
          "Pitangueiras",
          "Araraquara",
          "Guara",
          "Guaira",
          "Tiete",
          "Vera cruz",
          "Itaquaquecetuba",
          "S.jose dos campos",
          "Brotas",
          "Morro agudo",
          "Cajamar",
          "S.jose do rio preto",
          "Pindamonhangaba",
          "Monte alto",
          "Jaboticabal",
          "Cordeiropolis",
          "S.paulo",
          "Cafelandia",
          "Borborema",
          "Maua",
          "Itapevi",
          "S.paulo",
          "S.paulo",
          "S.paulo",
          "Barretos",
          "Serra negra",
          "Guaira",
          "Aguas de lindoia",
          "Vargem grande paulista",
          "Adamantina",
          "Ibate",
          "S.paulo",
          "S.jose dos campos",
          "Ituverava",
          "Presidente prudente",
          "Presidente venceslau",
          null,
          "Franco da rocha",
          "S.jose dos campos",
          "Hortolandia",
          "Tatui",
          "Miracatu",
          "Alvares machado",
          "Taboao da serra",
          "Campinas",
          "S.bernardo do campo",
          "S.paulo",
          "Osasco",
          "Guarulhos",
          "Colina",
          "S.andre",
          "Santana de parnaiba",
          "Varzea paulista",
          "S.paulo",
          "Batatais",
          "Cosmopolis",
          "Guarulhos",
          "Pirapora bom jesus",
          "Praia grande",
          "Guarulhos",
          "Capivari",
          "S.andre",
          "S.andre",
          "Osasco",
          "S.bernardo do campo",
          "S.andre",
          "Guarulhos",
          "Suzano",
          "Campinas",
          "Franca",
          "Indaiatuba",
          "Indaiatuba",
          "Itanhaem",
          "S.paulo",
          "S.roque",
          "Santana de parnaiba",
          "S.andre",
          "Jales",
          "Mogi das cruzes",
          "Guarulhos",
          "Votuporanga",
          "S.jose dos campos",
          "Guarulhos",
          "Tupa",
          "Itaquaquecetuba",
          "Ubatuba",
          "Maua",
          "Piracicaba",
          "Atibaia",
          "S.roque",
          "S.gertrudes",
          "Marilia",
          "Jandira",
          "S.paulo",
          "S.paulo",
          "Suzano",
          "S.paulo",
          "Itapira",
          "S.paulo",
          "S.paulo",
          "S.jose dos campos",
          "Piracicaba",
          "S.paulo",
          "S.paulo",
          "Guarulhos",
          "S.paulo",
          "Osasco",
          "Cacapava",
          "Carapicuiba",
          "Marilia",
          "Guaimbe",
          "S.paulo",
          "Guarulhos",
          "S.paulo",
          "S.paulo",
          "Maua",
          "S.paulo",
          "S.paulo",
          "S.paulo",
          "S.paulo",
          "Ferraz de vasconcelos",
          "S.paulo",
          "Ribeirao pires",
          "Campinas",
          "Franca",
          "S.joao da boa vista",
          "S.paulo",
          "S.paulo",
          "Bebedouro",
          "S.paulo",
          "Presidente prudente",
          "S.bernardo do campo",
          "Maua",
          "Diadema",
          "S.paulo",
          "S.paulo",
          "Campinas",
          "S.paulo",
          "S.paulo",
          "Guarulhos",
          "S.barbara d oeste",
          "Campinas",
          "Jau",
          "S.paulo",
          "S.paulo",
          "S.jose do rio preto",
          "S.paulo",
          "S.paulo",
          "S.paulo",
          "Osasco",
          "S.jose do rio preto",
          "S.paulo",
          "S.jose do rio preto",
          "Campinas",
          "Ribeirao preto",
          "S.paulo",
          "S.paulo",
          "Sorocaba",
          "Sorocaba",
          "Bauru",
          "Ribeirao preto",
          "Bauru"
         ],
         "y": [
          17,
          5,
          3,
          3,
          2,
          2,
          2,
          2,
          2,
          2,
          2,
          2,
          2,
          1,
          1,
          1,
          1,
          1,
          1,
          1,
          1,
          1,
          1,
          1,
          1,
          1,
          1,
          1,
          1,
          1,
          1,
          1,
          1,
          1,
          1,
          1,
          1,
          1,
          1,
          1,
          1,
          1,
          1,
          1,
          1,
          1,
          1
         ]
        }
       ],
       "layout": {
        "template": {
         "data": {
          "bar": [
           {
            "error_x": {
             "color": "#2a3f5f"
            },
            "error_y": {
             "color": "#2a3f5f"
            },
            "marker": {
             "line": {
              "color": "#E5ECF6",
              "width": 0.5
             }
            },
            "type": "bar"
           }
          ],
          "barpolar": [
           {
            "marker": {
             "line": {
              "color": "#E5ECF6",
              "width": 0.5
             }
            },
            "type": "barpolar"
           }
          ],
          "carpet": [
           {
            "aaxis": {
             "endlinecolor": "#2a3f5f",
             "gridcolor": "white",
             "linecolor": "white",
             "minorgridcolor": "white",
             "startlinecolor": "#2a3f5f"
            },
            "baxis": {
             "endlinecolor": "#2a3f5f",
             "gridcolor": "white",
             "linecolor": "white",
             "minorgridcolor": "white",
             "startlinecolor": "#2a3f5f"
            },
            "type": "carpet"
           }
          ],
          "choropleth": [
           {
            "colorbar": {
             "outlinewidth": 0,
             "ticks": ""
            },
            "type": "choropleth"
           }
          ],
          "contour": [
           {
            "colorbar": {
             "outlinewidth": 0,
             "ticks": ""
            },
            "colorscale": [
             [
              0,
              "#0d0887"
             ],
             [
              0.1111111111111111,
              "#46039f"
             ],
             [
              0.2222222222222222,
              "#7201a8"
             ],
             [
              0.3333333333333333,
              "#9c179e"
             ],
             [
              0.4444444444444444,
              "#bd3786"
             ],
             [
              0.5555555555555556,
              "#d8576b"
             ],
             [
              0.6666666666666666,
              "#ed7953"
             ],
             [
              0.7777777777777778,
              "#fb9f3a"
             ],
             [
              0.8888888888888888,
              "#fdca26"
             ],
             [
              1,
              "#f0f921"
             ]
            ],
            "type": "contour"
           }
          ],
          "contourcarpet": [
           {
            "colorbar": {
             "outlinewidth": 0,
             "ticks": ""
            },
            "type": "contourcarpet"
           }
          ],
          "heatmap": [
           {
            "colorbar": {
             "outlinewidth": 0,
             "ticks": ""
            },
            "colorscale": [
             [
              0,
              "#0d0887"
             ],
             [
              0.1111111111111111,
              "#46039f"
             ],
             [
              0.2222222222222222,
              "#7201a8"
             ],
             [
              0.3333333333333333,
              "#9c179e"
             ],
             [
              0.4444444444444444,
              "#bd3786"
             ],
             [
              0.5555555555555556,
              "#d8576b"
             ],
             [
              0.6666666666666666,
              "#ed7953"
             ],
             [
              0.7777777777777778,
              "#fb9f3a"
             ],
             [
              0.8888888888888888,
              "#fdca26"
             ],
             [
              1,
              "#f0f921"
             ]
            ],
            "type": "heatmap"
           }
          ],
          "heatmapgl": [
           {
            "colorbar": {
             "outlinewidth": 0,
             "ticks": ""
            },
            "colorscale": [
             [
              0,
              "#0d0887"
             ],
             [
              0.1111111111111111,
              "#46039f"
             ],
             [
              0.2222222222222222,
              "#7201a8"
             ],
             [
              0.3333333333333333,
              "#9c179e"
             ],
             [
              0.4444444444444444,
              "#bd3786"
             ],
             [
              0.5555555555555556,
              "#d8576b"
             ],
             [
              0.6666666666666666,
              "#ed7953"
             ],
             [
              0.7777777777777778,
              "#fb9f3a"
             ],
             [
              0.8888888888888888,
              "#fdca26"
             ],
             [
              1,
              "#f0f921"
             ]
            ],
            "type": "heatmapgl"
           }
          ],
          "histogram": [
           {
            "marker": {
             "colorbar": {
              "outlinewidth": 0,
              "ticks": ""
             }
            },
            "type": "histogram"
           }
          ],
          "histogram2d": [
           {
            "colorbar": {
             "outlinewidth": 0,
             "ticks": ""
            },
            "colorscale": [
             [
              0,
              "#0d0887"
             ],
             [
              0.1111111111111111,
              "#46039f"
             ],
             [
              0.2222222222222222,
              "#7201a8"
             ],
             [
              0.3333333333333333,
              "#9c179e"
             ],
             [
              0.4444444444444444,
              "#bd3786"
             ],
             [
              0.5555555555555556,
              "#d8576b"
             ],
             [
              0.6666666666666666,
              "#ed7953"
             ],
             [
              0.7777777777777778,
              "#fb9f3a"
             ],
             [
              0.8888888888888888,
              "#fdca26"
             ],
             [
              1,
              "#f0f921"
             ]
            ],
            "type": "histogram2d"
           }
          ],
          "histogram2dcontour": [
           {
            "colorbar": {
             "outlinewidth": 0,
             "ticks": ""
            },
            "colorscale": [
             [
              0,
              "#0d0887"
             ],
             [
              0.1111111111111111,
              "#46039f"
             ],
             [
              0.2222222222222222,
              "#7201a8"
             ],
             [
              0.3333333333333333,
              "#9c179e"
             ],
             [
              0.4444444444444444,
              "#bd3786"
             ],
             [
              0.5555555555555556,
              "#d8576b"
             ],
             [
              0.6666666666666666,
              "#ed7953"
             ],
             [
              0.7777777777777778,
              "#fb9f3a"
             ],
             [
              0.8888888888888888,
              "#fdca26"
             ],
             [
              1,
              "#f0f921"
             ]
            ],
            "type": "histogram2dcontour"
           }
          ],
          "mesh3d": [
           {
            "colorbar": {
             "outlinewidth": 0,
             "ticks": ""
            },
            "type": "mesh3d"
           }
          ],
          "parcoords": [
           {
            "line": {
             "colorbar": {
              "outlinewidth": 0,
              "ticks": ""
             }
            },
            "type": "parcoords"
           }
          ],
          "scatter": [
           {
            "marker": {
             "colorbar": {
              "outlinewidth": 0,
              "ticks": ""
             }
            },
            "type": "scatter"
           }
          ],
          "scatter3d": [
           {
            "line": {
             "colorbar": {
              "outlinewidth": 0,
              "ticks": ""
             }
            },
            "marker": {
             "colorbar": {
              "outlinewidth": 0,
              "ticks": ""
             }
            },
            "type": "scatter3d"
           }
          ],
          "scattercarpet": [
           {
            "marker": {
             "colorbar": {
              "outlinewidth": 0,
              "ticks": ""
             }
            },
            "type": "scattercarpet"
           }
          ],
          "scattergeo": [
           {
            "marker": {
             "colorbar": {
              "outlinewidth": 0,
              "ticks": ""
             }
            },
            "type": "scattergeo"
           }
          ],
          "scattergl": [
           {
            "marker": {
             "colorbar": {
              "outlinewidth": 0,
              "ticks": ""
             }
            },
            "type": "scattergl"
           }
          ],
          "scattermapbox": [
           {
            "marker": {
             "colorbar": {
              "outlinewidth": 0,
              "ticks": ""
             }
            },
            "type": "scattermapbox"
           }
          ],
          "scatterpolar": [
           {
            "marker": {
             "colorbar": {
              "outlinewidth": 0,
              "ticks": ""
             }
            },
            "type": "scatterpolar"
           }
          ],
          "scatterpolargl": [
           {
            "marker": {
             "colorbar": {
              "outlinewidth": 0,
              "ticks": ""
             }
            },
            "type": "scatterpolargl"
           }
          ],
          "scatterternary": [
           {
            "marker": {
             "colorbar": {
              "outlinewidth": 0,
              "ticks": ""
             }
            },
            "type": "scatterternary"
           }
          ],
          "surface": [
           {
            "colorbar": {
             "outlinewidth": 0,
             "ticks": ""
            },
            "colorscale": [
             [
              0,
              "#0d0887"
             ],
             [
              0.1111111111111111,
              "#46039f"
             ],
             [
              0.2222222222222222,
              "#7201a8"
             ],
             [
              0.3333333333333333,
              "#9c179e"
             ],
             [
              0.4444444444444444,
              "#bd3786"
             ],
             [
              0.5555555555555556,
              "#d8576b"
             ],
             [
              0.6666666666666666,
              "#ed7953"
             ],
             [
              0.7777777777777778,
              "#fb9f3a"
             ],
             [
              0.8888888888888888,
              "#fdca26"
             ],
             [
              1,
              "#f0f921"
             ]
            ],
            "type": "surface"
           }
          ],
          "table": [
           {
            "cells": {
             "fill": {
              "color": "#EBF0F8"
             },
             "line": {
              "color": "white"
             }
            },
            "header": {
             "fill": {
              "color": "#C8D4E3"
             },
             "line": {
              "color": "white"
             }
            },
            "type": "table"
           }
          ]
         },
         "layout": {
          "annotationdefaults": {
           "arrowcolor": "#2a3f5f",
           "arrowhead": 0,
           "arrowwidth": 1
          },
          "colorscale": {
           "diverging": [
            [
             0,
             "#8e0152"
            ],
            [
             0.1,
             "#c51b7d"
            ],
            [
             0.2,
             "#de77ae"
            ],
            [
             0.3,
             "#f1b6da"
            ],
            [
             0.4,
             "#fde0ef"
            ],
            [
             0.5,
             "#f7f7f7"
            ],
            [
             0.6,
             "#e6f5d0"
            ],
            [
             0.7,
             "#b8e186"
            ],
            [
             0.8,
             "#7fbc41"
            ],
            [
             0.9,
             "#4d9221"
            ],
            [
             1,
             "#276419"
            ]
           ],
           "sequential": [
            [
             0,
             "#0d0887"
            ],
            [
             0.1111111111111111,
             "#46039f"
            ],
            [
             0.2222222222222222,
             "#7201a8"
            ],
            [
             0.3333333333333333,
             "#9c179e"
            ],
            [
             0.4444444444444444,
             "#bd3786"
            ],
            [
             0.5555555555555556,
             "#d8576b"
            ],
            [
             0.6666666666666666,
             "#ed7953"
            ],
            [
             0.7777777777777778,
             "#fb9f3a"
            ],
            [
             0.8888888888888888,
             "#fdca26"
            ],
            [
             1,
             "#f0f921"
            ]
           ],
           "sequentialminus": [
            [
             0,
             "#0d0887"
            ],
            [
             0.1111111111111111,
             "#46039f"
            ],
            [
             0.2222222222222222,
             "#7201a8"
            ],
            [
             0.3333333333333333,
             "#9c179e"
            ],
            [
             0.4444444444444444,
             "#bd3786"
            ],
            [
             0.5555555555555556,
             "#d8576b"
            ],
            [
             0.6666666666666666,
             "#ed7953"
            ],
            [
             0.7777777777777778,
             "#fb9f3a"
            ],
            [
             0.8888888888888888,
             "#fdca26"
            ],
            [
             1,
             "#f0f921"
            ]
           ]
          },
          "colorway": [
           "#636efa",
           "#EF553B",
           "#00cc96",
           "#ab63fa",
           "#FFA15A",
           "#19d3f3",
           "#FF6692",
           "#B6E880",
           "#FF97FF",
           "#FECB52"
          ],
          "font": {
           "color": "#2a3f5f"
          },
          "geo": {
           "bgcolor": "white",
           "lakecolor": "white",
           "landcolor": "#E5ECF6",
           "showlakes": true,
           "showland": true,
           "subunitcolor": "white"
          },
          "hoverlabel": {
           "align": "left"
          },
          "hovermode": "closest",
          "mapbox": {
           "style": "light"
          },
          "paper_bgcolor": "white",
          "plot_bgcolor": "#E5ECF6",
          "polar": {
           "angularaxis": {
            "gridcolor": "white",
            "linecolor": "white",
            "ticks": ""
           },
           "bgcolor": "#E5ECF6",
           "radialaxis": {
            "gridcolor": "white",
            "linecolor": "white",
            "ticks": ""
           }
          },
          "scene": {
           "xaxis": {
            "backgroundcolor": "#E5ECF6",
            "gridcolor": "white",
            "gridwidth": 2,
            "linecolor": "white",
            "showbackground": true,
            "ticks": "",
            "zerolinecolor": "white"
           },
           "yaxis": {
            "backgroundcolor": "#E5ECF6",
            "gridcolor": "white",
            "gridwidth": 2,
            "linecolor": "white",
            "showbackground": true,
            "ticks": "",
            "zerolinecolor": "white"
           },
           "zaxis": {
            "backgroundcolor": "#E5ECF6",
            "gridcolor": "white",
            "gridwidth": 2,
            "linecolor": "white",
            "showbackground": true,
            "ticks": "",
            "zerolinecolor": "white"
           }
          },
          "shapedefaults": {
           "line": {
            "color": "#2a3f5f"
           }
          },
          "ternary": {
           "aaxis": {
            "gridcolor": "white",
            "linecolor": "white",
            "ticks": ""
           },
           "baxis": {
            "gridcolor": "white",
            "linecolor": "white",
            "ticks": ""
           },
           "bgcolor": "#E5ECF6",
           "caxis": {
            "gridcolor": "white",
            "linecolor": "white",
            "ticks": ""
           }
          },
          "title": {
           "x": 0.05
          },
          "xaxis": {
           "automargin": true,
           "gridcolor": "white",
           "linecolor": "white",
           "ticks": "",
           "zerolinecolor": "white",
           "zerolinewidth": 2
          },
          "yaxis": {
           "automargin": true,
           "gridcolor": "white",
           "linecolor": "white",
           "ticks": "",
           "zerolinecolor": "white",
           "zerolinewidth": 2
          }
         }
        }
       }
      },
      "text/html": [
       "<div>\n",
       "        \n",
       "        \n",
       "            <div id=\"8c395560-4f2e-47ae-a1ce-0127a5f0c8b9\" class=\"plotly-graph-div\" style=\"height:525px; width:100%;\"></div>\n",
       "            <script type=\"text/javascript\">\n",
       "                require([\"plotly\"], function(Plotly) {\n",
       "                    window.PLOTLYENV=window.PLOTLYENV || {};\n",
       "                    \n",
       "                if (document.getElementById(\"8c395560-4f2e-47ae-a1ce-0127a5f0c8b9\")) {\n",
       "                    Plotly.newPlot(\n",
       "                        '8c395560-4f2e-47ae-a1ce-0127a5f0c8b9',\n",
       "                        [{\"marker\": {\"color\": \"#d35400\"}, \"name\": \"2018\", \"type\": \"bar\", \"x\": [\"Campinas\", \"Guara\", \"Poloni\", \"Jeriquara\", \"Pedreira\", \"Campinas\", \"Sarapui\", \"S.isabel\", \"S.carlos\", \"Campinas\", \"Campinas\", \"Campinas\", \"Itapira\", \"Campinas\", \"Francisco morato\", \"Cesario lange\", \"Campinas\", \"Americana\", \"Piracicaba\", \"Campinas\", \"Dumont\", \"Praia grande\", \"Lins\", \"Ourinhos\", \"Ibate\", \"Salto\", \"Botucatu\", \"S.paulo\", \"S.paulo\", \"Palmital\", \"Guararema\", \"Canas\", \"Cajamar\", \"Itajobi\", \"Cubatao\", \"Votorantim\", \"Engenheiro coelho\", \"S.vicente\", \"Braganca paulista\", \"Icem\", \"S.caetano do sul\", \"Barueri\", \"Tatui\", \"S.paulo\", \"Paraguacu paulista\", \"S.paulo\", \"Jundiai\", \"Teodoro sampaio\", \"S.paulo\", \"Pitangueiras\", \"Araraquara\", \"Guara\", \"Guaira\", \"Tiete\", \"Vera cruz\", \"Itaquaquecetuba\", \"S.jose dos campos\", \"Brotas\", \"Morro agudo\", \"Cajamar\", \"S.jose do rio preto\", \"Pindamonhangaba\", \"Monte alto\", \"Jaboticabal\", \"Cordeiropolis\", \"S.paulo\", \"Cafelandia\", \"Borborema\", \"Maua\", \"Itapevi\", \"S.paulo\", \"S.paulo\", \"S.paulo\", \"Barretos\", \"Serra negra\", \"Guaira\", \"Aguas de lindoia\", \"Vargem grande paulista\", \"Adamantina\", \"Ibate\", \"S.paulo\", \"S.jose dos campos\", \"Ituverava\", \"Presidente prudente\", \"Presidente venceslau\", null, \"Franco da rocha\", \"S.jose dos campos\", \"Hortolandia\", \"Tatui\", \"Miracatu\", \"Alvares machado\", \"Taboao da serra\", \"Campinas\", \"S.bernardo do campo\", \"S.paulo\", \"Osasco\", \"Guarulhos\", \"Colina\", \"S.andre\", \"Santana de parnaiba\", \"Varzea paulista\", \"S.paulo\", \"Batatais\", \"Cosmopolis\", \"Guarulhos\", \"Pirapora bom jesus\", \"Praia grande\", \"Guarulhos\", \"Capivari\", \"S.andre\", \"S.andre\", \"Osasco\", \"S.bernardo do campo\", \"S.andre\", \"Guarulhos\", \"Suzano\", \"Campinas\", \"Franca\", \"Indaiatuba\", \"Indaiatuba\", \"Itanhaem\", \"S.paulo\", \"S.roque\", \"Santana de parnaiba\", \"S.andre\", \"Jales\", \"Mogi das cruzes\", \"Guarulhos\", \"Votuporanga\", \"S.jose dos campos\", \"Guarulhos\", \"Tupa\", \"Itaquaquecetuba\", \"Ubatuba\", \"Maua\", \"Piracicaba\", \"Atibaia\", \"S.roque\", \"S.gertrudes\", \"Marilia\", \"Jandira\", \"S.paulo\", \"S.paulo\", \"Suzano\", \"S.paulo\", \"Itapira\", \"S.paulo\", \"S.paulo\", \"S.jose dos campos\", \"Piracicaba\", \"S.paulo\", \"S.paulo\", \"Guarulhos\", \"S.paulo\", \"Osasco\", \"Cacapava\", \"Carapicuiba\", \"Marilia\", \"Guaimbe\", \"S.paulo\", \"Guarulhos\", \"S.paulo\", \"S.paulo\", \"Maua\", \"S.paulo\", \"S.paulo\", \"S.paulo\", \"S.paulo\", \"Ferraz de vasconcelos\", \"S.paulo\", \"Ribeirao pires\", \"Campinas\", \"Franca\", \"S.joao da boa vista\", \"S.paulo\", \"S.paulo\", \"Bebedouro\", \"S.paulo\", \"Presidente prudente\", \"S.bernardo do campo\", \"Maua\", \"Diadema\", \"S.paulo\", \"S.paulo\", \"Campinas\", \"S.paulo\", \"S.paulo\", \"Guarulhos\", \"S.barbara d oeste\", \"Campinas\", \"Jau\", \"S.paulo\", \"S.paulo\", \"S.jose do rio preto\", \"S.paulo\", \"S.paulo\", \"S.paulo\", \"Osasco\", \"S.jose do rio preto\", \"S.paulo\", \"S.jose do rio preto\", \"Campinas\", \"Ribeirao preto\", \"S.paulo\", \"S.paulo\", \"Sorocaba\", \"Sorocaba\", \"Bauru\", \"Ribeirao preto\", \"Bauru\"], \"y\": [27, 9, 6, 4, 3, 3, 2, 2, 2, 2, 2, 2, 2, 2, 2, 2, 2, 1, 1, 1, 1, 1, 1, 1, 1, 1, 1, 1, 1, 1, 1, 1, 1, 1, 1, 1, 1, 1, 1, 1, 1, 1, 1, 1, 1, 1, 1, 1, 1, 1, 1, 1, 1, 1, 1, 1, 1, 1, 1, 1, 1, 1, 1, 1, 1, 1, 1, 1, 1, 1, 1, 1, 1]}, {\"marker\": {\"color\": \"#f39c12\"}, \"name\": \"2019\", \"type\": \"bar\", \"x\": [\"Campinas\", \"Guara\", \"Poloni\", \"Jeriquara\", \"Pedreira\", \"Campinas\", \"Sarapui\", \"S.isabel\", \"S.carlos\", \"Campinas\", \"Campinas\", \"Campinas\", \"Itapira\", \"Campinas\", \"Francisco morato\", \"Cesario lange\", \"Campinas\", \"Americana\", \"Piracicaba\", \"Campinas\", \"Dumont\", \"Praia grande\", \"Lins\", \"Ourinhos\", \"Ibate\", \"Salto\", \"Botucatu\", \"S.paulo\", \"S.paulo\", \"Palmital\", \"Guararema\", \"Canas\", \"Cajamar\", \"Itajobi\", \"Cubatao\", \"Votorantim\", \"Engenheiro coelho\", \"S.vicente\", \"Braganca paulista\", \"Icem\", \"S.caetano do sul\", \"Barueri\", \"Tatui\", \"S.paulo\", \"Paraguacu paulista\", \"S.paulo\", \"Jundiai\", \"Teodoro sampaio\", \"S.paulo\", \"Pitangueiras\", \"Araraquara\", \"Guara\", \"Guaira\", \"Tiete\", \"Vera cruz\", \"Itaquaquecetuba\", \"S.jose dos campos\", \"Brotas\", \"Morro agudo\", \"Cajamar\", \"S.jose do rio preto\", \"Pindamonhangaba\", \"Monte alto\", \"Jaboticabal\", \"Cordeiropolis\", \"S.paulo\", \"Cafelandia\", \"Borborema\", \"Maua\", \"Itapevi\", \"S.paulo\", \"S.paulo\", \"S.paulo\", \"Barretos\", \"Serra negra\", \"Guaira\", \"Aguas de lindoia\", \"Vargem grande paulista\", \"Adamantina\", \"Ibate\", \"S.paulo\", \"S.jose dos campos\", \"Ituverava\", \"Presidente prudente\", \"Presidente venceslau\", null, \"Franco da rocha\", \"S.jose dos campos\", \"Hortolandia\", \"Tatui\", \"Miracatu\", \"Alvares machado\", \"Taboao da serra\", \"Campinas\", \"S.bernardo do campo\", \"S.paulo\", \"Osasco\", \"Guarulhos\", \"Colina\", \"S.andre\", \"Santana de parnaiba\", \"Varzea paulista\", \"S.paulo\", \"Batatais\", \"Cosmopolis\", \"Guarulhos\", \"Pirapora bom jesus\", \"Praia grande\", \"Guarulhos\", \"Capivari\", \"S.andre\", \"S.andre\", \"Osasco\", \"S.bernardo do campo\", \"S.andre\", \"Guarulhos\", \"Suzano\", \"Campinas\", \"Franca\", \"Indaiatuba\", \"Indaiatuba\", \"Itanhaem\", \"S.paulo\", \"S.roque\", \"Santana de parnaiba\", \"S.andre\", \"Jales\", \"Mogi das cruzes\", \"Guarulhos\", \"Votuporanga\", \"S.jose dos campos\", \"Guarulhos\", \"Tupa\", \"Itaquaquecetuba\", \"Ubatuba\", \"Maua\", \"Piracicaba\", \"Atibaia\", \"S.roque\", \"S.gertrudes\", \"Marilia\", \"Jandira\", \"S.paulo\", \"S.paulo\", \"Suzano\", \"S.paulo\", \"Itapira\", \"S.paulo\", \"S.paulo\", \"S.jose dos campos\", \"Piracicaba\", \"S.paulo\", \"S.paulo\", \"Guarulhos\", \"S.paulo\", \"Osasco\", \"Cacapava\", \"Carapicuiba\", \"Marilia\", \"Guaimbe\", \"S.paulo\", \"Guarulhos\", \"S.paulo\", \"S.paulo\", \"Maua\", \"S.paulo\", \"S.paulo\", \"S.paulo\", \"S.paulo\", \"Ferraz de vasconcelos\", \"S.paulo\", \"Ribeirao pires\", \"Campinas\", \"Franca\", \"S.joao da boa vista\", \"S.paulo\", \"S.paulo\", \"Bebedouro\", \"S.paulo\", \"Presidente prudente\", \"S.bernardo do campo\", \"Maua\", \"Diadema\", \"S.paulo\", \"S.paulo\", \"Campinas\", \"S.paulo\", \"S.paulo\", \"Guarulhos\", \"S.barbara d oeste\", \"Campinas\", \"Jau\", \"S.paulo\", \"S.paulo\", \"S.jose do rio preto\", \"S.paulo\", \"S.paulo\", \"S.paulo\", \"Osasco\", \"S.jose do rio preto\", \"S.paulo\", \"S.jose do rio preto\", \"Campinas\", \"Ribeirao preto\", \"S.paulo\", \"S.paulo\", \"Sorocaba\", \"Sorocaba\", \"Bauru\", \"Ribeirao preto\", \"Bauru\"], \"y\": [17, 5, 3, 3, 2, 2, 2, 2, 2, 2, 2, 2, 2, 1, 1, 1, 1, 1, 1, 1, 1, 1, 1, 1, 1, 1, 1, 1, 1, 1, 1, 1, 1, 1, 1, 1, 1, 1, 1, 1, 1, 1, 1, 1, 1, 1, 1]}],\n",
       "                        {\"template\": {\"data\": {\"bar\": [{\"error_x\": {\"color\": \"#2a3f5f\"}, \"error_y\": {\"color\": \"#2a3f5f\"}, \"marker\": {\"line\": {\"color\": \"#E5ECF6\", \"width\": 0.5}}, \"type\": \"bar\"}], \"barpolar\": [{\"marker\": {\"line\": {\"color\": \"#E5ECF6\", \"width\": 0.5}}, \"type\": \"barpolar\"}], \"carpet\": [{\"aaxis\": {\"endlinecolor\": \"#2a3f5f\", \"gridcolor\": \"white\", \"linecolor\": \"white\", \"minorgridcolor\": \"white\", \"startlinecolor\": \"#2a3f5f\"}, \"baxis\": {\"endlinecolor\": \"#2a3f5f\", \"gridcolor\": \"white\", \"linecolor\": \"white\", \"minorgridcolor\": \"white\", \"startlinecolor\": \"#2a3f5f\"}, \"type\": \"carpet\"}], \"choropleth\": [{\"colorbar\": {\"outlinewidth\": 0, \"ticks\": \"\"}, \"type\": \"choropleth\"}], \"contour\": [{\"colorbar\": {\"outlinewidth\": 0, \"ticks\": \"\"}, \"colorscale\": [[0.0, \"#0d0887\"], [0.1111111111111111, \"#46039f\"], [0.2222222222222222, \"#7201a8\"], [0.3333333333333333, \"#9c179e\"], [0.4444444444444444, \"#bd3786\"], [0.5555555555555556, \"#d8576b\"], [0.6666666666666666, \"#ed7953\"], [0.7777777777777778, \"#fb9f3a\"], [0.8888888888888888, \"#fdca26\"], [1.0, \"#f0f921\"]], \"type\": \"contour\"}], \"contourcarpet\": [{\"colorbar\": {\"outlinewidth\": 0, \"ticks\": \"\"}, \"type\": \"contourcarpet\"}], \"heatmap\": [{\"colorbar\": {\"outlinewidth\": 0, \"ticks\": \"\"}, \"colorscale\": [[0.0, \"#0d0887\"], [0.1111111111111111, \"#46039f\"], [0.2222222222222222, \"#7201a8\"], [0.3333333333333333, \"#9c179e\"], [0.4444444444444444, \"#bd3786\"], [0.5555555555555556, \"#d8576b\"], [0.6666666666666666, \"#ed7953\"], [0.7777777777777778, \"#fb9f3a\"], [0.8888888888888888, \"#fdca26\"], [1.0, \"#f0f921\"]], \"type\": \"heatmap\"}], \"heatmapgl\": [{\"colorbar\": {\"outlinewidth\": 0, \"ticks\": \"\"}, \"colorscale\": [[0.0, \"#0d0887\"], [0.1111111111111111, \"#46039f\"], [0.2222222222222222, \"#7201a8\"], [0.3333333333333333, \"#9c179e\"], [0.4444444444444444, \"#bd3786\"], [0.5555555555555556, \"#d8576b\"], [0.6666666666666666, \"#ed7953\"], [0.7777777777777778, \"#fb9f3a\"], [0.8888888888888888, \"#fdca26\"], [1.0, \"#f0f921\"]], \"type\": \"heatmapgl\"}], \"histogram\": [{\"marker\": {\"colorbar\": {\"outlinewidth\": 0, \"ticks\": \"\"}}, \"type\": \"histogram\"}], \"histogram2d\": [{\"colorbar\": {\"outlinewidth\": 0, \"ticks\": \"\"}, \"colorscale\": [[0.0, \"#0d0887\"], [0.1111111111111111, \"#46039f\"], [0.2222222222222222, \"#7201a8\"], [0.3333333333333333, \"#9c179e\"], [0.4444444444444444, \"#bd3786\"], [0.5555555555555556, \"#d8576b\"], [0.6666666666666666, \"#ed7953\"], [0.7777777777777778, \"#fb9f3a\"], [0.8888888888888888, \"#fdca26\"], [1.0, \"#f0f921\"]], \"type\": \"histogram2d\"}], \"histogram2dcontour\": [{\"colorbar\": {\"outlinewidth\": 0, \"ticks\": \"\"}, \"colorscale\": [[0.0, \"#0d0887\"], [0.1111111111111111, \"#46039f\"], [0.2222222222222222, \"#7201a8\"], [0.3333333333333333, \"#9c179e\"], [0.4444444444444444, \"#bd3786\"], [0.5555555555555556, \"#d8576b\"], [0.6666666666666666, \"#ed7953\"], [0.7777777777777778, \"#fb9f3a\"], [0.8888888888888888, \"#fdca26\"], [1.0, \"#f0f921\"]], \"type\": \"histogram2dcontour\"}], \"mesh3d\": [{\"colorbar\": {\"outlinewidth\": 0, \"ticks\": \"\"}, \"type\": \"mesh3d\"}], \"parcoords\": [{\"line\": {\"colorbar\": {\"outlinewidth\": 0, \"ticks\": \"\"}}, \"type\": \"parcoords\"}], \"scatter\": [{\"marker\": {\"colorbar\": {\"outlinewidth\": 0, \"ticks\": \"\"}}, \"type\": \"scatter\"}], \"scatter3d\": [{\"line\": {\"colorbar\": {\"outlinewidth\": 0, \"ticks\": \"\"}}, \"marker\": {\"colorbar\": {\"outlinewidth\": 0, \"ticks\": \"\"}}, \"type\": \"scatter3d\"}], \"scattercarpet\": [{\"marker\": {\"colorbar\": {\"outlinewidth\": 0, \"ticks\": \"\"}}, \"type\": \"scattercarpet\"}], \"scattergeo\": [{\"marker\": {\"colorbar\": {\"outlinewidth\": 0, \"ticks\": \"\"}}, \"type\": \"scattergeo\"}], \"scattergl\": [{\"marker\": {\"colorbar\": {\"outlinewidth\": 0, \"ticks\": \"\"}}, \"type\": \"scattergl\"}], \"scattermapbox\": [{\"marker\": {\"colorbar\": {\"outlinewidth\": 0, \"ticks\": \"\"}}, \"type\": \"scattermapbox\"}], \"scatterpolar\": [{\"marker\": {\"colorbar\": {\"outlinewidth\": 0, \"ticks\": \"\"}}, \"type\": \"scatterpolar\"}], \"scatterpolargl\": [{\"marker\": {\"colorbar\": {\"outlinewidth\": 0, \"ticks\": \"\"}}, \"type\": \"scatterpolargl\"}], \"scatterternary\": [{\"marker\": {\"colorbar\": {\"outlinewidth\": 0, \"ticks\": \"\"}}, \"type\": \"scatterternary\"}], \"surface\": [{\"colorbar\": {\"outlinewidth\": 0, \"ticks\": \"\"}, \"colorscale\": [[0.0, \"#0d0887\"], [0.1111111111111111, \"#46039f\"], [0.2222222222222222, \"#7201a8\"], [0.3333333333333333, \"#9c179e\"], [0.4444444444444444, \"#bd3786\"], [0.5555555555555556, \"#d8576b\"], [0.6666666666666666, \"#ed7953\"], [0.7777777777777778, \"#fb9f3a\"], [0.8888888888888888, \"#fdca26\"], [1.0, \"#f0f921\"]], \"type\": \"surface\"}], \"table\": [{\"cells\": {\"fill\": {\"color\": \"#EBF0F8\"}, \"line\": {\"color\": \"white\"}}, \"header\": {\"fill\": {\"color\": \"#C8D4E3\"}, \"line\": {\"color\": \"white\"}}, \"type\": \"table\"}]}, \"layout\": {\"annotationdefaults\": {\"arrowcolor\": \"#2a3f5f\", \"arrowhead\": 0, \"arrowwidth\": 1}, \"colorscale\": {\"diverging\": [[0, \"#8e0152\"], [0.1, \"#c51b7d\"], [0.2, \"#de77ae\"], [0.3, \"#f1b6da\"], [0.4, \"#fde0ef\"], [0.5, \"#f7f7f7\"], [0.6, \"#e6f5d0\"], [0.7, \"#b8e186\"], [0.8, \"#7fbc41\"], [0.9, \"#4d9221\"], [1, \"#276419\"]], \"sequential\": [[0.0, \"#0d0887\"], [0.1111111111111111, \"#46039f\"], [0.2222222222222222, \"#7201a8\"], [0.3333333333333333, \"#9c179e\"], [0.4444444444444444, \"#bd3786\"], [0.5555555555555556, \"#d8576b\"], [0.6666666666666666, \"#ed7953\"], [0.7777777777777778, \"#fb9f3a\"], [0.8888888888888888, \"#fdca26\"], [1.0, \"#f0f921\"]], \"sequentialminus\": [[0.0, \"#0d0887\"], [0.1111111111111111, \"#46039f\"], [0.2222222222222222, \"#7201a8\"], [0.3333333333333333, \"#9c179e\"], [0.4444444444444444, \"#bd3786\"], [0.5555555555555556, \"#d8576b\"], [0.6666666666666666, \"#ed7953\"], [0.7777777777777778, \"#fb9f3a\"], [0.8888888888888888, \"#fdca26\"], [1.0, \"#f0f921\"]]}, \"colorway\": [\"#636efa\", \"#EF553B\", \"#00cc96\", \"#ab63fa\", \"#FFA15A\", \"#19d3f3\", \"#FF6692\", \"#B6E880\", \"#FF97FF\", \"#FECB52\"], \"font\": {\"color\": \"#2a3f5f\"}, \"geo\": {\"bgcolor\": \"white\", \"lakecolor\": \"white\", \"landcolor\": \"#E5ECF6\", \"showlakes\": true, \"showland\": true, \"subunitcolor\": \"white\"}, \"hoverlabel\": {\"align\": \"left\"}, \"hovermode\": \"closest\", \"mapbox\": {\"style\": \"light\"}, \"paper_bgcolor\": \"white\", \"plot_bgcolor\": \"#E5ECF6\", \"polar\": {\"angularaxis\": {\"gridcolor\": \"white\", \"linecolor\": \"white\", \"ticks\": \"\"}, \"bgcolor\": \"#E5ECF6\", \"radialaxis\": {\"gridcolor\": \"white\", \"linecolor\": \"white\", \"ticks\": \"\"}}, \"scene\": {\"xaxis\": {\"backgroundcolor\": \"#E5ECF6\", \"gridcolor\": \"white\", \"gridwidth\": 2, \"linecolor\": \"white\", \"showbackground\": true, \"ticks\": \"\", \"zerolinecolor\": \"white\"}, \"yaxis\": {\"backgroundcolor\": \"#E5ECF6\", \"gridcolor\": \"white\", \"gridwidth\": 2, \"linecolor\": \"white\", \"showbackground\": true, \"ticks\": \"\", \"zerolinecolor\": \"white\"}, \"zaxis\": {\"backgroundcolor\": \"#E5ECF6\", \"gridcolor\": \"white\", \"gridwidth\": 2, \"linecolor\": \"white\", \"showbackground\": true, \"ticks\": \"\", \"zerolinecolor\": \"white\"}}, \"shapedefaults\": {\"line\": {\"color\": \"#2a3f5f\"}}, \"ternary\": {\"aaxis\": {\"gridcolor\": \"white\", \"linecolor\": \"white\", \"ticks\": \"\"}, \"baxis\": {\"gridcolor\": \"white\", \"linecolor\": \"white\", \"ticks\": \"\"}, \"bgcolor\": \"#E5ECF6\", \"caxis\": {\"gridcolor\": \"white\", \"linecolor\": \"white\", \"ticks\": \"\"}}, \"title\": {\"x\": 0.05}, \"xaxis\": {\"automargin\": true, \"gridcolor\": \"white\", \"linecolor\": \"white\", \"ticks\": \"\", \"zerolinecolor\": \"white\", \"zerolinewidth\": 2}, \"yaxis\": {\"automargin\": true, \"gridcolor\": \"white\", \"linecolor\": \"white\", \"ticks\": \"\", \"zerolinecolor\": \"white\", \"zerolinewidth\": 2}}}},\n",
       "                        {\"responsive\": true}\n",
       "                    ).then(function(){\n",
       "                            \n",
       "var gd = document.getElementById('8c395560-4f2e-47ae-a1ce-0127a5f0c8b9');\n",
       "var x = new MutationObserver(function (mutations, observer) {{\n",
       "        var display = window.getComputedStyle(gd).display;\n",
       "        if (!display || display === 'none') {{\n",
       "            console.log([gd, 'removed!']);\n",
       "            Plotly.purge(gd);\n",
       "            observer.disconnect();\n",
       "        }}\n",
       "}});\n",
       "\n",
       "// Listen for the removal of the full notebook cells\n",
       "var notebookContainer = gd.closest('#notebook-container');\n",
       "if (notebookContainer) {{\n",
       "    x.observe(notebookContainer, {childList: true});\n",
       "}}\n",
       "\n",
       "// Listen for the clearing of the current output cell\n",
       "var outputEl = gd.closest('.output');\n",
       "if (outputEl) {{\n",
       "    x.observe(outputEl, {childList: true});\n",
       "}}\n",
       "\n",
       "                        })\n",
       "                };\n",
       "                });\n",
       "            </script>\n",
       "        </div>"
      ]
     },
     "metadata": {},
     "output_type": "display_data"
    }
   ],
   "source": [
    "trace1 = go.Bar(x = df_novo['CIDADE'],\n",
    "                y = df_novo[df_novo['ANO_BO'] == 2018].groupby('CIDADE').size().sort_values(ascending=False),\n",
    "                name = '2018',\n",
    "                marker = {'color': '#d35400'})\n",
    "trace2 = go.Bar(x = df_novo['CIDADE'],\n",
    "                y = df_novo[df_novo['ANO_BO'] == 2019].groupby('CIDADE').size().sort_values(ascending=False),\n",
    "                name = '2019',\n",
    "                marker = {'color': '#f39c12'})\n",
    "\n",
    "df = [trace1, trace2]\n",
    "\n",
    "py.iplot(df)"
   ]
  },
  {
   "cell_type": "markdown",
   "metadata": {},
   "source": [
    "#### Bairros"
   ]
  },
  {
   "cell_type": "code",
   "execution_count": 547,
   "metadata": {},
   "outputs": [
    {
     "data": {
      "application/vnd.plotly.v1+json": {
       "config": {
        "linkText": "Export to plot.ly",
        "plotlyServerURL": "https://plot.ly",
        "showLink": false
       },
       "data": [
        {
         "marker": {
          "color": "#e74c3c"
         },
         "name": "2018",
         "type": "bar",
         "x": [
          "Pq valença",
          "Guara",
          "Rural",
          "Jardim primavera",
          "Jardim dos ipes",
          "Vila amazonas",
          "Morada do sol",
          "Jardim de portugal",
          "Conjunto res santa angelina",
          "Chacara tres marias",
          "Pq dos pomares",
          "Vila georgia",
          "Rural",
          "Jd campo grande",
          "Jd professor morato",
          "Jardim alvorada",
          "Jd campineiro",
          "Jardim amelia",
          "Mario dedini",
          "Joquei clube de são paulo",
          "Centro",
          "Antartica",
          "Bairro do junqueira",
          "Area rural",
          "Jd america",
          "Jardim saltense",
          "Parque das cascatas",
          "Parelheiros",
          "Perus",
          "Area rural",
          "Jd luiza",
          "Santa terezinha",
          "Vila das americas",
          "Itajobi",
          "Vl natal",
          "Clarice ii",
          "Rural",
          "Humaita",
          "Bragança paulista",
          "Icem",
          "Santa maria",
          "Pq imperial",
          "Rural",
          "Republica",
          "Centro",
          "Campo grande",
          "Cristais",
          "Vila furlan",
          "Itaquera",
          "Ibitiuva (distrito)",
          "Area rural",
          "Centro",
          "Centro",
          "Sao pedro",
          "Area central",
          "Jd carolina",
          "Campo dos alemães",
          "Centro",
          "Vila biagio",
          "Jd muriano",
          "Vila santa candida",
          "Conjunto habitacional terra dos ipes ii",
          "Jardim bela vista",
          "Jardim independencia",
          "Jardim eldorado",
          "Sao mateus",
          "Area rural",
          "Centro",
          "Jardim olinda",
          "Mont serrat",
          "Capao redondo",
          "Brasilandia",
          "Sacoma",
          "Jose eugenio miziara",
          "Jardim yara",
          "Aniceto carlos nogueira",
          "Bairro bela vista",
          "Jd são lucas",
          "Rural",
          "Ibate",
          "Cidade lider",
          "Floradas de são josé",
          "Jardim guanabara",
          "Jd humberto salvador",
          "Jardim primavera",
          null,
          "Pq vitoria",
          "Conjunto habitacional dom pedro ii",
          "Jardim nova hortolandia",
          "Rural",
          "Centro",
          "Centro",
          "J oliveira",
          "Vl sao bernardo",
          "Alves dias",
          "Sapopemba",
          "Helena maria",
          "Cabuçu",
          "Cecap",
          "Bairro jardim",
          "Jaguary",
          "Parque guarani",
          "Limao",
          "Batatais",
          "Jardim das paineiras",
          "Centro",
          "Bom jesus",
          "Trevo",
          "Cumbica",
          "Area rural",
          "Jardim rina",
          "Parque marajoara",
          "Mutinga",
          "Ferrazópolis",
          "Jardim las vegas",
          "Morros",
          "Cidade miguel badra",
          "Jd campos eliseos",
          "Jardim aeroporto iii",
          "Mosteiro de itaici",
          "Rural",
          "Centro",
          "Saude",
          "Centro",
          "Jaguary",
          "Condomínio maracanã",
          "Jardim oiti",
          "Jd são pedro",
          "Picanço",
          "Jardim eldorado",
          "Bosque dos ipês",
          "Cabuçu",
          "Area rural",
          "Centro",
          "Centro",
          "Parque são vicente",
          "Jardim itapua",
          "Vila helena",
          "Mailasque",
          "Parque dos jequitibas",
          "Marilia",
          "Pq santa tereza",
          "Liberdade",
          "Pirituba",
          "Jd maete",
          "Santa cecilia",
          "Vila izaura",
          "Vila matilde",
          "Perus",
          "Jardim diamante",
          "Area rural",
          "Vila guilherme",
          "Cangaiba",
          "Tibagy",
          "Parelheiros",
          "Bandeiras",
          "Vila santos",
          "Area rural",
          "Rural",
          "Jardim teodomiro pereira",
          "Raposo tavares",
          "Cumbica",
          "Tremembe",
          "Capao redondo",
          "Jardim zaira",
          "Ermelino matarazzo",
          "Lajeado",
          "Cidade ademar",
          "Tremembe",
          "Jd figueiredo",
          "Butanta",
          "Jardim novo ouro fino",
          "Nova aparecida",
          "Rural",
          "Recanto do jaguari",
          "Jaragua",
          "Artur alvim",
          "Residencial bebedouro",
          "Jardim paulista",
          "Vila nova prudente",
          "Demarchi",
          "Jardim zaira",
          "Campanario",
          "Jaragua",
          "Cidade ademar",
          "Jd magnólia",
          "Ipiranga",
          "Sacoma",
          "Bonsucesso",
          "Dona regina",
          "Jd tropical",
          "Area rural",
          "Campo limpo",
          "Parelheiros",
          "Jardim santo antonio i",
          "Ponte rasa",
          "Casa verde",
          "Jardim angela",
          "Santo antonio",
          "Vila militar",
          "Jardim angela",
          "Rural",
          "Jd sta clara",
          "Parque res candido portinari",
          "Barra funda",
          "Sapopemba",
          "Vila razzi",
          "Jardim joao gutierres",
          "Jd ferraz",
          "Ipiranga",
          "Vila guaggio"
         ],
         "y": [
          9,
          7,
          5,
          2,
          2,
          2,
          2,
          2,
          2,
          2,
          2,
          2,
          2,
          2,
          1,
          1,
          1,
          1,
          1,
          1,
          1,
          1,
          1,
          1,
          1,
          1,
          1,
          1,
          1,
          1,
          1,
          1,
          1,
          1,
          1,
          1,
          1,
          1,
          1,
          1,
          1,
          1,
          1,
          1,
          1,
          1,
          1,
          1,
          1,
          1,
          1,
          1,
          1,
          1,
          1,
          1,
          1,
          1,
          1,
          1,
          1,
          1,
          1,
          1,
          1,
          1,
          1,
          1,
          1,
          1,
          1,
          1,
          1,
          1,
          1,
          1,
          1,
          1,
          1,
          1,
          1,
          1,
          1,
          1,
          1,
          1,
          1,
          1,
          1,
          1,
          1,
          1,
          1,
          1,
          1,
          1,
          1,
          1,
          1,
          1,
          1
         ]
        },
        {
         "marker": {
          "color": "#e67e22"
         },
         "name": "2019",
         "type": "bar",
         "x": [
          "Pq valença",
          "Guara",
          "Rural",
          "Jardim primavera",
          "Jardim dos ipes",
          "Vila amazonas",
          "Morada do sol",
          "Jardim de portugal",
          "Conjunto res santa angelina",
          "Chacara tres marias",
          "Pq dos pomares",
          "Vila georgia",
          "Rural",
          "Jd campo grande",
          "Jd professor morato",
          "Jardim alvorada",
          "Jd campineiro",
          "Jardim amelia",
          "Mario dedini",
          "Joquei clube de são paulo",
          "Centro",
          "Antartica",
          "Bairro do junqueira",
          "Area rural",
          "Jd america",
          "Jardim saltense",
          "Parque das cascatas",
          "Parelheiros",
          "Perus",
          "Area rural",
          "Jd luiza",
          "Santa terezinha",
          "Vila das americas",
          "Itajobi",
          "Vl natal",
          "Clarice ii",
          "Rural",
          "Humaita",
          "Bragança paulista",
          "Icem",
          "Santa maria",
          "Pq imperial",
          "Rural",
          "Republica",
          "Centro",
          "Campo grande",
          "Cristais",
          "Vila furlan",
          "Itaquera",
          "Ibitiuva (distrito)",
          "Area rural",
          "Centro",
          "Centro",
          "Sao pedro",
          "Area central",
          "Jd carolina",
          "Campo dos alemães",
          "Centro",
          "Vila biagio",
          "Jd muriano",
          "Vila santa candida",
          "Conjunto habitacional terra dos ipes ii",
          "Jardim bela vista",
          "Jardim independencia",
          "Jardim eldorado",
          "Sao mateus",
          "Area rural",
          "Centro",
          "Jardim olinda",
          "Mont serrat",
          "Capao redondo",
          "Brasilandia",
          "Sacoma",
          "Jose eugenio miziara",
          "Jardim yara",
          "Aniceto carlos nogueira",
          "Bairro bela vista",
          "Jd são lucas",
          "Rural",
          "Ibate",
          "Cidade lider",
          "Floradas de são josé",
          "Jardim guanabara",
          "Jd humberto salvador",
          "Jardim primavera",
          null,
          "Pq vitoria",
          "Conjunto habitacional dom pedro ii",
          "Jardim nova hortolandia",
          "Rural",
          "Centro",
          "Centro",
          "J oliveira",
          "Vl sao bernardo",
          "Alves dias",
          "Sapopemba",
          "Helena maria",
          "Cabuçu",
          "Cecap",
          "Bairro jardim",
          "Jaguary",
          "Parque guarani",
          "Limao",
          "Batatais",
          "Jardim das paineiras",
          "Centro",
          "Bom jesus",
          "Trevo",
          "Cumbica",
          "Area rural",
          "Jardim rina",
          "Parque marajoara",
          "Mutinga",
          "Ferrazópolis",
          "Jardim las vegas",
          "Morros",
          "Cidade miguel badra",
          "Jd campos eliseos",
          "Jardim aeroporto iii",
          "Mosteiro de itaici",
          "Rural",
          "Centro",
          "Saude",
          "Centro",
          "Jaguary",
          "Condomínio maracanã",
          "Jardim oiti",
          "Jd são pedro",
          "Picanço",
          "Jardim eldorado",
          "Bosque dos ipês",
          "Cabuçu",
          "Area rural",
          "Centro",
          "Centro",
          "Parque são vicente",
          "Jardim itapua",
          "Vila helena",
          "Mailasque",
          "Parque dos jequitibas",
          "Marilia",
          "Pq santa tereza",
          "Liberdade",
          "Pirituba",
          "Jd maete",
          "Santa cecilia",
          "Vila izaura",
          "Vila matilde",
          "Perus",
          "Jardim diamante",
          "Area rural",
          "Vila guilherme",
          "Cangaiba",
          "Tibagy",
          "Parelheiros",
          "Bandeiras",
          "Vila santos",
          "Area rural",
          "Rural",
          "Jardim teodomiro pereira",
          "Raposo tavares",
          "Cumbica",
          "Tremembe",
          "Capao redondo",
          "Jardim zaira",
          "Ermelino matarazzo",
          "Lajeado",
          "Cidade ademar",
          "Tremembe",
          "Jd figueiredo",
          "Butanta",
          "Jardim novo ouro fino",
          "Nova aparecida",
          "Rural",
          "Recanto do jaguari",
          "Jaragua",
          "Artur alvim",
          "Residencial bebedouro",
          "Jardim paulista",
          "Vila nova prudente",
          "Demarchi",
          "Jardim zaira",
          "Campanario",
          "Jaragua",
          "Cidade ademar",
          "Jd magnólia",
          "Ipiranga",
          "Sacoma",
          "Bonsucesso",
          "Dona regina",
          "Jd tropical",
          "Area rural",
          "Campo limpo",
          "Parelheiros",
          "Jardim santo antonio i",
          "Ponte rasa",
          "Casa verde",
          "Jardim angela",
          "Santo antonio",
          "Vila militar",
          "Jardim angela",
          "Rural",
          "Jd sta clara",
          "Parque res candido portinari",
          "Barra funda",
          "Sapopemba",
          "Vila razzi",
          "Jardim joao gutierres",
          "Jd ferraz",
          "Ipiranga",
          "Vila guaggio"
         ],
         "y": [
          5,
          4,
          2,
          2,
          2,
          1,
          1,
          1,
          1,
          1,
          1,
          1,
          1,
          1,
          1,
          1,
          1,
          1,
          1,
          1,
          1,
          1,
          1,
          1,
          1,
          1,
          1,
          1,
          1,
          1,
          1,
          1,
          1,
          1,
          1,
          1,
          1,
          1,
          1,
          1,
          1,
          1,
          1,
          1,
          1,
          1,
          1,
          1,
          1,
          1,
          1,
          1,
          1,
          1,
          1,
          1,
          1,
          1,
          1,
          1,
          1,
          1,
          1,
          1,
          1,
          1,
          1,
          1,
          1,
          1
         ]
        }
       ],
       "layout": {
        "template": {
         "data": {
          "bar": [
           {
            "error_x": {
             "color": "#2a3f5f"
            },
            "error_y": {
             "color": "#2a3f5f"
            },
            "marker": {
             "line": {
              "color": "#E5ECF6",
              "width": 0.5
             }
            },
            "type": "bar"
           }
          ],
          "barpolar": [
           {
            "marker": {
             "line": {
              "color": "#E5ECF6",
              "width": 0.5
             }
            },
            "type": "barpolar"
           }
          ],
          "carpet": [
           {
            "aaxis": {
             "endlinecolor": "#2a3f5f",
             "gridcolor": "white",
             "linecolor": "white",
             "minorgridcolor": "white",
             "startlinecolor": "#2a3f5f"
            },
            "baxis": {
             "endlinecolor": "#2a3f5f",
             "gridcolor": "white",
             "linecolor": "white",
             "minorgridcolor": "white",
             "startlinecolor": "#2a3f5f"
            },
            "type": "carpet"
           }
          ],
          "choropleth": [
           {
            "colorbar": {
             "outlinewidth": 0,
             "ticks": ""
            },
            "type": "choropleth"
           }
          ],
          "contour": [
           {
            "colorbar": {
             "outlinewidth": 0,
             "ticks": ""
            },
            "colorscale": [
             [
              0,
              "#0d0887"
             ],
             [
              0.1111111111111111,
              "#46039f"
             ],
             [
              0.2222222222222222,
              "#7201a8"
             ],
             [
              0.3333333333333333,
              "#9c179e"
             ],
             [
              0.4444444444444444,
              "#bd3786"
             ],
             [
              0.5555555555555556,
              "#d8576b"
             ],
             [
              0.6666666666666666,
              "#ed7953"
             ],
             [
              0.7777777777777778,
              "#fb9f3a"
             ],
             [
              0.8888888888888888,
              "#fdca26"
             ],
             [
              1,
              "#f0f921"
             ]
            ],
            "type": "contour"
           }
          ],
          "contourcarpet": [
           {
            "colorbar": {
             "outlinewidth": 0,
             "ticks": ""
            },
            "type": "contourcarpet"
           }
          ],
          "heatmap": [
           {
            "colorbar": {
             "outlinewidth": 0,
             "ticks": ""
            },
            "colorscale": [
             [
              0,
              "#0d0887"
             ],
             [
              0.1111111111111111,
              "#46039f"
             ],
             [
              0.2222222222222222,
              "#7201a8"
             ],
             [
              0.3333333333333333,
              "#9c179e"
             ],
             [
              0.4444444444444444,
              "#bd3786"
             ],
             [
              0.5555555555555556,
              "#d8576b"
             ],
             [
              0.6666666666666666,
              "#ed7953"
             ],
             [
              0.7777777777777778,
              "#fb9f3a"
             ],
             [
              0.8888888888888888,
              "#fdca26"
             ],
             [
              1,
              "#f0f921"
             ]
            ],
            "type": "heatmap"
           }
          ],
          "heatmapgl": [
           {
            "colorbar": {
             "outlinewidth": 0,
             "ticks": ""
            },
            "colorscale": [
             [
              0,
              "#0d0887"
             ],
             [
              0.1111111111111111,
              "#46039f"
             ],
             [
              0.2222222222222222,
              "#7201a8"
             ],
             [
              0.3333333333333333,
              "#9c179e"
             ],
             [
              0.4444444444444444,
              "#bd3786"
             ],
             [
              0.5555555555555556,
              "#d8576b"
             ],
             [
              0.6666666666666666,
              "#ed7953"
             ],
             [
              0.7777777777777778,
              "#fb9f3a"
             ],
             [
              0.8888888888888888,
              "#fdca26"
             ],
             [
              1,
              "#f0f921"
             ]
            ],
            "type": "heatmapgl"
           }
          ],
          "histogram": [
           {
            "marker": {
             "colorbar": {
              "outlinewidth": 0,
              "ticks": ""
             }
            },
            "type": "histogram"
           }
          ],
          "histogram2d": [
           {
            "colorbar": {
             "outlinewidth": 0,
             "ticks": ""
            },
            "colorscale": [
             [
              0,
              "#0d0887"
             ],
             [
              0.1111111111111111,
              "#46039f"
             ],
             [
              0.2222222222222222,
              "#7201a8"
             ],
             [
              0.3333333333333333,
              "#9c179e"
             ],
             [
              0.4444444444444444,
              "#bd3786"
             ],
             [
              0.5555555555555556,
              "#d8576b"
             ],
             [
              0.6666666666666666,
              "#ed7953"
             ],
             [
              0.7777777777777778,
              "#fb9f3a"
             ],
             [
              0.8888888888888888,
              "#fdca26"
             ],
             [
              1,
              "#f0f921"
             ]
            ],
            "type": "histogram2d"
           }
          ],
          "histogram2dcontour": [
           {
            "colorbar": {
             "outlinewidth": 0,
             "ticks": ""
            },
            "colorscale": [
             [
              0,
              "#0d0887"
             ],
             [
              0.1111111111111111,
              "#46039f"
             ],
             [
              0.2222222222222222,
              "#7201a8"
             ],
             [
              0.3333333333333333,
              "#9c179e"
             ],
             [
              0.4444444444444444,
              "#bd3786"
             ],
             [
              0.5555555555555556,
              "#d8576b"
             ],
             [
              0.6666666666666666,
              "#ed7953"
             ],
             [
              0.7777777777777778,
              "#fb9f3a"
             ],
             [
              0.8888888888888888,
              "#fdca26"
             ],
             [
              1,
              "#f0f921"
             ]
            ],
            "type": "histogram2dcontour"
           }
          ],
          "mesh3d": [
           {
            "colorbar": {
             "outlinewidth": 0,
             "ticks": ""
            },
            "type": "mesh3d"
           }
          ],
          "parcoords": [
           {
            "line": {
             "colorbar": {
              "outlinewidth": 0,
              "ticks": ""
             }
            },
            "type": "parcoords"
           }
          ],
          "scatter": [
           {
            "marker": {
             "colorbar": {
              "outlinewidth": 0,
              "ticks": ""
             }
            },
            "type": "scatter"
           }
          ],
          "scatter3d": [
           {
            "line": {
             "colorbar": {
              "outlinewidth": 0,
              "ticks": ""
             }
            },
            "marker": {
             "colorbar": {
              "outlinewidth": 0,
              "ticks": ""
             }
            },
            "type": "scatter3d"
           }
          ],
          "scattercarpet": [
           {
            "marker": {
             "colorbar": {
              "outlinewidth": 0,
              "ticks": ""
             }
            },
            "type": "scattercarpet"
           }
          ],
          "scattergeo": [
           {
            "marker": {
             "colorbar": {
              "outlinewidth": 0,
              "ticks": ""
             }
            },
            "type": "scattergeo"
           }
          ],
          "scattergl": [
           {
            "marker": {
             "colorbar": {
              "outlinewidth": 0,
              "ticks": ""
             }
            },
            "type": "scattergl"
           }
          ],
          "scattermapbox": [
           {
            "marker": {
             "colorbar": {
              "outlinewidth": 0,
              "ticks": ""
             }
            },
            "type": "scattermapbox"
           }
          ],
          "scatterpolar": [
           {
            "marker": {
             "colorbar": {
              "outlinewidth": 0,
              "ticks": ""
             }
            },
            "type": "scatterpolar"
           }
          ],
          "scatterpolargl": [
           {
            "marker": {
             "colorbar": {
              "outlinewidth": 0,
              "ticks": ""
             }
            },
            "type": "scatterpolargl"
           }
          ],
          "scatterternary": [
           {
            "marker": {
             "colorbar": {
              "outlinewidth": 0,
              "ticks": ""
             }
            },
            "type": "scatterternary"
           }
          ],
          "surface": [
           {
            "colorbar": {
             "outlinewidth": 0,
             "ticks": ""
            },
            "colorscale": [
             [
              0,
              "#0d0887"
             ],
             [
              0.1111111111111111,
              "#46039f"
             ],
             [
              0.2222222222222222,
              "#7201a8"
             ],
             [
              0.3333333333333333,
              "#9c179e"
             ],
             [
              0.4444444444444444,
              "#bd3786"
             ],
             [
              0.5555555555555556,
              "#d8576b"
             ],
             [
              0.6666666666666666,
              "#ed7953"
             ],
             [
              0.7777777777777778,
              "#fb9f3a"
             ],
             [
              0.8888888888888888,
              "#fdca26"
             ],
             [
              1,
              "#f0f921"
             ]
            ],
            "type": "surface"
           }
          ],
          "table": [
           {
            "cells": {
             "fill": {
              "color": "#EBF0F8"
             },
             "line": {
              "color": "white"
             }
            },
            "header": {
             "fill": {
              "color": "#C8D4E3"
             },
             "line": {
              "color": "white"
             }
            },
            "type": "table"
           }
          ]
         },
         "layout": {
          "annotationdefaults": {
           "arrowcolor": "#2a3f5f",
           "arrowhead": 0,
           "arrowwidth": 1
          },
          "colorscale": {
           "diverging": [
            [
             0,
             "#8e0152"
            ],
            [
             0.1,
             "#c51b7d"
            ],
            [
             0.2,
             "#de77ae"
            ],
            [
             0.3,
             "#f1b6da"
            ],
            [
             0.4,
             "#fde0ef"
            ],
            [
             0.5,
             "#f7f7f7"
            ],
            [
             0.6,
             "#e6f5d0"
            ],
            [
             0.7,
             "#b8e186"
            ],
            [
             0.8,
             "#7fbc41"
            ],
            [
             0.9,
             "#4d9221"
            ],
            [
             1,
             "#276419"
            ]
           ],
           "sequential": [
            [
             0,
             "#0d0887"
            ],
            [
             0.1111111111111111,
             "#46039f"
            ],
            [
             0.2222222222222222,
             "#7201a8"
            ],
            [
             0.3333333333333333,
             "#9c179e"
            ],
            [
             0.4444444444444444,
             "#bd3786"
            ],
            [
             0.5555555555555556,
             "#d8576b"
            ],
            [
             0.6666666666666666,
             "#ed7953"
            ],
            [
             0.7777777777777778,
             "#fb9f3a"
            ],
            [
             0.8888888888888888,
             "#fdca26"
            ],
            [
             1,
             "#f0f921"
            ]
           ],
           "sequentialminus": [
            [
             0,
             "#0d0887"
            ],
            [
             0.1111111111111111,
             "#46039f"
            ],
            [
             0.2222222222222222,
             "#7201a8"
            ],
            [
             0.3333333333333333,
             "#9c179e"
            ],
            [
             0.4444444444444444,
             "#bd3786"
            ],
            [
             0.5555555555555556,
             "#d8576b"
            ],
            [
             0.6666666666666666,
             "#ed7953"
            ],
            [
             0.7777777777777778,
             "#fb9f3a"
            ],
            [
             0.8888888888888888,
             "#fdca26"
            ],
            [
             1,
             "#f0f921"
            ]
           ]
          },
          "colorway": [
           "#636efa",
           "#EF553B",
           "#00cc96",
           "#ab63fa",
           "#FFA15A",
           "#19d3f3",
           "#FF6692",
           "#B6E880",
           "#FF97FF",
           "#FECB52"
          ],
          "font": {
           "color": "#2a3f5f"
          },
          "geo": {
           "bgcolor": "white",
           "lakecolor": "white",
           "landcolor": "#E5ECF6",
           "showlakes": true,
           "showland": true,
           "subunitcolor": "white"
          },
          "hoverlabel": {
           "align": "left"
          },
          "hovermode": "closest",
          "mapbox": {
           "style": "light"
          },
          "paper_bgcolor": "white",
          "plot_bgcolor": "#E5ECF6",
          "polar": {
           "angularaxis": {
            "gridcolor": "white",
            "linecolor": "white",
            "ticks": ""
           },
           "bgcolor": "#E5ECF6",
           "radialaxis": {
            "gridcolor": "white",
            "linecolor": "white",
            "ticks": ""
           }
          },
          "scene": {
           "xaxis": {
            "backgroundcolor": "#E5ECF6",
            "gridcolor": "white",
            "gridwidth": 2,
            "linecolor": "white",
            "showbackground": true,
            "ticks": "",
            "zerolinecolor": "white"
           },
           "yaxis": {
            "backgroundcolor": "#E5ECF6",
            "gridcolor": "white",
            "gridwidth": 2,
            "linecolor": "white",
            "showbackground": true,
            "ticks": "",
            "zerolinecolor": "white"
           },
           "zaxis": {
            "backgroundcolor": "#E5ECF6",
            "gridcolor": "white",
            "gridwidth": 2,
            "linecolor": "white",
            "showbackground": true,
            "ticks": "",
            "zerolinecolor": "white"
           }
          },
          "shapedefaults": {
           "line": {
            "color": "#2a3f5f"
           }
          },
          "ternary": {
           "aaxis": {
            "gridcolor": "white",
            "linecolor": "white",
            "ticks": ""
           },
           "baxis": {
            "gridcolor": "white",
            "linecolor": "white",
            "ticks": ""
           },
           "bgcolor": "#E5ECF6",
           "caxis": {
            "gridcolor": "white",
            "linecolor": "white",
            "ticks": ""
           }
          },
          "title": {
           "x": 0.05
          },
          "xaxis": {
           "automargin": true,
           "gridcolor": "white",
           "linecolor": "white",
           "ticks": "",
           "zerolinecolor": "white",
           "zerolinewidth": 2
          },
          "yaxis": {
           "automargin": true,
           "gridcolor": "white",
           "linecolor": "white",
           "ticks": "",
           "zerolinecolor": "white",
           "zerolinewidth": 2
          }
         }
        }
       }
      },
      "text/html": [
       "<div>\n",
       "        \n",
       "        \n",
       "            <div id=\"01c9f7bf-f957-46d7-a1be-035cb711f85d\" class=\"plotly-graph-div\" style=\"height:525px; width:100%;\"></div>\n",
       "            <script type=\"text/javascript\">\n",
       "                require([\"plotly\"], function(Plotly) {\n",
       "                    window.PLOTLYENV=window.PLOTLYENV || {};\n",
       "                    \n",
       "                if (document.getElementById(\"01c9f7bf-f957-46d7-a1be-035cb711f85d\")) {\n",
       "                    Plotly.newPlot(\n",
       "                        '01c9f7bf-f957-46d7-a1be-035cb711f85d',\n",
       "                        [{\"marker\": {\"color\": \"#e74c3c\"}, \"name\": \"2018\", \"type\": \"bar\", \"x\": [\"Pq valen\\u00e7a\", \"Guara\", \"Rural\", \"Jardim primavera\", \"Jardim dos ipes\", \"Vila amazonas\", \"Morada do sol\", \"Jardim de portugal\", \"Conjunto res santa angelina\", \"Chacara tres marias\", \"Pq dos pomares\", \"Vila georgia\", \"Rural\", \"Jd campo grande\", \"Jd professor morato\", \"Jardim alvorada\", \"Jd campineiro\", \"Jardim amelia\", \"Mario dedini\", \"Joquei clube de s\\u00e3o paulo\", \"Centro\", \"Antartica\", \"Bairro do junqueira\", \"Area rural\", \"Jd america\", \"Jardim saltense\", \"Parque das cascatas\", \"Parelheiros\", \"Perus\", \"Area rural\", \"Jd luiza\", \"Santa terezinha\", \"Vila das americas\", \"Itajobi\", \"Vl natal\", \"Clarice ii\", \"Rural\", \"Humaita\", \"Bragan\\u00e7a paulista\", \"Icem\", \"Santa maria\", \"Pq imperial\", \"Rural\", \"Republica\", \"Centro\", \"Campo grande\", \"Cristais\", \"Vila furlan\", \"Itaquera\", \"Ibitiuva (distrito)\", \"Area rural\", \"Centro\", \"Centro\", \"Sao pedro\", \"Area central\", \"Jd carolina\", \"Campo dos alem\\u00e3es\", \"Centro\", \"Vila biagio\", \"Jd muriano\", \"Vila santa candida\", \"Conjunto habitacional terra dos ipes ii\", \"Jardim bela vista\", \"Jardim independencia\", \"Jardim eldorado\", \"Sao mateus\", \"Area rural\", \"Centro\", \"Jardim olinda\", \"Mont serrat\", \"Capao redondo\", \"Brasilandia\", \"Sacoma\", \"Jose eugenio miziara\", \"Jardim yara\", \"Aniceto carlos nogueira\", \"Bairro bela vista\", \"Jd s\\u00e3o lucas\", \"Rural\", \"Ibate\", \"Cidade lider\", \"Floradas de s\\u00e3o jos\\u00e9\", \"Jardim guanabara\", \"Jd humberto salvador\", \"Jardim primavera\", null, \"Pq vitoria\", \"Conjunto habitacional dom pedro ii\", \"Jardim nova hortolandia\", \"Rural\", \"Centro\", \"Centro\", \"J oliveira\", \"Vl sao bernardo\", \"Alves dias\", \"Sapopemba\", \"Helena maria\", \"Cabu\\u00e7u\", \"Cecap\", \"Bairro jardim\", \"Jaguary\", \"Parque guarani\", \"Limao\", \"Batatais\", \"Jardim das paineiras\", \"Centro\", \"Bom jesus\", \"Trevo\", \"Cumbica\", \"Area rural\", \"Jardim rina\", \"Parque marajoara\", \"Mutinga\", \"Ferraz\\u00f3polis\", \"Jardim las vegas\", \"Morros\", \"Cidade miguel badra\", \"Jd campos eliseos\", \"Jardim aeroporto iii\", \"Mosteiro de itaici\", \"Rural\", \"Centro\", \"Saude\", \"Centro\", \"Jaguary\", \"Condom\\u00ednio maracan\\u00e3\", \"Jardim oiti\", \"Jd s\\u00e3o pedro\", \"Pican\\u00e7o\", \"Jardim eldorado\", \"Bosque dos ip\\u00eas\", \"Cabu\\u00e7u\", \"Area rural\", \"Centro\", \"Centro\", \"Parque s\\u00e3o vicente\", \"Jardim itapua\", \"Vila helena\", \"Mailasque\", \"Parque dos jequitibas\", \"Marilia\", \"Pq santa tereza\", \"Liberdade\", \"Pirituba\", \"Jd maete\", \"Santa cecilia\", \"Vila izaura\", \"Vila matilde\", \"Perus\", \"Jardim diamante\", \"Area rural\", \"Vila guilherme\", \"Cangaiba\", \"Tibagy\", \"Parelheiros\", \"Bandeiras\", \"Vila santos\", \"Area rural\", \"Rural\", \"Jardim teodomiro pereira\", \"Raposo tavares\", \"Cumbica\", \"Tremembe\", \"Capao redondo\", \"Jardim zaira\", \"Ermelino matarazzo\", \"Lajeado\", \"Cidade ademar\", \"Tremembe\", \"Jd figueiredo\", \"Butanta\", \"Jardim novo ouro fino\", \"Nova aparecida\", \"Rural\", \"Recanto do jaguari\", \"Jaragua\", \"Artur alvim\", \"Residencial bebedouro\", \"Jardim paulista\", \"Vila nova prudente\", \"Demarchi\", \"Jardim zaira\", \"Campanario\", \"Jaragua\", \"Cidade ademar\", \"Jd magn\\u00f3lia\", \"Ipiranga\", \"Sacoma\", \"Bonsucesso\", \"Dona regina\", \"Jd tropical\", \"Area rural\", \"Campo limpo\", \"Parelheiros\", \"Jardim santo antonio i\", \"Ponte rasa\", \"Casa verde\", \"Jardim angela\", \"Santo antonio\", \"Vila militar\", \"Jardim angela\", \"Rural\", \"Jd sta clara\", \"Parque res candido portinari\", \"Barra funda\", \"Sapopemba\", \"Vila razzi\", \"Jardim joao gutierres\", \"Jd ferraz\", \"Ipiranga\", \"Vila guaggio\"], \"y\": [9, 7, 5, 2, 2, 2, 2, 2, 2, 2, 2, 2, 2, 2, 1, 1, 1, 1, 1, 1, 1, 1, 1, 1, 1, 1, 1, 1, 1, 1, 1, 1, 1, 1, 1, 1, 1, 1, 1, 1, 1, 1, 1, 1, 1, 1, 1, 1, 1, 1, 1, 1, 1, 1, 1, 1, 1, 1, 1, 1, 1, 1, 1, 1, 1, 1, 1, 1, 1, 1, 1, 1, 1, 1, 1, 1, 1, 1, 1, 1, 1, 1, 1, 1, 1, 1, 1, 1, 1, 1, 1, 1, 1, 1, 1, 1, 1, 1, 1, 1, 1]}, {\"marker\": {\"color\": \"#e67e22\"}, \"name\": \"2019\", \"type\": \"bar\", \"x\": [\"Pq valen\\u00e7a\", \"Guara\", \"Rural\", \"Jardim primavera\", \"Jardim dos ipes\", \"Vila amazonas\", \"Morada do sol\", \"Jardim de portugal\", \"Conjunto res santa angelina\", \"Chacara tres marias\", \"Pq dos pomares\", \"Vila georgia\", \"Rural\", \"Jd campo grande\", \"Jd professor morato\", \"Jardim alvorada\", \"Jd campineiro\", \"Jardim amelia\", \"Mario dedini\", \"Joquei clube de s\\u00e3o paulo\", \"Centro\", \"Antartica\", \"Bairro do junqueira\", \"Area rural\", \"Jd america\", \"Jardim saltense\", \"Parque das cascatas\", \"Parelheiros\", \"Perus\", \"Area rural\", \"Jd luiza\", \"Santa terezinha\", \"Vila das americas\", \"Itajobi\", \"Vl natal\", \"Clarice ii\", \"Rural\", \"Humaita\", \"Bragan\\u00e7a paulista\", \"Icem\", \"Santa maria\", \"Pq imperial\", \"Rural\", \"Republica\", \"Centro\", \"Campo grande\", \"Cristais\", \"Vila furlan\", \"Itaquera\", \"Ibitiuva (distrito)\", \"Area rural\", \"Centro\", \"Centro\", \"Sao pedro\", \"Area central\", \"Jd carolina\", \"Campo dos alem\\u00e3es\", \"Centro\", \"Vila biagio\", \"Jd muriano\", \"Vila santa candida\", \"Conjunto habitacional terra dos ipes ii\", \"Jardim bela vista\", \"Jardim independencia\", \"Jardim eldorado\", \"Sao mateus\", \"Area rural\", \"Centro\", \"Jardim olinda\", \"Mont serrat\", \"Capao redondo\", \"Brasilandia\", \"Sacoma\", \"Jose eugenio miziara\", \"Jardim yara\", \"Aniceto carlos nogueira\", \"Bairro bela vista\", \"Jd s\\u00e3o lucas\", \"Rural\", \"Ibate\", \"Cidade lider\", \"Floradas de s\\u00e3o jos\\u00e9\", \"Jardim guanabara\", \"Jd humberto salvador\", \"Jardim primavera\", null, \"Pq vitoria\", \"Conjunto habitacional dom pedro ii\", \"Jardim nova hortolandia\", \"Rural\", \"Centro\", \"Centro\", \"J oliveira\", \"Vl sao bernardo\", \"Alves dias\", \"Sapopemba\", \"Helena maria\", \"Cabu\\u00e7u\", \"Cecap\", \"Bairro jardim\", \"Jaguary\", \"Parque guarani\", \"Limao\", \"Batatais\", \"Jardim das paineiras\", \"Centro\", \"Bom jesus\", \"Trevo\", \"Cumbica\", \"Area rural\", \"Jardim rina\", \"Parque marajoara\", \"Mutinga\", \"Ferraz\\u00f3polis\", \"Jardim las vegas\", \"Morros\", \"Cidade miguel badra\", \"Jd campos eliseos\", \"Jardim aeroporto iii\", \"Mosteiro de itaici\", \"Rural\", \"Centro\", \"Saude\", \"Centro\", \"Jaguary\", \"Condom\\u00ednio maracan\\u00e3\", \"Jardim oiti\", \"Jd s\\u00e3o pedro\", \"Pican\\u00e7o\", \"Jardim eldorado\", \"Bosque dos ip\\u00eas\", \"Cabu\\u00e7u\", \"Area rural\", \"Centro\", \"Centro\", \"Parque s\\u00e3o vicente\", \"Jardim itapua\", \"Vila helena\", \"Mailasque\", \"Parque dos jequitibas\", \"Marilia\", \"Pq santa tereza\", \"Liberdade\", \"Pirituba\", \"Jd maete\", \"Santa cecilia\", \"Vila izaura\", \"Vila matilde\", \"Perus\", \"Jardim diamante\", \"Area rural\", \"Vila guilherme\", \"Cangaiba\", \"Tibagy\", \"Parelheiros\", \"Bandeiras\", \"Vila santos\", \"Area rural\", \"Rural\", \"Jardim teodomiro pereira\", \"Raposo tavares\", \"Cumbica\", \"Tremembe\", \"Capao redondo\", \"Jardim zaira\", \"Ermelino matarazzo\", \"Lajeado\", \"Cidade ademar\", \"Tremembe\", \"Jd figueiredo\", \"Butanta\", \"Jardim novo ouro fino\", \"Nova aparecida\", \"Rural\", \"Recanto do jaguari\", \"Jaragua\", \"Artur alvim\", \"Residencial bebedouro\", \"Jardim paulista\", \"Vila nova prudente\", \"Demarchi\", \"Jardim zaira\", \"Campanario\", \"Jaragua\", \"Cidade ademar\", \"Jd magn\\u00f3lia\", \"Ipiranga\", \"Sacoma\", \"Bonsucesso\", \"Dona regina\", \"Jd tropical\", \"Area rural\", \"Campo limpo\", \"Parelheiros\", \"Jardim santo antonio i\", \"Ponte rasa\", \"Casa verde\", \"Jardim angela\", \"Santo antonio\", \"Vila militar\", \"Jardim angela\", \"Rural\", \"Jd sta clara\", \"Parque res candido portinari\", \"Barra funda\", \"Sapopemba\", \"Vila razzi\", \"Jardim joao gutierres\", \"Jd ferraz\", \"Ipiranga\", \"Vila guaggio\"], \"y\": [5, 4, 2, 2, 2, 1, 1, 1, 1, 1, 1, 1, 1, 1, 1, 1, 1, 1, 1, 1, 1, 1, 1, 1, 1, 1, 1, 1, 1, 1, 1, 1, 1, 1, 1, 1, 1, 1, 1, 1, 1, 1, 1, 1, 1, 1, 1, 1, 1, 1, 1, 1, 1, 1, 1, 1, 1, 1, 1, 1, 1, 1, 1, 1, 1, 1, 1, 1, 1, 1]}],\n",
       "                        {\"template\": {\"data\": {\"bar\": [{\"error_x\": {\"color\": \"#2a3f5f\"}, \"error_y\": {\"color\": \"#2a3f5f\"}, \"marker\": {\"line\": {\"color\": \"#E5ECF6\", \"width\": 0.5}}, \"type\": \"bar\"}], \"barpolar\": [{\"marker\": {\"line\": {\"color\": \"#E5ECF6\", \"width\": 0.5}}, \"type\": \"barpolar\"}], \"carpet\": [{\"aaxis\": {\"endlinecolor\": \"#2a3f5f\", \"gridcolor\": \"white\", \"linecolor\": \"white\", \"minorgridcolor\": \"white\", \"startlinecolor\": \"#2a3f5f\"}, \"baxis\": {\"endlinecolor\": \"#2a3f5f\", \"gridcolor\": \"white\", \"linecolor\": \"white\", \"minorgridcolor\": \"white\", \"startlinecolor\": \"#2a3f5f\"}, \"type\": \"carpet\"}], \"choropleth\": [{\"colorbar\": {\"outlinewidth\": 0, \"ticks\": \"\"}, \"type\": \"choropleth\"}], \"contour\": [{\"colorbar\": {\"outlinewidth\": 0, \"ticks\": \"\"}, \"colorscale\": [[0.0, \"#0d0887\"], [0.1111111111111111, \"#46039f\"], [0.2222222222222222, \"#7201a8\"], [0.3333333333333333, \"#9c179e\"], [0.4444444444444444, \"#bd3786\"], [0.5555555555555556, \"#d8576b\"], [0.6666666666666666, \"#ed7953\"], [0.7777777777777778, \"#fb9f3a\"], [0.8888888888888888, \"#fdca26\"], [1.0, \"#f0f921\"]], \"type\": \"contour\"}], \"contourcarpet\": [{\"colorbar\": {\"outlinewidth\": 0, \"ticks\": \"\"}, \"type\": \"contourcarpet\"}], \"heatmap\": [{\"colorbar\": {\"outlinewidth\": 0, \"ticks\": \"\"}, \"colorscale\": [[0.0, \"#0d0887\"], [0.1111111111111111, \"#46039f\"], [0.2222222222222222, \"#7201a8\"], [0.3333333333333333, \"#9c179e\"], [0.4444444444444444, \"#bd3786\"], [0.5555555555555556, \"#d8576b\"], [0.6666666666666666, \"#ed7953\"], [0.7777777777777778, \"#fb9f3a\"], [0.8888888888888888, \"#fdca26\"], [1.0, \"#f0f921\"]], \"type\": \"heatmap\"}], \"heatmapgl\": [{\"colorbar\": {\"outlinewidth\": 0, \"ticks\": \"\"}, \"colorscale\": [[0.0, \"#0d0887\"], [0.1111111111111111, \"#46039f\"], [0.2222222222222222, \"#7201a8\"], [0.3333333333333333, \"#9c179e\"], [0.4444444444444444, \"#bd3786\"], [0.5555555555555556, \"#d8576b\"], [0.6666666666666666, \"#ed7953\"], [0.7777777777777778, \"#fb9f3a\"], [0.8888888888888888, \"#fdca26\"], [1.0, \"#f0f921\"]], \"type\": \"heatmapgl\"}], \"histogram\": [{\"marker\": {\"colorbar\": {\"outlinewidth\": 0, \"ticks\": \"\"}}, \"type\": \"histogram\"}], \"histogram2d\": [{\"colorbar\": {\"outlinewidth\": 0, \"ticks\": \"\"}, \"colorscale\": [[0.0, \"#0d0887\"], [0.1111111111111111, \"#46039f\"], [0.2222222222222222, \"#7201a8\"], [0.3333333333333333, \"#9c179e\"], [0.4444444444444444, \"#bd3786\"], [0.5555555555555556, \"#d8576b\"], [0.6666666666666666, \"#ed7953\"], [0.7777777777777778, \"#fb9f3a\"], [0.8888888888888888, \"#fdca26\"], [1.0, \"#f0f921\"]], \"type\": \"histogram2d\"}], \"histogram2dcontour\": [{\"colorbar\": {\"outlinewidth\": 0, \"ticks\": \"\"}, \"colorscale\": [[0.0, \"#0d0887\"], [0.1111111111111111, \"#46039f\"], [0.2222222222222222, \"#7201a8\"], [0.3333333333333333, \"#9c179e\"], [0.4444444444444444, \"#bd3786\"], [0.5555555555555556, \"#d8576b\"], [0.6666666666666666, \"#ed7953\"], [0.7777777777777778, \"#fb9f3a\"], [0.8888888888888888, \"#fdca26\"], [1.0, \"#f0f921\"]], \"type\": \"histogram2dcontour\"}], \"mesh3d\": [{\"colorbar\": {\"outlinewidth\": 0, \"ticks\": \"\"}, \"type\": \"mesh3d\"}], \"parcoords\": [{\"line\": {\"colorbar\": {\"outlinewidth\": 0, \"ticks\": \"\"}}, \"type\": \"parcoords\"}], \"scatter\": [{\"marker\": {\"colorbar\": {\"outlinewidth\": 0, \"ticks\": \"\"}}, \"type\": \"scatter\"}], \"scatter3d\": [{\"line\": {\"colorbar\": {\"outlinewidth\": 0, \"ticks\": \"\"}}, \"marker\": {\"colorbar\": {\"outlinewidth\": 0, \"ticks\": \"\"}}, \"type\": \"scatter3d\"}], \"scattercarpet\": [{\"marker\": {\"colorbar\": {\"outlinewidth\": 0, \"ticks\": \"\"}}, \"type\": \"scattercarpet\"}], \"scattergeo\": [{\"marker\": {\"colorbar\": {\"outlinewidth\": 0, \"ticks\": \"\"}}, \"type\": \"scattergeo\"}], \"scattergl\": [{\"marker\": {\"colorbar\": {\"outlinewidth\": 0, \"ticks\": \"\"}}, \"type\": \"scattergl\"}], \"scattermapbox\": [{\"marker\": {\"colorbar\": {\"outlinewidth\": 0, \"ticks\": \"\"}}, \"type\": \"scattermapbox\"}], \"scatterpolar\": [{\"marker\": {\"colorbar\": {\"outlinewidth\": 0, \"ticks\": \"\"}}, \"type\": \"scatterpolar\"}], \"scatterpolargl\": [{\"marker\": {\"colorbar\": {\"outlinewidth\": 0, \"ticks\": \"\"}}, \"type\": \"scatterpolargl\"}], \"scatterternary\": [{\"marker\": {\"colorbar\": {\"outlinewidth\": 0, \"ticks\": \"\"}}, \"type\": \"scatterternary\"}], \"surface\": [{\"colorbar\": {\"outlinewidth\": 0, \"ticks\": \"\"}, \"colorscale\": [[0.0, \"#0d0887\"], [0.1111111111111111, \"#46039f\"], [0.2222222222222222, \"#7201a8\"], [0.3333333333333333, \"#9c179e\"], [0.4444444444444444, \"#bd3786\"], [0.5555555555555556, \"#d8576b\"], [0.6666666666666666, \"#ed7953\"], [0.7777777777777778, \"#fb9f3a\"], [0.8888888888888888, \"#fdca26\"], [1.0, \"#f0f921\"]], \"type\": \"surface\"}], \"table\": [{\"cells\": {\"fill\": {\"color\": \"#EBF0F8\"}, \"line\": {\"color\": \"white\"}}, \"header\": {\"fill\": {\"color\": \"#C8D4E3\"}, \"line\": {\"color\": \"white\"}}, \"type\": \"table\"}]}, \"layout\": {\"annotationdefaults\": {\"arrowcolor\": \"#2a3f5f\", \"arrowhead\": 0, \"arrowwidth\": 1}, \"colorscale\": {\"diverging\": [[0, \"#8e0152\"], [0.1, \"#c51b7d\"], [0.2, \"#de77ae\"], [0.3, \"#f1b6da\"], [0.4, \"#fde0ef\"], [0.5, \"#f7f7f7\"], [0.6, \"#e6f5d0\"], [0.7, \"#b8e186\"], [0.8, \"#7fbc41\"], [0.9, \"#4d9221\"], [1, \"#276419\"]], \"sequential\": [[0.0, \"#0d0887\"], [0.1111111111111111, \"#46039f\"], [0.2222222222222222, \"#7201a8\"], [0.3333333333333333, \"#9c179e\"], [0.4444444444444444, \"#bd3786\"], [0.5555555555555556, \"#d8576b\"], [0.6666666666666666, \"#ed7953\"], [0.7777777777777778, \"#fb9f3a\"], [0.8888888888888888, \"#fdca26\"], [1.0, \"#f0f921\"]], \"sequentialminus\": [[0.0, \"#0d0887\"], [0.1111111111111111, \"#46039f\"], [0.2222222222222222, \"#7201a8\"], [0.3333333333333333, \"#9c179e\"], [0.4444444444444444, \"#bd3786\"], [0.5555555555555556, \"#d8576b\"], [0.6666666666666666, \"#ed7953\"], [0.7777777777777778, \"#fb9f3a\"], [0.8888888888888888, \"#fdca26\"], [1.0, \"#f0f921\"]]}, \"colorway\": [\"#636efa\", \"#EF553B\", \"#00cc96\", \"#ab63fa\", \"#FFA15A\", \"#19d3f3\", \"#FF6692\", \"#B6E880\", \"#FF97FF\", \"#FECB52\"], \"font\": {\"color\": \"#2a3f5f\"}, \"geo\": {\"bgcolor\": \"white\", \"lakecolor\": \"white\", \"landcolor\": \"#E5ECF6\", \"showlakes\": true, \"showland\": true, \"subunitcolor\": \"white\"}, \"hoverlabel\": {\"align\": \"left\"}, \"hovermode\": \"closest\", \"mapbox\": {\"style\": \"light\"}, \"paper_bgcolor\": \"white\", \"plot_bgcolor\": \"#E5ECF6\", \"polar\": {\"angularaxis\": {\"gridcolor\": \"white\", \"linecolor\": \"white\", \"ticks\": \"\"}, \"bgcolor\": \"#E5ECF6\", \"radialaxis\": {\"gridcolor\": \"white\", \"linecolor\": \"white\", \"ticks\": \"\"}}, \"scene\": {\"xaxis\": {\"backgroundcolor\": \"#E5ECF6\", \"gridcolor\": \"white\", \"gridwidth\": 2, \"linecolor\": \"white\", \"showbackground\": true, \"ticks\": \"\", \"zerolinecolor\": \"white\"}, \"yaxis\": {\"backgroundcolor\": \"#E5ECF6\", \"gridcolor\": \"white\", \"gridwidth\": 2, \"linecolor\": \"white\", \"showbackground\": true, \"ticks\": \"\", \"zerolinecolor\": \"white\"}, \"zaxis\": {\"backgroundcolor\": \"#E5ECF6\", \"gridcolor\": \"white\", \"gridwidth\": 2, \"linecolor\": \"white\", \"showbackground\": true, \"ticks\": \"\", \"zerolinecolor\": \"white\"}}, \"shapedefaults\": {\"line\": {\"color\": \"#2a3f5f\"}}, \"ternary\": {\"aaxis\": {\"gridcolor\": \"white\", \"linecolor\": \"white\", \"ticks\": \"\"}, \"baxis\": {\"gridcolor\": \"white\", \"linecolor\": \"white\", \"ticks\": \"\"}, \"bgcolor\": \"#E5ECF6\", \"caxis\": {\"gridcolor\": \"white\", \"linecolor\": \"white\", \"ticks\": \"\"}}, \"title\": {\"x\": 0.05}, \"xaxis\": {\"automargin\": true, \"gridcolor\": \"white\", \"linecolor\": \"white\", \"ticks\": \"\", \"zerolinecolor\": \"white\", \"zerolinewidth\": 2}, \"yaxis\": {\"automargin\": true, \"gridcolor\": \"white\", \"linecolor\": \"white\", \"ticks\": \"\", \"zerolinecolor\": \"white\", \"zerolinewidth\": 2}}}},\n",
       "                        {\"responsive\": true}\n",
       "                    ).then(function(){\n",
       "                            \n",
       "var gd = document.getElementById('01c9f7bf-f957-46d7-a1be-035cb711f85d');\n",
       "var x = new MutationObserver(function (mutations, observer) {{\n",
       "        var display = window.getComputedStyle(gd).display;\n",
       "        if (!display || display === 'none') {{\n",
       "            console.log([gd, 'removed!']);\n",
       "            Plotly.purge(gd);\n",
       "            observer.disconnect();\n",
       "        }}\n",
       "}});\n",
       "\n",
       "// Listen for the removal of the full notebook cells\n",
       "var notebookContainer = gd.closest('#notebook-container');\n",
       "if (notebookContainer) {{\n",
       "    x.observe(notebookContainer, {childList: true});\n",
       "}}\n",
       "\n",
       "// Listen for the clearing of the current output cell\n",
       "var outputEl = gd.closest('.output');\n",
       "if (outputEl) {{\n",
       "    x.observe(outputEl, {childList: true});\n",
       "}}\n",
       "\n",
       "                        })\n",
       "                };\n",
       "                });\n",
       "            </script>\n",
       "        </div>"
      ]
     },
     "metadata": {},
     "output_type": "display_data"
    }
   ],
   "source": [
    "trace1 = go.Bar(x = df_novo['BAIRRO'],\n",
    "                y = df_novo[df_novo['ANO_BO'] == 2018].groupby('BAIRRO').size().sort_values(ascending=False),\n",
    "                name = '2018',\n",
    "                marker = {'color': '#e74c3c'})\n",
    "trace2 = go.Bar(x = df_novo['BAIRRO'],\n",
    "                y = df_novo[df_novo['ANO_BO'] == 2019].groupby('BAIRRO').size().sort_values(ascending=False),\n",
    "                name = '2019',\n",
    "                marker = {'color': '#e67e22'})\n",
    "\n",
    "df = [trace1, trace2]\n",
    "\n",
    "py.iplot(df)"
   ]
  },
  {
   "cell_type": "markdown",
   "metadata": {},
   "source": [
    "Os crimes ocorrem mais na Zona Rural e também no Parque Valença, da cidade de Campinas."
   ]
  },
  {
   "cell_type": "markdown",
   "metadata": {},
   "source": [
    "#### Logradouros"
   ]
  },
  {
   "cell_type": "code",
   "execution_count": 545,
   "metadata": {
    "scrolled": true
   },
   "outputs": [
    {
     "data": {
      "application/vnd.plotly.v1+json": {
       "config": {
        "linkText": "Export to plot.ly",
        "plotlyServerURL": "https://plot.ly",
        "showLink": false
       },
       "data": [
        {
         "marker": {
          "color": "#d35400"
         },
         "name": "2018",
         "type": "bar",
         "x": [
          "Avenida av. dep. luis eduardo magalhães",
          null,
          null,
          null,
          "Rua ângelo scarpato",
          "Rua ajuricaba",
          null,
          null,
          null,
          null,
          "Avenida barao de itapura",
          null,
          null,
          "Rua doutor dante erbolato",
          null,
          null,
          "Rua orlando de oliveira",
          null,
          null,
          null,
          "Rua silviano biagi",
          null,
          null,
          null,
          null,
          null,
          "Avenida bento lopes",
          null,
          "Rua argentina",
          null,
          null,
          "Avenida 22 de março",
          null,
          null,
          null,
          null,
          null,
          null,
          "Estrada bairro arara dos pereiras",
          null,
          null,
          null,
          null,
          null,
          null,
          null,
          "Avenida augusta zorzi baradel",
          null,
          "Rua jucaral",
          "Rua dois",
          null,
          "Rua marechal deodoro da fonógrafo",
          "Avenida quinze",
          null,
          "Rua benedito josé picoli",
          null,
          null,
          null,
          null,
          null,
          null,
          null,
          null,
          null,
          "Avenida presidente vargas",
          null,
          null,
          null,
          null,
          "Estrada lagoa da mangueira",
          "Rua jaime guimaraes costa",
          null,
          "Rua aratimbo",
          null,
          null,
          null,
          "Rua itapira",
          null,
          "Estrada municipal de terra",
          "Jardim cruzado",
          "Viela formosa",
          null,
          null,
          null,
          null,
          null,
          null,
          null,
          "Rua tres",
          "Via anel viario guaraci oliveira",
          null,
          null,
          null,
          "Avenida célso silveira rezende",
          null,
          "Avenida arquiteto vilanova artigas",
          null,
          "Avenida palmira rossi",
          null,
          "Rua das pitangueiras",
          "Rua flora",
          null,
          null,
          null,
          null,
          null,
          null,
          null,
          null,
          "Avenida brigadeiro faria lima",
          "Rua armando mazo",
          null,
          null,
          null,
          null,
          "Rua maria antônieta",
          null,
          "Rua isnard otranto",
          "Avenida césar martins pirajá",
          "Alameda jacarandás",
          "Rua joana de bernardim baizola",
          null,
          null,
          null,
          null,
          null,
          null,
          null,
          null,
          null,
          null,
          "Rua tancredo almeida neves",
          null,
          "Avenida presidente tancredo neves",
          "Rodovia br 101 km acesso a sp 125",
          null,
          null,
          null,
          null,
          null,
          "Rua armando sáles de oliveira",
          null,
          "Rua muniz de souza",
          "Rua laudelino vieira de campos",
          null,
          "Avenida duque de caxias",
          null,
          "Rua ari siqueira",
          null,
          null,
          "Rodovia samuel castro neves",
          null,
          null,
          null,
          null,
          null,
          null,
          null,
          "Rua monsenhor joão batista tófoli",
          null,
          null,
          null,
          null,
          null,
          null,
          null,
          null,
          null,
          null,
          null,
          "Avenida eliseu de almeida",
          "Rua antônio siqueira",
          null,
          "Rua antônio constantino",
          "Rua lucina r vasconcelos",
          "Rua friedrich von voith",
          null,
          "Rua augusto garibalde",
          "Rua doutor ovidio pires de campos",
          null,
          "Rua dos feltrins",
          null,
          null,
          null,
          null,
          null,
          null,
          null,
          null,
          "Rua espanha",
          "Rua josé florenciano santos jessé",
          "Avenida joão lorenzon",
          "Rua constantino de oliveira ledo",
          "Rua dos tucanos",
          null,
          null,
          null,
          null,
          "Avenida joão de andrade",
          "Rua valdecir quintino",
          null,
          null,
          null,
          null,
          "Rua quirino dos santos",
          "Rua tome da rocha",
          null,
          "Rua antonio paes",
          null,
          null,
          "Rua araújo leite"
         ],
         "y": [
          1,
          1,
          1,
          1,
          1,
          1,
          1,
          1,
          1,
          1,
          1,
          1,
          1,
          1,
          1,
          1,
          1,
          1,
          1,
          1,
          1,
          1,
          1,
          1,
          1,
          1,
          1,
          1,
          1,
          1,
          1,
          1,
          1,
          1,
          1,
          1,
          1,
          1,
          1,
          1,
          1,
          1,
          1,
          1,
          1,
          1,
          1
         ]
        },
        {
         "marker": {
          "color": "#f39c12"
         },
         "name": "2019",
         "type": "bar",
         "x": [
          "Avenida av. dep. luis eduardo magalhães",
          null,
          null,
          null,
          "Rua ângelo scarpato",
          "Rua ajuricaba",
          null,
          null,
          null,
          null,
          "Avenida barao de itapura",
          null,
          null,
          "Rua doutor dante erbolato",
          null,
          null,
          "Rua orlando de oliveira",
          null,
          null,
          null,
          "Rua silviano biagi",
          null,
          null,
          null,
          null,
          null,
          "Avenida bento lopes",
          null,
          "Rua argentina",
          null,
          null,
          "Avenida 22 de março",
          null,
          null,
          null,
          null,
          null,
          null,
          "Estrada bairro arara dos pereiras",
          null,
          null,
          null,
          null,
          null,
          null,
          null,
          "Avenida augusta zorzi baradel",
          null,
          "Rua jucaral",
          "Rua dois",
          null,
          "Rua marechal deodoro da fonógrafo",
          "Avenida quinze",
          null,
          "Rua benedito josé picoli",
          null,
          null,
          null,
          null,
          null,
          null,
          null,
          null,
          null,
          "Avenida presidente vargas",
          null,
          null,
          null,
          null,
          "Estrada lagoa da mangueira",
          "Rua jaime guimaraes costa",
          null,
          "Rua aratimbo",
          null,
          null,
          null,
          "Rua itapira",
          null,
          "Estrada municipal de terra",
          "Jardim cruzado",
          "Viela formosa",
          null,
          null,
          null,
          null,
          null,
          null,
          null,
          "Rua tres",
          "Via anel viario guaraci oliveira",
          null,
          null,
          null,
          "Avenida célso silveira rezende",
          null,
          "Avenida arquiteto vilanova artigas",
          null,
          "Avenida palmira rossi",
          null,
          "Rua das pitangueiras",
          "Rua flora",
          null,
          null,
          null,
          null,
          null,
          null,
          null,
          null,
          "Avenida brigadeiro faria lima",
          "Rua armando mazo",
          null,
          null,
          null,
          null,
          "Rua maria antônieta",
          null,
          "Rua isnard otranto",
          "Avenida césar martins pirajá",
          "Alameda jacarandás",
          "Rua joana de bernardim baizola",
          null,
          null,
          null,
          null,
          null,
          null,
          null,
          null,
          null,
          null,
          "Rua tancredo almeida neves",
          null,
          "Avenida presidente tancredo neves",
          "Rodovia br 101 km acesso a sp 125",
          null,
          null,
          null,
          null,
          null,
          "Rua armando sáles de oliveira",
          null,
          "Rua muniz de souza",
          "Rua laudelino vieira de campos",
          null,
          "Avenida duque de caxias",
          null,
          "Rua ari siqueira",
          null,
          null,
          "Rodovia samuel castro neves",
          null,
          null,
          null,
          null,
          null,
          null,
          null,
          "Rua monsenhor joão batista tófoli",
          null,
          null,
          null,
          null,
          null,
          null,
          null,
          null,
          null,
          null,
          null,
          "Avenida eliseu de almeida",
          "Rua antônio siqueira",
          null,
          "Rua antônio constantino",
          "Rua lucina r vasconcelos",
          "Rua friedrich von voith",
          null,
          "Rua augusto garibalde",
          "Rua doutor ovidio pires de campos",
          null,
          "Rua dos feltrins",
          null,
          null,
          null,
          null,
          null,
          null,
          null,
          null,
          "Rua espanha",
          "Rua josé florenciano santos jessé",
          "Avenida joão lorenzon",
          "Rua constantino de oliveira ledo",
          "Rua dos tucanos",
          null,
          null,
          null,
          null,
          "Avenida joão de andrade",
          "Rua valdecir quintino",
          null,
          null,
          null,
          null,
          "Rua quirino dos santos",
          "Rua tome da rocha",
          null,
          "Rua antonio paes",
          null,
          null,
          "Rua araújo leite"
         ],
         "y": [
          1,
          1,
          1,
          1,
          1,
          1,
          1,
          1,
          1,
          1,
          1,
          1,
          1,
          1,
          1,
          1,
          1,
          1,
          1,
          1,
          1
         ]
        }
       ],
       "layout": {
        "template": {
         "data": {
          "bar": [
           {
            "error_x": {
             "color": "#2a3f5f"
            },
            "error_y": {
             "color": "#2a3f5f"
            },
            "marker": {
             "line": {
              "color": "#E5ECF6",
              "width": 0.5
             }
            },
            "type": "bar"
           }
          ],
          "barpolar": [
           {
            "marker": {
             "line": {
              "color": "#E5ECF6",
              "width": 0.5
             }
            },
            "type": "barpolar"
           }
          ],
          "carpet": [
           {
            "aaxis": {
             "endlinecolor": "#2a3f5f",
             "gridcolor": "white",
             "linecolor": "white",
             "minorgridcolor": "white",
             "startlinecolor": "#2a3f5f"
            },
            "baxis": {
             "endlinecolor": "#2a3f5f",
             "gridcolor": "white",
             "linecolor": "white",
             "minorgridcolor": "white",
             "startlinecolor": "#2a3f5f"
            },
            "type": "carpet"
           }
          ],
          "choropleth": [
           {
            "colorbar": {
             "outlinewidth": 0,
             "ticks": ""
            },
            "type": "choropleth"
           }
          ],
          "contour": [
           {
            "colorbar": {
             "outlinewidth": 0,
             "ticks": ""
            },
            "colorscale": [
             [
              0,
              "#0d0887"
             ],
             [
              0.1111111111111111,
              "#46039f"
             ],
             [
              0.2222222222222222,
              "#7201a8"
             ],
             [
              0.3333333333333333,
              "#9c179e"
             ],
             [
              0.4444444444444444,
              "#bd3786"
             ],
             [
              0.5555555555555556,
              "#d8576b"
             ],
             [
              0.6666666666666666,
              "#ed7953"
             ],
             [
              0.7777777777777778,
              "#fb9f3a"
             ],
             [
              0.8888888888888888,
              "#fdca26"
             ],
             [
              1,
              "#f0f921"
             ]
            ],
            "type": "contour"
           }
          ],
          "contourcarpet": [
           {
            "colorbar": {
             "outlinewidth": 0,
             "ticks": ""
            },
            "type": "contourcarpet"
           }
          ],
          "heatmap": [
           {
            "colorbar": {
             "outlinewidth": 0,
             "ticks": ""
            },
            "colorscale": [
             [
              0,
              "#0d0887"
             ],
             [
              0.1111111111111111,
              "#46039f"
             ],
             [
              0.2222222222222222,
              "#7201a8"
             ],
             [
              0.3333333333333333,
              "#9c179e"
             ],
             [
              0.4444444444444444,
              "#bd3786"
             ],
             [
              0.5555555555555556,
              "#d8576b"
             ],
             [
              0.6666666666666666,
              "#ed7953"
             ],
             [
              0.7777777777777778,
              "#fb9f3a"
             ],
             [
              0.8888888888888888,
              "#fdca26"
             ],
             [
              1,
              "#f0f921"
             ]
            ],
            "type": "heatmap"
           }
          ],
          "heatmapgl": [
           {
            "colorbar": {
             "outlinewidth": 0,
             "ticks": ""
            },
            "colorscale": [
             [
              0,
              "#0d0887"
             ],
             [
              0.1111111111111111,
              "#46039f"
             ],
             [
              0.2222222222222222,
              "#7201a8"
             ],
             [
              0.3333333333333333,
              "#9c179e"
             ],
             [
              0.4444444444444444,
              "#bd3786"
             ],
             [
              0.5555555555555556,
              "#d8576b"
             ],
             [
              0.6666666666666666,
              "#ed7953"
             ],
             [
              0.7777777777777778,
              "#fb9f3a"
             ],
             [
              0.8888888888888888,
              "#fdca26"
             ],
             [
              1,
              "#f0f921"
             ]
            ],
            "type": "heatmapgl"
           }
          ],
          "histogram": [
           {
            "marker": {
             "colorbar": {
              "outlinewidth": 0,
              "ticks": ""
             }
            },
            "type": "histogram"
           }
          ],
          "histogram2d": [
           {
            "colorbar": {
             "outlinewidth": 0,
             "ticks": ""
            },
            "colorscale": [
             [
              0,
              "#0d0887"
             ],
             [
              0.1111111111111111,
              "#46039f"
             ],
             [
              0.2222222222222222,
              "#7201a8"
             ],
             [
              0.3333333333333333,
              "#9c179e"
             ],
             [
              0.4444444444444444,
              "#bd3786"
             ],
             [
              0.5555555555555556,
              "#d8576b"
             ],
             [
              0.6666666666666666,
              "#ed7953"
             ],
             [
              0.7777777777777778,
              "#fb9f3a"
             ],
             [
              0.8888888888888888,
              "#fdca26"
             ],
             [
              1,
              "#f0f921"
             ]
            ],
            "type": "histogram2d"
           }
          ],
          "histogram2dcontour": [
           {
            "colorbar": {
             "outlinewidth": 0,
             "ticks": ""
            },
            "colorscale": [
             [
              0,
              "#0d0887"
             ],
             [
              0.1111111111111111,
              "#46039f"
             ],
             [
              0.2222222222222222,
              "#7201a8"
             ],
             [
              0.3333333333333333,
              "#9c179e"
             ],
             [
              0.4444444444444444,
              "#bd3786"
             ],
             [
              0.5555555555555556,
              "#d8576b"
             ],
             [
              0.6666666666666666,
              "#ed7953"
             ],
             [
              0.7777777777777778,
              "#fb9f3a"
             ],
             [
              0.8888888888888888,
              "#fdca26"
             ],
             [
              1,
              "#f0f921"
             ]
            ],
            "type": "histogram2dcontour"
           }
          ],
          "mesh3d": [
           {
            "colorbar": {
             "outlinewidth": 0,
             "ticks": ""
            },
            "type": "mesh3d"
           }
          ],
          "parcoords": [
           {
            "line": {
             "colorbar": {
              "outlinewidth": 0,
              "ticks": ""
             }
            },
            "type": "parcoords"
           }
          ],
          "scatter": [
           {
            "marker": {
             "colorbar": {
              "outlinewidth": 0,
              "ticks": ""
             }
            },
            "type": "scatter"
           }
          ],
          "scatter3d": [
           {
            "line": {
             "colorbar": {
              "outlinewidth": 0,
              "ticks": ""
             }
            },
            "marker": {
             "colorbar": {
              "outlinewidth": 0,
              "ticks": ""
             }
            },
            "type": "scatter3d"
           }
          ],
          "scattercarpet": [
           {
            "marker": {
             "colorbar": {
              "outlinewidth": 0,
              "ticks": ""
             }
            },
            "type": "scattercarpet"
           }
          ],
          "scattergeo": [
           {
            "marker": {
             "colorbar": {
              "outlinewidth": 0,
              "ticks": ""
             }
            },
            "type": "scattergeo"
           }
          ],
          "scattergl": [
           {
            "marker": {
             "colorbar": {
              "outlinewidth": 0,
              "ticks": ""
             }
            },
            "type": "scattergl"
           }
          ],
          "scattermapbox": [
           {
            "marker": {
             "colorbar": {
              "outlinewidth": 0,
              "ticks": ""
             }
            },
            "type": "scattermapbox"
           }
          ],
          "scatterpolar": [
           {
            "marker": {
             "colorbar": {
              "outlinewidth": 0,
              "ticks": ""
             }
            },
            "type": "scatterpolar"
           }
          ],
          "scatterpolargl": [
           {
            "marker": {
             "colorbar": {
              "outlinewidth": 0,
              "ticks": ""
             }
            },
            "type": "scatterpolargl"
           }
          ],
          "scatterternary": [
           {
            "marker": {
             "colorbar": {
              "outlinewidth": 0,
              "ticks": ""
             }
            },
            "type": "scatterternary"
           }
          ],
          "surface": [
           {
            "colorbar": {
             "outlinewidth": 0,
             "ticks": ""
            },
            "colorscale": [
             [
              0,
              "#0d0887"
             ],
             [
              0.1111111111111111,
              "#46039f"
             ],
             [
              0.2222222222222222,
              "#7201a8"
             ],
             [
              0.3333333333333333,
              "#9c179e"
             ],
             [
              0.4444444444444444,
              "#bd3786"
             ],
             [
              0.5555555555555556,
              "#d8576b"
             ],
             [
              0.6666666666666666,
              "#ed7953"
             ],
             [
              0.7777777777777778,
              "#fb9f3a"
             ],
             [
              0.8888888888888888,
              "#fdca26"
             ],
             [
              1,
              "#f0f921"
             ]
            ],
            "type": "surface"
           }
          ],
          "table": [
           {
            "cells": {
             "fill": {
              "color": "#EBF0F8"
             },
             "line": {
              "color": "white"
             }
            },
            "header": {
             "fill": {
              "color": "#C8D4E3"
             },
             "line": {
              "color": "white"
             }
            },
            "type": "table"
           }
          ]
         },
         "layout": {
          "annotationdefaults": {
           "arrowcolor": "#2a3f5f",
           "arrowhead": 0,
           "arrowwidth": 1
          },
          "colorscale": {
           "diverging": [
            [
             0,
             "#8e0152"
            ],
            [
             0.1,
             "#c51b7d"
            ],
            [
             0.2,
             "#de77ae"
            ],
            [
             0.3,
             "#f1b6da"
            ],
            [
             0.4,
             "#fde0ef"
            ],
            [
             0.5,
             "#f7f7f7"
            ],
            [
             0.6,
             "#e6f5d0"
            ],
            [
             0.7,
             "#b8e186"
            ],
            [
             0.8,
             "#7fbc41"
            ],
            [
             0.9,
             "#4d9221"
            ],
            [
             1,
             "#276419"
            ]
           ],
           "sequential": [
            [
             0,
             "#0d0887"
            ],
            [
             0.1111111111111111,
             "#46039f"
            ],
            [
             0.2222222222222222,
             "#7201a8"
            ],
            [
             0.3333333333333333,
             "#9c179e"
            ],
            [
             0.4444444444444444,
             "#bd3786"
            ],
            [
             0.5555555555555556,
             "#d8576b"
            ],
            [
             0.6666666666666666,
             "#ed7953"
            ],
            [
             0.7777777777777778,
             "#fb9f3a"
            ],
            [
             0.8888888888888888,
             "#fdca26"
            ],
            [
             1,
             "#f0f921"
            ]
           ],
           "sequentialminus": [
            [
             0,
             "#0d0887"
            ],
            [
             0.1111111111111111,
             "#46039f"
            ],
            [
             0.2222222222222222,
             "#7201a8"
            ],
            [
             0.3333333333333333,
             "#9c179e"
            ],
            [
             0.4444444444444444,
             "#bd3786"
            ],
            [
             0.5555555555555556,
             "#d8576b"
            ],
            [
             0.6666666666666666,
             "#ed7953"
            ],
            [
             0.7777777777777778,
             "#fb9f3a"
            ],
            [
             0.8888888888888888,
             "#fdca26"
            ],
            [
             1,
             "#f0f921"
            ]
           ]
          },
          "colorway": [
           "#636efa",
           "#EF553B",
           "#00cc96",
           "#ab63fa",
           "#FFA15A",
           "#19d3f3",
           "#FF6692",
           "#B6E880",
           "#FF97FF",
           "#FECB52"
          ],
          "font": {
           "color": "#2a3f5f"
          },
          "geo": {
           "bgcolor": "white",
           "lakecolor": "white",
           "landcolor": "#E5ECF6",
           "showlakes": true,
           "showland": true,
           "subunitcolor": "white"
          },
          "hoverlabel": {
           "align": "left"
          },
          "hovermode": "closest",
          "mapbox": {
           "style": "light"
          },
          "paper_bgcolor": "white",
          "plot_bgcolor": "#E5ECF6",
          "polar": {
           "angularaxis": {
            "gridcolor": "white",
            "linecolor": "white",
            "ticks": ""
           },
           "bgcolor": "#E5ECF6",
           "radialaxis": {
            "gridcolor": "white",
            "linecolor": "white",
            "ticks": ""
           }
          },
          "scene": {
           "xaxis": {
            "backgroundcolor": "#E5ECF6",
            "gridcolor": "white",
            "gridwidth": 2,
            "linecolor": "white",
            "showbackground": true,
            "ticks": "",
            "zerolinecolor": "white"
           },
           "yaxis": {
            "backgroundcolor": "#E5ECF6",
            "gridcolor": "white",
            "gridwidth": 2,
            "linecolor": "white",
            "showbackground": true,
            "ticks": "",
            "zerolinecolor": "white"
           },
           "zaxis": {
            "backgroundcolor": "#E5ECF6",
            "gridcolor": "white",
            "gridwidth": 2,
            "linecolor": "white",
            "showbackground": true,
            "ticks": "",
            "zerolinecolor": "white"
           }
          },
          "shapedefaults": {
           "line": {
            "color": "#2a3f5f"
           }
          },
          "ternary": {
           "aaxis": {
            "gridcolor": "white",
            "linecolor": "white",
            "ticks": ""
           },
           "baxis": {
            "gridcolor": "white",
            "linecolor": "white",
            "ticks": ""
           },
           "bgcolor": "#E5ECF6",
           "caxis": {
            "gridcolor": "white",
            "linecolor": "white",
            "ticks": ""
           }
          },
          "title": {
           "x": 0.05
          },
          "xaxis": {
           "automargin": true,
           "gridcolor": "white",
           "linecolor": "white",
           "ticks": "",
           "zerolinecolor": "white",
           "zerolinewidth": 2
          },
          "yaxis": {
           "automargin": true,
           "gridcolor": "white",
           "linecolor": "white",
           "ticks": "",
           "zerolinecolor": "white",
           "zerolinewidth": 2
          }
         }
        }
       }
      },
      "text/html": [
       "<div>\n",
       "        \n",
       "        \n",
       "            <div id=\"249e4cb3-2d58-455c-9de8-d29991b4c652\" class=\"plotly-graph-div\" style=\"height:525px; width:100%;\"></div>\n",
       "            <script type=\"text/javascript\">\n",
       "                require([\"plotly\"], function(Plotly) {\n",
       "                    window.PLOTLYENV=window.PLOTLYENV || {};\n",
       "                    \n",
       "                if (document.getElementById(\"249e4cb3-2d58-455c-9de8-d29991b4c652\")) {\n",
       "                    Plotly.newPlot(\n",
       "                        '249e4cb3-2d58-455c-9de8-d29991b4c652',\n",
       "                        [{\"marker\": {\"color\": \"#d35400\"}, \"name\": \"2018\", \"type\": \"bar\", \"x\": [\"Avenida av. dep. luis eduardo magalh\\u00e3es\", null, null, null, \"Rua \\u00e2ngelo scarpato\", \"Rua ajuricaba\", null, null, null, null, \"Avenida barao de itapura\", null, null, \"Rua doutor dante erbolato\", null, null, \"Rua orlando de oliveira\", null, null, null, \"Rua silviano biagi\", null, null, null, null, null, \"Avenida bento lopes\", null, \"Rua argentina\", null, null, \"Avenida 22 de mar\\u00e7o\", null, null, null, null, null, null, \"Estrada bairro arara dos pereiras\", null, null, null, null, null, null, null, \"Avenida augusta zorzi baradel\", null, \"Rua jucaral\", \"Rua dois\", null, \"Rua marechal deodoro da fon\\u00f3grafo\", \"Avenida quinze\", null, \"Rua benedito jos\\u00e9 picoli\", null, null, null, null, null, null, null, null, null, \"Avenida presidente vargas\", null, null, null, null, \"Estrada lagoa da mangueira\", \"Rua jaime guimaraes costa\", null, \"Rua aratimbo\", null, null, null, \"Rua itapira\", null, \"Estrada municipal de terra\", \"Jardim cruzado\", \"Viela formosa\", null, null, null, null, null, null, null, \"Rua tres\", \"Via anel viario guaraci oliveira\", null, null, null, \"Avenida c\\u00e9lso silveira rezende\", null, \"Avenida arquiteto vilanova artigas\", null, \"Avenida palmira rossi\", null, \"Rua das pitangueiras\", \"Rua flora\", null, null, null, null, null, null, null, null, \"Avenida brigadeiro faria lima\", \"Rua armando mazo\", null, null, null, null, \"Rua maria ant\\u00f4nieta\", null, \"Rua isnard otranto\", \"Avenida c\\u00e9sar martins piraj\\u00e1\", \"Alameda jacarand\\u00e1s\", \"Rua joana de bernardim baizola\", null, null, null, null, null, null, null, null, null, null, \"Rua tancredo almeida neves\", null, \"Avenida presidente tancredo neves\", \"Rodovia br 101 km acesso a sp 125\", null, null, null, null, null, \"Rua armando s\\u00e1les de oliveira\", null, \"Rua muniz de souza\", \"Rua laudelino vieira de campos\", null, \"Avenida duque de caxias\", null, \"Rua ari siqueira\", null, null, \"Rodovia samuel castro neves\", null, null, null, null, null, null, null, \"Rua monsenhor jo\\u00e3o batista t\\u00f3foli\", null, null, null, null, null, null, null, null, null, null, null, \"Avenida eliseu de almeida\", \"Rua ant\\u00f4nio siqueira\", null, \"Rua ant\\u00f4nio constantino\", \"Rua lucina r vasconcelos\", \"Rua friedrich von voith\", null, \"Rua augusto garibalde\", \"Rua doutor ovidio pires de campos\", null, \"Rua dos feltrins\", null, null, null, null, null, null, null, null, \"Rua espanha\", \"Rua jos\\u00e9 florenciano santos jess\\u00e9\", \"Avenida jo\\u00e3o lorenzon\", \"Rua constantino de oliveira ledo\", \"Rua dos tucanos\", null, null, null, null, \"Avenida jo\\u00e3o de andrade\", \"Rua valdecir quintino\", null, null, null, null, \"Rua quirino dos santos\", \"Rua tome da rocha\", null, \"Rua antonio paes\", null, null, \"Rua ara\\u00fajo leite\"], \"y\": [1, 1, 1, 1, 1, 1, 1, 1, 1, 1, 1, 1, 1, 1, 1, 1, 1, 1, 1, 1, 1, 1, 1, 1, 1, 1, 1, 1, 1, 1, 1, 1, 1, 1, 1, 1, 1, 1, 1, 1, 1, 1, 1, 1, 1, 1, 1]}, {\"marker\": {\"color\": \"#f39c12\"}, \"name\": \"2019\", \"type\": \"bar\", \"x\": [\"Avenida av. dep. luis eduardo magalh\\u00e3es\", null, null, null, \"Rua \\u00e2ngelo scarpato\", \"Rua ajuricaba\", null, null, null, null, \"Avenida barao de itapura\", null, null, \"Rua doutor dante erbolato\", null, null, \"Rua orlando de oliveira\", null, null, null, \"Rua silviano biagi\", null, null, null, null, null, \"Avenida bento lopes\", null, \"Rua argentina\", null, null, \"Avenida 22 de mar\\u00e7o\", null, null, null, null, null, null, \"Estrada bairro arara dos pereiras\", null, null, null, null, null, null, null, \"Avenida augusta zorzi baradel\", null, \"Rua jucaral\", \"Rua dois\", null, \"Rua marechal deodoro da fon\\u00f3grafo\", \"Avenida quinze\", null, \"Rua benedito jos\\u00e9 picoli\", null, null, null, null, null, null, null, null, null, \"Avenida presidente vargas\", null, null, null, null, \"Estrada lagoa da mangueira\", \"Rua jaime guimaraes costa\", null, \"Rua aratimbo\", null, null, null, \"Rua itapira\", null, \"Estrada municipal de terra\", \"Jardim cruzado\", \"Viela formosa\", null, null, null, null, null, null, null, \"Rua tres\", \"Via anel viario guaraci oliveira\", null, null, null, \"Avenida c\\u00e9lso silveira rezende\", null, \"Avenida arquiteto vilanova artigas\", null, \"Avenida palmira rossi\", null, \"Rua das pitangueiras\", \"Rua flora\", null, null, null, null, null, null, null, null, \"Avenida brigadeiro faria lima\", \"Rua armando mazo\", null, null, null, null, \"Rua maria ant\\u00f4nieta\", null, \"Rua isnard otranto\", \"Avenida c\\u00e9sar martins piraj\\u00e1\", \"Alameda jacarand\\u00e1s\", \"Rua joana de bernardim baizola\", null, null, null, null, null, null, null, null, null, null, \"Rua tancredo almeida neves\", null, \"Avenida presidente tancredo neves\", \"Rodovia br 101 km acesso a sp 125\", null, null, null, null, null, \"Rua armando s\\u00e1les de oliveira\", null, \"Rua muniz de souza\", \"Rua laudelino vieira de campos\", null, \"Avenida duque de caxias\", null, \"Rua ari siqueira\", null, null, \"Rodovia samuel castro neves\", null, null, null, null, null, null, null, \"Rua monsenhor jo\\u00e3o batista t\\u00f3foli\", null, null, null, null, null, null, null, null, null, null, null, \"Avenida eliseu de almeida\", \"Rua ant\\u00f4nio siqueira\", null, \"Rua ant\\u00f4nio constantino\", \"Rua lucina r vasconcelos\", \"Rua friedrich von voith\", null, \"Rua augusto garibalde\", \"Rua doutor ovidio pires de campos\", null, \"Rua dos feltrins\", null, null, null, null, null, null, null, null, \"Rua espanha\", \"Rua jos\\u00e9 florenciano santos jess\\u00e9\", \"Avenida jo\\u00e3o lorenzon\", \"Rua constantino de oliveira ledo\", \"Rua dos tucanos\", null, null, null, null, \"Avenida jo\\u00e3o de andrade\", \"Rua valdecir quintino\", null, null, null, null, \"Rua quirino dos santos\", \"Rua tome da rocha\", null, \"Rua antonio paes\", null, null, \"Rua ara\\u00fajo leite\"], \"y\": [1, 1, 1, 1, 1, 1, 1, 1, 1, 1, 1, 1, 1, 1, 1, 1, 1, 1, 1, 1, 1]}],\n",
       "                        {\"template\": {\"data\": {\"bar\": [{\"error_x\": {\"color\": \"#2a3f5f\"}, \"error_y\": {\"color\": \"#2a3f5f\"}, \"marker\": {\"line\": {\"color\": \"#E5ECF6\", \"width\": 0.5}}, \"type\": \"bar\"}], \"barpolar\": [{\"marker\": {\"line\": {\"color\": \"#E5ECF6\", \"width\": 0.5}}, \"type\": \"barpolar\"}], \"carpet\": [{\"aaxis\": {\"endlinecolor\": \"#2a3f5f\", \"gridcolor\": \"white\", \"linecolor\": \"white\", \"minorgridcolor\": \"white\", \"startlinecolor\": \"#2a3f5f\"}, \"baxis\": {\"endlinecolor\": \"#2a3f5f\", \"gridcolor\": \"white\", \"linecolor\": \"white\", \"minorgridcolor\": \"white\", \"startlinecolor\": \"#2a3f5f\"}, \"type\": \"carpet\"}], \"choropleth\": [{\"colorbar\": {\"outlinewidth\": 0, \"ticks\": \"\"}, \"type\": \"choropleth\"}], \"contour\": [{\"colorbar\": {\"outlinewidth\": 0, \"ticks\": \"\"}, \"colorscale\": [[0.0, \"#0d0887\"], [0.1111111111111111, \"#46039f\"], [0.2222222222222222, \"#7201a8\"], [0.3333333333333333, \"#9c179e\"], [0.4444444444444444, \"#bd3786\"], [0.5555555555555556, \"#d8576b\"], [0.6666666666666666, \"#ed7953\"], [0.7777777777777778, \"#fb9f3a\"], [0.8888888888888888, \"#fdca26\"], [1.0, \"#f0f921\"]], \"type\": \"contour\"}], \"contourcarpet\": [{\"colorbar\": {\"outlinewidth\": 0, \"ticks\": \"\"}, \"type\": \"contourcarpet\"}], \"heatmap\": [{\"colorbar\": {\"outlinewidth\": 0, \"ticks\": \"\"}, \"colorscale\": [[0.0, \"#0d0887\"], [0.1111111111111111, \"#46039f\"], [0.2222222222222222, \"#7201a8\"], [0.3333333333333333, \"#9c179e\"], [0.4444444444444444, \"#bd3786\"], [0.5555555555555556, \"#d8576b\"], [0.6666666666666666, \"#ed7953\"], [0.7777777777777778, \"#fb9f3a\"], [0.8888888888888888, \"#fdca26\"], [1.0, \"#f0f921\"]], \"type\": \"heatmap\"}], \"heatmapgl\": [{\"colorbar\": {\"outlinewidth\": 0, \"ticks\": \"\"}, \"colorscale\": [[0.0, \"#0d0887\"], [0.1111111111111111, \"#46039f\"], [0.2222222222222222, \"#7201a8\"], [0.3333333333333333, \"#9c179e\"], [0.4444444444444444, \"#bd3786\"], [0.5555555555555556, \"#d8576b\"], [0.6666666666666666, \"#ed7953\"], [0.7777777777777778, \"#fb9f3a\"], [0.8888888888888888, \"#fdca26\"], [1.0, \"#f0f921\"]], \"type\": \"heatmapgl\"}], \"histogram\": [{\"marker\": {\"colorbar\": {\"outlinewidth\": 0, \"ticks\": \"\"}}, \"type\": \"histogram\"}], \"histogram2d\": [{\"colorbar\": {\"outlinewidth\": 0, \"ticks\": \"\"}, \"colorscale\": [[0.0, \"#0d0887\"], [0.1111111111111111, \"#46039f\"], [0.2222222222222222, \"#7201a8\"], [0.3333333333333333, \"#9c179e\"], [0.4444444444444444, \"#bd3786\"], [0.5555555555555556, \"#d8576b\"], [0.6666666666666666, \"#ed7953\"], [0.7777777777777778, \"#fb9f3a\"], [0.8888888888888888, \"#fdca26\"], [1.0, \"#f0f921\"]], \"type\": \"histogram2d\"}], \"histogram2dcontour\": [{\"colorbar\": {\"outlinewidth\": 0, \"ticks\": \"\"}, \"colorscale\": [[0.0, \"#0d0887\"], [0.1111111111111111, \"#46039f\"], [0.2222222222222222, \"#7201a8\"], [0.3333333333333333, \"#9c179e\"], [0.4444444444444444, \"#bd3786\"], [0.5555555555555556, \"#d8576b\"], [0.6666666666666666, \"#ed7953\"], [0.7777777777777778, \"#fb9f3a\"], [0.8888888888888888, \"#fdca26\"], [1.0, \"#f0f921\"]], \"type\": \"histogram2dcontour\"}], \"mesh3d\": [{\"colorbar\": {\"outlinewidth\": 0, \"ticks\": \"\"}, \"type\": \"mesh3d\"}], \"parcoords\": [{\"line\": {\"colorbar\": {\"outlinewidth\": 0, \"ticks\": \"\"}}, \"type\": \"parcoords\"}], \"scatter\": [{\"marker\": {\"colorbar\": {\"outlinewidth\": 0, \"ticks\": \"\"}}, \"type\": \"scatter\"}], \"scatter3d\": [{\"line\": {\"colorbar\": {\"outlinewidth\": 0, \"ticks\": \"\"}}, \"marker\": {\"colorbar\": {\"outlinewidth\": 0, \"ticks\": \"\"}}, \"type\": \"scatter3d\"}], \"scattercarpet\": [{\"marker\": {\"colorbar\": {\"outlinewidth\": 0, \"ticks\": \"\"}}, \"type\": \"scattercarpet\"}], \"scattergeo\": [{\"marker\": {\"colorbar\": {\"outlinewidth\": 0, \"ticks\": \"\"}}, \"type\": \"scattergeo\"}], \"scattergl\": [{\"marker\": {\"colorbar\": {\"outlinewidth\": 0, \"ticks\": \"\"}}, \"type\": \"scattergl\"}], \"scattermapbox\": [{\"marker\": {\"colorbar\": {\"outlinewidth\": 0, \"ticks\": \"\"}}, \"type\": \"scattermapbox\"}], \"scatterpolar\": [{\"marker\": {\"colorbar\": {\"outlinewidth\": 0, \"ticks\": \"\"}}, \"type\": \"scatterpolar\"}], \"scatterpolargl\": [{\"marker\": {\"colorbar\": {\"outlinewidth\": 0, \"ticks\": \"\"}}, \"type\": \"scatterpolargl\"}], \"scatterternary\": [{\"marker\": {\"colorbar\": {\"outlinewidth\": 0, \"ticks\": \"\"}}, \"type\": \"scatterternary\"}], \"surface\": [{\"colorbar\": {\"outlinewidth\": 0, \"ticks\": \"\"}, \"colorscale\": [[0.0, \"#0d0887\"], [0.1111111111111111, \"#46039f\"], [0.2222222222222222, \"#7201a8\"], [0.3333333333333333, \"#9c179e\"], [0.4444444444444444, \"#bd3786\"], [0.5555555555555556, \"#d8576b\"], [0.6666666666666666, \"#ed7953\"], [0.7777777777777778, \"#fb9f3a\"], [0.8888888888888888, \"#fdca26\"], [1.0, \"#f0f921\"]], \"type\": \"surface\"}], \"table\": [{\"cells\": {\"fill\": {\"color\": \"#EBF0F8\"}, \"line\": {\"color\": \"white\"}}, \"header\": {\"fill\": {\"color\": \"#C8D4E3\"}, \"line\": {\"color\": \"white\"}}, \"type\": \"table\"}]}, \"layout\": {\"annotationdefaults\": {\"arrowcolor\": \"#2a3f5f\", \"arrowhead\": 0, \"arrowwidth\": 1}, \"colorscale\": {\"diverging\": [[0, \"#8e0152\"], [0.1, \"#c51b7d\"], [0.2, \"#de77ae\"], [0.3, \"#f1b6da\"], [0.4, \"#fde0ef\"], [0.5, \"#f7f7f7\"], [0.6, \"#e6f5d0\"], [0.7, \"#b8e186\"], [0.8, \"#7fbc41\"], [0.9, \"#4d9221\"], [1, \"#276419\"]], \"sequential\": [[0.0, \"#0d0887\"], [0.1111111111111111, \"#46039f\"], [0.2222222222222222, \"#7201a8\"], [0.3333333333333333, \"#9c179e\"], [0.4444444444444444, \"#bd3786\"], [0.5555555555555556, \"#d8576b\"], [0.6666666666666666, \"#ed7953\"], [0.7777777777777778, \"#fb9f3a\"], [0.8888888888888888, \"#fdca26\"], [1.0, \"#f0f921\"]], \"sequentialminus\": [[0.0, \"#0d0887\"], [0.1111111111111111, \"#46039f\"], [0.2222222222222222, \"#7201a8\"], [0.3333333333333333, \"#9c179e\"], [0.4444444444444444, \"#bd3786\"], [0.5555555555555556, \"#d8576b\"], [0.6666666666666666, \"#ed7953\"], [0.7777777777777778, \"#fb9f3a\"], [0.8888888888888888, \"#fdca26\"], [1.0, \"#f0f921\"]]}, \"colorway\": [\"#636efa\", \"#EF553B\", \"#00cc96\", \"#ab63fa\", \"#FFA15A\", \"#19d3f3\", \"#FF6692\", \"#B6E880\", \"#FF97FF\", \"#FECB52\"], \"font\": {\"color\": \"#2a3f5f\"}, \"geo\": {\"bgcolor\": \"white\", \"lakecolor\": \"white\", \"landcolor\": \"#E5ECF6\", \"showlakes\": true, \"showland\": true, \"subunitcolor\": \"white\"}, \"hoverlabel\": {\"align\": \"left\"}, \"hovermode\": \"closest\", \"mapbox\": {\"style\": \"light\"}, \"paper_bgcolor\": \"white\", \"plot_bgcolor\": \"#E5ECF6\", \"polar\": {\"angularaxis\": {\"gridcolor\": \"white\", \"linecolor\": \"white\", \"ticks\": \"\"}, \"bgcolor\": \"#E5ECF6\", \"radialaxis\": {\"gridcolor\": \"white\", \"linecolor\": \"white\", \"ticks\": \"\"}}, \"scene\": {\"xaxis\": {\"backgroundcolor\": \"#E5ECF6\", \"gridcolor\": \"white\", \"gridwidth\": 2, \"linecolor\": \"white\", \"showbackground\": true, \"ticks\": \"\", \"zerolinecolor\": \"white\"}, \"yaxis\": {\"backgroundcolor\": \"#E5ECF6\", \"gridcolor\": \"white\", \"gridwidth\": 2, \"linecolor\": \"white\", \"showbackground\": true, \"ticks\": \"\", \"zerolinecolor\": \"white\"}, \"zaxis\": {\"backgroundcolor\": \"#E5ECF6\", \"gridcolor\": \"white\", \"gridwidth\": 2, \"linecolor\": \"white\", \"showbackground\": true, \"ticks\": \"\", \"zerolinecolor\": \"white\"}}, \"shapedefaults\": {\"line\": {\"color\": \"#2a3f5f\"}}, \"ternary\": {\"aaxis\": {\"gridcolor\": \"white\", \"linecolor\": \"white\", \"ticks\": \"\"}, \"baxis\": {\"gridcolor\": \"white\", \"linecolor\": \"white\", \"ticks\": \"\"}, \"bgcolor\": \"#E5ECF6\", \"caxis\": {\"gridcolor\": \"white\", \"linecolor\": \"white\", \"ticks\": \"\"}}, \"title\": {\"x\": 0.05}, \"xaxis\": {\"automargin\": true, \"gridcolor\": \"white\", \"linecolor\": \"white\", \"ticks\": \"\", \"zerolinecolor\": \"white\", \"zerolinewidth\": 2}, \"yaxis\": {\"automargin\": true, \"gridcolor\": \"white\", \"linecolor\": \"white\", \"ticks\": \"\", \"zerolinecolor\": \"white\", \"zerolinewidth\": 2}}}},\n",
       "                        {\"responsive\": true}\n",
       "                    ).then(function(){\n",
       "                            \n",
       "var gd = document.getElementById('249e4cb3-2d58-455c-9de8-d29991b4c652');\n",
       "var x = new MutationObserver(function (mutations, observer) {{\n",
       "        var display = window.getComputedStyle(gd).display;\n",
       "        if (!display || display === 'none') {{\n",
       "            console.log([gd, 'removed!']);\n",
       "            Plotly.purge(gd);\n",
       "            observer.disconnect();\n",
       "        }}\n",
       "}});\n",
       "\n",
       "// Listen for the removal of the full notebook cells\n",
       "var notebookContainer = gd.closest('#notebook-container');\n",
       "if (notebookContainer) {{\n",
       "    x.observe(notebookContainer, {childList: true});\n",
       "}}\n",
       "\n",
       "// Listen for the clearing of the current output cell\n",
       "var outputEl = gd.closest('.output');\n",
       "if (outputEl) {{\n",
       "    x.observe(outputEl, {childList: true});\n",
       "}}\n",
       "\n",
       "                        })\n",
       "                };\n",
       "                });\n",
       "            </script>\n",
       "        </div>"
      ]
     },
     "metadata": {},
     "output_type": "display_data"
    }
   ],
   "source": [
    "trace1 = go.Bar(x = df_novo['LOGRADOURO'],\n",
    "                y = df_novo[df_novo['ANO_BO'] == 2018].groupby('LOGRADOURO').size().sort_values(ascending=False),\n",
    "                name = '2018')\n",
    "trace2 = go.Bar(x = df_novo['LOGRADOURO'],\n",
    "                y = df_novo[df_novo['ANO_BO'] == 2019].groupby('LOGRADOURO').size().sort_values(ascending=False),\n",
    "                name = '2019')\n",
    "\n",
    "df = [trace1, trace2]\n",
    "\n",
    "py.iplot(df)"
   ]
  },
  {
   "cell_type": "markdown",
   "metadata": {},
   "source": [
    "#### Local\n",
    "\n",
    "O local onde há mais ocorrências de feminicídio são nas residências das próprias vítimas."
   ]
  },
  {
   "cell_type": "code",
   "execution_count": 699,
   "metadata": {},
   "outputs": [
    {
     "data": {
      "application/vnd.plotly.v1+json": {
       "config": {
        "linkText": "Export to plot.ly",
        "plotlyServerURL": "https://plot.ly",
        "showLink": false
       },
       "data": [
        {
         "marker": {
          "color": "#e74c3c"
         },
         "name": "2018",
         "type": "bar",
         "x": [
          "Unidade rural",
          "Residência",
          "Residência",
          "Residência",
          "Via pública",
          "Via pública",
          "Residência",
          "Residência",
          "Residência",
          "Residência",
          "Area não ocupada",
          "Residência",
          "Residência",
          "Area não ocupada",
          "Residência",
          "Residência",
          "Via pública",
          "Residência",
          "Residência",
          "Residência",
          "Via pública",
          "Residência",
          "Residência",
          "Residência",
          "Residência",
          "Residência",
          "Via pública",
          "Residência",
          "Area não ocupada",
          "Residência",
          "Residência",
          "Via pública",
          "Residência",
          "Residência",
          "Residência",
          "Residência",
          "Residência",
          "Residência",
          "Unidade rural",
          "Residência",
          "Residência",
          "Residência",
          "Residência",
          "Residência",
          "Residência",
          "Residência",
          "Estabelecimento prisional",
          "Residência",
          "Via pública",
          "Via pública",
          "Residência",
          "Via pública",
          "Via pública",
          "Residência",
          "Residência",
          "Residência",
          "Residência",
          "Residência",
          "Residência",
          "Residência",
          "Residência",
          "Residência",
          "Residência",
          "Residência",
          "Comércio e serviços",
          "Residência",
          "Residência",
          "Residência",
          "Residência",
          "Via pública",
          "Via pública",
          "Residência",
          "Via pública",
          "Residência",
          "Residência",
          "Residência",
          "Via pública",
          "Residência",
          "Rodovia/estrada",
          "Via pública",
          "Saúde",
          "Residência",
          "Residência",
          "Residência",
          "Residência",
          "Residência",
          "Residência",
          "Residência",
          "Via pública",
          "Via pública",
          "Residência",
          "Residência",
          "Residência",
          "Comércio e serviços",
          "Residência",
          "Via pública",
          "Residência",
          "Restaurante e afins",
          "Residência",
          "Via pública",
          "Via pública",
          "Residência",
          "Residência",
          "Residência",
          "Via pública",
          "Residência",
          "Residência",
          "Residência",
          "Residência",
          "Area não ocupada",
          "Via pública",
          "Residência",
          "Residência",
          "Residência",
          "Via pública",
          "Restaurante e afins",
          "Residência",
          "Via pública",
          "Via pública",
          "Via pública",
          "Via pública",
          "Condominio residencial",
          "Residência",
          "Residência",
          "Residência",
          "Residência",
          "Residência",
          "Residência",
          "Residência",
          "Residência",
          "Residência",
          "Via pública",
          "Residência",
          "Via pública",
          "Rodovia/estrada",
          "Residência",
          "Residência",
          "Residência",
          "Residência",
          "Via pública",
          "Hospedagem",
          "Residência",
          "Via pública",
          "Lazer e recreação",
          "Residência",
          "Via pública",
          "Residência",
          "Via pública",
          "Residência",
          "Residência",
          "Unidade rural",
          "Residência",
          "Residência",
          "Residência",
          "Residência",
          "Residência",
          "Residência",
          "Residência",
          "Via pública",
          "Via pública",
          "Residência",
          "Residência",
          "Residência",
          "Residência",
          "Residência",
          "Residência",
          "Residência",
          "Residência",
          "Residência",
          "Residência",
          "Via pública",
          "Via pública",
          "Residência",
          "Via pública",
          "Via pública",
          "Comércio e serviços",
          "Residência",
          "Via pública",
          "Saúde",
          "Residência",
          "Via pública",
          "Residência",
          "Residência",
          "Residência",
          "Residência",
          "Residência",
          "Residência",
          "Residência",
          "Residência",
          "Via pública",
          "Via pública",
          "Unidade rural",
          "Via pública",
          "Via pública",
          "Residência",
          "Residência",
          "Residência",
          "Residência",
          "Condominio comercial",
          "Via pública",
          "Residência",
          "Residência",
          "Residência",
          "Residência",
          "Favela",
          "Via pública",
          "Residência",
          "Via pública",
          "Residência",
          "Residência",
          "Via pública"
         ],
         "y": [
          9,
          7,
          5,
          2,
          2,
          2,
          2,
          2,
          2,
          2,
          2,
          2,
          2,
          2,
          1,
          1,
          1,
          1,
          1,
          1,
          1,
          1,
          1,
          1,
          1,
          1,
          1,
          1,
          1,
          1,
          1,
          1,
          1,
          1,
          1,
          1,
          1,
          1,
          1,
          1,
          1,
          1,
          1,
          1,
          1,
          1,
          1,
          1,
          1,
          1,
          1,
          1,
          1,
          1,
          1,
          1,
          1,
          1,
          1,
          1,
          1,
          1,
          1,
          1,
          1,
          1,
          1,
          1,
          1,
          1,
          1,
          1,
          1,
          1,
          1,
          1,
          1,
          1,
          1,
          1,
          1,
          1,
          1,
          1,
          1,
          1,
          1,
          1,
          1,
          1,
          1,
          1,
          1,
          1,
          1,
          1,
          1,
          1,
          1,
          1,
          1
         ]
        },
        {
         "marker": {
          "color": "#e67e22"
         },
         "name": "2019",
         "type": "bar",
         "x": [
          "Unidade rural",
          "Residência",
          "Residência",
          "Residência",
          "Via pública",
          "Via pública",
          "Residência",
          "Residência",
          "Residência",
          "Residência",
          "Area não ocupada",
          "Residência",
          "Residência",
          "Area não ocupada",
          "Residência",
          "Residência",
          "Via pública",
          "Residência",
          "Residência",
          "Residência",
          "Via pública",
          "Residência",
          "Residência",
          "Residência",
          "Residência",
          "Residência",
          "Via pública",
          "Residência",
          "Area não ocupada",
          "Residência",
          "Residência",
          "Via pública",
          "Residência",
          "Residência",
          "Residência",
          "Residência",
          "Residência",
          "Residência",
          "Unidade rural",
          "Residência",
          "Residência",
          "Residência",
          "Residência",
          "Residência",
          "Residência",
          "Residência",
          "Estabelecimento prisional",
          "Residência",
          "Via pública",
          "Via pública",
          "Residência",
          "Via pública",
          "Via pública",
          "Residência",
          "Residência",
          "Residência",
          "Residência",
          "Residência",
          "Residência",
          "Residência",
          "Residência",
          "Residência",
          "Residência",
          "Residência",
          "Comércio e serviços",
          "Residência",
          "Residência",
          "Residência",
          "Residência",
          "Via pública",
          "Via pública",
          "Residência",
          "Via pública",
          "Residência",
          "Residência",
          "Residência",
          "Via pública",
          "Residência",
          "Rodovia/estrada",
          "Via pública",
          "Saúde",
          "Residência",
          "Residência",
          "Residência",
          "Residência",
          "Residência",
          "Residência",
          "Residência",
          "Via pública",
          "Via pública",
          "Residência",
          "Residência",
          "Residência",
          "Comércio e serviços",
          "Residência",
          "Via pública",
          "Residência",
          "Restaurante e afins",
          "Residência",
          "Via pública",
          "Via pública",
          "Residência",
          "Residência",
          "Residência",
          "Via pública",
          "Residência",
          "Residência",
          "Residência",
          "Residência",
          "Area não ocupada",
          "Via pública",
          "Residência",
          "Residência",
          "Residência",
          "Via pública",
          "Restaurante e afins",
          "Residência",
          "Via pública",
          "Via pública",
          "Via pública",
          "Via pública",
          "Condominio residencial",
          "Residência",
          "Residência",
          "Residência",
          "Residência",
          "Residência",
          "Residência",
          "Residência",
          "Residência",
          "Residência",
          "Via pública",
          "Residência",
          "Via pública",
          "Rodovia/estrada",
          "Residência",
          "Residência",
          "Residência",
          "Residência",
          "Via pública",
          "Hospedagem",
          "Residência",
          "Via pública",
          "Lazer e recreação",
          "Residência",
          "Via pública",
          "Residência",
          "Via pública",
          "Residência",
          "Residência",
          "Unidade rural",
          "Residência",
          "Residência",
          "Residência",
          "Residência",
          "Residência",
          "Residência",
          "Residência",
          "Via pública",
          "Via pública",
          "Residência",
          "Residência",
          "Residência",
          "Residência",
          "Residência",
          "Residência",
          "Residência",
          "Residência",
          "Residência",
          "Residência",
          "Via pública",
          "Via pública",
          "Residência",
          "Via pública",
          "Via pública",
          "Comércio e serviços",
          "Residência",
          "Via pública",
          "Saúde",
          "Residência",
          "Via pública",
          "Residência",
          "Residência",
          "Residência",
          "Residência",
          "Residência",
          "Residência",
          "Residência",
          "Residência",
          "Via pública",
          "Via pública",
          "Unidade rural",
          "Via pública",
          "Via pública",
          "Residência",
          "Residência",
          "Residência",
          "Residência",
          "Condominio comercial",
          "Via pública",
          "Residência",
          "Residência",
          "Residência",
          "Residência",
          "Favela",
          "Via pública",
          "Residência",
          "Via pública",
          "Residência",
          "Residência",
          "Via pública"
         ],
         "y": [
          5,
          4,
          2,
          2,
          2,
          1,
          1,
          1,
          1,
          1,
          1,
          1,
          1,
          1,
          1,
          1,
          1,
          1,
          1,
          1,
          1,
          1,
          1,
          1,
          1,
          1,
          1,
          1,
          1,
          1,
          1,
          1,
          1,
          1,
          1,
          1,
          1,
          1,
          1,
          1,
          1,
          1,
          1,
          1,
          1,
          1,
          1,
          1,
          1,
          1,
          1,
          1,
          1,
          1,
          1,
          1,
          1,
          1,
          1,
          1,
          1,
          1,
          1,
          1,
          1,
          1,
          1,
          1,
          1,
          1
         ]
        }
       ],
       "layout": {
        "template": {
         "data": {
          "bar": [
           {
            "error_x": {
             "color": "#2a3f5f"
            },
            "error_y": {
             "color": "#2a3f5f"
            },
            "marker": {
             "line": {
              "color": "#E5ECF6",
              "width": 0.5
             }
            },
            "type": "bar"
           }
          ],
          "barpolar": [
           {
            "marker": {
             "line": {
              "color": "#E5ECF6",
              "width": 0.5
             }
            },
            "type": "barpolar"
           }
          ],
          "carpet": [
           {
            "aaxis": {
             "endlinecolor": "#2a3f5f",
             "gridcolor": "white",
             "linecolor": "white",
             "minorgridcolor": "white",
             "startlinecolor": "#2a3f5f"
            },
            "baxis": {
             "endlinecolor": "#2a3f5f",
             "gridcolor": "white",
             "linecolor": "white",
             "minorgridcolor": "white",
             "startlinecolor": "#2a3f5f"
            },
            "type": "carpet"
           }
          ],
          "choropleth": [
           {
            "colorbar": {
             "outlinewidth": 0,
             "ticks": ""
            },
            "type": "choropleth"
           }
          ],
          "contour": [
           {
            "colorbar": {
             "outlinewidth": 0,
             "ticks": ""
            },
            "colorscale": [
             [
              0,
              "#0d0887"
             ],
             [
              0.1111111111111111,
              "#46039f"
             ],
             [
              0.2222222222222222,
              "#7201a8"
             ],
             [
              0.3333333333333333,
              "#9c179e"
             ],
             [
              0.4444444444444444,
              "#bd3786"
             ],
             [
              0.5555555555555556,
              "#d8576b"
             ],
             [
              0.6666666666666666,
              "#ed7953"
             ],
             [
              0.7777777777777778,
              "#fb9f3a"
             ],
             [
              0.8888888888888888,
              "#fdca26"
             ],
             [
              1,
              "#f0f921"
             ]
            ],
            "type": "contour"
           }
          ],
          "contourcarpet": [
           {
            "colorbar": {
             "outlinewidth": 0,
             "ticks": ""
            },
            "type": "contourcarpet"
           }
          ],
          "heatmap": [
           {
            "colorbar": {
             "outlinewidth": 0,
             "ticks": ""
            },
            "colorscale": [
             [
              0,
              "#0d0887"
             ],
             [
              0.1111111111111111,
              "#46039f"
             ],
             [
              0.2222222222222222,
              "#7201a8"
             ],
             [
              0.3333333333333333,
              "#9c179e"
             ],
             [
              0.4444444444444444,
              "#bd3786"
             ],
             [
              0.5555555555555556,
              "#d8576b"
             ],
             [
              0.6666666666666666,
              "#ed7953"
             ],
             [
              0.7777777777777778,
              "#fb9f3a"
             ],
             [
              0.8888888888888888,
              "#fdca26"
             ],
             [
              1,
              "#f0f921"
             ]
            ],
            "type": "heatmap"
           }
          ],
          "heatmapgl": [
           {
            "colorbar": {
             "outlinewidth": 0,
             "ticks": ""
            },
            "colorscale": [
             [
              0,
              "#0d0887"
             ],
             [
              0.1111111111111111,
              "#46039f"
             ],
             [
              0.2222222222222222,
              "#7201a8"
             ],
             [
              0.3333333333333333,
              "#9c179e"
             ],
             [
              0.4444444444444444,
              "#bd3786"
             ],
             [
              0.5555555555555556,
              "#d8576b"
             ],
             [
              0.6666666666666666,
              "#ed7953"
             ],
             [
              0.7777777777777778,
              "#fb9f3a"
             ],
             [
              0.8888888888888888,
              "#fdca26"
             ],
             [
              1,
              "#f0f921"
             ]
            ],
            "type": "heatmapgl"
           }
          ],
          "histogram": [
           {
            "marker": {
             "colorbar": {
              "outlinewidth": 0,
              "ticks": ""
             }
            },
            "type": "histogram"
           }
          ],
          "histogram2d": [
           {
            "colorbar": {
             "outlinewidth": 0,
             "ticks": ""
            },
            "colorscale": [
             [
              0,
              "#0d0887"
             ],
             [
              0.1111111111111111,
              "#46039f"
             ],
             [
              0.2222222222222222,
              "#7201a8"
             ],
             [
              0.3333333333333333,
              "#9c179e"
             ],
             [
              0.4444444444444444,
              "#bd3786"
             ],
             [
              0.5555555555555556,
              "#d8576b"
             ],
             [
              0.6666666666666666,
              "#ed7953"
             ],
             [
              0.7777777777777778,
              "#fb9f3a"
             ],
             [
              0.8888888888888888,
              "#fdca26"
             ],
             [
              1,
              "#f0f921"
             ]
            ],
            "type": "histogram2d"
           }
          ],
          "histogram2dcontour": [
           {
            "colorbar": {
             "outlinewidth": 0,
             "ticks": ""
            },
            "colorscale": [
             [
              0,
              "#0d0887"
             ],
             [
              0.1111111111111111,
              "#46039f"
             ],
             [
              0.2222222222222222,
              "#7201a8"
             ],
             [
              0.3333333333333333,
              "#9c179e"
             ],
             [
              0.4444444444444444,
              "#bd3786"
             ],
             [
              0.5555555555555556,
              "#d8576b"
             ],
             [
              0.6666666666666666,
              "#ed7953"
             ],
             [
              0.7777777777777778,
              "#fb9f3a"
             ],
             [
              0.8888888888888888,
              "#fdca26"
             ],
             [
              1,
              "#f0f921"
             ]
            ],
            "type": "histogram2dcontour"
           }
          ],
          "mesh3d": [
           {
            "colorbar": {
             "outlinewidth": 0,
             "ticks": ""
            },
            "type": "mesh3d"
           }
          ],
          "parcoords": [
           {
            "line": {
             "colorbar": {
              "outlinewidth": 0,
              "ticks": ""
             }
            },
            "type": "parcoords"
           }
          ],
          "scatter": [
           {
            "marker": {
             "colorbar": {
              "outlinewidth": 0,
              "ticks": ""
             }
            },
            "type": "scatter"
           }
          ],
          "scatter3d": [
           {
            "line": {
             "colorbar": {
              "outlinewidth": 0,
              "ticks": ""
             }
            },
            "marker": {
             "colorbar": {
              "outlinewidth": 0,
              "ticks": ""
             }
            },
            "type": "scatter3d"
           }
          ],
          "scattercarpet": [
           {
            "marker": {
             "colorbar": {
              "outlinewidth": 0,
              "ticks": ""
             }
            },
            "type": "scattercarpet"
           }
          ],
          "scattergeo": [
           {
            "marker": {
             "colorbar": {
              "outlinewidth": 0,
              "ticks": ""
             }
            },
            "type": "scattergeo"
           }
          ],
          "scattergl": [
           {
            "marker": {
             "colorbar": {
              "outlinewidth": 0,
              "ticks": ""
             }
            },
            "type": "scattergl"
           }
          ],
          "scattermapbox": [
           {
            "marker": {
             "colorbar": {
              "outlinewidth": 0,
              "ticks": ""
             }
            },
            "type": "scattermapbox"
           }
          ],
          "scatterpolar": [
           {
            "marker": {
             "colorbar": {
              "outlinewidth": 0,
              "ticks": ""
             }
            },
            "type": "scatterpolar"
           }
          ],
          "scatterpolargl": [
           {
            "marker": {
             "colorbar": {
              "outlinewidth": 0,
              "ticks": ""
             }
            },
            "type": "scatterpolargl"
           }
          ],
          "scatterternary": [
           {
            "marker": {
             "colorbar": {
              "outlinewidth": 0,
              "ticks": ""
             }
            },
            "type": "scatterternary"
           }
          ],
          "surface": [
           {
            "colorbar": {
             "outlinewidth": 0,
             "ticks": ""
            },
            "colorscale": [
             [
              0,
              "#0d0887"
             ],
             [
              0.1111111111111111,
              "#46039f"
             ],
             [
              0.2222222222222222,
              "#7201a8"
             ],
             [
              0.3333333333333333,
              "#9c179e"
             ],
             [
              0.4444444444444444,
              "#bd3786"
             ],
             [
              0.5555555555555556,
              "#d8576b"
             ],
             [
              0.6666666666666666,
              "#ed7953"
             ],
             [
              0.7777777777777778,
              "#fb9f3a"
             ],
             [
              0.8888888888888888,
              "#fdca26"
             ],
             [
              1,
              "#f0f921"
             ]
            ],
            "type": "surface"
           }
          ],
          "table": [
           {
            "cells": {
             "fill": {
              "color": "#EBF0F8"
             },
             "line": {
              "color": "white"
             }
            },
            "header": {
             "fill": {
              "color": "#C8D4E3"
             },
             "line": {
              "color": "white"
             }
            },
            "type": "table"
           }
          ]
         },
         "layout": {
          "annotationdefaults": {
           "arrowcolor": "#2a3f5f",
           "arrowhead": 0,
           "arrowwidth": 1
          },
          "colorscale": {
           "diverging": [
            [
             0,
             "#8e0152"
            ],
            [
             0.1,
             "#c51b7d"
            ],
            [
             0.2,
             "#de77ae"
            ],
            [
             0.3,
             "#f1b6da"
            ],
            [
             0.4,
             "#fde0ef"
            ],
            [
             0.5,
             "#f7f7f7"
            ],
            [
             0.6,
             "#e6f5d0"
            ],
            [
             0.7,
             "#b8e186"
            ],
            [
             0.8,
             "#7fbc41"
            ],
            [
             0.9,
             "#4d9221"
            ],
            [
             1,
             "#276419"
            ]
           ],
           "sequential": [
            [
             0,
             "#0d0887"
            ],
            [
             0.1111111111111111,
             "#46039f"
            ],
            [
             0.2222222222222222,
             "#7201a8"
            ],
            [
             0.3333333333333333,
             "#9c179e"
            ],
            [
             0.4444444444444444,
             "#bd3786"
            ],
            [
             0.5555555555555556,
             "#d8576b"
            ],
            [
             0.6666666666666666,
             "#ed7953"
            ],
            [
             0.7777777777777778,
             "#fb9f3a"
            ],
            [
             0.8888888888888888,
             "#fdca26"
            ],
            [
             1,
             "#f0f921"
            ]
           ],
           "sequentialminus": [
            [
             0,
             "#0d0887"
            ],
            [
             0.1111111111111111,
             "#46039f"
            ],
            [
             0.2222222222222222,
             "#7201a8"
            ],
            [
             0.3333333333333333,
             "#9c179e"
            ],
            [
             0.4444444444444444,
             "#bd3786"
            ],
            [
             0.5555555555555556,
             "#d8576b"
            ],
            [
             0.6666666666666666,
             "#ed7953"
            ],
            [
             0.7777777777777778,
             "#fb9f3a"
            ],
            [
             0.8888888888888888,
             "#fdca26"
            ],
            [
             1,
             "#f0f921"
            ]
           ]
          },
          "colorway": [
           "#636efa",
           "#EF553B",
           "#00cc96",
           "#ab63fa",
           "#FFA15A",
           "#19d3f3",
           "#FF6692",
           "#B6E880",
           "#FF97FF",
           "#FECB52"
          ],
          "font": {
           "color": "#2a3f5f"
          },
          "geo": {
           "bgcolor": "white",
           "lakecolor": "white",
           "landcolor": "#E5ECF6",
           "showlakes": true,
           "showland": true,
           "subunitcolor": "white"
          },
          "hoverlabel": {
           "align": "left"
          },
          "hovermode": "closest",
          "mapbox": {
           "style": "light"
          },
          "paper_bgcolor": "white",
          "plot_bgcolor": "#E5ECF6",
          "polar": {
           "angularaxis": {
            "gridcolor": "white",
            "linecolor": "white",
            "ticks": ""
           },
           "bgcolor": "#E5ECF6",
           "radialaxis": {
            "gridcolor": "white",
            "linecolor": "white",
            "ticks": ""
           }
          },
          "scene": {
           "xaxis": {
            "backgroundcolor": "#E5ECF6",
            "gridcolor": "white",
            "gridwidth": 2,
            "linecolor": "white",
            "showbackground": true,
            "ticks": "",
            "zerolinecolor": "white"
           },
           "yaxis": {
            "backgroundcolor": "#E5ECF6",
            "gridcolor": "white",
            "gridwidth": 2,
            "linecolor": "white",
            "showbackground": true,
            "ticks": "",
            "zerolinecolor": "white"
           },
           "zaxis": {
            "backgroundcolor": "#E5ECF6",
            "gridcolor": "white",
            "gridwidth": 2,
            "linecolor": "white",
            "showbackground": true,
            "ticks": "",
            "zerolinecolor": "white"
           }
          },
          "shapedefaults": {
           "line": {
            "color": "#2a3f5f"
           }
          },
          "ternary": {
           "aaxis": {
            "gridcolor": "white",
            "linecolor": "white",
            "ticks": ""
           },
           "baxis": {
            "gridcolor": "white",
            "linecolor": "white",
            "ticks": ""
           },
           "bgcolor": "#E5ECF6",
           "caxis": {
            "gridcolor": "white",
            "linecolor": "white",
            "ticks": ""
           }
          },
          "title": {
           "x": 0.05
          },
          "xaxis": {
           "automargin": true,
           "gridcolor": "white",
           "linecolor": "white",
           "ticks": "",
           "zerolinecolor": "white",
           "zerolinewidth": 2
          },
          "yaxis": {
           "automargin": true,
           "gridcolor": "white",
           "linecolor": "white",
           "ticks": "",
           "zerolinecolor": "white",
           "zerolinewidth": 2
          }
         }
        }
       }
      },
      "text/html": [
       "<div>\n",
       "        \n",
       "        \n",
       "            <div id=\"3cf2ef6e-e7e1-4dcc-aea2-415c01919873\" class=\"plotly-graph-div\" style=\"height:525px; width:100%;\"></div>\n",
       "            <script type=\"text/javascript\">\n",
       "                require([\"plotly\"], function(Plotly) {\n",
       "                    window.PLOTLYENV=window.PLOTLYENV || {};\n",
       "                    \n",
       "                if (document.getElementById(\"3cf2ef6e-e7e1-4dcc-aea2-415c01919873\")) {\n",
       "                    Plotly.newPlot(\n",
       "                        '3cf2ef6e-e7e1-4dcc-aea2-415c01919873',\n",
       "                        [{\"marker\": {\"color\": \"#e74c3c\"}, \"name\": \"2018\", \"type\": \"bar\", \"x\": [\"Unidade rural\", \"Resid\\u00eancia\", \"Resid\\u00eancia\", \"Resid\\u00eancia\", \"Via p\\u00fablica\", \"Via p\\u00fablica\", \"Resid\\u00eancia\", \"Resid\\u00eancia\", \"Resid\\u00eancia\", \"Resid\\u00eancia\", \"Area n\\u00e3o ocupada\", \"Resid\\u00eancia\", \"Resid\\u00eancia\", \"Area n\\u00e3o ocupada\", \"Resid\\u00eancia\", \"Resid\\u00eancia\", \"Via p\\u00fablica\", \"Resid\\u00eancia\", \"Resid\\u00eancia\", \"Resid\\u00eancia\", \"Via p\\u00fablica\", \"Resid\\u00eancia\", \"Resid\\u00eancia\", \"Resid\\u00eancia\", \"Resid\\u00eancia\", \"Resid\\u00eancia\", \"Via p\\u00fablica\", \"Resid\\u00eancia\", \"Area n\\u00e3o ocupada\", \"Resid\\u00eancia\", \"Resid\\u00eancia\", \"Via p\\u00fablica\", \"Resid\\u00eancia\", \"Resid\\u00eancia\", \"Resid\\u00eancia\", \"Resid\\u00eancia\", \"Resid\\u00eancia\", \"Resid\\u00eancia\", \"Unidade rural\", \"Resid\\u00eancia\", \"Resid\\u00eancia\", \"Resid\\u00eancia\", \"Resid\\u00eancia\", \"Resid\\u00eancia\", \"Resid\\u00eancia\", \"Resid\\u00eancia\", \"Estabelecimento prisional\", \"Resid\\u00eancia\", \"Via p\\u00fablica\", \"Via p\\u00fablica\", \"Resid\\u00eancia\", \"Via p\\u00fablica\", \"Via p\\u00fablica\", \"Resid\\u00eancia\", \"Resid\\u00eancia\", \"Resid\\u00eancia\", \"Resid\\u00eancia\", \"Resid\\u00eancia\", \"Resid\\u00eancia\", \"Resid\\u00eancia\", \"Resid\\u00eancia\", \"Resid\\u00eancia\", \"Resid\\u00eancia\", \"Resid\\u00eancia\", \"Com\\u00e9rcio e servi\\u00e7os\", \"Resid\\u00eancia\", \"Resid\\u00eancia\", \"Resid\\u00eancia\", \"Resid\\u00eancia\", \"Via p\\u00fablica\", \"Via p\\u00fablica\", \"Resid\\u00eancia\", \"Via p\\u00fablica\", \"Resid\\u00eancia\", \"Resid\\u00eancia\", \"Resid\\u00eancia\", \"Via p\\u00fablica\", \"Resid\\u00eancia\", \"Rodovia/estrada\", \"Via p\\u00fablica\", \"Sa\\u00fade\", \"Resid\\u00eancia\", \"Resid\\u00eancia\", \"Resid\\u00eancia\", \"Resid\\u00eancia\", \"Resid\\u00eancia\", \"Resid\\u00eancia\", \"Resid\\u00eancia\", \"Via p\\u00fablica\", \"Via p\\u00fablica\", \"Resid\\u00eancia\", \"Resid\\u00eancia\", \"Resid\\u00eancia\", \"Com\\u00e9rcio e servi\\u00e7os\", \"Resid\\u00eancia\", \"Via p\\u00fablica\", \"Resid\\u00eancia\", \"Restaurante e afins\", \"Resid\\u00eancia\", \"Via p\\u00fablica\", \"Via p\\u00fablica\", \"Resid\\u00eancia\", \"Resid\\u00eancia\", \"Resid\\u00eancia\", \"Via p\\u00fablica\", \"Resid\\u00eancia\", \"Resid\\u00eancia\", \"Resid\\u00eancia\", \"Resid\\u00eancia\", \"Area n\\u00e3o ocupada\", \"Via p\\u00fablica\", \"Resid\\u00eancia\", \"Resid\\u00eancia\", \"Resid\\u00eancia\", \"Via p\\u00fablica\", \"Restaurante e afins\", \"Resid\\u00eancia\", \"Via p\\u00fablica\", \"Via p\\u00fablica\", \"Via p\\u00fablica\", \"Via p\\u00fablica\", \"Condominio residencial\", \"Resid\\u00eancia\", \"Resid\\u00eancia\", \"Resid\\u00eancia\", \"Resid\\u00eancia\", \"Resid\\u00eancia\", \"Resid\\u00eancia\", \"Resid\\u00eancia\", \"Resid\\u00eancia\", \"Resid\\u00eancia\", \"Via p\\u00fablica\", \"Resid\\u00eancia\", \"Via p\\u00fablica\", \"Rodovia/estrada\", \"Resid\\u00eancia\", \"Resid\\u00eancia\", \"Resid\\u00eancia\", \"Resid\\u00eancia\", \"Via p\\u00fablica\", \"Hospedagem\", \"Resid\\u00eancia\", \"Via p\\u00fablica\", \"Lazer e recrea\\u00e7\\u00e3o\", \"Resid\\u00eancia\", \"Via p\\u00fablica\", \"Resid\\u00eancia\", \"Via p\\u00fablica\", \"Resid\\u00eancia\", \"Resid\\u00eancia\", \"Unidade rural\", \"Resid\\u00eancia\", \"Resid\\u00eancia\", \"Resid\\u00eancia\", \"Resid\\u00eancia\", \"Resid\\u00eancia\", \"Resid\\u00eancia\", \"Resid\\u00eancia\", \"Via p\\u00fablica\", \"Via p\\u00fablica\", \"Resid\\u00eancia\", \"Resid\\u00eancia\", \"Resid\\u00eancia\", \"Resid\\u00eancia\", \"Resid\\u00eancia\", \"Resid\\u00eancia\", \"Resid\\u00eancia\", \"Resid\\u00eancia\", \"Resid\\u00eancia\", \"Resid\\u00eancia\", \"Via p\\u00fablica\", \"Via p\\u00fablica\", \"Resid\\u00eancia\", \"Via p\\u00fablica\", \"Via p\\u00fablica\", \"Com\\u00e9rcio e servi\\u00e7os\", \"Resid\\u00eancia\", \"Via p\\u00fablica\", \"Sa\\u00fade\", \"Resid\\u00eancia\", \"Via p\\u00fablica\", \"Resid\\u00eancia\", \"Resid\\u00eancia\", \"Resid\\u00eancia\", \"Resid\\u00eancia\", \"Resid\\u00eancia\", \"Resid\\u00eancia\", \"Resid\\u00eancia\", \"Resid\\u00eancia\", \"Via p\\u00fablica\", \"Via p\\u00fablica\", \"Unidade rural\", \"Via p\\u00fablica\", \"Via p\\u00fablica\", \"Resid\\u00eancia\", \"Resid\\u00eancia\", \"Resid\\u00eancia\", \"Resid\\u00eancia\", \"Condominio comercial\", \"Via p\\u00fablica\", \"Resid\\u00eancia\", \"Resid\\u00eancia\", \"Resid\\u00eancia\", \"Resid\\u00eancia\", \"Favela\", \"Via p\\u00fablica\", \"Resid\\u00eancia\", \"Via p\\u00fablica\", \"Resid\\u00eancia\", \"Resid\\u00eancia\", \"Via p\\u00fablica\"], \"y\": [9, 7, 5, 2, 2, 2, 2, 2, 2, 2, 2, 2, 2, 2, 1, 1, 1, 1, 1, 1, 1, 1, 1, 1, 1, 1, 1, 1, 1, 1, 1, 1, 1, 1, 1, 1, 1, 1, 1, 1, 1, 1, 1, 1, 1, 1, 1, 1, 1, 1, 1, 1, 1, 1, 1, 1, 1, 1, 1, 1, 1, 1, 1, 1, 1, 1, 1, 1, 1, 1, 1, 1, 1, 1, 1, 1, 1, 1, 1, 1, 1, 1, 1, 1, 1, 1, 1, 1, 1, 1, 1, 1, 1, 1, 1, 1, 1, 1, 1, 1, 1]}, {\"marker\": {\"color\": \"#e67e22\"}, \"name\": \"2019\", \"type\": \"bar\", \"x\": [\"Unidade rural\", \"Resid\\u00eancia\", \"Resid\\u00eancia\", \"Resid\\u00eancia\", \"Via p\\u00fablica\", \"Via p\\u00fablica\", \"Resid\\u00eancia\", \"Resid\\u00eancia\", \"Resid\\u00eancia\", \"Resid\\u00eancia\", \"Area n\\u00e3o ocupada\", \"Resid\\u00eancia\", \"Resid\\u00eancia\", \"Area n\\u00e3o ocupada\", \"Resid\\u00eancia\", \"Resid\\u00eancia\", \"Via p\\u00fablica\", \"Resid\\u00eancia\", \"Resid\\u00eancia\", \"Resid\\u00eancia\", \"Via p\\u00fablica\", \"Resid\\u00eancia\", \"Resid\\u00eancia\", \"Resid\\u00eancia\", \"Resid\\u00eancia\", \"Resid\\u00eancia\", \"Via p\\u00fablica\", \"Resid\\u00eancia\", \"Area n\\u00e3o ocupada\", \"Resid\\u00eancia\", \"Resid\\u00eancia\", \"Via p\\u00fablica\", \"Resid\\u00eancia\", \"Resid\\u00eancia\", \"Resid\\u00eancia\", \"Resid\\u00eancia\", \"Resid\\u00eancia\", \"Resid\\u00eancia\", \"Unidade rural\", \"Resid\\u00eancia\", \"Resid\\u00eancia\", \"Resid\\u00eancia\", \"Resid\\u00eancia\", \"Resid\\u00eancia\", \"Resid\\u00eancia\", \"Resid\\u00eancia\", \"Estabelecimento prisional\", \"Resid\\u00eancia\", \"Via p\\u00fablica\", \"Via p\\u00fablica\", \"Resid\\u00eancia\", \"Via p\\u00fablica\", \"Via p\\u00fablica\", \"Resid\\u00eancia\", \"Resid\\u00eancia\", \"Resid\\u00eancia\", \"Resid\\u00eancia\", \"Resid\\u00eancia\", \"Resid\\u00eancia\", \"Resid\\u00eancia\", \"Resid\\u00eancia\", \"Resid\\u00eancia\", \"Resid\\u00eancia\", \"Resid\\u00eancia\", \"Com\\u00e9rcio e servi\\u00e7os\", \"Resid\\u00eancia\", \"Resid\\u00eancia\", \"Resid\\u00eancia\", \"Resid\\u00eancia\", \"Via p\\u00fablica\", \"Via p\\u00fablica\", \"Resid\\u00eancia\", \"Via p\\u00fablica\", \"Resid\\u00eancia\", \"Resid\\u00eancia\", \"Resid\\u00eancia\", \"Via p\\u00fablica\", \"Resid\\u00eancia\", \"Rodovia/estrada\", \"Via p\\u00fablica\", \"Sa\\u00fade\", \"Resid\\u00eancia\", \"Resid\\u00eancia\", \"Resid\\u00eancia\", \"Resid\\u00eancia\", \"Resid\\u00eancia\", \"Resid\\u00eancia\", \"Resid\\u00eancia\", \"Via p\\u00fablica\", \"Via p\\u00fablica\", \"Resid\\u00eancia\", \"Resid\\u00eancia\", \"Resid\\u00eancia\", \"Com\\u00e9rcio e servi\\u00e7os\", \"Resid\\u00eancia\", \"Via p\\u00fablica\", \"Resid\\u00eancia\", \"Restaurante e afins\", \"Resid\\u00eancia\", \"Via p\\u00fablica\", \"Via p\\u00fablica\", \"Resid\\u00eancia\", \"Resid\\u00eancia\", \"Resid\\u00eancia\", \"Via p\\u00fablica\", \"Resid\\u00eancia\", \"Resid\\u00eancia\", \"Resid\\u00eancia\", \"Resid\\u00eancia\", \"Area n\\u00e3o ocupada\", \"Via p\\u00fablica\", \"Resid\\u00eancia\", \"Resid\\u00eancia\", \"Resid\\u00eancia\", \"Via p\\u00fablica\", \"Restaurante e afins\", \"Resid\\u00eancia\", \"Via p\\u00fablica\", \"Via p\\u00fablica\", \"Via p\\u00fablica\", \"Via p\\u00fablica\", \"Condominio residencial\", \"Resid\\u00eancia\", \"Resid\\u00eancia\", \"Resid\\u00eancia\", \"Resid\\u00eancia\", \"Resid\\u00eancia\", \"Resid\\u00eancia\", \"Resid\\u00eancia\", \"Resid\\u00eancia\", \"Resid\\u00eancia\", \"Via p\\u00fablica\", \"Resid\\u00eancia\", \"Via p\\u00fablica\", \"Rodovia/estrada\", \"Resid\\u00eancia\", \"Resid\\u00eancia\", \"Resid\\u00eancia\", \"Resid\\u00eancia\", \"Via p\\u00fablica\", \"Hospedagem\", \"Resid\\u00eancia\", \"Via p\\u00fablica\", \"Lazer e recrea\\u00e7\\u00e3o\", \"Resid\\u00eancia\", \"Via p\\u00fablica\", \"Resid\\u00eancia\", \"Via p\\u00fablica\", \"Resid\\u00eancia\", \"Resid\\u00eancia\", \"Unidade rural\", \"Resid\\u00eancia\", \"Resid\\u00eancia\", \"Resid\\u00eancia\", \"Resid\\u00eancia\", \"Resid\\u00eancia\", \"Resid\\u00eancia\", \"Resid\\u00eancia\", \"Via p\\u00fablica\", \"Via p\\u00fablica\", \"Resid\\u00eancia\", \"Resid\\u00eancia\", \"Resid\\u00eancia\", \"Resid\\u00eancia\", \"Resid\\u00eancia\", \"Resid\\u00eancia\", \"Resid\\u00eancia\", \"Resid\\u00eancia\", \"Resid\\u00eancia\", \"Resid\\u00eancia\", \"Via p\\u00fablica\", \"Via p\\u00fablica\", \"Resid\\u00eancia\", \"Via p\\u00fablica\", \"Via p\\u00fablica\", \"Com\\u00e9rcio e servi\\u00e7os\", \"Resid\\u00eancia\", \"Via p\\u00fablica\", \"Sa\\u00fade\", \"Resid\\u00eancia\", \"Via p\\u00fablica\", \"Resid\\u00eancia\", \"Resid\\u00eancia\", \"Resid\\u00eancia\", \"Resid\\u00eancia\", \"Resid\\u00eancia\", \"Resid\\u00eancia\", \"Resid\\u00eancia\", \"Resid\\u00eancia\", \"Via p\\u00fablica\", \"Via p\\u00fablica\", \"Unidade rural\", \"Via p\\u00fablica\", \"Via p\\u00fablica\", \"Resid\\u00eancia\", \"Resid\\u00eancia\", \"Resid\\u00eancia\", \"Resid\\u00eancia\", \"Condominio comercial\", \"Via p\\u00fablica\", \"Resid\\u00eancia\", \"Resid\\u00eancia\", \"Resid\\u00eancia\", \"Resid\\u00eancia\", \"Favela\", \"Via p\\u00fablica\", \"Resid\\u00eancia\", \"Via p\\u00fablica\", \"Resid\\u00eancia\", \"Resid\\u00eancia\", \"Via p\\u00fablica\"], \"y\": [5, 4, 2, 2, 2, 1, 1, 1, 1, 1, 1, 1, 1, 1, 1, 1, 1, 1, 1, 1, 1, 1, 1, 1, 1, 1, 1, 1, 1, 1, 1, 1, 1, 1, 1, 1, 1, 1, 1, 1, 1, 1, 1, 1, 1, 1, 1, 1, 1, 1, 1, 1, 1, 1, 1, 1, 1, 1, 1, 1, 1, 1, 1, 1, 1, 1, 1, 1, 1, 1]}],\n",
       "                        {\"template\": {\"data\": {\"bar\": [{\"error_x\": {\"color\": \"#2a3f5f\"}, \"error_y\": {\"color\": \"#2a3f5f\"}, \"marker\": {\"line\": {\"color\": \"#E5ECF6\", \"width\": 0.5}}, \"type\": \"bar\"}], \"barpolar\": [{\"marker\": {\"line\": {\"color\": \"#E5ECF6\", \"width\": 0.5}}, \"type\": \"barpolar\"}], \"carpet\": [{\"aaxis\": {\"endlinecolor\": \"#2a3f5f\", \"gridcolor\": \"white\", \"linecolor\": \"white\", \"minorgridcolor\": \"white\", \"startlinecolor\": \"#2a3f5f\"}, \"baxis\": {\"endlinecolor\": \"#2a3f5f\", \"gridcolor\": \"white\", \"linecolor\": \"white\", \"minorgridcolor\": \"white\", \"startlinecolor\": \"#2a3f5f\"}, \"type\": \"carpet\"}], \"choropleth\": [{\"colorbar\": {\"outlinewidth\": 0, \"ticks\": \"\"}, \"type\": \"choropleth\"}], \"contour\": [{\"colorbar\": {\"outlinewidth\": 0, \"ticks\": \"\"}, \"colorscale\": [[0.0, \"#0d0887\"], [0.1111111111111111, \"#46039f\"], [0.2222222222222222, \"#7201a8\"], [0.3333333333333333, \"#9c179e\"], [0.4444444444444444, \"#bd3786\"], [0.5555555555555556, \"#d8576b\"], [0.6666666666666666, \"#ed7953\"], [0.7777777777777778, \"#fb9f3a\"], [0.8888888888888888, \"#fdca26\"], [1.0, \"#f0f921\"]], \"type\": \"contour\"}], \"contourcarpet\": [{\"colorbar\": {\"outlinewidth\": 0, \"ticks\": \"\"}, \"type\": \"contourcarpet\"}], \"heatmap\": [{\"colorbar\": {\"outlinewidth\": 0, \"ticks\": \"\"}, \"colorscale\": [[0.0, \"#0d0887\"], [0.1111111111111111, \"#46039f\"], [0.2222222222222222, \"#7201a8\"], [0.3333333333333333, \"#9c179e\"], [0.4444444444444444, \"#bd3786\"], [0.5555555555555556, \"#d8576b\"], [0.6666666666666666, \"#ed7953\"], [0.7777777777777778, \"#fb9f3a\"], [0.8888888888888888, \"#fdca26\"], [1.0, \"#f0f921\"]], \"type\": \"heatmap\"}], \"heatmapgl\": [{\"colorbar\": {\"outlinewidth\": 0, \"ticks\": \"\"}, \"colorscale\": [[0.0, \"#0d0887\"], [0.1111111111111111, \"#46039f\"], [0.2222222222222222, \"#7201a8\"], [0.3333333333333333, \"#9c179e\"], [0.4444444444444444, \"#bd3786\"], [0.5555555555555556, \"#d8576b\"], [0.6666666666666666, \"#ed7953\"], [0.7777777777777778, \"#fb9f3a\"], [0.8888888888888888, \"#fdca26\"], [1.0, \"#f0f921\"]], \"type\": \"heatmapgl\"}], \"histogram\": [{\"marker\": {\"colorbar\": {\"outlinewidth\": 0, \"ticks\": \"\"}}, \"type\": \"histogram\"}], \"histogram2d\": [{\"colorbar\": {\"outlinewidth\": 0, \"ticks\": \"\"}, \"colorscale\": [[0.0, \"#0d0887\"], [0.1111111111111111, \"#46039f\"], [0.2222222222222222, \"#7201a8\"], [0.3333333333333333, \"#9c179e\"], [0.4444444444444444, \"#bd3786\"], [0.5555555555555556, \"#d8576b\"], [0.6666666666666666, \"#ed7953\"], [0.7777777777777778, \"#fb9f3a\"], [0.8888888888888888, \"#fdca26\"], [1.0, \"#f0f921\"]], \"type\": \"histogram2d\"}], \"histogram2dcontour\": [{\"colorbar\": {\"outlinewidth\": 0, \"ticks\": \"\"}, \"colorscale\": [[0.0, \"#0d0887\"], [0.1111111111111111, \"#46039f\"], [0.2222222222222222, \"#7201a8\"], [0.3333333333333333, \"#9c179e\"], [0.4444444444444444, \"#bd3786\"], [0.5555555555555556, \"#d8576b\"], [0.6666666666666666, \"#ed7953\"], [0.7777777777777778, \"#fb9f3a\"], [0.8888888888888888, \"#fdca26\"], [1.0, \"#f0f921\"]], \"type\": \"histogram2dcontour\"}], \"mesh3d\": [{\"colorbar\": {\"outlinewidth\": 0, \"ticks\": \"\"}, \"type\": \"mesh3d\"}], \"parcoords\": [{\"line\": {\"colorbar\": {\"outlinewidth\": 0, \"ticks\": \"\"}}, \"type\": \"parcoords\"}], \"scatter\": [{\"marker\": {\"colorbar\": {\"outlinewidth\": 0, \"ticks\": \"\"}}, \"type\": \"scatter\"}], \"scatter3d\": [{\"line\": {\"colorbar\": {\"outlinewidth\": 0, \"ticks\": \"\"}}, \"marker\": {\"colorbar\": {\"outlinewidth\": 0, \"ticks\": \"\"}}, \"type\": \"scatter3d\"}], \"scattercarpet\": [{\"marker\": {\"colorbar\": {\"outlinewidth\": 0, \"ticks\": \"\"}}, \"type\": \"scattercarpet\"}], \"scattergeo\": [{\"marker\": {\"colorbar\": {\"outlinewidth\": 0, \"ticks\": \"\"}}, \"type\": \"scattergeo\"}], \"scattergl\": [{\"marker\": {\"colorbar\": {\"outlinewidth\": 0, \"ticks\": \"\"}}, \"type\": \"scattergl\"}], \"scattermapbox\": [{\"marker\": {\"colorbar\": {\"outlinewidth\": 0, \"ticks\": \"\"}}, \"type\": \"scattermapbox\"}], \"scatterpolar\": [{\"marker\": {\"colorbar\": {\"outlinewidth\": 0, \"ticks\": \"\"}}, \"type\": \"scatterpolar\"}], \"scatterpolargl\": [{\"marker\": {\"colorbar\": {\"outlinewidth\": 0, \"ticks\": \"\"}}, \"type\": \"scatterpolargl\"}], \"scatterternary\": [{\"marker\": {\"colorbar\": {\"outlinewidth\": 0, \"ticks\": \"\"}}, \"type\": \"scatterternary\"}], \"surface\": [{\"colorbar\": {\"outlinewidth\": 0, \"ticks\": \"\"}, \"colorscale\": [[0.0, \"#0d0887\"], [0.1111111111111111, \"#46039f\"], [0.2222222222222222, \"#7201a8\"], [0.3333333333333333, \"#9c179e\"], [0.4444444444444444, \"#bd3786\"], [0.5555555555555556, \"#d8576b\"], [0.6666666666666666, \"#ed7953\"], [0.7777777777777778, \"#fb9f3a\"], [0.8888888888888888, \"#fdca26\"], [1.0, \"#f0f921\"]], \"type\": \"surface\"}], \"table\": [{\"cells\": {\"fill\": {\"color\": \"#EBF0F8\"}, \"line\": {\"color\": \"white\"}}, \"header\": {\"fill\": {\"color\": \"#C8D4E3\"}, \"line\": {\"color\": \"white\"}}, \"type\": \"table\"}]}, \"layout\": {\"annotationdefaults\": {\"arrowcolor\": \"#2a3f5f\", \"arrowhead\": 0, \"arrowwidth\": 1}, \"colorscale\": {\"diverging\": [[0, \"#8e0152\"], [0.1, \"#c51b7d\"], [0.2, \"#de77ae\"], [0.3, \"#f1b6da\"], [0.4, \"#fde0ef\"], [0.5, \"#f7f7f7\"], [0.6, \"#e6f5d0\"], [0.7, \"#b8e186\"], [0.8, \"#7fbc41\"], [0.9, \"#4d9221\"], [1, \"#276419\"]], \"sequential\": [[0.0, \"#0d0887\"], [0.1111111111111111, \"#46039f\"], [0.2222222222222222, \"#7201a8\"], [0.3333333333333333, \"#9c179e\"], [0.4444444444444444, \"#bd3786\"], [0.5555555555555556, \"#d8576b\"], [0.6666666666666666, \"#ed7953\"], [0.7777777777777778, \"#fb9f3a\"], [0.8888888888888888, \"#fdca26\"], [1.0, \"#f0f921\"]], \"sequentialminus\": [[0.0, \"#0d0887\"], [0.1111111111111111, \"#46039f\"], [0.2222222222222222, \"#7201a8\"], [0.3333333333333333, \"#9c179e\"], [0.4444444444444444, \"#bd3786\"], [0.5555555555555556, \"#d8576b\"], [0.6666666666666666, \"#ed7953\"], [0.7777777777777778, \"#fb9f3a\"], [0.8888888888888888, \"#fdca26\"], [1.0, \"#f0f921\"]]}, \"colorway\": [\"#636efa\", \"#EF553B\", \"#00cc96\", \"#ab63fa\", \"#FFA15A\", \"#19d3f3\", \"#FF6692\", \"#B6E880\", \"#FF97FF\", \"#FECB52\"], \"font\": {\"color\": \"#2a3f5f\"}, \"geo\": {\"bgcolor\": \"white\", \"lakecolor\": \"white\", \"landcolor\": \"#E5ECF6\", \"showlakes\": true, \"showland\": true, \"subunitcolor\": \"white\"}, \"hoverlabel\": {\"align\": \"left\"}, \"hovermode\": \"closest\", \"mapbox\": {\"style\": \"light\"}, \"paper_bgcolor\": \"white\", \"plot_bgcolor\": \"#E5ECF6\", \"polar\": {\"angularaxis\": {\"gridcolor\": \"white\", \"linecolor\": \"white\", \"ticks\": \"\"}, \"bgcolor\": \"#E5ECF6\", \"radialaxis\": {\"gridcolor\": \"white\", \"linecolor\": \"white\", \"ticks\": \"\"}}, \"scene\": {\"xaxis\": {\"backgroundcolor\": \"#E5ECF6\", \"gridcolor\": \"white\", \"gridwidth\": 2, \"linecolor\": \"white\", \"showbackground\": true, \"ticks\": \"\", \"zerolinecolor\": \"white\"}, \"yaxis\": {\"backgroundcolor\": \"#E5ECF6\", \"gridcolor\": \"white\", \"gridwidth\": 2, \"linecolor\": \"white\", \"showbackground\": true, \"ticks\": \"\", \"zerolinecolor\": \"white\"}, \"zaxis\": {\"backgroundcolor\": \"#E5ECF6\", \"gridcolor\": \"white\", \"gridwidth\": 2, \"linecolor\": \"white\", \"showbackground\": true, \"ticks\": \"\", \"zerolinecolor\": \"white\"}}, \"shapedefaults\": {\"line\": {\"color\": \"#2a3f5f\"}}, \"ternary\": {\"aaxis\": {\"gridcolor\": \"white\", \"linecolor\": \"white\", \"ticks\": \"\"}, \"baxis\": {\"gridcolor\": \"white\", \"linecolor\": \"white\", \"ticks\": \"\"}, \"bgcolor\": \"#E5ECF6\", \"caxis\": {\"gridcolor\": \"white\", \"linecolor\": \"white\", \"ticks\": \"\"}}, \"title\": {\"x\": 0.05}, \"xaxis\": {\"automargin\": true, \"gridcolor\": \"white\", \"linecolor\": \"white\", \"ticks\": \"\", \"zerolinecolor\": \"white\", \"zerolinewidth\": 2}, \"yaxis\": {\"automargin\": true, \"gridcolor\": \"white\", \"linecolor\": \"white\", \"ticks\": \"\", \"zerolinecolor\": \"white\", \"zerolinewidth\": 2}}}},\n",
       "                        {\"responsive\": true}\n",
       "                    ).then(function(){\n",
       "                            \n",
       "var gd = document.getElementById('3cf2ef6e-e7e1-4dcc-aea2-415c01919873');\n",
       "var x = new MutationObserver(function (mutations, observer) {{\n",
       "        var display = window.getComputedStyle(gd).display;\n",
       "        if (!display || display === 'none') {{\n",
       "            console.log([gd, 'removed!']);\n",
       "            Plotly.purge(gd);\n",
       "            observer.disconnect();\n",
       "        }}\n",
       "}});\n",
       "\n",
       "// Listen for the removal of the full notebook cells\n",
       "var notebookContainer = gd.closest('#notebook-container');\n",
       "if (notebookContainer) {{\n",
       "    x.observe(notebookContainer, {childList: true});\n",
       "}}\n",
       "\n",
       "// Listen for the clearing of the current output cell\n",
       "var outputEl = gd.closest('.output');\n",
       "if (outputEl) {{\n",
       "    x.observe(outputEl, {childList: true});\n",
       "}}\n",
       "\n",
       "                        })\n",
       "                };\n",
       "                });\n",
       "            </script>\n",
       "        </div>"
      ]
     },
     "metadata": {},
     "output_type": "display_data"
    }
   ],
   "source": [
    "trace1 = go.Bar(x = df_novo['DESCRICAOLOCAL'],\n",
    "                y = df_novo[df_novo['ANO_BO'] == 2018].groupby('BAIRRO').size().sort_values(ascending=False),\n",
    "                name = '2018',\n",
    "                marker = {'color': '#e74c3c'})\n",
    "trace2 = go.Bar(x = df_novo['DESCRICAOLOCAL'],\n",
    "                y = df_novo[df_novo['ANO_BO'] == 2019].groupby('BAIRRO').size().sort_values(ascending=False),\n",
    "                name = '2019',\n",
    "                marker = {'color': '#e67e22'})\n",
    "\n",
    "df = [trace1, trace2]\n",
    "\n",
    "py.iplot(df)"
   ]
  },
  {
   "cell_type": "markdown",
   "metadata": {},
   "source": [
    "### Delegacias Mais Procuradas"
   ]
  },
  {
   "cell_type": "markdown",
   "metadata": {},
   "source": [
    "Com base no gráfico abaixo, a delegacia mais procurada do estado de São Paulo é a **Delegacia do 1° Distrito Policial de Campinas**."
   ]
  },
  {
   "cell_type": "code",
   "execution_count": 586,
   "metadata": {},
   "outputs": [
    {
     "data": {
      "application/vnd.plotly.v1+json": {
       "config": {
        "linkText": "Export to plot.ly",
        "plotlyServerURL": "https://plot.ly",
        "showLink": false
       },
       "data": [
        {
         "name": "2018",
         "type": "bar",
         "x": [
          "01ª del. sec. campinas - shpp",
          "Del.pol.plantão ituverava",
          "Del.pol.poloni",
          "Del.pol.jeriquara",
          "Del.pol.pedreira",
          "01ª del. sec. campinas - shpp",
          "Del.pol.sarapui",
          "Del.pol.sta isabel",
          "Del.inv.ger. são carlos",
          "01ª del. sec. campinas - shpp",
          "Plantão-def.mul.campinas-2ªsec",
          "01ª del. sec. campinas - shpp",
          "Del.def.mul. itapira",
          "01ª del. sec. campinas - shpp",
          "Del.pol.francisco morato",
          "Del.pol.cesário lange",
          "01ª del. sec. campinas - shpp",
          "Del.inv.ger. americana",
          "Del.def.mul. piracicaba",
          "Plantão - 01 dp campinas",
          "Del.pol.dumont",
          "Del.pol.praia grande",
          "Central pol.judiciária-lins",
          "Del.sec.ourinhos plantão",
          "Del.sec.são carlos plantão",
          "Del.def.mul. salto",
          "Del.sec.botucatu",
          "Dhpp div. homicidios",
          "Dhpp div. homicidios",
          "Del.pol.palmital",
          "Del.pol.guararema",
          "Del.pol.lorena",
          "Del.pol.cajamar",
          "Del.pol.itajobi",
          "Del.def.mul. cubatão",
          "Del.def.mul. votorantim",
          "Del.pol.artur nogueira",
          "Del.def.mul. s.vicente",
          "Del.sec.brag.pta plantão",
          "Del.pol.icém",
          "Del.pol.s.caetano do sul",
          "02º d.p. barueri",
          "Del.pol.plantão tatui",
          "03º d.p. campos eliseos",
          "Del.def.mul. paraguacu pta",
          "99º d.p. campo grande",
          "Plantão - 01º d.p. jundiai",
          "Del.pol.teodoro sampaio",
          "103º d.p. cohabii/itaqu.",
          "Del.pol.pitangueiras",
          "Del.def.mul. araraquara",
          "Del.pol.guará",
          "Del.pol.plantão guaira",
          "Del.pol.tietê",
          "Del.pol.vera cruz",
          "01º d.p. itaquaquecetuba",
          "Del.sec.pol.sjcampos pl sul",
          "Del.pol.brotas",
          "Del.pol.morro agudo",
          "01º d.p. cajamar",
          "Del.sec.s.j rio preto plantão",
          "Del.def.mul. pindamonhangaba",
          "Del.pol.monte alto",
          "Del.pol.plantão jaboticabal",
          "Del.pol.cordeirópolis",
          "53º d.p. parque do carmo",
          "Del.pol.cafelândia",
          "Del.pol.ibitinga",
          "01º dp mauá-dr.alfredo garbino",
          "Del.def.mul. itapevi",
          "47º d.p. capao redondo",
          "45º d.p. v brasilandia",
          "26º d.p. sacoma",
          "Del.sec.barretos plantão",
          "Del.pol.serra negra",
          "Del.pol.plantão guaira",
          "Del.pol.serra negra",
          "Del.pol.vargem grande pta",
          "81º d.p. belem",
          "Del.sec.são carlos plantão",
          "07ª del.def.mul. itaquera",
          "Del.sec.pol.sjcampos pl sul",
          "Del.pol.ituverava",
          "Del.def.mul. pres.prudente",
          "Del.sec.pres.venceslau plantão",
          "Del.def.mul. ribeirao preto",
          "Del.pol.franco rocha",
          "Del.sec.pol.sjcampos pl sul",
          "Del.pol.hortolândia",
          "Del.pol.plantão tatui",
          "Del.pol.miracatu",
          "Del.pol.alvares machado",
          "01º d.p. taboão da serra",
          "05º d.p. campinas",
          "08º d.p. s.bernardo do campo",
          "69º d.p. teotonio vilela",
          "10º d.p. osasco",
          "09º d.p. guarulhos",
          "Del.sec.barretos plantão",
          "04º d.p. santo andré",
          "Del.pol.santana de parnaiba",
          "Del.pol.varzea paulista",
          "13º d.p. casa verde",
          "Del.pol.batatais",
          "Del.pol.cosmópolis",
          "01º d.p. guarulhos",
          "Del.pol.santana de parnaiba",
          "Del.pol.praia grande",
          "04º d.p. guarulhos",
          "Del.pol.capivari",
          "01º d.p. santo andré",
          "01º d.p. santo andré",
          "03º d.p. osasco",
          "01º d.p. s.b.c-dr omar cassim",
          "01º d.p. santo andré",
          "01º d.p. guarulhos",
          "Del.pol.suzano",
          "Del.sec.2ª campinas-plantão",
          "Del.sec.franca plantão",
          "Del.pol.plantão indaiatuba",
          "Del.pol.plantão indaiatuba",
          "01º d.p. itanhaem",
          "35º d.p. jabaquara",
          "Del.pol.são roque",
          "Del.pol.santana de parnaiba",
          "06º d.p. santo andré",
          "01º d.p. jales",
          "01º d.p. mogi das cruzes",
          "02º d.p. guarulhos",
          "Del.sec.votuporanga plantão",
          "Del.def.mul. s.jose dos campos",
          "07º d.p. guarulhos",
          "Central pol.judiciária-tupã",
          "Del.pol.itaquaquecetuba",
          "Del.pol.ubatuba",
          "01º dp mauá-dr.alfredo garbino",
          "Del.sec.piracicaba plantão",
          "Del.pol.plantão atibaia",
          "Del.pol.são roque",
          "Del.sec.rio claro plantão",
          "Del.sec.marília plantão",
          "Del.pol.jandira",
          "01ª del.def.mul. centro",
          "33º d.p. pirituba",
          "Del.pol.suzano",
          "02º d.p. bom retiro",
          "Del.pol.itapira",
          "10º d.p. penha de franca",
          "33º d.p. pirituba",
          "Del.sec.pol.sjcampos pl sul",
          "Del.sec.piracicaba plantão",
          "20º d.p. agua fria",
          "24º d.p. ponte rasa",
          "02º d.p. guarulhos",
          "25º d.p. parelheiros",
          "05º d.p. osasco",
          "Del.pol.cacapava",
          "01º d.p. carapicuiba",
          "Del.sec.marília plantão",
          "Central pol.judiciária-lins",
          "89º d.p. jardim taboao",
          "07º d.p. guarulhos",
          "20º d.p. agua fria",
          "47º d.p. capao redondo",
          "01º dp mauá-dr.alfredo garbino",
          "24º d.p. ponte rasa",
          "50º d.p. itaim paulista",
          "98º d.p. jardim miriam",
          "73º d.p. jacana",
          "Del.pol.ferraz de vasconcelos",
          "89º d.p. jardim taboao",
          "Del.pol.rpires dr.evandro lima",
          "Plantão - 01 dp campinas",
          "Del.sec.franca plantão",
          "Del.sec.s.joão da boa vista",
          "74º d.p. parada taipas",
          "24º d.p. ponte rasa",
          "Del.pol.plantão bebedouro",
          "14º d.p. pinheiros",
          "Del.sec.pres. prudente",
          "03º d.p. s.bernardo do campo",
          "01º dp mauá-dr.alfredo garbino",
          "03º d.p. diadema",
          "72º d.p. vila penteado",
          "98º d.p. jardim miriam",
          "Plantão - 01 dp campinas",
          "26º d.p. sacoma",
          "26º d.p. sacoma",
          "04º d.p. guarulhos",
          "Del.sec.americana plantão",
          "Del.sec.2ª campinas-plantão",
          "Central pol.jud-jaú",
          "89º d.p. jardim taboao",
          "101º d.p. jdim imbuias",
          "Del.sec.s.j rio preto plantão",
          "24º d.p. ponte rasa",
          "13º d.p. casa verde",
          "47º d.p. capao redondo",
          "05º d.p. osasco",
          "Del.sec.s.j rio preto plantão",
          "47º d.p. capao redondo",
          "Del.sec.s.j rio preto plantão",
          "Del.sec.2ª campinas-plantão",
          "Central pol.jud-rib. preto",
          "13º d.p. casa verde",
          "69º d.p. teotonio vilela",
          "Plantão de sorocaba - z. norte",
          "Plantão de sorocaba - z. norte",
          "Central pol.judiciária-bauru",
          "Central pol.jud-rib. preto",
          "Central pol.judiciária-bauru"
         ],
         "y": [
          9,
          7,
          5,
          2,
          2,
          2,
          2,
          2,
          2,
          2,
          2,
          2,
          2,
          2,
          1,
          1,
          1,
          1,
          1,
          1,
          1,
          1,
          1,
          1,
          1,
          1,
          1,
          1,
          1,
          1,
          1,
          1,
          1,
          1,
          1,
          1,
          1,
          1,
          1,
          1,
          1,
          1,
          1,
          1,
          1,
          1,
          1,
          1,
          1,
          1,
          1,
          1,
          1,
          1,
          1,
          1,
          1,
          1,
          1,
          1,
          1,
          1,
          1,
          1,
          1,
          1,
          1,
          1,
          1,
          1,
          1,
          1,
          1,
          1,
          1,
          1,
          1,
          1,
          1,
          1,
          1,
          1,
          1,
          1,
          1,
          1,
          1,
          1,
          1,
          1,
          1,
          1,
          1,
          1,
          1,
          1,
          1,
          1,
          1,
          1,
          1
         ]
        },
        {
         "name": "2019",
         "type": "bar",
         "x": [
          "01ª del. sec. campinas - shpp",
          "Del.pol.plantão ituverava",
          "Del.pol.poloni",
          "Del.pol.jeriquara",
          "Del.pol.pedreira",
          "01ª del. sec. campinas - shpp",
          "Del.pol.sarapui",
          "Del.pol.sta isabel",
          "Del.inv.ger. são carlos",
          "01ª del. sec. campinas - shpp",
          "Plantão-def.mul.campinas-2ªsec",
          "01ª del. sec. campinas - shpp",
          "Del.def.mul. itapira",
          "01ª del. sec. campinas - shpp",
          "Del.pol.francisco morato",
          "Del.pol.cesário lange",
          "01ª del. sec. campinas - shpp",
          "Del.inv.ger. americana",
          "Del.def.mul. piracicaba",
          "Plantão - 01 dp campinas",
          "Del.pol.dumont",
          "Del.pol.praia grande",
          "Central pol.judiciária-lins",
          "Del.sec.ourinhos plantão",
          "Del.sec.são carlos plantão",
          "Del.def.mul. salto",
          "Del.sec.botucatu",
          "Dhpp div. homicidios",
          "Dhpp div. homicidios",
          "Del.pol.palmital",
          "Del.pol.guararema",
          "Del.pol.lorena",
          "Del.pol.cajamar",
          "Del.pol.itajobi",
          "Del.def.mul. cubatão",
          "Del.def.mul. votorantim",
          "Del.pol.artur nogueira",
          "Del.def.mul. s.vicente",
          "Del.sec.brag.pta plantão",
          "Del.pol.icém",
          "Del.pol.s.caetano do sul",
          "02º d.p. barueri",
          "Del.pol.plantão tatui",
          "03º d.p. campos eliseos",
          "Del.def.mul. paraguacu pta",
          "99º d.p. campo grande",
          "Plantão - 01º d.p. jundiai",
          "Del.pol.teodoro sampaio",
          "103º d.p. cohabii/itaqu.",
          "Del.pol.pitangueiras",
          "Del.def.mul. araraquara",
          "Del.pol.guará",
          "Del.pol.plantão guaira",
          "Del.pol.tietê",
          "Del.pol.vera cruz",
          "01º d.p. itaquaquecetuba",
          "Del.sec.pol.sjcampos pl sul",
          "Del.pol.brotas",
          "Del.pol.morro agudo",
          "01º d.p. cajamar",
          "Del.sec.s.j rio preto plantão",
          "Del.def.mul. pindamonhangaba",
          "Del.pol.monte alto",
          "Del.pol.plantão jaboticabal",
          "Del.pol.cordeirópolis",
          "53º d.p. parque do carmo",
          "Del.pol.cafelândia",
          "Del.pol.ibitinga",
          "01º dp mauá-dr.alfredo garbino",
          "Del.def.mul. itapevi",
          "47º d.p. capao redondo",
          "45º d.p. v brasilandia",
          "26º d.p. sacoma",
          "Del.sec.barretos plantão",
          "Del.pol.serra negra",
          "Del.pol.plantão guaira",
          "Del.pol.serra negra",
          "Del.pol.vargem grande pta",
          "81º d.p. belem",
          "Del.sec.são carlos plantão",
          "07ª del.def.mul. itaquera",
          "Del.sec.pol.sjcampos pl sul",
          "Del.pol.ituverava",
          "Del.def.mul. pres.prudente",
          "Del.sec.pres.venceslau plantão",
          "Del.def.mul. ribeirao preto",
          "Del.pol.franco rocha",
          "Del.sec.pol.sjcampos pl sul",
          "Del.pol.hortolândia",
          "Del.pol.plantão tatui",
          "Del.pol.miracatu",
          "Del.pol.alvares machado",
          "01º d.p. taboão da serra",
          "05º d.p. campinas",
          "08º d.p. s.bernardo do campo",
          "69º d.p. teotonio vilela",
          "10º d.p. osasco",
          "09º d.p. guarulhos",
          "Del.sec.barretos plantão",
          "04º d.p. santo andré",
          "Del.pol.santana de parnaiba",
          "Del.pol.varzea paulista",
          "13º d.p. casa verde",
          "Del.pol.batatais",
          "Del.pol.cosmópolis",
          "01º d.p. guarulhos",
          "Del.pol.santana de parnaiba",
          "Del.pol.praia grande",
          "04º d.p. guarulhos",
          "Del.pol.capivari",
          "01º d.p. santo andré",
          "01º d.p. santo andré",
          "03º d.p. osasco",
          "01º d.p. s.b.c-dr omar cassim",
          "01º d.p. santo andré",
          "01º d.p. guarulhos",
          "Del.pol.suzano",
          "Del.sec.2ª campinas-plantão",
          "Del.sec.franca plantão",
          "Del.pol.plantão indaiatuba",
          "Del.pol.plantão indaiatuba",
          "01º d.p. itanhaem",
          "35º d.p. jabaquara",
          "Del.pol.são roque",
          "Del.pol.santana de parnaiba",
          "06º d.p. santo andré",
          "01º d.p. jales",
          "01º d.p. mogi das cruzes",
          "02º d.p. guarulhos",
          "Del.sec.votuporanga plantão",
          "Del.def.mul. s.jose dos campos",
          "07º d.p. guarulhos",
          "Central pol.judiciária-tupã",
          "Del.pol.itaquaquecetuba",
          "Del.pol.ubatuba",
          "01º dp mauá-dr.alfredo garbino",
          "Del.sec.piracicaba plantão",
          "Del.pol.plantão atibaia",
          "Del.pol.são roque",
          "Del.sec.rio claro plantão",
          "Del.sec.marília plantão",
          "Del.pol.jandira",
          "01ª del.def.mul. centro",
          "33º d.p. pirituba",
          "Del.pol.suzano",
          "02º d.p. bom retiro",
          "Del.pol.itapira",
          "10º d.p. penha de franca",
          "33º d.p. pirituba",
          "Del.sec.pol.sjcampos pl sul",
          "Del.sec.piracicaba plantão",
          "20º d.p. agua fria",
          "24º d.p. ponte rasa",
          "02º d.p. guarulhos",
          "25º d.p. parelheiros",
          "05º d.p. osasco",
          "Del.pol.cacapava",
          "01º d.p. carapicuiba",
          "Del.sec.marília plantão",
          "Central pol.judiciária-lins",
          "89º d.p. jardim taboao",
          "07º d.p. guarulhos",
          "20º d.p. agua fria",
          "47º d.p. capao redondo",
          "01º dp mauá-dr.alfredo garbino",
          "24º d.p. ponte rasa",
          "50º d.p. itaim paulista",
          "98º d.p. jardim miriam",
          "73º d.p. jacana",
          "Del.pol.ferraz de vasconcelos",
          "89º d.p. jardim taboao",
          "Del.pol.rpires dr.evandro lima",
          "Plantão - 01 dp campinas",
          "Del.sec.franca plantão",
          "Del.sec.s.joão da boa vista",
          "74º d.p. parada taipas",
          "24º d.p. ponte rasa",
          "Del.pol.plantão bebedouro",
          "14º d.p. pinheiros",
          "Del.sec.pres. prudente",
          "03º d.p. s.bernardo do campo",
          "01º dp mauá-dr.alfredo garbino",
          "03º d.p. diadema",
          "72º d.p. vila penteado",
          "98º d.p. jardim miriam",
          "Plantão - 01 dp campinas",
          "26º d.p. sacoma",
          "26º d.p. sacoma",
          "04º d.p. guarulhos",
          "Del.sec.americana plantão",
          "Del.sec.2ª campinas-plantão",
          "Central pol.jud-jaú",
          "89º d.p. jardim taboao",
          "101º d.p. jdim imbuias",
          "Del.sec.s.j rio preto plantão",
          "24º d.p. ponte rasa",
          "13º d.p. casa verde",
          "47º d.p. capao redondo",
          "05º d.p. osasco",
          "Del.sec.s.j rio preto plantão",
          "47º d.p. capao redondo",
          "Del.sec.s.j rio preto plantão",
          "Del.sec.2ª campinas-plantão",
          "Central pol.jud-rib. preto",
          "13º d.p. casa verde",
          "69º d.p. teotonio vilela",
          "Plantão de sorocaba - z. norte",
          "Plantão de sorocaba - z. norte",
          "Central pol.judiciária-bauru",
          "Central pol.jud-rib. preto",
          "Central pol.judiciária-bauru"
         ],
         "y": [
          5,
          4,
          2,
          2,
          2,
          1,
          1,
          1,
          1,
          1,
          1,
          1,
          1,
          1,
          1,
          1,
          1,
          1,
          1,
          1,
          1,
          1,
          1,
          1,
          1,
          1,
          1,
          1,
          1,
          1,
          1,
          1,
          1,
          1,
          1,
          1,
          1,
          1,
          1,
          1,
          1,
          1,
          1,
          1,
          1,
          1,
          1,
          1,
          1,
          1,
          1,
          1,
          1,
          1,
          1,
          1,
          1,
          1,
          1,
          1,
          1,
          1,
          1,
          1,
          1,
          1,
          1,
          1,
          1,
          1
         ]
        }
       ],
       "layout": {
        "template": {
         "data": {
          "bar": [
           {
            "error_x": {
             "color": "#2a3f5f"
            },
            "error_y": {
             "color": "#2a3f5f"
            },
            "marker": {
             "line": {
              "color": "#E5ECF6",
              "width": 0.5
             }
            },
            "type": "bar"
           }
          ],
          "barpolar": [
           {
            "marker": {
             "line": {
              "color": "#E5ECF6",
              "width": 0.5
             }
            },
            "type": "barpolar"
           }
          ],
          "carpet": [
           {
            "aaxis": {
             "endlinecolor": "#2a3f5f",
             "gridcolor": "white",
             "linecolor": "white",
             "minorgridcolor": "white",
             "startlinecolor": "#2a3f5f"
            },
            "baxis": {
             "endlinecolor": "#2a3f5f",
             "gridcolor": "white",
             "linecolor": "white",
             "minorgridcolor": "white",
             "startlinecolor": "#2a3f5f"
            },
            "type": "carpet"
           }
          ],
          "choropleth": [
           {
            "colorbar": {
             "outlinewidth": 0,
             "ticks": ""
            },
            "type": "choropleth"
           }
          ],
          "contour": [
           {
            "colorbar": {
             "outlinewidth": 0,
             "ticks": ""
            },
            "colorscale": [
             [
              0,
              "#0d0887"
             ],
             [
              0.1111111111111111,
              "#46039f"
             ],
             [
              0.2222222222222222,
              "#7201a8"
             ],
             [
              0.3333333333333333,
              "#9c179e"
             ],
             [
              0.4444444444444444,
              "#bd3786"
             ],
             [
              0.5555555555555556,
              "#d8576b"
             ],
             [
              0.6666666666666666,
              "#ed7953"
             ],
             [
              0.7777777777777778,
              "#fb9f3a"
             ],
             [
              0.8888888888888888,
              "#fdca26"
             ],
             [
              1,
              "#f0f921"
             ]
            ],
            "type": "contour"
           }
          ],
          "contourcarpet": [
           {
            "colorbar": {
             "outlinewidth": 0,
             "ticks": ""
            },
            "type": "contourcarpet"
           }
          ],
          "heatmap": [
           {
            "colorbar": {
             "outlinewidth": 0,
             "ticks": ""
            },
            "colorscale": [
             [
              0,
              "#0d0887"
             ],
             [
              0.1111111111111111,
              "#46039f"
             ],
             [
              0.2222222222222222,
              "#7201a8"
             ],
             [
              0.3333333333333333,
              "#9c179e"
             ],
             [
              0.4444444444444444,
              "#bd3786"
             ],
             [
              0.5555555555555556,
              "#d8576b"
             ],
             [
              0.6666666666666666,
              "#ed7953"
             ],
             [
              0.7777777777777778,
              "#fb9f3a"
             ],
             [
              0.8888888888888888,
              "#fdca26"
             ],
             [
              1,
              "#f0f921"
             ]
            ],
            "type": "heatmap"
           }
          ],
          "heatmapgl": [
           {
            "colorbar": {
             "outlinewidth": 0,
             "ticks": ""
            },
            "colorscale": [
             [
              0,
              "#0d0887"
             ],
             [
              0.1111111111111111,
              "#46039f"
             ],
             [
              0.2222222222222222,
              "#7201a8"
             ],
             [
              0.3333333333333333,
              "#9c179e"
             ],
             [
              0.4444444444444444,
              "#bd3786"
             ],
             [
              0.5555555555555556,
              "#d8576b"
             ],
             [
              0.6666666666666666,
              "#ed7953"
             ],
             [
              0.7777777777777778,
              "#fb9f3a"
             ],
             [
              0.8888888888888888,
              "#fdca26"
             ],
             [
              1,
              "#f0f921"
             ]
            ],
            "type": "heatmapgl"
           }
          ],
          "histogram": [
           {
            "marker": {
             "colorbar": {
              "outlinewidth": 0,
              "ticks": ""
             }
            },
            "type": "histogram"
           }
          ],
          "histogram2d": [
           {
            "colorbar": {
             "outlinewidth": 0,
             "ticks": ""
            },
            "colorscale": [
             [
              0,
              "#0d0887"
             ],
             [
              0.1111111111111111,
              "#46039f"
             ],
             [
              0.2222222222222222,
              "#7201a8"
             ],
             [
              0.3333333333333333,
              "#9c179e"
             ],
             [
              0.4444444444444444,
              "#bd3786"
             ],
             [
              0.5555555555555556,
              "#d8576b"
             ],
             [
              0.6666666666666666,
              "#ed7953"
             ],
             [
              0.7777777777777778,
              "#fb9f3a"
             ],
             [
              0.8888888888888888,
              "#fdca26"
             ],
             [
              1,
              "#f0f921"
             ]
            ],
            "type": "histogram2d"
           }
          ],
          "histogram2dcontour": [
           {
            "colorbar": {
             "outlinewidth": 0,
             "ticks": ""
            },
            "colorscale": [
             [
              0,
              "#0d0887"
             ],
             [
              0.1111111111111111,
              "#46039f"
             ],
             [
              0.2222222222222222,
              "#7201a8"
             ],
             [
              0.3333333333333333,
              "#9c179e"
             ],
             [
              0.4444444444444444,
              "#bd3786"
             ],
             [
              0.5555555555555556,
              "#d8576b"
             ],
             [
              0.6666666666666666,
              "#ed7953"
             ],
             [
              0.7777777777777778,
              "#fb9f3a"
             ],
             [
              0.8888888888888888,
              "#fdca26"
             ],
             [
              1,
              "#f0f921"
             ]
            ],
            "type": "histogram2dcontour"
           }
          ],
          "mesh3d": [
           {
            "colorbar": {
             "outlinewidth": 0,
             "ticks": ""
            },
            "type": "mesh3d"
           }
          ],
          "parcoords": [
           {
            "line": {
             "colorbar": {
              "outlinewidth": 0,
              "ticks": ""
             }
            },
            "type": "parcoords"
           }
          ],
          "scatter": [
           {
            "marker": {
             "colorbar": {
              "outlinewidth": 0,
              "ticks": ""
             }
            },
            "type": "scatter"
           }
          ],
          "scatter3d": [
           {
            "line": {
             "colorbar": {
              "outlinewidth": 0,
              "ticks": ""
             }
            },
            "marker": {
             "colorbar": {
              "outlinewidth": 0,
              "ticks": ""
             }
            },
            "type": "scatter3d"
           }
          ],
          "scattercarpet": [
           {
            "marker": {
             "colorbar": {
              "outlinewidth": 0,
              "ticks": ""
             }
            },
            "type": "scattercarpet"
           }
          ],
          "scattergeo": [
           {
            "marker": {
             "colorbar": {
              "outlinewidth": 0,
              "ticks": ""
             }
            },
            "type": "scattergeo"
           }
          ],
          "scattergl": [
           {
            "marker": {
             "colorbar": {
              "outlinewidth": 0,
              "ticks": ""
             }
            },
            "type": "scattergl"
           }
          ],
          "scattermapbox": [
           {
            "marker": {
             "colorbar": {
              "outlinewidth": 0,
              "ticks": ""
             }
            },
            "type": "scattermapbox"
           }
          ],
          "scatterpolar": [
           {
            "marker": {
             "colorbar": {
              "outlinewidth": 0,
              "ticks": ""
             }
            },
            "type": "scatterpolar"
           }
          ],
          "scatterpolargl": [
           {
            "marker": {
             "colorbar": {
              "outlinewidth": 0,
              "ticks": ""
             }
            },
            "type": "scatterpolargl"
           }
          ],
          "scatterternary": [
           {
            "marker": {
             "colorbar": {
              "outlinewidth": 0,
              "ticks": ""
             }
            },
            "type": "scatterternary"
           }
          ],
          "surface": [
           {
            "colorbar": {
             "outlinewidth": 0,
             "ticks": ""
            },
            "colorscale": [
             [
              0,
              "#0d0887"
             ],
             [
              0.1111111111111111,
              "#46039f"
             ],
             [
              0.2222222222222222,
              "#7201a8"
             ],
             [
              0.3333333333333333,
              "#9c179e"
             ],
             [
              0.4444444444444444,
              "#bd3786"
             ],
             [
              0.5555555555555556,
              "#d8576b"
             ],
             [
              0.6666666666666666,
              "#ed7953"
             ],
             [
              0.7777777777777778,
              "#fb9f3a"
             ],
             [
              0.8888888888888888,
              "#fdca26"
             ],
             [
              1,
              "#f0f921"
             ]
            ],
            "type": "surface"
           }
          ],
          "table": [
           {
            "cells": {
             "fill": {
              "color": "#EBF0F8"
             },
             "line": {
              "color": "white"
             }
            },
            "header": {
             "fill": {
              "color": "#C8D4E3"
             },
             "line": {
              "color": "white"
             }
            },
            "type": "table"
           }
          ]
         },
         "layout": {
          "annotationdefaults": {
           "arrowcolor": "#2a3f5f",
           "arrowhead": 0,
           "arrowwidth": 1
          },
          "colorscale": {
           "diverging": [
            [
             0,
             "#8e0152"
            ],
            [
             0.1,
             "#c51b7d"
            ],
            [
             0.2,
             "#de77ae"
            ],
            [
             0.3,
             "#f1b6da"
            ],
            [
             0.4,
             "#fde0ef"
            ],
            [
             0.5,
             "#f7f7f7"
            ],
            [
             0.6,
             "#e6f5d0"
            ],
            [
             0.7,
             "#b8e186"
            ],
            [
             0.8,
             "#7fbc41"
            ],
            [
             0.9,
             "#4d9221"
            ],
            [
             1,
             "#276419"
            ]
           ],
           "sequential": [
            [
             0,
             "#0d0887"
            ],
            [
             0.1111111111111111,
             "#46039f"
            ],
            [
             0.2222222222222222,
             "#7201a8"
            ],
            [
             0.3333333333333333,
             "#9c179e"
            ],
            [
             0.4444444444444444,
             "#bd3786"
            ],
            [
             0.5555555555555556,
             "#d8576b"
            ],
            [
             0.6666666666666666,
             "#ed7953"
            ],
            [
             0.7777777777777778,
             "#fb9f3a"
            ],
            [
             0.8888888888888888,
             "#fdca26"
            ],
            [
             1,
             "#f0f921"
            ]
           ],
           "sequentialminus": [
            [
             0,
             "#0d0887"
            ],
            [
             0.1111111111111111,
             "#46039f"
            ],
            [
             0.2222222222222222,
             "#7201a8"
            ],
            [
             0.3333333333333333,
             "#9c179e"
            ],
            [
             0.4444444444444444,
             "#bd3786"
            ],
            [
             0.5555555555555556,
             "#d8576b"
            ],
            [
             0.6666666666666666,
             "#ed7953"
            ],
            [
             0.7777777777777778,
             "#fb9f3a"
            ],
            [
             0.8888888888888888,
             "#fdca26"
            ],
            [
             1,
             "#f0f921"
            ]
           ]
          },
          "colorway": [
           "#636efa",
           "#EF553B",
           "#00cc96",
           "#ab63fa",
           "#FFA15A",
           "#19d3f3",
           "#FF6692",
           "#B6E880",
           "#FF97FF",
           "#FECB52"
          ],
          "font": {
           "color": "#2a3f5f"
          },
          "geo": {
           "bgcolor": "white",
           "lakecolor": "white",
           "landcolor": "#E5ECF6",
           "showlakes": true,
           "showland": true,
           "subunitcolor": "white"
          },
          "hoverlabel": {
           "align": "left"
          },
          "hovermode": "closest",
          "mapbox": {
           "style": "light"
          },
          "paper_bgcolor": "white",
          "plot_bgcolor": "#E5ECF6",
          "polar": {
           "angularaxis": {
            "gridcolor": "white",
            "linecolor": "white",
            "ticks": ""
           },
           "bgcolor": "#E5ECF6",
           "radialaxis": {
            "gridcolor": "white",
            "linecolor": "white",
            "ticks": ""
           }
          },
          "scene": {
           "xaxis": {
            "backgroundcolor": "#E5ECF6",
            "gridcolor": "white",
            "gridwidth": 2,
            "linecolor": "white",
            "showbackground": true,
            "ticks": "",
            "zerolinecolor": "white"
           },
           "yaxis": {
            "backgroundcolor": "#E5ECF6",
            "gridcolor": "white",
            "gridwidth": 2,
            "linecolor": "white",
            "showbackground": true,
            "ticks": "",
            "zerolinecolor": "white"
           },
           "zaxis": {
            "backgroundcolor": "#E5ECF6",
            "gridcolor": "white",
            "gridwidth": 2,
            "linecolor": "white",
            "showbackground": true,
            "ticks": "",
            "zerolinecolor": "white"
           }
          },
          "shapedefaults": {
           "line": {
            "color": "#2a3f5f"
           }
          },
          "ternary": {
           "aaxis": {
            "gridcolor": "white",
            "linecolor": "white",
            "ticks": ""
           },
           "baxis": {
            "gridcolor": "white",
            "linecolor": "white",
            "ticks": ""
           },
           "bgcolor": "#E5ECF6",
           "caxis": {
            "gridcolor": "white",
            "linecolor": "white",
            "ticks": ""
           }
          },
          "title": {
           "x": 0.05
          },
          "xaxis": {
           "automargin": true,
           "gridcolor": "white",
           "linecolor": "white",
           "ticks": "",
           "zerolinecolor": "white",
           "zerolinewidth": 2
          },
          "yaxis": {
           "automargin": true,
           "gridcolor": "white",
           "linecolor": "white",
           "ticks": "",
           "zerolinecolor": "white",
           "zerolinewidth": 2
          }
         }
        }
       }
      },
      "text/html": [
       "<div>\n",
       "        \n",
       "        \n",
       "            <div id=\"35144dee-d84d-44c4-b9b1-de425f55b552\" class=\"plotly-graph-div\" style=\"height:525px; width:100%;\"></div>\n",
       "            <script type=\"text/javascript\">\n",
       "                require([\"plotly\"], function(Plotly) {\n",
       "                    window.PLOTLYENV=window.PLOTLYENV || {};\n",
       "                    \n",
       "                if (document.getElementById(\"35144dee-d84d-44c4-b9b1-de425f55b552\")) {\n",
       "                    Plotly.newPlot(\n",
       "                        '35144dee-d84d-44c4-b9b1-de425f55b552',\n",
       "                        [{\"name\": \"2018\", \"type\": \"bar\", \"x\": [\"01\\u00aa del. sec. campinas - shpp\", \"Del.pol.plant\\u00e3o ituverava\", \"Del.pol.poloni\", \"Del.pol.jeriquara\", \"Del.pol.pedreira\", \"01\\u00aa del. sec. campinas - shpp\", \"Del.pol.sarapui\", \"Del.pol.sta isabel\", \"Del.inv.ger. s\\u00e3o carlos\", \"01\\u00aa del. sec. campinas - shpp\", \"Plant\\u00e3o-def.mul.campinas-2\\u00aasec\", \"01\\u00aa del. sec. campinas - shpp\", \"Del.def.mul. itapira\", \"01\\u00aa del. sec. campinas - shpp\", \"Del.pol.francisco morato\", \"Del.pol.ces\\u00e1rio lange\", \"01\\u00aa del. sec. campinas - shpp\", \"Del.inv.ger. americana\", \"Del.def.mul. piracicaba\", \"Plant\\u00e3o - 01 dp campinas\", \"Del.pol.dumont\", \"Del.pol.praia grande\", \"Central pol.judici\\u00e1ria-lins\", \"Del.sec.ourinhos plant\\u00e3o\", \"Del.sec.s\\u00e3o carlos plant\\u00e3o\", \"Del.def.mul. salto\", \"Del.sec.botucatu\", \"Dhpp div. homicidios\", \"Dhpp div. homicidios\", \"Del.pol.palmital\", \"Del.pol.guararema\", \"Del.pol.lorena\", \"Del.pol.cajamar\", \"Del.pol.itajobi\", \"Del.def.mul. cubat\\u00e3o\", \"Del.def.mul. votorantim\", \"Del.pol.artur nogueira\", \"Del.def.mul. s.vicente\", \"Del.sec.brag.pta plant\\u00e3o\", \"Del.pol.ic\\u00e9m\", \"Del.pol.s.caetano do sul\", \"02\\u00ba d.p. barueri\", \"Del.pol.plant\\u00e3o tatui\", \"03\\u00ba d.p. campos eliseos\", \"Del.def.mul. paraguacu pta\", \"99\\u00ba d.p. campo grande\", \"Plant\\u00e3o - 01\\u00ba d.p. jundiai\", \"Del.pol.teodoro sampaio\", \"103\\u00ba d.p. cohabii/itaqu.\", \"Del.pol.pitangueiras\", \"Del.def.mul. araraquara\", \"Del.pol.guar\\u00e1\", \"Del.pol.plant\\u00e3o guaira\", \"Del.pol.tiet\\u00ea\", \"Del.pol.vera cruz\", \"01\\u00ba d.p. itaquaquecetuba\", \"Del.sec.pol.sjcampos pl sul\", \"Del.pol.brotas\", \"Del.pol.morro agudo\", \"01\\u00ba d.p. cajamar\", \"Del.sec.s.j rio preto plant\\u00e3o\", \"Del.def.mul. pindamonhangaba\", \"Del.pol.monte alto\", \"Del.pol.plant\\u00e3o jaboticabal\", \"Del.pol.cordeir\\u00f3polis\", \"53\\u00ba d.p. parque do carmo\", \"Del.pol.cafel\\u00e2ndia\", \"Del.pol.ibitinga\", \"01\\u00ba dp mau\\u00e1-dr.alfredo garbino\", \"Del.def.mul. itapevi\", \"47\\u00ba d.p. capao redondo\", \"45\\u00ba d.p. v brasilandia\", \"26\\u00ba d.p. sacoma\", \"Del.sec.barretos plant\\u00e3o\", \"Del.pol.serra negra\", \"Del.pol.plant\\u00e3o guaira\", \"Del.pol.serra negra\", \"Del.pol.vargem grande pta\", \"81\\u00ba d.p. belem\", \"Del.sec.s\\u00e3o carlos plant\\u00e3o\", \"07\\u00aa del.def.mul. itaquera\", \"Del.sec.pol.sjcampos pl sul\", \"Del.pol.ituverava\", \"Del.def.mul. pres.prudente\", \"Del.sec.pres.venceslau plant\\u00e3o\", \"Del.def.mul. ribeirao preto\", \"Del.pol.franco rocha\", \"Del.sec.pol.sjcampos pl sul\", \"Del.pol.hortol\\u00e2ndia\", \"Del.pol.plant\\u00e3o tatui\", \"Del.pol.miracatu\", \"Del.pol.alvares machado\", \"01\\u00ba d.p. tabo\\u00e3o da serra\", \"05\\u00ba d.p. campinas\", \"08\\u00ba d.p. s.bernardo do campo\", \"69\\u00ba d.p. teotonio vilela\", \"10\\u00ba d.p. osasco\", \"09\\u00ba d.p. guarulhos\", \"Del.sec.barretos plant\\u00e3o\", \"04\\u00ba d.p. santo andr\\u00e9\", \"Del.pol.santana de parnaiba\", \"Del.pol.varzea paulista\", \"13\\u00ba d.p. casa verde\", \"Del.pol.batatais\", \"Del.pol.cosm\\u00f3polis\", \"01\\u00ba d.p. guarulhos\", \"Del.pol.santana de parnaiba\", \"Del.pol.praia grande\", \"04\\u00ba d.p. guarulhos\", \"Del.pol.capivari\", \"01\\u00ba d.p. santo andr\\u00e9\", \"01\\u00ba d.p. santo andr\\u00e9\", \"03\\u00ba d.p. osasco\", \"01\\u00ba d.p. s.b.c-dr omar cassim\", \"01\\u00ba d.p. santo andr\\u00e9\", \"01\\u00ba d.p. guarulhos\", \"Del.pol.suzano\", \"Del.sec.2\\u00aa campinas-plant\\u00e3o\", \"Del.sec.franca plant\\u00e3o\", \"Del.pol.plant\\u00e3o indaiatuba\", \"Del.pol.plant\\u00e3o indaiatuba\", \"01\\u00ba d.p. itanhaem\", \"35\\u00ba d.p. jabaquara\", \"Del.pol.s\\u00e3o roque\", \"Del.pol.santana de parnaiba\", \"06\\u00ba d.p. santo andr\\u00e9\", \"01\\u00ba d.p. jales\", \"01\\u00ba d.p. mogi das cruzes\", \"02\\u00ba d.p. guarulhos\", \"Del.sec.votuporanga plant\\u00e3o\", \"Del.def.mul. s.jose dos campos\", \"07\\u00ba d.p. guarulhos\", \"Central pol.judici\\u00e1ria-tup\\u00e3\", \"Del.pol.itaquaquecetuba\", \"Del.pol.ubatuba\", \"01\\u00ba dp mau\\u00e1-dr.alfredo garbino\", \"Del.sec.piracicaba plant\\u00e3o\", \"Del.pol.plant\\u00e3o atibaia\", \"Del.pol.s\\u00e3o roque\", \"Del.sec.rio claro plant\\u00e3o\", \"Del.sec.mar\\u00edlia plant\\u00e3o\", \"Del.pol.jandira\", \"01\\u00aa del.def.mul. centro\", \"33\\u00ba d.p. pirituba\", \"Del.pol.suzano\", \"02\\u00ba d.p. bom retiro\", \"Del.pol.itapira\", \"10\\u00ba d.p. penha de franca\", \"33\\u00ba d.p. pirituba\", \"Del.sec.pol.sjcampos pl sul\", \"Del.sec.piracicaba plant\\u00e3o\", \"20\\u00ba d.p. agua fria\", \"24\\u00ba d.p. ponte rasa\", \"02\\u00ba d.p. guarulhos\", \"25\\u00ba d.p. parelheiros\", \"05\\u00ba d.p. osasco\", \"Del.pol.cacapava\", \"01\\u00ba d.p. carapicuiba\", \"Del.sec.mar\\u00edlia plant\\u00e3o\", \"Central pol.judici\\u00e1ria-lins\", \"89\\u00ba d.p. jardim taboao\", \"07\\u00ba d.p. guarulhos\", \"20\\u00ba d.p. agua fria\", \"47\\u00ba d.p. capao redondo\", \"01\\u00ba dp mau\\u00e1-dr.alfredo garbino\", \"24\\u00ba d.p. ponte rasa\", \"50\\u00ba d.p. itaim paulista\", \"98\\u00ba d.p. jardim miriam\", \"73\\u00ba d.p. jacana\", \"Del.pol.ferraz de vasconcelos\", \"89\\u00ba d.p. jardim taboao\", \"Del.pol.rpires dr.evandro lima\", \"Plant\\u00e3o - 01 dp campinas\", \"Del.sec.franca plant\\u00e3o\", \"Del.sec.s.jo\\u00e3o da boa vista\", \"74\\u00ba d.p. parada taipas\", \"24\\u00ba d.p. ponte rasa\", \"Del.pol.plant\\u00e3o bebedouro\", \"14\\u00ba d.p. pinheiros\", \"Del.sec.pres. prudente\", \"03\\u00ba d.p. s.bernardo do campo\", \"01\\u00ba dp mau\\u00e1-dr.alfredo garbino\", \"03\\u00ba d.p. diadema\", \"72\\u00ba d.p. vila penteado\", \"98\\u00ba d.p. jardim miriam\", \"Plant\\u00e3o - 01 dp campinas\", \"26\\u00ba d.p. sacoma\", \"26\\u00ba d.p. sacoma\", \"04\\u00ba d.p. guarulhos\", \"Del.sec.americana plant\\u00e3o\", \"Del.sec.2\\u00aa campinas-plant\\u00e3o\", \"Central pol.jud-ja\\u00fa\", \"89\\u00ba d.p. jardim taboao\", \"101\\u00ba d.p. jdim imbuias\", \"Del.sec.s.j rio preto plant\\u00e3o\", \"24\\u00ba d.p. ponte rasa\", \"13\\u00ba d.p. casa verde\", \"47\\u00ba d.p. capao redondo\", \"05\\u00ba d.p. osasco\", \"Del.sec.s.j rio preto plant\\u00e3o\", \"47\\u00ba d.p. capao redondo\", \"Del.sec.s.j rio preto plant\\u00e3o\", \"Del.sec.2\\u00aa campinas-plant\\u00e3o\", \"Central pol.jud-rib. preto\", \"13\\u00ba d.p. casa verde\", \"69\\u00ba d.p. teotonio vilela\", \"Plant\\u00e3o de sorocaba - z. norte\", \"Plant\\u00e3o de sorocaba - z. norte\", \"Central pol.judici\\u00e1ria-bauru\", \"Central pol.jud-rib. preto\", \"Central pol.judici\\u00e1ria-bauru\"], \"y\": [9, 7, 5, 2, 2, 2, 2, 2, 2, 2, 2, 2, 2, 2, 1, 1, 1, 1, 1, 1, 1, 1, 1, 1, 1, 1, 1, 1, 1, 1, 1, 1, 1, 1, 1, 1, 1, 1, 1, 1, 1, 1, 1, 1, 1, 1, 1, 1, 1, 1, 1, 1, 1, 1, 1, 1, 1, 1, 1, 1, 1, 1, 1, 1, 1, 1, 1, 1, 1, 1, 1, 1, 1, 1, 1, 1, 1, 1, 1, 1, 1, 1, 1, 1, 1, 1, 1, 1, 1, 1, 1, 1, 1, 1, 1, 1, 1, 1, 1, 1, 1]}, {\"name\": \"2019\", \"type\": \"bar\", \"x\": [\"01\\u00aa del. sec. campinas - shpp\", \"Del.pol.plant\\u00e3o ituverava\", \"Del.pol.poloni\", \"Del.pol.jeriquara\", \"Del.pol.pedreira\", \"01\\u00aa del. sec. campinas - shpp\", \"Del.pol.sarapui\", \"Del.pol.sta isabel\", \"Del.inv.ger. s\\u00e3o carlos\", \"01\\u00aa del. sec. campinas - shpp\", \"Plant\\u00e3o-def.mul.campinas-2\\u00aasec\", \"01\\u00aa del. sec. campinas - shpp\", \"Del.def.mul. itapira\", \"01\\u00aa del. sec. campinas - shpp\", \"Del.pol.francisco morato\", \"Del.pol.ces\\u00e1rio lange\", \"01\\u00aa del. sec. campinas - shpp\", \"Del.inv.ger. americana\", \"Del.def.mul. piracicaba\", \"Plant\\u00e3o - 01 dp campinas\", \"Del.pol.dumont\", \"Del.pol.praia grande\", \"Central pol.judici\\u00e1ria-lins\", \"Del.sec.ourinhos plant\\u00e3o\", \"Del.sec.s\\u00e3o carlos plant\\u00e3o\", \"Del.def.mul. salto\", \"Del.sec.botucatu\", \"Dhpp div. homicidios\", \"Dhpp div. homicidios\", \"Del.pol.palmital\", \"Del.pol.guararema\", \"Del.pol.lorena\", \"Del.pol.cajamar\", \"Del.pol.itajobi\", \"Del.def.mul. cubat\\u00e3o\", \"Del.def.mul. votorantim\", \"Del.pol.artur nogueira\", \"Del.def.mul. s.vicente\", \"Del.sec.brag.pta plant\\u00e3o\", \"Del.pol.ic\\u00e9m\", \"Del.pol.s.caetano do sul\", \"02\\u00ba d.p. barueri\", \"Del.pol.plant\\u00e3o tatui\", \"03\\u00ba d.p. campos eliseos\", \"Del.def.mul. paraguacu pta\", \"99\\u00ba d.p. campo grande\", \"Plant\\u00e3o - 01\\u00ba d.p. jundiai\", \"Del.pol.teodoro sampaio\", \"103\\u00ba d.p. cohabii/itaqu.\", \"Del.pol.pitangueiras\", \"Del.def.mul. araraquara\", \"Del.pol.guar\\u00e1\", \"Del.pol.plant\\u00e3o guaira\", \"Del.pol.tiet\\u00ea\", \"Del.pol.vera cruz\", \"01\\u00ba d.p. itaquaquecetuba\", \"Del.sec.pol.sjcampos pl sul\", \"Del.pol.brotas\", \"Del.pol.morro agudo\", \"01\\u00ba d.p. cajamar\", \"Del.sec.s.j rio preto plant\\u00e3o\", \"Del.def.mul. pindamonhangaba\", \"Del.pol.monte alto\", \"Del.pol.plant\\u00e3o jaboticabal\", \"Del.pol.cordeir\\u00f3polis\", \"53\\u00ba d.p. parque do carmo\", \"Del.pol.cafel\\u00e2ndia\", \"Del.pol.ibitinga\", \"01\\u00ba dp mau\\u00e1-dr.alfredo garbino\", \"Del.def.mul. itapevi\", \"47\\u00ba d.p. capao redondo\", \"45\\u00ba d.p. v brasilandia\", \"26\\u00ba d.p. sacoma\", \"Del.sec.barretos plant\\u00e3o\", \"Del.pol.serra negra\", \"Del.pol.plant\\u00e3o guaira\", \"Del.pol.serra negra\", \"Del.pol.vargem grande pta\", \"81\\u00ba d.p. belem\", \"Del.sec.s\\u00e3o carlos plant\\u00e3o\", \"07\\u00aa del.def.mul. itaquera\", \"Del.sec.pol.sjcampos pl sul\", \"Del.pol.ituverava\", \"Del.def.mul. pres.prudente\", \"Del.sec.pres.venceslau plant\\u00e3o\", \"Del.def.mul. ribeirao preto\", \"Del.pol.franco rocha\", \"Del.sec.pol.sjcampos pl sul\", \"Del.pol.hortol\\u00e2ndia\", \"Del.pol.plant\\u00e3o tatui\", \"Del.pol.miracatu\", \"Del.pol.alvares machado\", \"01\\u00ba d.p. tabo\\u00e3o da serra\", \"05\\u00ba d.p. campinas\", \"08\\u00ba d.p. s.bernardo do campo\", \"69\\u00ba d.p. teotonio vilela\", \"10\\u00ba d.p. osasco\", \"09\\u00ba d.p. guarulhos\", \"Del.sec.barretos plant\\u00e3o\", \"04\\u00ba d.p. santo andr\\u00e9\", \"Del.pol.santana de parnaiba\", \"Del.pol.varzea paulista\", \"13\\u00ba d.p. casa verde\", \"Del.pol.batatais\", \"Del.pol.cosm\\u00f3polis\", \"01\\u00ba d.p. guarulhos\", \"Del.pol.santana de parnaiba\", \"Del.pol.praia grande\", \"04\\u00ba d.p. guarulhos\", \"Del.pol.capivari\", \"01\\u00ba d.p. santo andr\\u00e9\", \"01\\u00ba d.p. santo andr\\u00e9\", \"03\\u00ba d.p. osasco\", \"01\\u00ba d.p. s.b.c-dr omar cassim\", \"01\\u00ba d.p. santo andr\\u00e9\", \"01\\u00ba d.p. guarulhos\", \"Del.pol.suzano\", \"Del.sec.2\\u00aa campinas-plant\\u00e3o\", \"Del.sec.franca plant\\u00e3o\", \"Del.pol.plant\\u00e3o indaiatuba\", \"Del.pol.plant\\u00e3o indaiatuba\", \"01\\u00ba d.p. itanhaem\", \"35\\u00ba d.p. jabaquara\", \"Del.pol.s\\u00e3o roque\", \"Del.pol.santana de parnaiba\", \"06\\u00ba d.p. santo andr\\u00e9\", \"01\\u00ba d.p. jales\", \"01\\u00ba d.p. mogi das cruzes\", \"02\\u00ba d.p. guarulhos\", \"Del.sec.votuporanga plant\\u00e3o\", \"Del.def.mul. s.jose dos campos\", \"07\\u00ba d.p. guarulhos\", \"Central pol.judici\\u00e1ria-tup\\u00e3\", \"Del.pol.itaquaquecetuba\", \"Del.pol.ubatuba\", \"01\\u00ba dp mau\\u00e1-dr.alfredo garbino\", \"Del.sec.piracicaba plant\\u00e3o\", \"Del.pol.plant\\u00e3o atibaia\", \"Del.pol.s\\u00e3o roque\", \"Del.sec.rio claro plant\\u00e3o\", \"Del.sec.mar\\u00edlia plant\\u00e3o\", \"Del.pol.jandira\", \"01\\u00aa del.def.mul. centro\", \"33\\u00ba d.p. pirituba\", \"Del.pol.suzano\", \"02\\u00ba d.p. bom retiro\", \"Del.pol.itapira\", \"10\\u00ba d.p. penha de franca\", \"33\\u00ba d.p. pirituba\", \"Del.sec.pol.sjcampos pl sul\", \"Del.sec.piracicaba plant\\u00e3o\", \"20\\u00ba d.p. agua fria\", \"24\\u00ba d.p. ponte rasa\", \"02\\u00ba d.p. guarulhos\", \"25\\u00ba d.p. parelheiros\", \"05\\u00ba d.p. osasco\", \"Del.pol.cacapava\", \"01\\u00ba d.p. carapicuiba\", \"Del.sec.mar\\u00edlia plant\\u00e3o\", \"Central pol.judici\\u00e1ria-lins\", \"89\\u00ba d.p. jardim taboao\", \"07\\u00ba d.p. guarulhos\", \"20\\u00ba d.p. agua fria\", \"47\\u00ba d.p. capao redondo\", \"01\\u00ba dp mau\\u00e1-dr.alfredo garbino\", \"24\\u00ba d.p. ponte rasa\", \"50\\u00ba d.p. itaim paulista\", \"98\\u00ba d.p. jardim miriam\", \"73\\u00ba d.p. jacana\", \"Del.pol.ferraz de vasconcelos\", \"89\\u00ba d.p. jardim taboao\", \"Del.pol.rpires dr.evandro lima\", \"Plant\\u00e3o - 01 dp campinas\", \"Del.sec.franca plant\\u00e3o\", \"Del.sec.s.jo\\u00e3o da boa vista\", \"74\\u00ba d.p. parada taipas\", \"24\\u00ba d.p. ponte rasa\", \"Del.pol.plant\\u00e3o bebedouro\", \"14\\u00ba d.p. pinheiros\", \"Del.sec.pres. prudente\", \"03\\u00ba d.p. s.bernardo do campo\", \"01\\u00ba dp mau\\u00e1-dr.alfredo garbino\", \"03\\u00ba d.p. diadema\", \"72\\u00ba d.p. vila penteado\", \"98\\u00ba d.p. jardim miriam\", \"Plant\\u00e3o - 01 dp campinas\", \"26\\u00ba d.p. sacoma\", \"26\\u00ba d.p. sacoma\", \"04\\u00ba d.p. guarulhos\", \"Del.sec.americana plant\\u00e3o\", \"Del.sec.2\\u00aa campinas-plant\\u00e3o\", \"Central pol.jud-ja\\u00fa\", \"89\\u00ba d.p. jardim taboao\", \"101\\u00ba d.p. jdim imbuias\", \"Del.sec.s.j rio preto plant\\u00e3o\", \"24\\u00ba d.p. ponte rasa\", \"13\\u00ba d.p. casa verde\", \"47\\u00ba d.p. capao redondo\", \"05\\u00ba d.p. osasco\", \"Del.sec.s.j rio preto plant\\u00e3o\", \"47\\u00ba d.p. capao redondo\", \"Del.sec.s.j rio preto plant\\u00e3o\", \"Del.sec.2\\u00aa campinas-plant\\u00e3o\", \"Central pol.jud-rib. preto\", \"13\\u00ba d.p. casa verde\", \"69\\u00ba d.p. teotonio vilela\", \"Plant\\u00e3o de sorocaba - z. norte\", \"Plant\\u00e3o de sorocaba - z. norte\", \"Central pol.judici\\u00e1ria-bauru\", \"Central pol.jud-rib. preto\", \"Central pol.judici\\u00e1ria-bauru\"], \"y\": [5, 4, 2, 2, 2, 1, 1, 1, 1, 1, 1, 1, 1, 1, 1, 1, 1, 1, 1, 1, 1, 1, 1, 1, 1, 1, 1, 1, 1, 1, 1, 1, 1, 1, 1, 1, 1, 1, 1, 1, 1, 1, 1, 1, 1, 1, 1, 1, 1, 1, 1, 1, 1, 1, 1, 1, 1, 1, 1, 1, 1, 1, 1, 1, 1, 1, 1, 1, 1, 1]}],\n",
       "                        {\"template\": {\"data\": {\"bar\": [{\"error_x\": {\"color\": \"#2a3f5f\"}, \"error_y\": {\"color\": \"#2a3f5f\"}, \"marker\": {\"line\": {\"color\": \"#E5ECF6\", \"width\": 0.5}}, \"type\": \"bar\"}], \"barpolar\": [{\"marker\": {\"line\": {\"color\": \"#E5ECF6\", \"width\": 0.5}}, \"type\": \"barpolar\"}], \"carpet\": [{\"aaxis\": {\"endlinecolor\": \"#2a3f5f\", \"gridcolor\": \"white\", \"linecolor\": \"white\", \"minorgridcolor\": \"white\", \"startlinecolor\": \"#2a3f5f\"}, \"baxis\": {\"endlinecolor\": \"#2a3f5f\", \"gridcolor\": \"white\", \"linecolor\": \"white\", \"minorgridcolor\": \"white\", \"startlinecolor\": \"#2a3f5f\"}, \"type\": \"carpet\"}], \"choropleth\": [{\"colorbar\": {\"outlinewidth\": 0, \"ticks\": \"\"}, \"type\": \"choropleth\"}], \"contour\": [{\"colorbar\": {\"outlinewidth\": 0, \"ticks\": \"\"}, \"colorscale\": [[0.0, \"#0d0887\"], [0.1111111111111111, \"#46039f\"], [0.2222222222222222, \"#7201a8\"], [0.3333333333333333, \"#9c179e\"], [0.4444444444444444, \"#bd3786\"], [0.5555555555555556, \"#d8576b\"], [0.6666666666666666, \"#ed7953\"], [0.7777777777777778, \"#fb9f3a\"], [0.8888888888888888, \"#fdca26\"], [1.0, \"#f0f921\"]], \"type\": \"contour\"}], \"contourcarpet\": [{\"colorbar\": {\"outlinewidth\": 0, \"ticks\": \"\"}, \"type\": \"contourcarpet\"}], \"heatmap\": [{\"colorbar\": {\"outlinewidth\": 0, \"ticks\": \"\"}, \"colorscale\": [[0.0, \"#0d0887\"], [0.1111111111111111, \"#46039f\"], [0.2222222222222222, \"#7201a8\"], [0.3333333333333333, \"#9c179e\"], [0.4444444444444444, \"#bd3786\"], [0.5555555555555556, \"#d8576b\"], [0.6666666666666666, \"#ed7953\"], [0.7777777777777778, \"#fb9f3a\"], [0.8888888888888888, \"#fdca26\"], [1.0, \"#f0f921\"]], \"type\": \"heatmap\"}], \"heatmapgl\": [{\"colorbar\": {\"outlinewidth\": 0, \"ticks\": \"\"}, \"colorscale\": [[0.0, \"#0d0887\"], [0.1111111111111111, \"#46039f\"], [0.2222222222222222, \"#7201a8\"], [0.3333333333333333, \"#9c179e\"], [0.4444444444444444, \"#bd3786\"], [0.5555555555555556, \"#d8576b\"], [0.6666666666666666, \"#ed7953\"], [0.7777777777777778, \"#fb9f3a\"], [0.8888888888888888, \"#fdca26\"], [1.0, \"#f0f921\"]], \"type\": \"heatmapgl\"}], \"histogram\": [{\"marker\": {\"colorbar\": {\"outlinewidth\": 0, \"ticks\": \"\"}}, \"type\": \"histogram\"}], \"histogram2d\": [{\"colorbar\": {\"outlinewidth\": 0, \"ticks\": \"\"}, \"colorscale\": [[0.0, \"#0d0887\"], [0.1111111111111111, \"#46039f\"], [0.2222222222222222, \"#7201a8\"], [0.3333333333333333, \"#9c179e\"], [0.4444444444444444, \"#bd3786\"], [0.5555555555555556, \"#d8576b\"], [0.6666666666666666, \"#ed7953\"], [0.7777777777777778, \"#fb9f3a\"], [0.8888888888888888, \"#fdca26\"], [1.0, \"#f0f921\"]], \"type\": \"histogram2d\"}], \"histogram2dcontour\": [{\"colorbar\": {\"outlinewidth\": 0, \"ticks\": \"\"}, \"colorscale\": [[0.0, \"#0d0887\"], [0.1111111111111111, \"#46039f\"], [0.2222222222222222, \"#7201a8\"], [0.3333333333333333, \"#9c179e\"], [0.4444444444444444, \"#bd3786\"], [0.5555555555555556, \"#d8576b\"], [0.6666666666666666, \"#ed7953\"], [0.7777777777777778, \"#fb9f3a\"], [0.8888888888888888, \"#fdca26\"], [1.0, \"#f0f921\"]], \"type\": \"histogram2dcontour\"}], \"mesh3d\": [{\"colorbar\": {\"outlinewidth\": 0, \"ticks\": \"\"}, \"type\": \"mesh3d\"}], \"parcoords\": [{\"line\": {\"colorbar\": {\"outlinewidth\": 0, \"ticks\": \"\"}}, \"type\": \"parcoords\"}], \"scatter\": [{\"marker\": {\"colorbar\": {\"outlinewidth\": 0, \"ticks\": \"\"}}, \"type\": \"scatter\"}], \"scatter3d\": [{\"line\": {\"colorbar\": {\"outlinewidth\": 0, \"ticks\": \"\"}}, \"marker\": {\"colorbar\": {\"outlinewidth\": 0, \"ticks\": \"\"}}, \"type\": \"scatter3d\"}], \"scattercarpet\": [{\"marker\": {\"colorbar\": {\"outlinewidth\": 0, \"ticks\": \"\"}}, \"type\": \"scattercarpet\"}], \"scattergeo\": [{\"marker\": {\"colorbar\": {\"outlinewidth\": 0, \"ticks\": \"\"}}, \"type\": \"scattergeo\"}], \"scattergl\": [{\"marker\": {\"colorbar\": {\"outlinewidth\": 0, \"ticks\": \"\"}}, \"type\": \"scattergl\"}], \"scattermapbox\": [{\"marker\": {\"colorbar\": {\"outlinewidth\": 0, \"ticks\": \"\"}}, \"type\": \"scattermapbox\"}], \"scatterpolar\": [{\"marker\": {\"colorbar\": {\"outlinewidth\": 0, \"ticks\": \"\"}}, \"type\": \"scatterpolar\"}], \"scatterpolargl\": [{\"marker\": {\"colorbar\": {\"outlinewidth\": 0, \"ticks\": \"\"}}, \"type\": \"scatterpolargl\"}], \"scatterternary\": [{\"marker\": {\"colorbar\": {\"outlinewidth\": 0, \"ticks\": \"\"}}, \"type\": \"scatterternary\"}], \"surface\": [{\"colorbar\": {\"outlinewidth\": 0, \"ticks\": \"\"}, \"colorscale\": [[0.0, \"#0d0887\"], [0.1111111111111111, \"#46039f\"], [0.2222222222222222, \"#7201a8\"], [0.3333333333333333, \"#9c179e\"], [0.4444444444444444, \"#bd3786\"], [0.5555555555555556, \"#d8576b\"], [0.6666666666666666, \"#ed7953\"], [0.7777777777777778, \"#fb9f3a\"], [0.8888888888888888, \"#fdca26\"], [1.0, \"#f0f921\"]], \"type\": \"surface\"}], \"table\": [{\"cells\": {\"fill\": {\"color\": \"#EBF0F8\"}, \"line\": {\"color\": \"white\"}}, \"header\": {\"fill\": {\"color\": \"#C8D4E3\"}, \"line\": {\"color\": \"white\"}}, \"type\": \"table\"}]}, \"layout\": {\"annotationdefaults\": {\"arrowcolor\": \"#2a3f5f\", \"arrowhead\": 0, \"arrowwidth\": 1}, \"colorscale\": {\"diverging\": [[0, \"#8e0152\"], [0.1, \"#c51b7d\"], [0.2, \"#de77ae\"], [0.3, \"#f1b6da\"], [0.4, \"#fde0ef\"], [0.5, \"#f7f7f7\"], [0.6, \"#e6f5d0\"], [0.7, \"#b8e186\"], [0.8, \"#7fbc41\"], [0.9, \"#4d9221\"], [1, \"#276419\"]], \"sequential\": [[0.0, \"#0d0887\"], [0.1111111111111111, \"#46039f\"], [0.2222222222222222, \"#7201a8\"], [0.3333333333333333, \"#9c179e\"], [0.4444444444444444, \"#bd3786\"], [0.5555555555555556, \"#d8576b\"], [0.6666666666666666, \"#ed7953\"], [0.7777777777777778, \"#fb9f3a\"], [0.8888888888888888, \"#fdca26\"], [1.0, \"#f0f921\"]], \"sequentialminus\": [[0.0, \"#0d0887\"], [0.1111111111111111, \"#46039f\"], [0.2222222222222222, \"#7201a8\"], [0.3333333333333333, \"#9c179e\"], [0.4444444444444444, \"#bd3786\"], [0.5555555555555556, \"#d8576b\"], [0.6666666666666666, \"#ed7953\"], [0.7777777777777778, \"#fb9f3a\"], [0.8888888888888888, \"#fdca26\"], [1.0, \"#f0f921\"]]}, \"colorway\": [\"#636efa\", \"#EF553B\", \"#00cc96\", \"#ab63fa\", \"#FFA15A\", \"#19d3f3\", \"#FF6692\", \"#B6E880\", \"#FF97FF\", \"#FECB52\"], \"font\": {\"color\": \"#2a3f5f\"}, \"geo\": {\"bgcolor\": \"white\", \"lakecolor\": \"white\", \"landcolor\": \"#E5ECF6\", \"showlakes\": true, \"showland\": true, \"subunitcolor\": \"white\"}, \"hoverlabel\": {\"align\": \"left\"}, \"hovermode\": \"closest\", \"mapbox\": {\"style\": \"light\"}, \"paper_bgcolor\": \"white\", \"plot_bgcolor\": \"#E5ECF6\", \"polar\": {\"angularaxis\": {\"gridcolor\": \"white\", \"linecolor\": \"white\", \"ticks\": \"\"}, \"bgcolor\": \"#E5ECF6\", \"radialaxis\": {\"gridcolor\": \"white\", \"linecolor\": \"white\", \"ticks\": \"\"}}, \"scene\": {\"xaxis\": {\"backgroundcolor\": \"#E5ECF6\", \"gridcolor\": \"white\", \"gridwidth\": 2, \"linecolor\": \"white\", \"showbackground\": true, \"ticks\": \"\", \"zerolinecolor\": \"white\"}, \"yaxis\": {\"backgroundcolor\": \"#E5ECF6\", \"gridcolor\": \"white\", \"gridwidth\": 2, \"linecolor\": \"white\", \"showbackground\": true, \"ticks\": \"\", \"zerolinecolor\": \"white\"}, \"zaxis\": {\"backgroundcolor\": \"#E5ECF6\", \"gridcolor\": \"white\", \"gridwidth\": 2, \"linecolor\": \"white\", \"showbackground\": true, \"ticks\": \"\", \"zerolinecolor\": \"white\"}}, \"shapedefaults\": {\"line\": {\"color\": \"#2a3f5f\"}}, \"ternary\": {\"aaxis\": {\"gridcolor\": \"white\", \"linecolor\": \"white\", \"ticks\": \"\"}, \"baxis\": {\"gridcolor\": \"white\", \"linecolor\": \"white\", \"ticks\": \"\"}, \"bgcolor\": \"#E5ECF6\", \"caxis\": {\"gridcolor\": \"white\", \"linecolor\": \"white\", \"ticks\": \"\"}}, \"title\": {\"x\": 0.05}, \"xaxis\": {\"automargin\": true, \"gridcolor\": \"white\", \"linecolor\": \"white\", \"ticks\": \"\", \"zerolinecolor\": \"white\", \"zerolinewidth\": 2}, \"yaxis\": {\"automargin\": true, \"gridcolor\": \"white\", \"linecolor\": \"white\", \"ticks\": \"\", \"zerolinecolor\": \"white\", \"zerolinewidth\": 2}}}},\n",
       "                        {\"responsive\": true}\n",
       "                    ).then(function(){\n",
       "                            \n",
       "var gd = document.getElementById('35144dee-d84d-44c4-b9b1-de425f55b552');\n",
       "var x = new MutationObserver(function (mutations, observer) {{\n",
       "        var display = window.getComputedStyle(gd).display;\n",
       "        if (!display || display === 'none') {{\n",
       "            console.log([gd, 'removed!']);\n",
       "            Plotly.purge(gd);\n",
       "            observer.disconnect();\n",
       "        }}\n",
       "}});\n",
       "\n",
       "// Listen for the removal of the full notebook cells\n",
       "var notebookContainer = gd.closest('#notebook-container');\n",
       "if (notebookContainer) {{\n",
       "    x.observe(notebookContainer, {childList: true});\n",
       "}}\n",
       "\n",
       "// Listen for the clearing of the current output cell\n",
       "var outputEl = gd.closest('.output');\n",
       "if (outputEl) {{\n",
       "    x.observe(outputEl, {childList: true});\n",
       "}}\n",
       "\n",
       "                        })\n",
       "                };\n",
       "                });\n",
       "            </script>\n",
       "        </div>"
      ]
     },
     "metadata": {},
     "output_type": "display_data"
    }
   ],
   "source": [
    "trace1 = go.Bar(x = df_novo['DELEGACIA_NOME'],\n",
    "                y = df_novo[df_novo['ANO_BO'] == 2018].groupby('BAIRRO').size().sort_values(ascending=False),\n",
    "                name = '2018')\n",
    "trace2 = go.Bar(x = df_novo['DELEGACIA_NOME'],\n",
    "                y = df_novo[df_novo['ANO_BO'] == 2019].groupby('BAIRRO').size().sort_values(ascending=False),\n",
    "                name = '2019')\n",
    "\n",
    "df = [trace1, trace2]\n",
    "\n",
    "py.iplot(df)"
   ]
  },
  {
   "cell_type": "markdown",
   "metadata": {},
   "source": [
    "### Sobre o Crime"
   ]
  },
  {
   "cell_type": "markdown",
   "metadata": {},
   "source": [
    "#### Status"
   ]
  },
  {
   "cell_type": "code",
   "execution_count": 589,
   "metadata": {},
   "outputs": [
    {
     "data": {
      "application/vnd.plotly.v1+json": {
       "config": {
        "linkText": "Export to plot.ly",
        "plotlyServerURL": "https://plot.ly",
        "showLink": false
       },
       "data": [
        {
         "marker": {
          "color": "#e74c3c"
         },
         "name": "2018",
         "type": "bar",
         "x": [
          "Consumado",
          "Consumado",
          "Consumado",
          "Consumado",
          "Consumado",
          "Consumado",
          "Consumado",
          "Consumado",
          "Consumado",
          "Consumado",
          "Tentado",
          "Consumado",
          "Consumado",
          "Consumado",
          "Consumado",
          "Consumado",
          "Consumado",
          "Consumado",
          "Consumado",
          "Consumado",
          "Consumado",
          "Consumado",
          "Consumado",
          "Consumado",
          "Consumado",
          "Consumado",
          "Consumado",
          "Consumado",
          "Consumado",
          "Consumado",
          "Consumado",
          "Consumado",
          "Consumado",
          "Consumado",
          "Consumado",
          "Consumado",
          "Consumado",
          "Consumado",
          "Consumado",
          "Consumado",
          "Consumado",
          "Consumado",
          "Consumado",
          "Consumado",
          "Consumado",
          "Consumado",
          "Consumado",
          "Consumado",
          "Consumado",
          "Consumado",
          "Consumado",
          "Consumado",
          "Consumado",
          "Consumado",
          "Consumado",
          "Consumado",
          "Consumado",
          "Consumado",
          "Consumado",
          "Consumado",
          "Consumado",
          "Consumado",
          "Consumado",
          "Tentado",
          "Consumado",
          "Consumado",
          "Consumado",
          "Consumado",
          "Consumado",
          "Consumado",
          "Consumado",
          "Consumado",
          "Consumado",
          "Consumado",
          "Consumado",
          "Consumado",
          "Consumado",
          "Consumado",
          "Consumado",
          "Tentado",
          "Consumado",
          "Consumado",
          "Consumado",
          "Consumado",
          "Consumado",
          "Consumado",
          "Consumado",
          "Consumado",
          "Consumado",
          "Consumado",
          "Consumado",
          "Consumado",
          "Tentado",
          "Consumado",
          "Consumado",
          "Consumado",
          "Consumado",
          "Consumado",
          "Tentado",
          "Consumado",
          "Consumado",
          "Consumado",
          "Consumado",
          "Consumado",
          "Consumado",
          "Consumado",
          "Consumado",
          "Consumado",
          "Consumado",
          "Consumado",
          "Consumado",
          "Consumado",
          "Consumado",
          "Consumado",
          "Consumado",
          "Tentado",
          "Consumado",
          "Consumado",
          "Consumado",
          "Consumado",
          "Consumado",
          "Consumado",
          "Tentado",
          "Consumado",
          "Consumado",
          "Consumado",
          "Consumado",
          "Consumado",
          "Consumado",
          "Consumado",
          "Consumado",
          "Tentado",
          "Consumado",
          "Consumado",
          "Consumado",
          "Consumado",
          "Consumado",
          "Consumado",
          "Consumado",
          "Consumado",
          "Consumado",
          "Consumado",
          "Consumado",
          "Consumado",
          "Consumado",
          "Consumado",
          "Consumado",
          "Consumado",
          "Consumado",
          "Consumado",
          "Consumado",
          "Consumado",
          "Consumado",
          "Consumado",
          "Tentado",
          "Consumado",
          "Consumado",
          "Consumado",
          "Consumado",
          "Consumado",
          "Consumado",
          "Consumado",
          "Consumado",
          "Consumado",
          "Consumado",
          "Consumado",
          "Consumado",
          "Consumado",
          "Consumado",
          "Consumado",
          "Consumado",
          "Consumado",
          "Consumado",
          "Tentado",
          "Consumado",
          "Consumado",
          "Consumado",
          "Tentado",
          "Consumado",
          "Consumado",
          "Consumado",
          "Consumado",
          "Consumado",
          "Tentado",
          "Consumado",
          "Consumado",
          "Consumado",
          "Consumado",
          "Consumado",
          "Consumado",
          "Consumado",
          "Consumado",
          "Tentado",
          "Consumado",
          "Consumado",
          "Consumado",
          "Consumado",
          "Consumado",
          "Consumado",
          "Consumado",
          "Consumado",
          "Consumado",
          "Consumado",
          "Consumado",
          "Consumado",
          "Consumado",
          "Consumado",
          "Consumado",
          "Tentado",
          "Consumado",
          "Consumado"
         ],
         "y": [
          9,
          7,
          5,
          2,
          2,
          2,
          2,
          2,
          2,
          2,
          2,
          2,
          2,
          2,
          1,
          1,
          1,
          1,
          1,
          1,
          1,
          1,
          1,
          1,
          1,
          1,
          1,
          1,
          1,
          1,
          1,
          1,
          1,
          1,
          1,
          1,
          1,
          1,
          1,
          1,
          1,
          1,
          1,
          1,
          1,
          1,
          1,
          1,
          1,
          1,
          1,
          1,
          1,
          1,
          1,
          1,
          1,
          1,
          1,
          1,
          1,
          1,
          1,
          1,
          1,
          1,
          1,
          1,
          1,
          1,
          1,
          1,
          1,
          1,
          1,
          1,
          1,
          1,
          1,
          1,
          1,
          1,
          1,
          1,
          1,
          1,
          1,
          1,
          1,
          1,
          1,
          1,
          1,
          1,
          1,
          1,
          1,
          1,
          1,
          1,
          1
         ]
        },
        {
         "marker": {
          "color": "#e67e22"
         },
         "name": "2019",
         "type": "bar",
         "x": [
          "Consumado",
          "Consumado",
          "Consumado",
          "Consumado",
          "Consumado",
          "Consumado",
          "Consumado",
          "Consumado",
          "Consumado",
          "Consumado",
          "Tentado",
          "Consumado",
          "Consumado",
          "Consumado",
          "Consumado",
          "Consumado",
          "Consumado",
          "Consumado",
          "Consumado",
          "Consumado",
          "Consumado",
          "Consumado",
          "Consumado",
          "Consumado",
          "Consumado",
          "Consumado",
          "Consumado",
          "Consumado",
          "Consumado",
          "Consumado",
          "Consumado",
          "Consumado",
          "Consumado",
          "Consumado",
          "Consumado",
          "Consumado",
          "Consumado",
          "Consumado",
          "Consumado",
          "Consumado",
          "Consumado",
          "Consumado",
          "Consumado",
          "Consumado",
          "Consumado",
          "Consumado",
          "Consumado",
          "Consumado",
          "Consumado",
          "Consumado",
          "Consumado",
          "Consumado",
          "Consumado",
          "Consumado",
          "Consumado",
          "Consumado",
          "Consumado",
          "Consumado",
          "Consumado",
          "Consumado",
          "Consumado",
          "Consumado",
          "Consumado",
          "Tentado",
          "Consumado",
          "Consumado",
          "Consumado",
          "Consumado",
          "Consumado",
          "Consumado",
          "Consumado",
          "Consumado",
          "Consumado",
          "Consumado",
          "Consumado",
          "Consumado",
          "Consumado",
          "Consumado",
          "Consumado",
          "Tentado",
          "Consumado",
          "Consumado",
          "Consumado",
          "Consumado",
          "Consumado",
          "Consumado",
          "Consumado",
          "Consumado",
          "Consumado",
          "Consumado",
          "Consumado",
          "Consumado",
          "Tentado",
          "Consumado",
          "Consumado",
          "Consumado",
          "Consumado",
          "Consumado",
          "Tentado",
          "Consumado",
          "Consumado",
          "Consumado",
          "Consumado",
          "Consumado",
          "Consumado",
          "Consumado",
          "Consumado",
          "Consumado",
          "Consumado",
          "Consumado",
          "Consumado",
          "Consumado",
          "Consumado",
          "Consumado",
          "Consumado",
          "Tentado",
          "Consumado",
          "Consumado",
          "Consumado",
          "Consumado",
          "Consumado",
          "Consumado",
          "Tentado",
          "Consumado",
          "Consumado",
          "Consumado",
          "Consumado",
          "Consumado",
          "Consumado",
          "Consumado",
          "Consumado",
          "Tentado",
          "Consumado",
          "Consumado",
          "Consumado",
          "Consumado",
          "Consumado",
          "Consumado",
          "Consumado",
          "Consumado",
          "Consumado",
          "Consumado",
          "Consumado",
          "Consumado",
          "Consumado",
          "Consumado",
          "Consumado",
          "Consumado",
          "Consumado",
          "Consumado",
          "Consumado",
          "Consumado",
          "Consumado",
          "Consumado",
          "Tentado",
          "Consumado",
          "Consumado",
          "Consumado",
          "Consumado",
          "Consumado",
          "Consumado",
          "Consumado",
          "Consumado",
          "Consumado",
          "Consumado",
          "Consumado",
          "Consumado",
          "Consumado",
          "Consumado",
          "Consumado",
          "Consumado",
          "Consumado",
          "Consumado",
          "Tentado",
          "Consumado",
          "Consumado",
          "Consumado",
          "Tentado",
          "Consumado",
          "Consumado",
          "Consumado",
          "Consumado",
          "Consumado",
          "Tentado",
          "Consumado",
          "Consumado",
          "Consumado",
          "Consumado",
          "Consumado",
          "Consumado",
          "Consumado",
          "Consumado",
          "Tentado",
          "Consumado",
          "Consumado",
          "Consumado",
          "Consumado",
          "Consumado",
          "Consumado",
          "Consumado",
          "Consumado",
          "Consumado",
          "Consumado",
          "Consumado",
          "Consumado",
          "Consumado",
          "Consumado",
          "Consumado",
          "Tentado",
          "Consumado",
          "Consumado"
         ],
         "y": [
          5,
          4,
          2,
          2,
          2,
          1,
          1,
          1,
          1,
          1,
          1,
          1,
          1,
          1,
          1,
          1,
          1,
          1,
          1,
          1,
          1,
          1,
          1,
          1,
          1,
          1,
          1,
          1,
          1,
          1,
          1,
          1,
          1,
          1,
          1,
          1,
          1,
          1,
          1,
          1,
          1,
          1,
          1,
          1,
          1,
          1,
          1,
          1,
          1,
          1,
          1,
          1,
          1,
          1,
          1,
          1,
          1,
          1,
          1,
          1,
          1,
          1,
          1,
          1,
          1,
          1,
          1,
          1,
          1,
          1
         ]
        }
       ],
       "layout": {
        "template": {
         "data": {
          "bar": [
           {
            "error_x": {
             "color": "#2a3f5f"
            },
            "error_y": {
             "color": "#2a3f5f"
            },
            "marker": {
             "line": {
              "color": "#E5ECF6",
              "width": 0.5
             }
            },
            "type": "bar"
           }
          ],
          "barpolar": [
           {
            "marker": {
             "line": {
              "color": "#E5ECF6",
              "width": 0.5
             }
            },
            "type": "barpolar"
           }
          ],
          "carpet": [
           {
            "aaxis": {
             "endlinecolor": "#2a3f5f",
             "gridcolor": "white",
             "linecolor": "white",
             "minorgridcolor": "white",
             "startlinecolor": "#2a3f5f"
            },
            "baxis": {
             "endlinecolor": "#2a3f5f",
             "gridcolor": "white",
             "linecolor": "white",
             "minorgridcolor": "white",
             "startlinecolor": "#2a3f5f"
            },
            "type": "carpet"
           }
          ],
          "choropleth": [
           {
            "colorbar": {
             "outlinewidth": 0,
             "ticks": ""
            },
            "type": "choropleth"
           }
          ],
          "contour": [
           {
            "colorbar": {
             "outlinewidth": 0,
             "ticks": ""
            },
            "colorscale": [
             [
              0,
              "#0d0887"
             ],
             [
              0.1111111111111111,
              "#46039f"
             ],
             [
              0.2222222222222222,
              "#7201a8"
             ],
             [
              0.3333333333333333,
              "#9c179e"
             ],
             [
              0.4444444444444444,
              "#bd3786"
             ],
             [
              0.5555555555555556,
              "#d8576b"
             ],
             [
              0.6666666666666666,
              "#ed7953"
             ],
             [
              0.7777777777777778,
              "#fb9f3a"
             ],
             [
              0.8888888888888888,
              "#fdca26"
             ],
             [
              1,
              "#f0f921"
             ]
            ],
            "type": "contour"
           }
          ],
          "contourcarpet": [
           {
            "colorbar": {
             "outlinewidth": 0,
             "ticks": ""
            },
            "type": "contourcarpet"
           }
          ],
          "heatmap": [
           {
            "colorbar": {
             "outlinewidth": 0,
             "ticks": ""
            },
            "colorscale": [
             [
              0,
              "#0d0887"
             ],
             [
              0.1111111111111111,
              "#46039f"
             ],
             [
              0.2222222222222222,
              "#7201a8"
             ],
             [
              0.3333333333333333,
              "#9c179e"
             ],
             [
              0.4444444444444444,
              "#bd3786"
             ],
             [
              0.5555555555555556,
              "#d8576b"
             ],
             [
              0.6666666666666666,
              "#ed7953"
             ],
             [
              0.7777777777777778,
              "#fb9f3a"
             ],
             [
              0.8888888888888888,
              "#fdca26"
             ],
             [
              1,
              "#f0f921"
             ]
            ],
            "type": "heatmap"
           }
          ],
          "heatmapgl": [
           {
            "colorbar": {
             "outlinewidth": 0,
             "ticks": ""
            },
            "colorscale": [
             [
              0,
              "#0d0887"
             ],
             [
              0.1111111111111111,
              "#46039f"
             ],
             [
              0.2222222222222222,
              "#7201a8"
             ],
             [
              0.3333333333333333,
              "#9c179e"
             ],
             [
              0.4444444444444444,
              "#bd3786"
             ],
             [
              0.5555555555555556,
              "#d8576b"
             ],
             [
              0.6666666666666666,
              "#ed7953"
             ],
             [
              0.7777777777777778,
              "#fb9f3a"
             ],
             [
              0.8888888888888888,
              "#fdca26"
             ],
             [
              1,
              "#f0f921"
             ]
            ],
            "type": "heatmapgl"
           }
          ],
          "histogram": [
           {
            "marker": {
             "colorbar": {
              "outlinewidth": 0,
              "ticks": ""
             }
            },
            "type": "histogram"
           }
          ],
          "histogram2d": [
           {
            "colorbar": {
             "outlinewidth": 0,
             "ticks": ""
            },
            "colorscale": [
             [
              0,
              "#0d0887"
             ],
             [
              0.1111111111111111,
              "#46039f"
             ],
             [
              0.2222222222222222,
              "#7201a8"
             ],
             [
              0.3333333333333333,
              "#9c179e"
             ],
             [
              0.4444444444444444,
              "#bd3786"
             ],
             [
              0.5555555555555556,
              "#d8576b"
             ],
             [
              0.6666666666666666,
              "#ed7953"
             ],
             [
              0.7777777777777778,
              "#fb9f3a"
             ],
             [
              0.8888888888888888,
              "#fdca26"
             ],
             [
              1,
              "#f0f921"
             ]
            ],
            "type": "histogram2d"
           }
          ],
          "histogram2dcontour": [
           {
            "colorbar": {
             "outlinewidth": 0,
             "ticks": ""
            },
            "colorscale": [
             [
              0,
              "#0d0887"
             ],
             [
              0.1111111111111111,
              "#46039f"
             ],
             [
              0.2222222222222222,
              "#7201a8"
             ],
             [
              0.3333333333333333,
              "#9c179e"
             ],
             [
              0.4444444444444444,
              "#bd3786"
             ],
             [
              0.5555555555555556,
              "#d8576b"
             ],
             [
              0.6666666666666666,
              "#ed7953"
             ],
             [
              0.7777777777777778,
              "#fb9f3a"
             ],
             [
              0.8888888888888888,
              "#fdca26"
             ],
             [
              1,
              "#f0f921"
             ]
            ],
            "type": "histogram2dcontour"
           }
          ],
          "mesh3d": [
           {
            "colorbar": {
             "outlinewidth": 0,
             "ticks": ""
            },
            "type": "mesh3d"
           }
          ],
          "parcoords": [
           {
            "line": {
             "colorbar": {
              "outlinewidth": 0,
              "ticks": ""
             }
            },
            "type": "parcoords"
           }
          ],
          "scatter": [
           {
            "marker": {
             "colorbar": {
              "outlinewidth": 0,
              "ticks": ""
             }
            },
            "type": "scatter"
           }
          ],
          "scatter3d": [
           {
            "line": {
             "colorbar": {
              "outlinewidth": 0,
              "ticks": ""
             }
            },
            "marker": {
             "colorbar": {
              "outlinewidth": 0,
              "ticks": ""
             }
            },
            "type": "scatter3d"
           }
          ],
          "scattercarpet": [
           {
            "marker": {
             "colorbar": {
              "outlinewidth": 0,
              "ticks": ""
             }
            },
            "type": "scattercarpet"
           }
          ],
          "scattergeo": [
           {
            "marker": {
             "colorbar": {
              "outlinewidth": 0,
              "ticks": ""
             }
            },
            "type": "scattergeo"
           }
          ],
          "scattergl": [
           {
            "marker": {
             "colorbar": {
              "outlinewidth": 0,
              "ticks": ""
             }
            },
            "type": "scattergl"
           }
          ],
          "scattermapbox": [
           {
            "marker": {
             "colorbar": {
              "outlinewidth": 0,
              "ticks": ""
             }
            },
            "type": "scattermapbox"
           }
          ],
          "scatterpolar": [
           {
            "marker": {
             "colorbar": {
              "outlinewidth": 0,
              "ticks": ""
             }
            },
            "type": "scatterpolar"
           }
          ],
          "scatterpolargl": [
           {
            "marker": {
             "colorbar": {
              "outlinewidth": 0,
              "ticks": ""
             }
            },
            "type": "scatterpolargl"
           }
          ],
          "scatterternary": [
           {
            "marker": {
             "colorbar": {
              "outlinewidth": 0,
              "ticks": ""
             }
            },
            "type": "scatterternary"
           }
          ],
          "surface": [
           {
            "colorbar": {
             "outlinewidth": 0,
             "ticks": ""
            },
            "colorscale": [
             [
              0,
              "#0d0887"
             ],
             [
              0.1111111111111111,
              "#46039f"
             ],
             [
              0.2222222222222222,
              "#7201a8"
             ],
             [
              0.3333333333333333,
              "#9c179e"
             ],
             [
              0.4444444444444444,
              "#bd3786"
             ],
             [
              0.5555555555555556,
              "#d8576b"
             ],
             [
              0.6666666666666666,
              "#ed7953"
             ],
             [
              0.7777777777777778,
              "#fb9f3a"
             ],
             [
              0.8888888888888888,
              "#fdca26"
             ],
             [
              1,
              "#f0f921"
             ]
            ],
            "type": "surface"
           }
          ],
          "table": [
           {
            "cells": {
             "fill": {
              "color": "#EBF0F8"
             },
             "line": {
              "color": "white"
             }
            },
            "header": {
             "fill": {
              "color": "#C8D4E3"
             },
             "line": {
              "color": "white"
             }
            },
            "type": "table"
           }
          ]
         },
         "layout": {
          "annotationdefaults": {
           "arrowcolor": "#2a3f5f",
           "arrowhead": 0,
           "arrowwidth": 1
          },
          "colorscale": {
           "diverging": [
            [
             0,
             "#8e0152"
            ],
            [
             0.1,
             "#c51b7d"
            ],
            [
             0.2,
             "#de77ae"
            ],
            [
             0.3,
             "#f1b6da"
            ],
            [
             0.4,
             "#fde0ef"
            ],
            [
             0.5,
             "#f7f7f7"
            ],
            [
             0.6,
             "#e6f5d0"
            ],
            [
             0.7,
             "#b8e186"
            ],
            [
             0.8,
             "#7fbc41"
            ],
            [
             0.9,
             "#4d9221"
            ],
            [
             1,
             "#276419"
            ]
           ],
           "sequential": [
            [
             0,
             "#0d0887"
            ],
            [
             0.1111111111111111,
             "#46039f"
            ],
            [
             0.2222222222222222,
             "#7201a8"
            ],
            [
             0.3333333333333333,
             "#9c179e"
            ],
            [
             0.4444444444444444,
             "#bd3786"
            ],
            [
             0.5555555555555556,
             "#d8576b"
            ],
            [
             0.6666666666666666,
             "#ed7953"
            ],
            [
             0.7777777777777778,
             "#fb9f3a"
            ],
            [
             0.8888888888888888,
             "#fdca26"
            ],
            [
             1,
             "#f0f921"
            ]
           ],
           "sequentialminus": [
            [
             0,
             "#0d0887"
            ],
            [
             0.1111111111111111,
             "#46039f"
            ],
            [
             0.2222222222222222,
             "#7201a8"
            ],
            [
             0.3333333333333333,
             "#9c179e"
            ],
            [
             0.4444444444444444,
             "#bd3786"
            ],
            [
             0.5555555555555556,
             "#d8576b"
            ],
            [
             0.6666666666666666,
             "#ed7953"
            ],
            [
             0.7777777777777778,
             "#fb9f3a"
            ],
            [
             0.8888888888888888,
             "#fdca26"
            ],
            [
             1,
             "#f0f921"
            ]
           ]
          },
          "colorway": [
           "#636efa",
           "#EF553B",
           "#00cc96",
           "#ab63fa",
           "#FFA15A",
           "#19d3f3",
           "#FF6692",
           "#B6E880",
           "#FF97FF",
           "#FECB52"
          ],
          "font": {
           "color": "#2a3f5f"
          },
          "geo": {
           "bgcolor": "white",
           "lakecolor": "white",
           "landcolor": "#E5ECF6",
           "showlakes": true,
           "showland": true,
           "subunitcolor": "white"
          },
          "hoverlabel": {
           "align": "left"
          },
          "hovermode": "closest",
          "mapbox": {
           "style": "light"
          },
          "paper_bgcolor": "white",
          "plot_bgcolor": "#E5ECF6",
          "polar": {
           "angularaxis": {
            "gridcolor": "white",
            "linecolor": "white",
            "ticks": ""
           },
           "bgcolor": "#E5ECF6",
           "radialaxis": {
            "gridcolor": "white",
            "linecolor": "white",
            "ticks": ""
           }
          },
          "scene": {
           "xaxis": {
            "backgroundcolor": "#E5ECF6",
            "gridcolor": "white",
            "gridwidth": 2,
            "linecolor": "white",
            "showbackground": true,
            "ticks": "",
            "zerolinecolor": "white"
           },
           "yaxis": {
            "backgroundcolor": "#E5ECF6",
            "gridcolor": "white",
            "gridwidth": 2,
            "linecolor": "white",
            "showbackground": true,
            "ticks": "",
            "zerolinecolor": "white"
           },
           "zaxis": {
            "backgroundcolor": "#E5ECF6",
            "gridcolor": "white",
            "gridwidth": 2,
            "linecolor": "white",
            "showbackground": true,
            "ticks": "",
            "zerolinecolor": "white"
           }
          },
          "shapedefaults": {
           "line": {
            "color": "#2a3f5f"
           }
          },
          "ternary": {
           "aaxis": {
            "gridcolor": "white",
            "linecolor": "white",
            "ticks": ""
           },
           "baxis": {
            "gridcolor": "white",
            "linecolor": "white",
            "ticks": ""
           },
           "bgcolor": "#E5ECF6",
           "caxis": {
            "gridcolor": "white",
            "linecolor": "white",
            "ticks": ""
           }
          },
          "title": {
           "x": 0.05
          },
          "xaxis": {
           "automargin": true,
           "gridcolor": "white",
           "linecolor": "white",
           "ticks": "",
           "zerolinecolor": "white",
           "zerolinewidth": 2
          },
          "yaxis": {
           "automargin": true,
           "gridcolor": "white",
           "linecolor": "white",
           "ticks": "",
           "zerolinecolor": "white",
           "zerolinewidth": 2
          }
         }
        }
       }
      },
      "text/html": [
       "<div>\n",
       "        \n",
       "        \n",
       "            <div id=\"e9257810-92b7-4af7-a63b-c70596abd961\" class=\"plotly-graph-div\" style=\"height:525px; width:100%;\"></div>\n",
       "            <script type=\"text/javascript\">\n",
       "                require([\"plotly\"], function(Plotly) {\n",
       "                    window.PLOTLYENV=window.PLOTLYENV || {};\n",
       "                    \n",
       "                if (document.getElementById(\"e9257810-92b7-4af7-a63b-c70596abd961\")) {\n",
       "                    Plotly.newPlot(\n",
       "                        'e9257810-92b7-4af7-a63b-c70596abd961',\n",
       "                        [{\"marker\": {\"color\": \"#e74c3c\"}, \"name\": \"2018\", \"type\": \"bar\", \"x\": [\"Consumado\", \"Consumado\", \"Consumado\", \"Consumado\", \"Consumado\", \"Consumado\", \"Consumado\", \"Consumado\", \"Consumado\", \"Consumado\", \"Tentado\", \"Consumado\", \"Consumado\", \"Consumado\", \"Consumado\", \"Consumado\", \"Consumado\", \"Consumado\", \"Consumado\", \"Consumado\", \"Consumado\", \"Consumado\", \"Consumado\", \"Consumado\", \"Consumado\", \"Consumado\", \"Consumado\", \"Consumado\", \"Consumado\", \"Consumado\", \"Consumado\", \"Consumado\", \"Consumado\", \"Consumado\", \"Consumado\", \"Consumado\", \"Consumado\", \"Consumado\", \"Consumado\", \"Consumado\", \"Consumado\", \"Consumado\", \"Consumado\", \"Consumado\", \"Consumado\", \"Consumado\", \"Consumado\", \"Consumado\", \"Consumado\", \"Consumado\", \"Consumado\", \"Consumado\", \"Consumado\", \"Consumado\", \"Consumado\", \"Consumado\", \"Consumado\", \"Consumado\", \"Consumado\", \"Consumado\", \"Consumado\", \"Consumado\", \"Consumado\", \"Tentado\", \"Consumado\", \"Consumado\", \"Consumado\", \"Consumado\", \"Consumado\", \"Consumado\", \"Consumado\", \"Consumado\", \"Consumado\", \"Consumado\", \"Consumado\", \"Consumado\", \"Consumado\", \"Consumado\", \"Consumado\", \"Tentado\", \"Consumado\", \"Consumado\", \"Consumado\", \"Consumado\", \"Consumado\", \"Consumado\", \"Consumado\", \"Consumado\", \"Consumado\", \"Consumado\", \"Consumado\", \"Consumado\", \"Tentado\", \"Consumado\", \"Consumado\", \"Consumado\", \"Consumado\", \"Consumado\", \"Tentado\", \"Consumado\", \"Consumado\", \"Consumado\", \"Consumado\", \"Consumado\", \"Consumado\", \"Consumado\", \"Consumado\", \"Consumado\", \"Consumado\", \"Consumado\", \"Consumado\", \"Consumado\", \"Consumado\", \"Consumado\", \"Consumado\", \"Tentado\", \"Consumado\", \"Consumado\", \"Consumado\", \"Consumado\", \"Consumado\", \"Consumado\", \"Tentado\", \"Consumado\", \"Consumado\", \"Consumado\", \"Consumado\", \"Consumado\", \"Consumado\", \"Consumado\", \"Consumado\", \"Tentado\", \"Consumado\", \"Consumado\", \"Consumado\", \"Consumado\", \"Consumado\", \"Consumado\", \"Consumado\", \"Consumado\", \"Consumado\", \"Consumado\", \"Consumado\", \"Consumado\", \"Consumado\", \"Consumado\", \"Consumado\", \"Consumado\", \"Consumado\", \"Consumado\", \"Consumado\", \"Consumado\", \"Consumado\", \"Consumado\", \"Tentado\", \"Consumado\", \"Consumado\", \"Consumado\", \"Consumado\", \"Consumado\", \"Consumado\", \"Consumado\", \"Consumado\", \"Consumado\", \"Consumado\", \"Consumado\", \"Consumado\", \"Consumado\", \"Consumado\", \"Consumado\", \"Consumado\", \"Consumado\", \"Consumado\", \"Tentado\", \"Consumado\", \"Consumado\", \"Consumado\", \"Tentado\", \"Consumado\", \"Consumado\", \"Consumado\", \"Consumado\", \"Consumado\", \"Tentado\", \"Consumado\", \"Consumado\", \"Consumado\", \"Consumado\", \"Consumado\", \"Consumado\", \"Consumado\", \"Consumado\", \"Tentado\", \"Consumado\", \"Consumado\", \"Consumado\", \"Consumado\", \"Consumado\", \"Consumado\", \"Consumado\", \"Consumado\", \"Consumado\", \"Consumado\", \"Consumado\", \"Consumado\", \"Consumado\", \"Consumado\", \"Consumado\", \"Tentado\", \"Consumado\", \"Consumado\"], \"y\": [9, 7, 5, 2, 2, 2, 2, 2, 2, 2, 2, 2, 2, 2, 1, 1, 1, 1, 1, 1, 1, 1, 1, 1, 1, 1, 1, 1, 1, 1, 1, 1, 1, 1, 1, 1, 1, 1, 1, 1, 1, 1, 1, 1, 1, 1, 1, 1, 1, 1, 1, 1, 1, 1, 1, 1, 1, 1, 1, 1, 1, 1, 1, 1, 1, 1, 1, 1, 1, 1, 1, 1, 1, 1, 1, 1, 1, 1, 1, 1, 1, 1, 1, 1, 1, 1, 1, 1, 1, 1, 1, 1, 1, 1, 1, 1, 1, 1, 1, 1, 1]}, {\"marker\": {\"color\": \"#e67e22\"}, \"name\": \"2019\", \"type\": \"bar\", \"x\": [\"Consumado\", \"Consumado\", \"Consumado\", \"Consumado\", \"Consumado\", \"Consumado\", \"Consumado\", \"Consumado\", \"Consumado\", \"Consumado\", \"Tentado\", \"Consumado\", \"Consumado\", \"Consumado\", \"Consumado\", \"Consumado\", \"Consumado\", \"Consumado\", \"Consumado\", \"Consumado\", \"Consumado\", \"Consumado\", \"Consumado\", \"Consumado\", \"Consumado\", \"Consumado\", \"Consumado\", \"Consumado\", \"Consumado\", \"Consumado\", \"Consumado\", \"Consumado\", \"Consumado\", \"Consumado\", \"Consumado\", \"Consumado\", \"Consumado\", \"Consumado\", \"Consumado\", \"Consumado\", \"Consumado\", \"Consumado\", \"Consumado\", \"Consumado\", \"Consumado\", \"Consumado\", \"Consumado\", \"Consumado\", \"Consumado\", \"Consumado\", \"Consumado\", \"Consumado\", \"Consumado\", \"Consumado\", \"Consumado\", \"Consumado\", \"Consumado\", \"Consumado\", \"Consumado\", \"Consumado\", \"Consumado\", \"Consumado\", \"Consumado\", \"Tentado\", \"Consumado\", \"Consumado\", \"Consumado\", \"Consumado\", \"Consumado\", \"Consumado\", \"Consumado\", \"Consumado\", \"Consumado\", \"Consumado\", \"Consumado\", \"Consumado\", \"Consumado\", \"Consumado\", \"Consumado\", \"Tentado\", \"Consumado\", \"Consumado\", \"Consumado\", \"Consumado\", \"Consumado\", \"Consumado\", \"Consumado\", \"Consumado\", \"Consumado\", \"Consumado\", \"Consumado\", \"Consumado\", \"Tentado\", \"Consumado\", \"Consumado\", \"Consumado\", \"Consumado\", \"Consumado\", \"Tentado\", \"Consumado\", \"Consumado\", \"Consumado\", \"Consumado\", \"Consumado\", \"Consumado\", \"Consumado\", \"Consumado\", \"Consumado\", \"Consumado\", \"Consumado\", \"Consumado\", \"Consumado\", \"Consumado\", \"Consumado\", \"Consumado\", \"Tentado\", \"Consumado\", \"Consumado\", \"Consumado\", \"Consumado\", \"Consumado\", \"Consumado\", \"Tentado\", \"Consumado\", \"Consumado\", \"Consumado\", \"Consumado\", \"Consumado\", \"Consumado\", \"Consumado\", \"Consumado\", \"Tentado\", \"Consumado\", \"Consumado\", \"Consumado\", \"Consumado\", \"Consumado\", \"Consumado\", \"Consumado\", \"Consumado\", \"Consumado\", \"Consumado\", \"Consumado\", \"Consumado\", \"Consumado\", \"Consumado\", \"Consumado\", \"Consumado\", \"Consumado\", \"Consumado\", \"Consumado\", \"Consumado\", \"Consumado\", \"Consumado\", \"Tentado\", \"Consumado\", \"Consumado\", \"Consumado\", \"Consumado\", \"Consumado\", \"Consumado\", \"Consumado\", \"Consumado\", \"Consumado\", \"Consumado\", \"Consumado\", \"Consumado\", \"Consumado\", \"Consumado\", \"Consumado\", \"Consumado\", \"Consumado\", \"Consumado\", \"Tentado\", \"Consumado\", \"Consumado\", \"Consumado\", \"Tentado\", \"Consumado\", \"Consumado\", \"Consumado\", \"Consumado\", \"Consumado\", \"Tentado\", \"Consumado\", \"Consumado\", \"Consumado\", \"Consumado\", \"Consumado\", \"Consumado\", \"Consumado\", \"Consumado\", \"Tentado\", \"Consumado\", \"Consumado\", \"Consumado\", \"Consumado\", \"Consumado\", \"Consumado\", \"Consumado\", \"Consumado\", \"Consumado\", \"Consumado\", \"Consumado\", \"Consumado\", \"Consumado\", \"Consumado\", \"Consumado\", \"Tentado\", \"Consumado\", \"Consumado\"], \"y\": [5, 4, 2, 2, 2, 1, 1, 1, 1, 1, 1, 1, 1, 1, 1, 1, 1, 1, 1, 1, 1, 1, 1, 1, 1, 1, 1, 1, 1, 1, 1, 1, 1, 1, 1, 1, 1, 1, 1, 1, 1, 1, 1, 1, 1, 1, 1, 1, 1, 1, 1, 1, 1, 1, 1, 1, 1, 1, 1, 1, 1, 1, 1, 1, 1, 1, 1, 1, 1, 1]}],\n",
       "                        {\"template\": {\"data\": {\"bar\": [{\"error_x\": {\"color\": \"#2a3f5f\"}, \"error_y\": {\"color\": \"#2a3f5f\"}, \"marker\": {\"line\": {\"color\": \"#E5ECF6\", \"width\": 0.5}}, \"type\": \"bar\"}], \"barpolar\": [{\"marker\": {\"line\": {\"color\": \"#E5ECF6\", \"width\": 0.5}}, \"type\": \"barpolar\"}], \"carpet\": [{\"aaxis\": {\"endlinecolor\": \"#2a3f5f\", \"gridcolor\": \"white\", \"linecolor\": \"white\", \"minorgridcolor\": \"white\", \"startlinecolor\": \"#2a3f5f\"}, \"baxis\": {\"endlinecolor\": \"#2a3f5f\", \"gridcolor\": \"white\", \"linecolor\": \"white\", \"minorgridcolor\": \"white\", \"startlinecolor\": \"#2a3f5f\"}, \"type\": \"carpet\"}], \"choropleth\": [{\"colorbar\": {\"outlinewidth\": 0, \"ticks\": \"\"}, \"type\": \"choropleth\"}], \"contour\": [{\"colorbar\": {\"outlinewidth\": 0, \"ticks\": \"\"}, \"colorscale\": [[0.0, \"#0d0887\"], [0.1111111111111111, \"#46039f\"], [0.2222222222222222, \"#7201a8\"], [0.3333333333333333, \"#9c179e\"], [0.4444444444444444, \"#bd3786\"], [0.5555555555555556, \"#d8576b\"], [0.6666666666666666, \"#ed7953\"], [0.7777777777777778, \"#fb9f3a\"], [0.8888888888888888, \"#fdca26\"], [1.0, \"#f0f921\"]], \"type\": \"contour\"}], \"contourcarpet\": [{\"colorbar\": {\"outlinewidth\": 0, \"ticks\": \"\"}, \"type\": \"contourcarpet\"}], \"heatmap\": [{\"colorbar\": {\"outlinewidth\": 0, \"ticks\": \"\"}, \"colorscale\": [[0.0, \"#0d0887\"], [0.1111111111111111, \"#46039f\"], [0.2222222222222222, \"#7201a8\"], [0.3333333333333333, \"#9c179e\"], [0.4444444444444444, \"#bd3786\"], [0.5555555555555556, \"#d8576b\"], [0.6666666666666666, \"#ed7953\"], [0.7777777777777778, \"#fb9f3a\"], [0.8888888888888888, \"#fdca26\"], [1.0, \"#f0f921\"]], \"type\": \"heatmap\"}], \"heatmapgl\": [{\"colorbar\": {\"outlinewidth\": 0, \"ticks\": \"\"}, \"colorscale\": [[0.0, \"#0d0887\"], [0.1111111111111111, \"#46039f\"], [0.2222222222222222, \"#7201a8\"], [0.3333333333333333, \"#9c179e\"], [0.4444444444444444, \"#bd3786\"], [0.5555555555555556, \"#d8576b\"], [0.6666666666666666, \"#ed7953\"], [0.7777777777777778, \"#fb9f3a\"], [0.8888888888888888, \"#fdca26\"], [1.0, \"#f0f921\"]], \"type\": \"heatmapgl\"}], \"histogram\": [{\"marker\": {\"colorbar\": {\"outlinewidth\": 0, \"ticks\": \"\"}}, \"type\": \"histogram\"}], \"histogram2d\": [{\"colorbar\": {\"outlinewidth\": 0, \"ticks\": \"\"}, \"colorscale\": [[0.0, \"#0d0887\"], [0.1111111111111111, \"#46039f\"], [0.2222222222222222, \"#7201a8\"], [0.3333333333333333, \"#9c179e\"], [0.4444444444444444, \"#bd3786\"], [0.5555555555555556, \"#d8576b\"], [0.6666666666666666, \"#ed7953\"], [0.7777777777777778, \"#fb9f3a\"], [0.8888888888888888, \"#fdca26\"], [1.0, \"#f0f921\"]], \"type\": \"histogram2d\"}], \"histogram2dcontour\": [{\"colorbar\": {\"outlinewidth\": 0, \"ticks\": \"\"}, \"colorscale\": [[0.0, \"#0d0887\"], [0.1111111111111111, \"#46039f\"], [0.2222222222222222, \"#7201a8\"], [0.3333333333333333, \"#9c179e\"], [0.4444444444444444, \"#bd3786\"], [0.5555555555555556, \"#d8576b\"], [0.6666666666666666, \"#ed7953\"], [0.7777777777777778, \"#fb9f3a\"], [0.8888888888888888, \"#fdca26\"], [1.0, \"#f0f921\"]], \"type\": \"histogram2dcontour\"}], \"mesh3d\": [{\"colorbar\": {\"outlinewidth\": 0, \"ticks\": \"\"}, \"type\": \"mesh3d\"}], \"parcoords\": [{\"line\": {\"colorbar\": {\"outlinewidth\": 0, \"ticks\": \"\"}}, \"type\": \"parcoords\"}], \"scatter\": [{\"marker\": {\"colorbar\": {\"outlinewidth\": 0, \"ticks\": \"\"}}, \"type\": \"scatter\"}], \"scatter3d\": [{\"line\": {\"colorbar\": {\"outlinewidth\": 0, \"ticks\": \"\"}}, \"marker\": {\"colorbar\": {\"outlinewidth\": 0, \"ticks\": \"\"}}, \"type\": \"scatter3d\"}], \"scattercarpet\": [{\"marker\": {\"colorbar\": {\"outlinewidth\": 0, \"ticks\": \"\"}}, \"type\": \"scattercarpet\"}], \"scattergeo\": [{\"marker\": {\"colorbar\": {\"outlinewidth\": 0, \"ticks\": \"\"}}, \"type\": \"scattergeo\"}], \"scattergl\": [{\"marker\": {\"colorbar\": {\"outlinewidth\": 0, \"ticks\": \"\"}}, \"type\": \"scattergl\"}], \"scattermapbox\": [{\"marker\": {\"colorbar\": {\"outlinewidth\": 0, \"ticks\": \"\"}}, \"type\": \"scattermapbox\"}], \"scatterpolar\": [{\"marker\": {\"colorbar\": {\"outlinewidth\": 0, \"ticks\": \"\"}}, \"type\": \"scatterpolar\"}], \"scatterpolargl\": [{\"marker\": {\"colorbar\": {\"outlinewidth\": 0, \"ticks\": \"\"}}, \"type\": \"scatterpolargl\"}], \"scatterternary\": [{\"marker\": {\"colorbar\": {\"outlinewidth\": 0, \"ticks\": \"\"}}, \"type\": \"scatterternary\"}], \"surface\": [{\"colorbar\": {\"outlinewidth\": 0, \"ticks\": \"\"}, \"colorscale\": [[0.0, \"#0d0887\"], [0.1111111111111111, \"#46039f\"], [0.2222222222222222, \"#7201a8\"], [0.3333333333333333, \"#9c179e\"], [0.4444444444444444, \"#bd3786\"], [0.5555555555555556, \"#d8576b\"], [0.6666666666666666, \"#ed7953\"], [0.7777777777777778, \"#fb9f3a\"], [0.8888888888888888, \"#fdca26\"], [1.0, \"#f0f921\"]], \"type\": \"surface\"}], \"table\": [{\"cells\": {\"fill\": {\"color\": \"#EBF0F8\"}, \"line\": {\"color\": \"white\"}}, \"header\": {\"fill\": {\"color\": \"#C8D4E3\"}, \"line\": {\"color\": \"white\"}}, \"type\": \"table\"}]}, \"layout\": {\"annotationdefaults\": {\"arrowcolor\": \"#2a3f5f\", \"arrowhead\": 0, \"arrowwidth\": 1}, \"colorscale\": {\"diverging\": [[0, \"#8e0152\"], [0.1, \"#c51b7d\"], [0.2, \"#de77ae\"], [0.3, \"#f1b6da\"], [0.4, \"#fde0ef\"], [0.5, \"#f7f7f7\"], [0.6, \"#e6f5d0\"], [0.7, \"#b8e186\"], [0.8, \"#7fbc41\"], [0.9, \"#4d9221\"], [1, \"#276419\"]], \"sequential\": [[0.0, \"#0d0887\"], [0.1111111111111111, \"#46039f\"], [0.2222222222222222, \"#7201a8\"], [0.3333333333333333, \"#9c179e\"], [0.4444444444444444, \"#bd3786\"], [0.5555555555555556, \"#d8576b\"], [0.6666666666666666, \"#ed7953\"], [0.7777777777777778, \"#fb9f3a\"], [0.8888888888888888, \"#fdca26\"], [1.0, \"#f0f921\"]], \"sequentialminus\": [[0.0, \"#0d0887\"], [0.1111111111111111, \"#46039f\"], [0.2222222222222222, \"#7201a8\"], [0.3333333333333333, \"#9c179e\"], [0.4444444444444444, \"#bd3786\"], [0.5555555555555556, \"#d8576b\"], [0.6666666666666666, \"#ed7953\"], [0.7777777777777778, \"#fb9f3a\"], [0.8888888888888888, \"#fdca26\"], [1.0, \"#f0f921\"]]}, \"colorway\": [\"#636efa\", \"#EF553B\", \"#00cc96\", \"#ab63fa\", \"#FFA15A\", \"#19d3f3\", \"#FF6692\", \"#B6E880\", \"#FF97FF\", \"#FECB52\"], \"font\": {\"color\": \"#2a3f5f\"}, \"geo\": {\"bgcolor\": \"white\", \"lakecolor\": \"white\", \"landcolor\": \"#E5ECF6\", \"showlakes\": true, \"showland\": true, \"subunitcolor\": \"white\"}, \"hoverlabel\": {\"align\": \"left\"}, \"hovermode\": \"closest\", \"mapbox\": {\"style\": \"light\"}, \"paper_bgcolor\": \"white\", \"plot_bgcolor\": \"#E5ECF6\", \"polar\": {\"angularaxis\": {\"gridcolor\": \"white\", \"linecolor\": \"white\", \"ticks\": \"\"}, \"bgcolor\": \"#E5ECF6\", \"radialaxis\": {\"gridcolor\": \"white\", \"linecolor\": \"white\", \"ticks\": \"\"}}, \"scene\": {\"xaxis\": {\"backgroundcolor\": \"#E5ECF6\", \"gridcolor\": \"white\", \"gridwidth\": 2, \"linecolor\": \"white\", \"showbackground\": true, \"ticks\": \"\", \"zerolinecolor\": \"white\"}, \"yaxis\": {\"backgroundcolor\": \"#E5ECF6\", \"gridcolor\": \"white\", \"gridwidth\": 2, \"linecolor\": \"white\", \"showbackground\": true, \"ticks\": \"\", \"zerolinecolor\": \"white\"}, \"zaxis\": {\"backgroundcolor\": \"#E5ECF6\", \"gridcolor\": \"white\", \"gridwidth\": 2, \"linecolor\": \"white\", \"showbackground\": true, \"ticks\": \"\", \"zerolinecolor\": \"white\"}}, \"shapedefaults\": {\"line\": {\"color\": \"#2a3f5f\"}}, \"ternary\": {\"aaxis\": {\"gridcolor\": \"white\", \"linecolor\": \"white\", \"ticks\": \"\"}, \"baxis\": {\"gridcolor\": \"white\", \"linecolor\": \"white\", \"ticks\": \"\"}, \"bgcolor\": \"#E5ECF6\", \"caxis\": {\"gridcolor\": \"white\", \"linecolor\": \"white\", \"ticks\": \"\"}}, \"title\": {\"x\": 0.05}, \"xaxis\": {\"automargin\": true, \"gridcolor\": \"white\", \"linecolor\": \"white\", \"ticks\": \"\", \"zerolinecolor\": \"white\", \"zerolinewidth\": 2}, \"yaxis\": {\"automargin\": true, \"gridcolor\": \"white\", \"linecolor\": \"white\", \"ticks\": \"\", \"zerolinecolor\": \"white\", \"zerolinewidth\": 2}}}},\n",
       "                        {\"responsive\": true}\n",
       "                    ).then(function(){\n",
       "                            \n",
       "var gd = document.getElementById('e9257810-92b7-4af7-a63b-c70596abd961');\n",
       "var x = new MutationObserver(function (mutations, observer) {{\n",
       "        var display = window.getComputedStyle(gd).display;\n",
       "        if (!display || display === 'none') {{\n",
       "            console.log([gd, 'removed!']);\n",
       "            Plotly.purge(gd);\n",
       "            observer.disconnect();\n",
       "        }}\n",
       "}});\n",
       "\n",
       "// Listen for the removal of the full notebook cells\n",
       "var notebookContainer = gd.closest('#notebook-container');\n",
       "if (notebookContainer) {{\n",
       "    x.observe(notebookContainer, {childList: true});\n",
       "}}\n",
       "\n",
       "// Listen for the clearing of the current output cell\n",
       "var outputEl = gd.closest('.output');\n",
       "if (outputEl) {{\n",
       "    x.observe(outputEl, {childList: true});\n",
       "}}\n",
       "\n",
       "                        })\n",
       "                };\n",
       "                });\n",
       "            </script>\n",
       "        </div>"
      ]
     },
     "metadata": {},
     "output_type": "display_data"
    }
   ],
   "source": [
    "trace1 = go.Bar(x = df_novo['STATUS'],\n",
    "                y = df_novo[df_novo['ANO_BO'] == 2018].groupby('BAIRRO').size().sort_values(ascending=False),\n",
    "                name = '2018',\n",
    "                marker = {'color': '#e74c3c'})\n",
    "trace2 = go.Bar(x = df_novo['STATUS'],\n",
    "                y = df_novo[df_novo['ANO_BO'] == 2019].groupby('BAIRRO').size().sort_values(ascending=False),\n",
    "                name = '2019',\n",
    "                marker = {'color': '#e67e22'})\n",
    "\n",
    "df = [trace1, trace2]\n",
    "\n",
    "py.iplot(df)"
   ]
  },
  {
   "cell_type": "markdown",
   "metadata": {},
   "source": [
    "### Sobre as Vítimas"
   ]
  },
  {
   "cell_type": "markdown",
   "metadata": {},
   "source": [
    "#### Idade\n",
    "\n",
    "As idades das vítimas variam de 20 a 40 anos."
   ]
  },
  {
   "cell_type": "code",
   "execution_count": 670,
   "metadata": {},
   "outputs": [
    {
     "data": {
      "image/png": "[encoded data removed]",
      "text/plain": [
       "<Figure size 432x288 with 1 Axes>"
      ]
     },
     "metadata": {
      "needs_background": "light"
     },
     "output_type": "display_data"
    }
   ],
   "source": [
    "df_novo['IDADE'].fillna(df_novo['IDADE'].mean(), inplace=True)\n",
    "\n",
    "hist = plt.hist(df_novo['IDADE'], bins=15, color='#e74c3c')\n",
    "\n",
    "plt.show()"
   ]
  },
  {
   "cell_type": "markdown",
   "metadata": {},
   "source": [
    "#### Estado Civil"
   ]
  },
  {
   "cell_type": "code",
   "execution_count": 686,
   "metadata": {},
   "outputs": [
    {
     "data": {
      "image/png": "[encoded data removed]",
      "text/plain": [
       "<Figure size 1080x360 with 1 Axes>"
      ]
     },
     "metadata": {
      "needs_background": "light"
     },
     "output_type": "display_data"
    }
   ],
   "source": [
    "df_novo['ESTADOCIVIL'].value_counts().plot(kind='bar', figsize=(15,5), color='#e74c3c')\n",
    "\n",
    "plt.show()"
   ]
  },
  {
   "cell_type": "markdown",
   "metadata": {},
   "source": [
    "#### Relacionamento com o Assassino"
   ]
  },
  {
   "cell_type": "code",
   "execution_count": 687,
   "metadata": {},
   "outputs": [
    {
     "data": {
      "image/png": "[encoded data removed]",
      "text/plain": [
       "<Figure size 1080x360 with 1 Axes>"
      ]
     },
     "metadata": {
      "needs_background": "light"
     },
     "output_type": "display_data"
    }
   ],
   "source": [
    "df_novo['RELACIONAMENTO'].value_counts().plot(kind='bar', figsize=(15,5), color='#e74c3c')\n",
    "\n",
    "plt.show()"
   ]
  },
  {
   "cell_type": "markdown",
   "metadata": {},
   "source": [
    "Com base nos dois gráficos anteriores, podemos concluir que as vítimas, em sua maioria, são solteiras e possuem apenas uma união estável com o agressor."
   ]
  },
  {
   "cell_type": "markdown",
   "metadata": {},
   "source": [
    "#### Cor da Pele"
   ]
  },
  {
   "cell_type": "code",
   "execution_count": 683,
   "metadata": {
    "scrolled": true
   },
   "outputs": [
    {
     "data": {
      "image/png": "[encoded data removed]",
      "text/plain": [
       "<Figure size 1080x288 with 1 Axes>"
      ]
     },
     "metadata": {
      "needs_background": "light"
     },
     "output_type": "display_data"
    }
   ],
   "source": [
    "df_novo['CORCUTIS'].value_counts().plot(kind='bar', figsize=(15,4), color='#e74c3c')\n",
    "\n",
    "plt.show()"
   ]
  },
  {
   "cell_type": "markdown",
   "metadata": {},
   "source": [
    "#### Grau de Instrução"
   ]
  },
  {
   "cell_type": "code",
   "execution_count": 689,
   "metadata": {},
   "outputs": [
    {
     "data": {
      "image/png": "[encoded data removed]",
      "text/plain": [
       "<Figure size 1080x360 with 1 Axes>"
      ]
     },
     "metadata": {
      "needs_background": "light"
     },
     "output_type": "display_data"
    }
   ],
   "source": [
    "df_novo['GRAUINSTRUCAO'].value_counts().plot(kind='bar', figsize=(15,5), color='#e74c3c')\n",
    "\n",
    "plt.show()"
   ]
  },
  {
   "cell_type": "markdown",
   "metadata": {},
   "source": [
    "#### Profissão"
   ]
  },
  {
   "cell_type": "code",
   "execution_count": 692,
   "metadata": {},
   "outputs": [
    {
     "data": {
      "image/png": "[encoded data removed]",
      "text/plain": [
       "<Figure size 1440x504 with 1 Axes>"
      ]
     },
     "metadata": {
      "needs_background": "light"
     },
     "output_type": "display_data"
    }
   ],
   "source": [
    "df_novo['PROFISSAO'].value_counts().plot(kind='bar', figsize=(20,7), color='#e74c3c')\n",
    "\n",
    "plt.show()"
   ]
  },
  {
   "cell_type": "markdown",
   "metadata": {},
   "source": [
    "#### Natureza da Morte"
   ]
  },
  {
   "cell_type": "code",
   "execution_count": 694,
   "metadata": {},
   "outputs": [
    {
     "data": {
      "image/png": "[encoded data removed]",
      "text/plain": [
       "<Figure size 1080x288 with 1 Axes>"
      ]
     },
     "metadata": {
      "needs_background": "light"
     },
     "output_type": "display_data"
    }
   ],
   "source": [
    "df_novo['NATUREZAVINCULADA'].value_counts().plot(kind='bar', figsize=(15,4), color='#e74c3c')\n",
    "\n",
    "plt.show()"
   ]
  },
  {
   "cell_type": "markdown",
   "metadata": {},
   "source": [
    "## Relatório"
   ]
  },
  {
   "cell_type": "markdown",
   "metadata": {},
   "source": [
    "Com base na análise exploratória feita, podemos concluir que as taxas de feminicídio de 2019 do estado de São Paulo já passaram da metade das que ocorreram em 2018. A cidade onde ocorre a maioria dos crimes é em Campinas, tendo uma maior incidência nos bairros Parque Valênça (de Campinas), e na Zona Rural. A delegacia mais procurada é a Delegacia do 1° Distrito Policial de Campinas com quase todas as ocorrências contendo o *status* de crime consumado.\n",
    "\n",
    "As vítimas possuem de 20 a 40 anos, solteiras, tendo apenas uma união estável com o assassino. Boa parte delas possuem a cor da pele branca, seguido de cor parda e preta. Quase 30% das vítimas tem apenas o 1ª Grau Completo e cerca de 22% são domésticas e estudantes. \n",
    "\n",
    "O mês de Janeiro é o que possui mais de 16% das ocorrências, sendo a maioria delas feitas no período da manhã, vindo em seguida do período da tarde, da noite e, por último, de madrugada, quase sempre nas próprias residências das vítimas."
   ]
  }
 ],
 "metadata": {
  "kernelspec": {
   "display_name": "Python 3",
   "language": "python",
   "name": "python3"
  },
  "language_info": {
   "codemirror_mode": {
    "name": "ipython",
    "version": 3
   },
   "file_extension": ".py",
   "mimetype": "text/x-python",
   "name": "python",
   "nbconvert_exporter": "python",
   "pygments_lexer": "ipython3",
   "version": "3.7.3"
  }
 },
 "nbformat": 4,
 "nbformat_minor": 2
}
