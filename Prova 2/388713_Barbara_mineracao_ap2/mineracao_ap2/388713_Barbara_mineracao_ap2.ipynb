{
 "cells": [
  {
   "cell_type": "markdown",
   "metadata": {},
   "source": [
    "# Avaliação Parcial 2 de Mineração de Dados\n",
    "\n",
    "* **Aluna:** Bárbara Neves\n",
    "* **Matrícula:** 388713"
   ]
  },
  {
   "cell_type": "markdown",
   "metadata": {},
   "source": [
    "## Imports iniciais"
   ]
  },
  {
   "cell_type": "code",
   "execution_count": 1,
   "metadata": {},
   "outputs": [],
   "source": [
    "import pandas as pd \n",
    "import numpy as np \n",
    "import matplotlib.pyplot as plt"
   ]
  },
  {
   "cell_type": "markdown",
   "metadata": {},
   "source": [
    "## Leitura dos dados"
   ]
  },
  {
   "cell_type": "code",
   "execution_count": 2,
   "metadata": {
    "scrolled": true
   },
   "outputs": [
    {
     "data": {
      "text/html": [
       "<div>\n",
       "<style scoped>\n",
       "    .dataframe tbody tr th:only-of-type {\n",
       "        vertical-align: middle;\n",
       "    }\n",
       "\n",
       "    .dataframe tbody tr th {\n",
       "        vertical-align: top;\n",
       "    }\n",
       "\n",
       "    .dataframe thead th {\n",
       "        text-align: right;\n",
       "    }\n",
       "</style>\n",
       "<table border=\"1\" class=\"dataframe\">\n",
       "  <thead>\n",
       "    <tr style=\"text-align: right;\">\n",
       "      <th></th>\n",
       "      <th>0</th>\n",
       "      <th>1</th>\n",
       "      <th>2</th>\n",
       "      <th>3</th>\n",
       "      <th>4</th>\n",
       "      <th>5</th>\n",
       "      <th>6</th>\n",
       "      <th>7</th>\n",
       "      <th>8</th>\n",
       "      <th>9</th>\n",
       "      <th>...</th>\n",
       "      <th>22</th>\n",
       "      <th>23</th>\n",
       "      <th>24</th>\n",
       "      <th>25</th>\n",
       "      <th>26</th>\n",
       "      <th>27</th>\n",
       "      <th>28</th>\n",
       "      <th>29</th>\n",
       "      <th>30</th>\n",
       "      <th>y</th>\n",
       "    </tr>\n",
       "  </thead>\n",
       "  <tbody>\n",
       "    <tr>\n",
       "      <th>0</th>\n",
       "      <td>17.99</td>\n",
       "      <td>10.38</td>\n",
       "      <td>122.80</td>\n",
       "      <td>1001.0</td>\n",
       "      <td>0.11840</td>\n",
       "      <td>0.27760</td>\n",
       "      <td>0.3001</td>\n",
       "      <td>0.14710</td>\n",
       "      <td>0.2419</td>\n",
       "      <td>0.07871</td>\n",
       "      <td>...</td>\n",
       "      <td>184.60</td>\n",
       "      <td>2019.0</td>\n",
       "      <td>0.1622</td>\n",
       "      <td>0.6656</td>\n",
       "      <td>0.7119</td>\n",
       "      <td>0.2654</td>\n",
       "      <td>0.4601</td>\n",
       "      <td>0.11890</td>\n",
       "      <td>0.0</td>\n",
       "      <td>0</td>\n",
       "    </tr>\n",
       "    <tr>\n",
       "      <th>1</th>\n",
       "      <td>20.57</td>\n",
       "      <td>17.77</td>\n",
       "      <td>132.90</td>\n",
       "      <td>1326.0</td>\n",
       "      <td>0.08474</td>\n",
       "      <td>0.07864</td>\n",
       "      <td>0.0869</td>\n",
       "      <td>0.07017</td>\n",
       "      <td>0.1812</td>\n",
       "      <td>0.05667</td>\n",
       "      <td>...</td>\n",
       "      <td>158.80</td>\n",
       "      <td>1956.0</td>\n",
       "      <td>0.1238</td>\n",
       "      <td>0.1866</td>\n",
       "      <td>0.2416</td>\n",
       "      <td>0.1860</td>\n",
       "      <td>0.2750</td>\n",
       "      <td>0.08902</td>\n",
       "      <td>0.0</td>\n",
       "      <td>0</td>\n",
       "    </tr>\n",
       "    <tr>\n",
       "      <th>2</th>\n",
       "      <td>19.69</td>\n",
       "      <td>21.25</td>\n",
       "      <td>130.00</td>\n",
       "      <td>1203.0</td>\n",
       "      <td>0.10960</td>\n",
       "      <td>0.15990</td>\n",
       "      <td>0.1974</td>\n",
       "      <td>0.12790</td>\n",
       "      <td>0.2069</td>\n",
       "      <td>0.05999</td>\n",
       "      <td>...</td>\n",
       "      <td>152.50</td>\n",
       "      <td>1709.0</td>\n",
       "      <td>0.1444</td>\n",
       "      <td>0.4245</td>\n",
       "      <td>0.4504</td>\n",
       "      <td>0.2430</td>\n",
       "      <td>0.3613</td>\n",
       "      <td>0.08758</td>\n",
       "      <td>0.0</td>\n",
       "      <td>0</td>\n",
       "    </tr>\n",
       "    <tr>\n",
       "      <th>3</th>\n",
       "      <td>11.42</td>\n",
       "      <td>20.38</td>\n",
       "      <td>77.58</td>\n",
       "      <td>386.1</td>\n",
       "      <td>0.14250</td>\n",
       "      <td>0.28390</td>\n",
       "      <td>0.2414</td>\n",
       "      <td>0.10520</td>\n",
       "      <td>0.2597</td>\n",
       "      <td>0.09744</td>\n",
       "      <td>...</td>\n",
       "      <td>98.87</td>\n",
       "      <td>567.7</td>\n",
       "      <td>0.2098</td>\n",
       "      <td>0.8663</td>\n",
       "      <td>0.6869</td>\n",
       "      <td>0.2575</td>\n",
       "      <td>0.6638</td>\n",
       "      <td>0.17300</td>\n",
       "      <td>NaN</td>\n",
       "      <td>0</td>\n",
       "    </tr>\n",
       "    <tr>\n",
       "      <th>4</th>\n",
       "      <td>20.29</td>\n",
       "      <td>14.34</td>\n",
       "      <td>135.10</td>\n",
       "      <td>1297.0</td>\n",
       "      <td>0.10030</td>\n",
       "      <td>0.13280</td>\n",
       "      <td>0.1980</td>\n",
       "      <td>0.10430</td>\n",
       "      <td>0.1809</td>\n",
       "      <td>0.05883</td>\n",
       "      <td>...</td>\n",
       "      <td>152.20</td>\n",
       "      <td>1575.0</td>\n",
       "      <td>0.1374</td>\n",
       "      <td>0.2050</td>\n",
       "      <td>0.4000</td>\n",
       "      <td>0.1625</td>\n",
       "      <td>0.2364</td>\n",
       "      <td>0.07678</td>\n",
       "      <td>0.0</td>\n",
       "      <td>0</td>\n",
       "    </tr>\n",
       "  </tbody>\n",
       "</table>\n",
       "<p>5 rows × 32 columns</p>\n",
       "</div>"
      ],
      "text/plain": [
       "       0      1       2       3        4        5       6        7       8  \\\n",
       "0  17.99  10.38  122.80  1001.0  0.11840  0.27760  0.3001  0.14710  0.2419   \n",
       "1  20.57  17.77  132.90  1326.0  0.08474  0.07864  0.0869  0.07017  0.1812   \n",
       "2  19.69  21.25  130.00  1203.0  0.10960  0.15990  0.1974  0.12790  0.2069   \n",
       "3  11.42  20.38   77.58   386.1  0.14250  0.28390  0.2414  0.10520  0.2597   \n",
       "4  20.29  14.34  135.10  1297.0  0.10030  0.13280  0.1980  0.10430  0.1809   \n",
       "\n",
       "         9  ...      22      23      24      25      26      27      28  \\\n",
       "0  0.07871  ...  184.60  2019.0  0.1622  0.6656  0.7119  0.2654  0.4601   \n",
       "1  0.05667  ...  158.80  1956.0  0.1238  0.1866  0.2416  0.1860  0.2750   \n",
       "2  0.05999  ...  152.50  1709.0  0.1444  0.4245  0.4504  0.2430  0.3613   \n",
       "3  0.09744  ...   98.87   567.7  0.2098  0.8663  0.6869  0.2575  0.6638   \n",
       "4  0.05883  ...  152.20  1575.0  0.1374  0.2050  0.4000  0.1625  0.2364   \n",
       "\n",
       "        29   30  y  \n",
       "0  0.11890  0.0  0  \n",
       "1  0.08902  0.0  0  \n",
       "2  0.08758  0.0  0  \n",
       "3  0.17300  NaN  0  \n",
       "4  0.07678  0.0  0  \n",
       "\n",
       "[5 rows x 32 columns]"
      ]
     },
     "execution_count": 2,
     "metadata": {},
     "output_type": "execute_result"
    }
   ],
   "source": [
    "df = pd.read_csv('breast_cancer_.csv')\n",
    "\n",
    "df.head()"
   ]
  },
  {
   "cell_type": "code",
   "execution_count": 3,
   "metadata": {},
   "outputs": [
    {
     "name": "stdout",
     "output_type": "stream",
     "text": [
      "<class 'pandas.core.frame.DataFrame'>\n",
      "RangeIndex: 569 entries, 0 to 568\n",
      "Data columns (total 32 columns):\n",
      "0     561 non-null float64\n",
      "1     565 non-null float64\n",
      "2     558 non-null float64\n",
      "3     564 non-null float64\n",
      "4     564 non-null float64\n",
      "5     560 non-null float64\n",
      "6     561 non-null float64\n",
      "7     566 non-null float64\n",
      "8     558 non-null float64\n",
      "9     566 non-null float64\n",
      "10    564 non-null float64\n",
      "11    559 non-null float64\n",
      "12    564 non-null float64\n",
      "13    560 non-null float64\n",
      "14    563 non-null float64\n",
      "15    566 non-null float64\n",
      "16    559 non-null float64\n",
      "17    566 non-null float64\n",
      "18    560 non-null float64\n",
      "19    566 non-null float64\n",
      "20    559 non-null float64\n",
      "21    566 non-null float64\n",
      "22    564 non-null float64\n",
      "23    563 non-null float64\n",
      "24    560 non-null float64\n",
      "25    564 non-null float64\n",
      "26    563 non-null float64\n",
      "27    562 non-null float64\n",
      "28    563 non-null float64\n",
      "29    565 non-null float64\n",
      "30    561 non-null float64\n",
      "y     569 non-null int64\n",
      "dtypes: float64(31), int64(1)\n",
      "memory usage: 142.3 KB\n"
     ]
    }
   ],
   "source": [
    "df.info()"
   ]
  },
  {
   "cell_type": "markdown",
   "metadata": {},
   "source": [
    "## Questão 1"
   ]
  },
  {
   "cell_type": "markdown",
   "metadata": {},
   "source": [
    "### Tratando os atributos faltantes\n",
    "\n",
    "Substituindo os atributos faltantes com a média dos valores das colunas."
   ]
  },
  {
   "cell_type": "code",
   "execution_count": 4,
   "metadata": {},
   "outputs": [],
   "source": [
    "df = df.fillna(df.mean())"
   ]
  },
  {
   "cell_type": "code",
   "execution_count": 5,
   "metadata": {
    "scrolled": true
   },
   "outputs": [
    {
     "data": {
      "text/plain": [
       "0     0\n",
       "1     0\n",
       "2     0\n",
       "3     0\n",
       "4     0\n",
       "5     0\n",
       "6     0\n",
       "7     0\n",
       "8     0\n",
       "9     0\n",
       "10    0\n",
       "11    0\n",
       "12    0\n",
       "13    0\n",
       "14    0\n",
       "15    0\n",
       "16    0\n",
       "17    0\n",
       "18    0\n",
       "19    0\n",
       "20    0\n",
       "21    0\n",
       "22    0\n",
       "23    0\n",
       "24    0\n",
       "25    0\n",
       "26    0\n",
       "27    0\n",
       "28    0\n",
       "29    0\n",
       "30    0\n",
       "y     0\n",
       "dtype: int64"
      ]
     },
     "execution_count": 5,
     "metadata": {},
     "output_type": "execute_result"
    }
   ],
   "source": [
    "# Verificando se ainda existem valores faltantes\n",
    "df.isna().sum()"
   ]
  },
  {
   "cell_type": "markdown",
   "metadata": {},
   "source": [
    "### Separando o conjunto de dados e treino"
   ]
  },
  {
   "cell_type": "code",
   "execution_count": 6,
   "metadata": {},
   "outputs": [],
   "source": [
    "X = df.values[:, :-1]\n",
    "y = df['y']"
   ]
  },
  {
   "cell_type": "code",
   "execution_count": 7,
   "metadata": {},
   "outputs": [
    {
     "data": {
      "text/plain": [
       "((569, 31), (569,))"
      ]
     },
     "execution_count": 7,
     "metadata": {},
     "output_type": "execute_result"
    }
   ],
   "source": [
    "X.shape, y.shape"
   ]
  },
  {
   "cell_type": "code",
   "execution_count": 8,
   "metadata": {},
   "outputs": [],
   "source": [
    "from sklearn.model_selection import train_test_split\n",
    "\n",
    "# Separando 80% para treino e 20% para teste\n",
    "X_train, X_test, y_train, y_test = train_test_split(X, y, test_size=0.20, random_state=42)"
   ]
  },
  {
   "cell_type": "code",
   "execution_count": 9,
   "metadata": {},
   "outputs": [
    {
     "data": {
      "text/plain": [
       "((455, 31), (455,))"
      ]
     },
     "execution_count": 9,
     "metadata": {},
     "output_type": "execute_result"
    }
   ],
   "source": [
    "X_train.shape, y_train.shape"
   ]
  },
  {
   "cell_type": "code",
   "execution_count": 10,
   "metadata": {},
   "outputs": [
    {
     "data": {
      "text/plain": [
       "((114, 31), (114,))"
      ]
     },
     "execution_count": 10,
     "metadata": {},
     "output_type": "execute_result"
    }
   ],
   "source": [
    "X_test.shape, y_test.shape"
   ]
  },
  {
   "cell_type": "markdown",
   "metadata": {},
   "source": [
    "### Fazendo os tópicos 3 e 4 da Questão 1 e a padronização dos atributos\n",
    "\n",
    "Optei por usar o GridSearch porque ele consegue computar o cross-validation score durante o fit de um estimador e um parâmetro. Além disso, eu consigo mostrar todos os valores em uma tabela."
   ]
  },
  {
   "cell_type": "markdown",
   "metadata": {},
   "source": [
    "#### Criando os métodos"
   ]
  },
  {
   "cell_type": "code",
   "execution_count": 11,
   "metadata": {},
   "outputs": [],
   "source": [
    "# BaggingClassifier com DecisionTreeClassifier, RandomForestClassifier e GradientBoostingClassifier\n",
    "from sklearn.tree import DecisionTreeClassifier\n",
    "from sklearn.ensemble import BaggingClassifier, RandomForestClassifier, GradientBoostingClassifier"
   ]
  },
  {
   "cell_type": "code",
   "execution_count": 12,
   "metadata": {},
   "outputs": [],
   "source": [
    "bcdt = BaggingClassifier(base_estimator=DecisionTreeClassifier(random_state=42), oob_score=True, n_jobs=-1)\n",
    "rfc = RandomForestClassifier(random_state=42)\n",
    "gbc = GradientBoostingClassifier(random_state=42)"
   ]
  },
  {
   "cell_type": "markdown",
   "metadata": {},
   "source": [
    "#### Criando os pipelines "
   ]
  },
  {
   "cell_type": "code",
   "execution_count": 13,
   "metadata": {},
   "outputs": [],
   "source": [
    "from sklearn.preprocessing import StandardScaler\n",
    "from sklearn.pipeline import Pipeline\n",
    "\n",
    "# BaggingClassifier com DecisionTreeClassifier\n",
    "BCDT = Pipeline([('transformer', StandardScaler()),\n",
    "                 ('estimator', bcdt)])\n",
    "# RandomForestClassifier\n",
    "RFC = Pipeline([('transformer', StandardScaler()),\n",
    "                ('estimator', rfc)])\n",
    "# GradientBoostingClassifier\n",
    "GBC = Pipeline([('transformer', StandardScaler()),\n",
    "                ('estimator', gbc)])"
   ]
  },
  {
   "cell_type": "markdown",
   "metadata": {},
   "source": [
    "#### Criando os dicionários dos hiperparâmetros \n"
   ]
  },
  {
   "cell_type": "code",
   "execution_count": 14,
   "metadata": {},
   "outputs": [],
   "source": [
    "# BaggingClassifier com DecisionTreeClassifier\n",
    "BCDT_param = {'estimator__n_estimators' : [50, 100, 200], 'estimator__base_estimator__max_depth' : [3, 5, 7]}\n",
    "# RandomForestClassifier\n",
    "RFC_param = {'estimator__n_estimators' : [50, 100, 200], 'estimator__max_depth' : [3, 5, 7]}\n",
    "# Estimator learning_rate para o GradientBoosting\n",
    "GBC_param = {'estimator__learning_rate' : [0.1, 0.05, 0.01], 'estimator__n_estimators' : [50, 100, 200], \n",
    "             'estimator__max_depth' : [3, 5, 7]}"
   ]
  },
  {
   "cell_type": "markdown",
   "metadata": {},
   "source": [
    "#### Vetor com as métricas de avaliação"
   ]
  },
  {
   "cell_type": "code",
   "execution_count": 15,
   "metadata": {},
   "outputs": [],
   "source": [
    "from sklearn.metrics import accuracy_score, precision_score, recall_score, scorer\n",
    "\n",
    "metrics = {'accuracy' : scorer.make_scorer(accuracy_score), 'precision' : scorer.make_scorer(precision_score), \n",
    "           'recall' : scorer.make_scorer(recall_score)}"
   ]
  },
  {
   "cell_type": "markdown",
   "metadata": {},
   "source": [
    "#### Gerando o GridsSearch para cada método"
   ]
  },
  {
   "cell_type": "code",
   "execution_count": 16,
   "metadata": {},
   "outputs": [],
   "source": [
    "from sklearn.model_selection import GridSearchCV"
   ]
  },
  {
   "cell_type": "code",
   "execution_count": 17,
   "metadata": {},
   "outputs": [
    {
     "data": {
      "text/plain": [
       "GridSearchCV(cv=3, error_score='raise-deprecating',\n",
       "             estimator=Pipeline(memory=None,\n",
       "                                steps=[('transformer',\n",
       "                                        StandardScaler(copy=True,\n",
       "                                                       with_mean=True,\n",
       "                                                       with_std=True)),\n",
       "                                       ('estimator',\n",
       "                                        GradientBoostingClassifier(criterion='friedman_mse',\n",
       "                                                                   init=None,\n",
       "                                                                   learning_rate=0.1,\n",
       "                                                                   loss='deviance',\n",
       "                                                                   max_depth=3,\n",
       "                                                                   max_features=None,\n",
       "                                                                   max_leaf_nodes=None,\n",
       "                                                                   min_impurity_decrease=0.0,\n",
       "                                                                   min_im...\n",
       "                                verbose=False),\n",
       "             iid=True, n_jobs=None,\n",
       "             param_grid={'estimator__learning_rate': [0.1, 0.05, 0.01],\n",
       "                         'estimator__max_depth': [3, 5, 7],\n",
       "                         'estimator__n_estimators': [50, 100, 200]},\n",
       "             pre_dispatch='2*n_jobs', refit=False, return_train_score=False,\n",
       "             scoring={'accuracy': make_scorer(accuracy_score),\n",
       "                      'precision': make_scorer(precision_score),\n",
       "                      'recall': make_scorer(recall_score)},\n",
       "             verbose=0)"
      ]
     },
     "execution_count": 17,
     "metadata": {},
     "output_type": "execute_result"
    }
   ],
   "source": [
    "# BaggingClassifier com DecisionTreeClassifier\n",
    "BCDT = GridSearchCV(BCDT, param_grid=BCDT_param, scoring=metrics, cv=3, iid=True, \n",
    "                    return_train_score=False, refit=False)\n",
    "BCDT.fit(X_train, y_train)\n",
    "\n",
    "# RandomForestClassifier\n",
    "RFC = GridSearchCV(estimator=RFC, param_grid=RFC_param, scoring=metrics, cv=3, iid=True, \n",
    "                   return_train_score=False, refit=False)\n",
    "RFC.fit(X_train, y_train)\n",
    "\n",
    "# GradientBoostingClassifier\n",
    "GBC = GridSearchCV(estimator=GBC, param_grid=GBC_param, scoring=metrics, cv=3, iid=True, \n",
    "                   return_train_score=False, refit=False)\n",
    "GBC.fit(X_train, y_train)"
   ]
  },
  {
   "cell_type": "markdown",
   "metadata": {},
   "source": [
    "### Avaliando os métodos Ensemble"
   ]
  },
  {
   "cell_type": "markdown",
   "metadata": {},
   "source": [
    "#### BaggingClassifier com DecisionTreeClassifier"
   ]
  },
  {
   "cell_type": "code",
   "execution_count": 18,
   "metadata": {
    "scrolled": false
   },
   "outputs": [
    {
     "data": {
      "text/html": [
       "<div>\n",
       "<style scoped>\n",
       "    .dataframe tbody tr th:only-of-type {\n",
       "        vertical-align: middle;\n",
       "    }\n",
       "\n",
       "    .dataframe tbody tr th {\n",
       "        vertical-align: top;\n",
       "    }\n",
       "\n",
       "    .dataframe thead th {\n",
       "        text-align: right;\n",
       "    }\n",
       "</style>\n",
       "<table border=\"1\" class=\"dataframe\">\n",
       "  <thead>\n",
       "    <tr style=\"text-align: right;\">\n",
       "      <th></th>\n",
       "      <th>mean_test_accuracy</th>\n",
       "      <th>mean_test_precision</th>\n",
       "      <th>mean_test_recall</th>\n",
       "      <th>param_estimator__n_estimators</th>\n",
       "      <th>param_estimator__base_estimator__max_depth</th>\n",
       "    </tr>\n",
       "  </thead>\n",
       "  <tbody>\n",
       "    <tr>\n",
       "      <th>0</th>\n",
       "      <td>0.995604</td>\n",
       "      <td>0.993076</td>\n",
       "      <td>1.0</td>\n",
       "      <td>50</td>\n",
       "      <td>3</td>\n",
       "    </tr>\n",
       "    <tr>\n",
       "      <th>1</th>\n",
       "      <td>0.995604</td>\n",
       "      <td>0.993076</td>\n",
       "      <td>1.0</td>\n",
       "      <td>100</td>\n",
       "      <td>3</td>\n",
       "    </tr>\n",
       "    <tr>\n",
       "      <th>2</th>\n",
       "      <td>0.995604</td>\n",
       "      <td>0.993076</td>\n",
       "      <td>1.0</td>\n",
       "      <td>200</td>\n",
       "      <td>3</td>\n",
       "    </tr>\n",
       "    <tr>\n",
       "      <th>3</th>\n",
       "      <td>0.995604</td>\n",
       "      <td>0.993076</td>\n",
       "      <td>1.0</td>\n",
       "      <td>50</td>\n",
       "      <td>5</td>\n",
       "    </tr>\n",
       "    <tr>\n",
       "      <th>4</th>\n",
       "      <td>0.995604</td>\n",
       "      <td>0.993076</td>\n",
       "      <td>1.0</td>\n",
       "      <td>100</td>\n",
       "      <td>5</td>\n",
       "    </tr>\n",
       "    <tr>\n",
       "      <th>5</th>\n",
       "      <td>0.995604</td>\n",
       "      <td>0.993076</td>\n",
       "      <td>1.0</td>\n",
       "      <td>200</td>\n",
       "      <td>5</td>\n",
       "    </tr>\n",
       "    <tr>\n",
       "      <th>6</th>\n",
       "      <td>0.995604</td>\n",
       "      <td>0.993076</td>\n",
       "      <td>1.0</td>\n",
       "      <td>50</td>\n",
       "      <td>7</td>\n",
       "    </tr>\n",
       "    <tr>\n",
       "      <th>7</th>\n",
       "      <td>0.995604</td>\n",
       "      <td>0.993076</td>\n",
       "      <td>1.0</td>\n",
       "      <td>100</td>\n",
       "      <td>7</td>\n",
       "    </tr>\n",
       "    <tr>\n",
       "      <th>8</th>\n",
       "      <td>0.995604</td>\n",
       "      <td>0.993076</td>\n",
       "      <td>1.0</td>\n",
       "      <td>200</td>\n",
       "      <td>7</td>\n",
       "    </tr>\n",
       "  </tbody>\n",
       "</table>\n",
       "</div>"
      ],
      "text/plain": [
       "   mean_test_accuracy  mean_test_precision  mean_test_recall  \\\n",
       "0            0.995604             0.993076               1.0   \n",
       "1            0.995604             0.993076               1.0   \n",
       "2            0.995604             0.993076               1.0   \n",
       "3            0.995604             0.993076               1.0   \n",
       "4            0.995604             0.993076               1.0   \n",
       "5            0.995604             0.993076               1.0   \n",
       "6            0.995604             0.993076               1.0   \n",
       "7            0.995604             0.993076               1.0   \n",
       "8            0.995604             0.993076               1.0   \n",
       "\n",
       "  param_estimator__n_estimators param_estimator__base_estimator__max_depth  \n",
       "0                            50                                          3  \n",
       "1                           100                                          3  \n",
       "2                           200                                          3  \n",
       "3                            50                                          5  \n",
       "4                           100                                          5  \n",
       "5                           200                                          5  \n",
       "6                            50                                          7  \n",
       "7                           100                                          7  \n",
       "8                           200                                          7  "
      ]
     },
     "execution_count": 18,
     "metadata": {},
     "output_type": "execute_result"
    }
   ],
   "source": [
    "df_BCDT = pd.DataFrame(BCDT.cv_results_)\n",
    "\n",
    "features_BCDT = ['mean_test_accuracy', 'mean_test_precision', 'mean_test_recall', 'param_estimator__n_estimators', \n",
    "                 'param_estimator__base_estimator__max_depth']\n",
    "\n",
    "df_BCDT[features_BCDT]"
   ]
  },
  {
   "cell_type": "code",
   "execution_count": 19,
   "metadata": {},
   "outputs": [
    {
     "data": {
      "text/plain": [
       "0    0.995604\n",
       "1    0.995604\n",
       "2    0.995604\n",
       "3    0.995604\n",
       "4    0.995604\n",
       "Name: mean_test_accuracy, dtype: float64"
      ]
     },
     "execution_count": 19,
     "metadata": {},
     "output_type": "execute_result"
    }
   ],
   "source": [
    "# Observando os 5 maiores valores para a acurácia\n",
    "df_BCDT_new = df_BCDT.loc[df_BCDT['mean_test_accuracy'] > 0.99].nlargest(5, 'mean_test_accuracy')\n",
    "df_BCDT_new['mean_test_accuracy']"
   ]
  },
  {
   "cell_type": "markdown",
   "metadata": {},
   "source": [
    "Para o **BaggingClassifier com DecisionTreeClassifier** todos os valores para a acurácia foram os mesmos, e quase todos os valores para as métricas precision e recall também foram bastante parecidos. "
   ]
  },
  {
   "cell_type": "markdown",
   "metadata": {},
   "source": [
    "#### RandomForestClassifier"
   ]
  },
  {
   "cell_type": "code",
   "execution_count": 20,
   "metadata": {
    "scrolled": false
   },
   "outputs": [
    {
     "data": {
      "text/html": [
       "<div>\n",
       "<style scoped>\n",
       "    .dataframe tbody tr th:only-of-type {\n",
       "        vertical-align: middle;\n",
       "    }\n",
       "\n",
       "    .dataframe tbody tr th {\n",
       "        vertical-align: top;\n",
       "    }\n",
       "\n",
       "    .dataframe thead th {\n",
       "        text-align: right;\n",
       "    }\n",
       "</style>\n",
       "<table border=\"1\" class=\"dataframe\">\n",
       "  <thead>\n",
       "    <tr style=\"text-align: right;\">\n",
       "      <th></th>\n",
       "      <th>mean_test_accuracy</th>\n",
       "      <th>mean_test_precision</th>\n",
       "      <th>mean_test_recall</th>\n",
       "      <th>param_estimator__n_estimators</th>\n",
       "      <th>param_estimator__max_depth</th>\n",
       "    </tr>\n",
       "  </thead>\n",
       "  <tbody>\n",
       "    <tr>\n",
       "      <th>0</th>\n",
       "      <td>0.984615</td>\n",
       "      <td>0.976215</td>\n",
       "      <td>1.000000</td>\n",
       "      <td>50</td>\n",
       "      <td>3</td>\n",
       "    </tr>\n",
       "    <tr>\n",
       "      <th>1</th>\n",
       "      <td>0.982418</td>\n",
       "      <td>0.976110</td>\n",
       "      <td>0.996507</td>\n",
       "      <td>100</td>\n",
       "      <td>3</td>\n",
       "    </tr>\n",
       "    <tr>\n",
       "      <th>2</th>\n",
       "      <td>0.978022</td>\n",
       "      <td>0.972607</td>\n",
       "      <td>0.993013</td>\n",
       "      <td>200</td>\n",
       "      <td>3</td>\n",
       "    </tr>\n",
       "    <tr>\n",
       "      <th>3</th>\n",
       "      <td>0.995604</td>\n",
       "      <td>0.993076</td>\n",
       "      <td>1.000000</td>\n",
       "      <td>50</td>\n",
       "      <td>5</td>\n",
       "    </tr>\n",
       "    <tr>\n",
       "      <th>4</th>\n",
       "      <td>0.993407</td>\n",
       "      <td>0.989691</td>\n",
       "      <td>1.000000</td>\n",
       "      <td>100</td>\n",
       "      <td>5</td>\n",
       "    </tr>\n",
       "    <tr>\n",
       "      <th>5</th>\n",
       "      <td>0.993407</td>\n",
       "      <td>0.989691</td>\n",
       "      <td>1.000000</td>\n",
       "      <td>200</td>\n",
       "      <td>5</td>\n",
       "    </tr>\n",
       "    <tr>\n",
       "      <th>6</th>\n",
       "      <td>0.995604</td>\n",
       "      <td>0.993076</td>\n",
       "      <td>1.000000</td>\n",
       "      <td>50</td>\n",
       "      <td>7</td>\n",
       "    </tr>\n",
       "    <tr>\n",
       "      <th>7</th>\n",
       "      <td>0.995604</td>\n",
       "      <td>0.993076</td>\n",
       "      <td>1.000000</td>\n",
       "      <td>100</td>\n",
       "      <td>7</td>\n",
       "    </tr>\n",
       "    <tr>\n",
       "      <th>8</th>\n",
       "      <td>0.993407</td>\n",
       "      <td>0.989691</td>\n",
       "      <td>1.000000</td>\n",
       "      <td>200</td>\n",
       "      <td>7</td>\n",
       "    </tr>\n",
       "  </tbody>\n",
       "</table>\n",
       "</div>"
      ],
      "text/plain": [
       "   mean_test_accuracy  mean_test_precision  mean_test_recall  \\\n",
       "0            0.984615             0.976215          1.000000   \n",
       "1            0.982418             0.976110          0.996507   \n",
       "2            0.978022             0.972607          0.993013   \n",
       "3            0.995604             0.993076          1.000000   \n",
       "4            0.993407             0.989691          1.000000   \n",
       "5            0.993407             0.989691          1.000000   \n",
       "6            0.995604             0.993076          1.000000   \n",
       "7            0.995604             0.993076          1.000000   \n",
       "8            0.993407             0.989691          1.000000   \n",
       "\n",
       "  param_estimator__n_estimators param_estimator__max_depth  \n",
       "0                            50                          3  \n",
       "1                           100                          3  \n",
       "2                           200                          3  \n",
       "3                            50                          5  \n",
       "4                           100                          5  \n",
       "5                           200                          5  \n",
       "6                            50                          7  \n",
       "7                           100                          7  \n",
       "8                           200                          7  "
      ]
     },
     "execution_count": 20,
     "metadata": {},
     "output_type": "execute_result"
    }
   ],
   "source": [
    "df_RFC = pd.DataFrame(RFC.cv_results_)\n",
    "\n",
    "features_RFC = ['mean_test_accuracy', 'mean_test_precision', 'mean_test_recall', 'param_estimator__n_estimators', \n",
    "                'param_estimator__max_depth']\n",
    "\n",
    "df_RFC[features_RFC]"
   ]
  },
  {
   "cell_type": "code",
   "execution_count": 21,
   "metadata": {},
   "outputs": [
    {
     "data": {
      "text/plain": [
       "3    0.995604\n",
       "6    0.995604\n",
       "7    0.995604\n",
       "4    0.993407\n",
       "5    0.993407\n",
       "Name: mean_test_accuracy, dtype: float64"
      ]
     },
     "execution_count": 21,
     "metadata": {},
     "output_type": "execute_result"
    }
   ],
   "source": [
    "# Observando os 5 maiores valores para a acurácia\n",
    "df_RFC_new = df_RFC.loc[df_RFC['mean_test_accuracy'] > 0.99].nlargest(5, 'mean_test_accuracy')\n",
    "df_RFC_new['mean_test_accuracy']"
   ]
  },
  {
   "cell_type": "markdown",
   "metadata": {},
   "source": [
    "Para o **RandomForestClassifier**, os melhores resultados obtidos estão nas linhas 6 e 7."
   ]
  },
  {
   "cell_type": "markdown",
   "metadata": {},
   "source": [
    "#### GradientBoostingClassifier\n"
   ]
  },
  {
   "cell_type": "code",
   "execution_count": 22,
   "metadata": {
    "scrolled": true
   },
   "outputs": [
    {
     "data": {
      "text/html": [
       "<div>\n",
       "<style scoped>\n",
       "    .dataframe tbody tr th:only-of-type {\n",
       "        vertical-align: middle;\n",
       "    }\n",
       "\n",
       "    .dataframe tbody tr th {\n",
       "        vertical-align: top;\n",
       "    }\n",
       "\n",
       "    .dataframe thead th {\n",
       "        text-align: right;\n",
       "    }\n",
       "</style>\n",
       "<table border=\"1\" class=\"dataframe\">\n",
       "  <thead>\n",
       "    <tr style=\"text-align: right;\">\n",
       "      <th></th>\n",
       "      <th>mean_test_accuracy</th>\n",
       "      <th>mean_test_precision</th>\n",
       "      <th>mean_test_recall</th>\n",
       "      <th>param_estimator__learning_rate</th>\n",
       "      <th>param_estimator__n_estimators</th>\n",
       "      <th>param_estimator__max_depth</th>\n",
       "    </tr>\n",
       "  </thead>\n",
       "  <tbody>\n",
       "    <tr>\n",
       "      <th>0</th>\n",
       "      <td>0.993407</td>\n",
       "      <td>0.993040</td>\n",
       "      <td>0.996497</td>\n",
       "      <td>0.1</td>\n",
       "      <td>50</td>\n",
       "      <td>3</td>\n",
       "    </tr>\n",
       "    <tr>\n",
       "      <th>1</th>\n",
       "      <td>0.993407</td>\n",
       "      <td>0.993040</td>\n",
       "      <td>0.996497</td>\n",
       "      <td>0.1</td>\n",
       "      <td>100</td>\n",
       "      <td>3</td>\n",
       "    </tr>\n",
       "    <tr>\n",
       "      <th>2</th>\n",
       "      <td>0.993407</td>\n",
       "      <td>0.993040</td>\n",
       "      <td>0.996497</td>\n",
       "      <td>0.1</td>\n",
       "      <td>200</td>\n",
       "      <td>3</td>\n",
       "    </tr>\n",
       "    <tr>\n",
       "      <th>3</th>\n",
       "      <td>0.991209</td>\n",
       "      <td>0.989583</td>\n",
       "      <td>0.996497</td>\n",
       "      <td>0.1</td>\n",
       "      <td>50</td>\n",
       "      <td>5</td>\n",
       "    </tr>\n",
       "    <tr>\n",
       "      <th>4</th>\n",
       "      <td>0.991209</td>\n",
       "      <td>0.989583</td>\n",
       "      <td>0.996497</td>\n",
       "      <td>0.1</td>\n",
       "      <td>100</td>\n",
       "      <td>5</td>\n",
       "    </tr>\n",
       "    <tr>\n",
       "      <th>5</th>\n",
       "      <td>0.991209</td>\n",
       "      <td>0.989583</td>\n",
       "      <td>0.996497</td>\n",
       "      <td>0.1</td>\n",
       "      <td>200</td>\n",
       "      <td>5</td>\n",
       "    </tr>\n",
       "    <tr>\n",
       "      <th>6</th>\n",
       "      <td>0.991209</td>\n",
       "      <td>0.989583</td>\n",
       "      <td>0.996497</td>\n",
       "      <td>0.1</td>\n",
       "      <td>50</td>\n",
       "      <td>7</td>\n",
       "    </tr>\n",
       "    <tr>\n",
       "      <th>7</th>\n",
       "      <td>0.991209</td>\n",
       "      <td>0.989583</td>\n",
       "      <td>0.996497</td>\n",
       "      <td>0.1</td>\n",
       "      <td>100</td>\n",
       "      <td>7</td>\n",
       "    </tr>\n",
       "    <tr>\n",
       "      <th>8</th>\n",
       "      <td>0.991209</td>\n",
       "      <td>0.989583</td>\n",
       "      <td>0.996497</td>\n",
       "      <td>0.1</td>\n",
       "      <td>200</td>\n",
       "      <td>7</td>\n",
       "    </tr>\n",
       "    <tr>\n",
       "      <th>9</th>\n",
       "      <td>0.993407</td>\n",
       "      <td>0.993040</td>\n",
       "      <td>0.996497</td>\n",
       "      <td>0.05</td>\n",
       "      <td>50</td>\n",
       "      <td>3</td>\n",
       "    </tr>\n",
       "    <tr>\n",
       "      <th>10</th>\n",
       "      <td>0.993407</td>\n",
       "      <td>0.993040</td>\n",
       "      <td>0.996497</td>\n",
       "      <td>0.05</td>\n",
       "      <td>100</td>\n",
       "      <td>3</td>\n",
       "    </tr>\n",
       "    <tr>\n",
       "      <th>11</th>\n",
       "      <td>0.993407</td>\n",
       "      <td>0.993040</td>\n",
       "      <td>0.996497</td>\n",
       "      <td>0.05</td>\n",
       "      <td>200</td>\n",
       "      <td>3</td>\n",
       "    </tr>\n",
       "    <tr>\n",
       "      <th>12</th>\n",
       "      <td>0.991209</td>\n",
       "      <td>0.989583</td>\n",
       "      <td>0.996497</td>\n",
       "      <td>0.05</td>\n",
       "      <td>50</td>\n",
       "      <td>5</td>\n",
       "    </tr>\n",
       "    <tr>\n",
       "      <th>13</th>\n",
       "      <td>0.991209</td>\n",
       "      <td>0.989583</td>\n",
       "      <td>0.996497</td>\n",
       "      <td>0.05</td>\n",
       "      <td>100</td>\n",
       "      <td>5</td>\n",
       "    </tr>\n",
       "    <tr>\n",
       "      <th>14</th>\n",
       "      <td>0.991209</td>\n",
       "      <td>0.989583</td>\n",
       "      <td>0.996497</td>\n",
       "      <td>0.05</td>\n",
       "      <td>200</td>\n",
       "      <td>5</td>\n",
       "    </tr>\n",
       "    <tr>\n",
       "      <th>15</th>\n",
       "      <td>0.991209</td>\n",
       "      <td>0.989583</td>\n",
       "      <td>0.996497</td>\n",
       "      <td>0.05</td>\n",
       "      <td>50</td>\n",
       "      <td>7</td>\n",
       "    </tr>\n",
       "    <tr>\n",
       "      <th>16</th>\n",
       "      <td>0.991209</td>\n",
       "      <td>0.989583</td>\n",
       "      <td>0.996497</td>\n",
       "      <td>0.05</td>\n",
       "      <td>100</td>\n",
       "      <td>7</td>\n",
       "    </tr>\n",
       "    <tr>\n",
       "      <th>17</th>\n",
       "      <td>0.991209</td>\n",
       "      <td>0.989583</td>\n",
       "      <td>0.996497</td>\n",
       "      <td>0.05</td>\n",
       "      <td>200</td>\n",
       "      <td>7</td>\n",
       "    </tr>\n",
       "    <tr>\n",
       "      <th>18</th>\n",
       "      <td>0.991209</td>\n",
       "      <td>0.989583</td>\n",
       "      <td>0.996497</td>\n",
       "      <td>0.01</td>\n",
       "      <td>50</td>\n",
       "      <td>3</td>\n",
       "    </tr>\n",
       "    <tr>\n",
       "      <th>19</th>\n",
       "      <td>0.991209</td>\n",
       "      <td>0.989583</td>\n",
       "      <td>0.996497</td>\n",
       "      <td>0.01</td>\n",
       "      <td>100</td>\n",
       "      <td>3</td>\n",
       "    </tr>\n",
       "    <tr>\n",
       "      <th>20</th>\n",
       "      <td>0.993407</td>\n",
       "      <td>0.993040</td>\n",
       "      <td>0.996497</td>\n",
       "      <td>0.01</td>\n",
       "      <td>200</td>\n",
       "      <td>3</td>\n",
       "    </tr>\n",
       "    <tr>\n",
       "      <th>21</th>\n",
       "      <td>0.991209</td>\n",
       "      <td>0.989583</td>\n",
       "      <td>0.996497</td>\n",
       "      <td>0.01</td>\n",
       "      <td>50</td>\n",
       "      <td>5</td>\n",
       "    </tr>\n",
       "    <tr>\n",
       "      <th>22</th>\n",
       "      <td>0.991209</td>\n",
       "      <td>0.989583</td>\n",
       "      <td>0.996497</td>\n",
       "      <td>0.01</td>\n",
       "      <td>100</td>\n",
       "      <td>5</td>\n",
       "    </tr>\n",
       "    <tr>\n",
       "      <th>23</th>\n",
       "      <td>0.991209</td>\n",
       "      <td>0.989583</td>\n",
       "      <td>0.996497</td>\n",
       "      <td>0.01</td>\n",
       "      <td>200</td>\n",
       "      <td>5</td>\n",
       "    </tr>\n",
       "    <tr>\n",
       "      <th>24</th>\n",
       "      <td>0.991209</td>\n",
       "      <td>0.989583</td>\n",
       "      <td>0.996497</td>\n",
       "      <td>0.01</td>\n",
       "      <td>50</td>\n",
       "      <td>7</td>\n",
       "    </tr>\n",
       "    <tr>\n",
       "      <th>25</th>\n",
       "      <td>0.991209</td>\n",
       "      <td>0.989583</td>\n",
       "      <td>0.996497</td>\n",
       "      <td>0.01</td>\n",
       "      <td>100</td>\n",
       "      <td>7</td>\n",
       "    </tr>\n",
       "    <tr>\n",
       "      <th>26</th>\n",
       "      <td>0.991209</td>\n",
       "      <td>0.989583</td>\n",
       "      <td>0.996497</td>\n",
       "      <td>0.01</td>\n",
       "      <td>200</td>\n",
       "      <td>7</td>\n",
       "    </tr>\n",
       "  </tbody>\n",
       "</table>\n",
       "</div>"
      ],
      "text/plain": [
       "    mean_test_accuracy  mean_test_precision  mean_test_recall  \\\n",
       "0             0.993407             0.993040          0.996497   \n",
       "1             0.993407             0.993040          0.996497   \n",
       "2             0.993407             0.993040          0.996497   \n",
       "3             0.991209             0.989583          0.996497   \n",
       "4             0.991209             0.989583          0.996497   \n",
       "5             0.991209             0.989583          0.996497   \n",
       "6             0.991209             0.989583          0.996497   \n",
       "7             0.991209             0.989583          0.996497   \n",
       "8             0.991209             0.989583          0.996497   \n",
       "9             0.993407             0.993040          0.996497   \n",
       "10            0.993407             0.993040          0.996497   \n",
       "11            0.993407             0.993040          0.996497   \n",
       "12            0.991209             0.989583          0.996497   \n",
       "13            0.991209             0.989583          0.996497   \n",
       "14            0.991209             0.989583          0.996497   \n",
       "15            0.991209             0.989583          0.996497   \n",
       "16            0.991209             0.989583          0.996497   \n",
       "17            0.991209             0.989583          0.996497   \n",
       "18            0.991209             0.989583          0.996497   \n",
       "19            0.991209             0.989583          0.996497   \n",
       "20            0.993407             0.993040          0.996497   \n",
       "21            0.991209             0.989583          0.996497   \n",
       "22            0.991209             0.989583          0.996497   \n",
       "23            0.991209             0.989583          0.996497   \n",
       "24            0.991209             0.989583          0.996497   \n",
       "25            0.991209             0.989583          0.996497   \n",
       "26            0.991209             0.989583          0.996497   \n",
       "\n",
       "   param_estimator__learning_rate param_estimator__n_estimators  \\\n",
       "0                             0.1                            50   \n",
       "1                             0.1                           100   \n",
       "2                             0.1                           200   \n",
       "3                             0.1                            50   \n",
       "4                             0.1                           100   \n",
       "5                             0.1                           200   \n",
       "6                             0.1                            50   \n",
       "7                             0.1                           100   \n",
       "8                             0.1                           200   \n",
       "9                            0.05                            50   \n",
       "10                           0.05                           100   \n",
       "11                           0.05                           200   \n",
       "12                           0.05                            50   \n",
       "13                           0.05                           100   \n",
       "14                           0.05                           200   \n",
       "15                           0.05                            50   \n",
       "16                           0.05                           100   \n",
       "17                           0.05                           200   \n",
       "18                           0.01                            50   \n",
       "19                           0.01                           100   \n",
       "20                           0.01                           200   \n",
       "21                           0.01                            50   \n",
       "22                           0.01                           100   \n",
       "23                           0.01                           200   \n",
       "24                           0.01                            50   \n",
       "25                           0.01                           100   \n",
       "26                           0.01                           200   \n",
       "\n",
       "   param_estimator__max_depth  \n",
       "0                           3  \n",
       "1                           3  \n",
       "2                           3  \n",
       "3                           5  \n",
       "4                           5  \n",
       "5                           5  \n",
       "6                           7  \n",
       "7                           7  \n",
       "8                           7  \n",
       "9                           3  \n",
       "10                          3  \n",
       "11                          3  \n",
       "12                          5  \n",
       "13                          5  \n",
       "14                          5  \n",
       "15                          7  \n",
       "16                          7  \n",
       "17                          7  \n",
       "18                          3  \n",
       "19                          3  \n",
       "20                          3  \n",
       "21                          5  \n",
       "22                          5  \n",
       "23                          5  \n",
       "24                          7  \n",
       "25                          7  \n",
       "26                          7  "
      ]
     },
     "execution_count": 22,
     "metadata": {},
     "output_type": "execute_result"
    }
   ],
   "source": [
    "df_GBC = pd.DataFrame(GBC.cv_results_)\n",
    "\n",
    "features_GBC = ['mean_test_accuracy', 'mean_test_precision', 'mean_test_recall', \n",
    "                'param_estimator__learning_rate', 'param_estimator__n_estimators', 'param_estimator__max_depth']\n",
    "\n",
    "df_GBC[features_GBC]"
   ]
  },
  {
   "cell_type": "code",
   "execution_count": 23,
   "metadata": {
    "scrolled": true
   },
   "outputs": [
    {
     "data": {
      "text/plain": [
       "0     0.993407\n",
       "1     0.993407\n",
       "2     0.993407\n",
       "9     0.993407\n",
       "10    0.993407\n",
       "Name: mean_test_accuracy, dtype: float64"
      ]
     },
     "execution_count": 23,
     "metadata": {},
     "output_type": "execute_result"
    }
   ],
   "source": [
    "# Observando os 5 maiores valores para a acurácia\n",
    "df_GBC_new = df_GBC.loc[df_GBC['mean_test_accuracy'] > 0.99].nlargest(5, 'mean_test_accuracy')\n",
    "df_GBC_new['mean_test_accuracy']"
   ]
  },
  {
   "cell_type": "markdown",
   "metadata": {},
   "source": [
    "### Treinando o conjunto de treino e teste com o melhor método"
   ]
  },
  {
   "cell_type": "markdown",
   "metadata": {},
   "source": [
    "#### Padronizando os resultados"
   ]
  },
  {
   "cell_type": "code",
   "execution_count": 24,
   "metadata": {},
   "outputs": [],
   "source": [
    "sc = StandardScaler().fit(X_train)"
   ]
  },
  {
   "cell_type": "code",
   "execution_count": 25,
   "metadata": {
    "scrolled": true
   },
   "outputs": [
    {
     "data": {
      "image/png": "[encoded data removed]",
      "text/plain": [
       "<Figure size 432x288 with 1 Axes>"
      ]
     },
     "metadata": {
      "needs_background": "light"
     },
     "output_type": "display_data"
    }
   ],
   "source": [
    "plt.plot(X_train);"
   ]
  },
  {
   "cell_type": "code",
   "execution_count": 26,
   "metadata": {},
   "outputs": [
    {
     "data": {
      "image/png": "[encoded data removed]",
      "text/plain": [
       "<Figure size 432x288 with 1 Axes>"
      ]
     },
     "metadata": {
      "needs_background": "light"
     },
     "output_type": "display_data"
    }
   ],
   "source": [
    "plt.plot(X_test);"
   ]
  },
  {
   "cell_type": "code",
   "execution_count": 27,
   "metadata": {},
   "outputs": [],
   "source": [
    "X_train_scaler = sc.transform(X_train)\n",
    "X_test_scaler = sc.transform(X_test)"
   ]
  },
  {
   "cell_type": "code",
   "execution_count": 28,
   "metadata": {},
   "outputs": [
    {
     "data": {
      "image/png": "[encoded data removed]",
      "text/plain": [
       "<Figure size 432x288 with 1 Axes>"
      ]
     },
     "metadata": {
      "needs_background": "light"
     },
     "output_type": "display_data"
    }
   ],
   "source": [
    "plt.plot(X_train_scaler);"
   ]
  },
  {
   "cell_type": "code",
   "execution_count": 29,
   "metadata": {},
   "outputs": [
    {
     "data": {
      "image/png": "[encoded data removed]",
      "text/plain": [
       "<Figure size 432x288 with 1 Axes>"
      ]
     },
     "metadata": {
      "needs_background": "light"
     },
     "output_type": "display_data"
    }
   ],
   "source": [
    "plt.plot(X_test_scaler);"
   ]
  },
  {
   "cell_type": "markdown",
   "metadata": {},
   "source": [
    "#### Treinando o modelo \n",
    "\n",
    "O melhor modelo, seguindo a análise feita anteriormente, apesar de todos os modelos possuírem bons resultados, o que apresenta melhores valores para a acurácia, foi o BaggingClassifier com DecisionTreeClassifier."
   ]
  },
  {
   "cell_type": "code",
   "execution_count": 30,
   "metadata": {},
   "outputs": [
    {
     "name": "stderr",
     "output_type": "stream",
     "text": [
      "/home/lorien/anaconda3/lib/python3.7/site-packages/sklearn/ensemble/bagging.py:611: UserWarning: Some inputs do not have OOB scores. This probably means too few estimators were used to compute any reliable oob estimates.\n",
      "  warn(\"Some inputs do not have OOB scores. \"\n",
      "/home/lorien/anaconda3/lib/python3.7/site-packages/sklearn/ensemble/bagging.py:616: RuntimeWarning: invalid value encountered in true_divide\n",
      "  predictions.sum(axis=1)[:, np.newaxis])\n"
     ]
    }
   ],
   "source": [
    "bcdt.fit(X_train_scaler, y_train)\n",
    "y_pred = bcdt.predict(X_test_scaler)"
   ]
  },
  {
   "cell_type": "code",
   "execution_count": 31,
   "metadata": {},
   "outputs": [
    {
     "data": {
      "text/plain": [
       "(1.0, 1.0, 1.0)"
      ]
     },
     "execution_count": 31,
     "metadata": {},
     "output_type": "execute_result"
    }
   ],
   "source": [
    "# Avaliação pelas métricas\n",
    "accuracy_score(y_test, y_pred), precision_score(y_test, y_pred), recall_score(y_test, y_pred)"
   ]
  },
  {
   "cell_type": "markdown",
   "metadata": {},
   "source": [
    "## Questão 2"
   ]
  },
  {
   "cell_type": "code",
   "execution_count": 32,
   "metadata": {},
   "outputs": [],
   "source": [
    "from tensorflow.keras.models import Sequential\n",
    "from tensorflow.keras.layers import Dense"
   ]
  },
  {
   "cell_type": "code",
   "execution_count": 33,
   "metadata": {},
   "outputs": [
    {
     "name": "stdout",
     "output_type": "stream",
     "text": [
      "WARNING:tensorflow:From /home/lorien/anaconda3/lib/python3.7/site-packages/tensorflow/python/ops/resource_variable_ops.py:435: colocate_with (from tensorflow.python.framework.ops) is deprecated and will be removed in a future version.\n",
      "Instructions for updating:\n",
      "Colocations handled automatically by placer.\n"
     ]
    }
   ],
   "source": [
    "# Criação da rede\n",
    "model = Sequential()\n",
    "model.add(Dense(32, activation='relu', input_shape=(X_train.shape[1],)))\n",
    "#model.add(Dense(32, activation='relu'))\n",
    "model.add(Dense(1, activation='sigmoid'))\n",
    "model.compile(optimizer='rmsprop', loss='binary_crossentropy', metrics=['accuracy'])"
   ]
  },
  {
   "cell_type": "markdown",
   "metadata": {},
   "source": [
    "* **Explicação da arquitetura da rede neural MLP:**\n",
    "\n",
    "\n",
    "1. Uma rede MLP é formada por uma camada de entrada que contém um ou mais neurônios artificiais, com ou sem bias, conectada com outras camadas consecutivas, e uma camada de saída.\n",
    "2. A arquitetura criada contém duas camadas: a primeira se trata da camada de entrada que contém 32 unidades, como o também o tamanho dos dados de treino. Também contém uma função de ativação, que eu sei que ela é bastante utilizada para a camada de entrada desse tipo de rede. A última camada se trata de uma camada de saída, com apenas um nó, e a função de ativação sigmoid, pois assim a rede apenas aprende a predizer valores de 0 a 1."
   ]
  },
  {
   "cell_type": "code",
   "execution_count": 34,
   "metadata": {},
   "outputs": [
    {
     "name": "stdout",
     "output_type": "stream",
     "text": [
      "Train on 409 samples, validate on 46 samples\n",
      "WARNING:tensorflow:From /home/lorien/anaconda3/lib/python3.7/site-packages/tensorflow/python/ops/math_ops.py:3066: to_int32 (from tensorflow.python.ops.math_ops) is deprecated and will be removed in a future version.\n",
      "Instructions for updating:\n",
      "Use tf.cast instead.\n",
      "Epoch 1/100\n",
      "409/409 [==============================] - 0s 369us/sample - loss: 5.7434 - acc: 0.4279 - val_loss: 3.6260 - val_acc: 0.3261\n",
      "Epoch 2/100\n",
      "409/409 [==============================] - 0s 28us/sample - loss: 4.6207 - acc: 0.4230 - val_loss: 2.7821 - val_acc: 0.6522\n",
      "Epoch 3/100\n",
      "409/409 [==============================] - 0s 28us/sample - loss: 3.1540 - acc: 0.5012 - val_loss: 1.6248 - val_acc: 0.4565\n",
      "Epoch 4/100\n",
      "409/409 [==============================] - 0s 28us/sample - loss: 2.2543 - acc: 0.5281 - val_loss: 2.0668 - val_acc: 0.4130\n",
      "Epoch 5/100\n",
      "409/409 [==============================] - 0s 34us/sample - loss: 1.2861 - acc: 0.6944 - val_loss: 0.9692 - val_acc: 0.7609\n",
      "Epoch 6/100\n",
      "409/409 [==============================] - 0s 31us/sample - loss: 1.0840 - acc: 0.7286 - val_loss: 0.5307 - val_acc: 0.8261\n",
      "Epoch 7/100\n",
      "409/409 [==============================] - 0s 29us/sample - loss: 0.8322 - acc: 0.7677 - val_loss: 0.4886 - val_acc: 0.8261\n",
      "Epoch 8/100\n",
      "409/409 [==============================] - 0s 26us/sample - loss: 0.7005 - acc: 0.8044 - val_loss: 0.4103 - val_acc: 0.8696\n",
      "Epoch 9/100\n",
      "409/409 [==============================] - 0s 26us/sample - loss: 0.8983 - acc: 0.7579 - val_loss: 1.4283 - val_acc: 0.7609\n",
      "Epoch 10/100\n",
      "409/409 [==============================] - 0s 26us/sample - loss: 0.5861 - acc: 0.8020 - val_loss: 0.4531 - val_acc: 0.8478\n",
      "Epoch 11/100\n",
      "409/409 [==============================] - 0s 26us/sample - loss: 0.6380 - acc: 0.8166 - val_loss: 0.6933 - val_acc: 0.8043\n",
      "Epoch 12/100\n",
      "409/409 [==============================] - 0s 27us/sample - loss: 0.4160 - acc: 0.8606 - val_loss: 0.9711 - val_acc: 0.7609\n",
      "Epoch 13/100\n",
      "409/409 [==============================] - 0s 25us/sample - loss: 0.6944 - acc: 0.8044 - val_loss: 0.3841 - val_acc: 0.8913\n",
      "Epoch 14/100\n",
      "409/409 [==============================] - 0s 29us/sample - loss: 0.4274 - acc: 0.8704 - val_loss: 2.9009 - val_acc: 0.7609\n",
      "Epoch 15/100\n",
      "409/409 [==============================] - 0s 29us/sample - loss: 0.6144 - acc: 0.8435 - val_loss: 0.3566 - val_acc: 0.9130\n",
      "Epoch 16/100\n",
      "409/409 [==============================] - 0s 48us/sample - loss: 0.4010 - acc: 0.8606 - val_loss: 0.3915 - val_acc: 0.8913\n",
      "Epoch 17/100\n",
      "409/409 [==============================] - 0s 52us/sample - loss: 0.3835 - acc: 0.8851 - val_loss: 1.2364 - val_acc: 0.8261\n",
      "Epoch 18/100\n",
      "409/409 [==============================] - 0s 36us/sample - loss: 0.5683 - acc: 0.8460 - val_loss: 0.3920 - val_acc: 0.8696\n",
      "Epoch 19/100\n",
      "409/409 [==============================] - 0s 33us/sample - loss: 0.3931 - acc: 0.8875 - val_loss: 0.3388 - val_acc: 0.8913\n",
      "Epoch 20/100\n",
      "409/409 [==============================] - 0s 31us/sample - loss: 0.5055 - acc: 0.8606 - val_loss: 0.3375 - val_acc: 0.8913\n",
      "Epoch 21/100\n",
      "409/409 [==============================] - 0s 31us/sample - loss: 0.5805 - acc: 0.8362 - val_loss: 0.4505 - val_acc: 0.8261\n",
      "Epoch 22/100\n",
      "409/409 [==============================] - 0s 31us/sample - loss: 0.3272 - acc: 0.8973 - val_loss: 0.3503 - val_acc: 0.8913\n",
      "Epoch 23/100\n",
      "409/409 [==============================] - 0s 31us/sample - loss: 0.5219 - acc: 0.8778 - val_loss: 0.3294 - val_acc: 0.9130\n",
      "Epoch 24/100\n",
      "409/409 [==============================] - 0s 30us/sample - loss: 0.5685 - acc: 0.8631 - val_loss: 0.7387 - val_acc: 0.8261\n",
      "Epoch 25/100\n",
      "409/409 [==============================] - 0s 31us/sample - loss: 0.3871 - acc: 0.8875 - val_loss: 0.6937 - val_acc: 0.7609\n",
      "Epoch 26/100\n",
      "409/409 [==============================] - 0s 30us/sample - loss: 0.3710 - acc: 0.8949 - val_loss: 1.5656 - val_acc: 0.6304\n",
      "Epoch 27/100\n",
      "409/409 [==============================] - 0s 33us/sample - loss: 0.5299 - acc: 0.8557 - val_loss: 0.4290 - val_acc: 0.8696\n",
      "Epoch 28/100\n",
      "409/409 [==============================] - 0s 29us/sample - loss: 0.2347 - acc: 0.9242 - val_loss: 1.9795 - val_acc: 0.7826\n",
      "Epoch 29/100\n",
      "409/409 [==============================] - 0s 28us/sample - loss: 0.6557 - acc: 0.8484 - val_loss: 0.3233 - val_acc: 0.9130\n",
      "Epoch 30/100\n",
      "409/409 [==============================] - 0s 29us/sample - loss: 0.4353 - acc: 0.8778 - val_loss: 0.5108 - val_acc: 0.8478\n",
      "Epoch 31/100\n",
      "409/409 [==============================] - 0s 29us/sample - loss: 0.5446 - acc: 0.8729 - val_loss: 0.3080 - val_acc: 0.9130\n",
      "Epoch 32/100\n",
      "409/409 [==============================] - 0s 30us/sample - loss: 0.3873 - acc: 0.8826 - val_loss: 1.1617 - val_acc: 0.7391\n",
      "Epoch 33/100\n",
      "409/409 [==============================] - 0s 31us/sample - loss: 0.4964 - acc: 0.8460 - val_loss: 0.6507 - val_acc: 0.8478\n",
      "Epoch 34/100\n",
      "409/409 [==============================] - 0s 30us/sample - loss: 0.3193 - acc: 0.8826 - val_loss: 0.5706 - val_acc: 0.8043\n",
      "Epoch 35/100\n",
      "409/409 [==============================] - 0s 30us/sample - loss: 0.4231 - acc: 0.8729 - val_loss: 0.3082 - val_acc: 0.9130\n",
      "Epoch 36/100\n",
      "409/409 [==============================] - 0s 30us/sample - loss: 0.3622 - acc: 0.8802 - val_loss: 0.8062 - val_acc: 0.8261\n",
      "Epoch 37/100\n",
      "409/409 [==============================] - 0s 31us/sample - loss: 0.3367 - acc: 0.9095 - val_loss: 0.3387 - val_acc: 0.9130\n",
      "Epoch 38/100\n",
      "409/409 [==============================] - 0s 31us/sample - loss: 0.5879 - acc: 0.8460 - val_loss: 0.7627 - val_acc: 0.8261\n",
      "Epoch 39/100\n",
      "409/409 [==============================] - 0s 32us/sample - loss: 0.2328 - acc: 0.9218 - val_loss: 0.5747 - val_acc: 0.8261\n",
      "Epoch 40/100\n",
      "409/409 [==============================] - 0s 32us/sample - loss: 0.4582 - acc: 0.8753 - val_loss: 0.2983 - val_acc: 0.9130\n",
      "Epoch 41/100\n",
      "409/409 [==============================] - 0s 51us/sample - loss: 0.4304 - acc: 0.8606 - val_loss: 0.3169 - val_acc: 0.8913\n",
      "Epoch 42/100\n",
      "409/409 [==============================] - 0s 46us/sample - loss: 0.2809 - acc: 0.8973 - val_loss: 2.3773 - val_acc: 0.5000\n",
      "Epoch 43/100\n",
      "409/409 [==============================] - 0s 53us/sample - loss: 0.5027 - acc: 0.8631 - val_loss: 0.2797 - val_acc: 0.9130\n",
      "Epoch 44/100\n",
      "409/409 [==============================] - 0s 45us/sample - loss: 0.3131 - acc: 0.8973 - val_loss: 3.5729 - val_acc: 0.4130\n",
      "Epoch 45/100\n",
      "409/409 [==============================] - 0s 46us/sample - loss: 0.4191 - acc: 0.8778 - val_loss: 0.3132 - val_acc: 0.9130\n",
      "Epoch 46/100\n",
      "409/409 [==============================] - 0s 45us/sample - loss: 0.1669 - acc: 0.9315 - val_loss: 0.8502 - val_acc: 0.8261\n",
      "Epoch 47/100\n",
      "409/409 [==============================] - 0s 43us/sample - loss: 0.5313 - acc: 0.8582 - val_loss: 0.3338 - val_acc: 0.8913\n",
      "Epoch 48/100\n",
      "409/409 [==============================] - 0s 44us/sample - loss: 0.4843 - acc: 0.8900 - val_loss: 0.4158 - val_acc: 0.8696\n",
      "Epoch 49/100\n",
      "409/409 [==============================] - 0s 44us/sample - loss: 0.2851 - acc: 0.8973 - val_loss: 1.3522 - val_acc: 0.6957\n",
      "Epoch 50/100\n",
      "409/409 [==============================] - 0s 44us/sample - loss: 0.3136 - acc: 0.9022 - val_loss: 0.4389 - val_acc: 0.8696\n",
      "Epoch 51/100\n",
      "409/409 [==============================] - 0s 49us/sample - loss: 0.4391 - acc: 0.8680 - val_loss: 0.3686 - val_acc: 0.8696\n",
      "Epoch 52/100\n",
      "409/409 [==============================] - 0s 43us/sample - loss: 0.4424 - acc: 0.8753 - val_loss: 0.3172 - val_acc: 0.8913\n",
      "Epoch 53/100\n",
      "409/409 [==============================] - 0s 44us/sample - loss: 0.1936 - acc: 0.9218 - val_loss: 0.4229 - val_acc: 0.8696\n",
      "Epoch 54/100\n",
      "409/409 [==============================] - 0s 44us/sample - loss: 0.3873 - acc: 0.8875 - val_loss: 0.4392 - val_acc: 0.8478\n",
      "Epoch 55/100\n",
      "409/409 [==============================] - 0s 50us/sample - loss: 0.5173 - acc: 0.8704 - val_loss: 0.3978 - val_acc: 0.8696\n",
      "Epoch 56/100\n",
      "409/409 [==============================] - 0s 44us/sample - loss: 0.4246 - acc: 0.8753 - val_loss: 0.2607 - val_acc: 0.9130\n",
      "Epoch 57/100\n",
      "409/409 [==============================] - 0s 46us/sample - loss: 0.2605 - acc: 0.9193 - val_loss: 0.3014 - val_acc: 0.9348\n",
      "Epoch 58/100\n"
     ]
    },
    {
     "name": "stdout",
     "output_type": "stream",
     "text": [
      "409/409 [==============================] - 0s 47us/sample - loss: 0.4723 - acc: 0.8606 - val_loss: 0.2554 - val_acc: 0.9130\n",
      "Epoch 59/100\n",
      "409/409 [==============================] - 0s 36us/sample - loss: 0.3995 - acc: 0.8875 - val_loss: 0.2726 - val_acc: 0.8913\n",
      "Epoch 60/100\n",
      "409/409 [==============================] - 0s 32us/sample - loss: 0.2144 - acc: 0.9291 - val_loss: 0.4178 - val_acc: 0.8696\n",
      "Epoch 61/100\n",
      "409/409 [==============================] - 0s 33us/sample - loss: 0.3651 - acc: 0.8924 - val_loss: 0.7252 - val_acc: 0.7391\n",
      "Epoch 62/100\n",
      "409/409 [==============================] - 0s 36us/sample - loss: 0.3210 - acc: 0.9095 - val_loss: 0.2316 - val_acc: 0.9130\n",
      "Epoch 63/100\n",
      "409/409 [==============================] - 0s 38us/sample - loss: 0.5128 - acc: 0.8924 - val_loss: 0.2757 - val_acc: 0.8913\n",
      "Epoch 64/100\n",
      "409/409 [==============================] - 0s 41us/sample - loss: 0.2041 - acc: 0.9218 - val_loss: 0.7310 - val_acc: 0.8261\n",
      "Epoch 65/100\n",
      "409/409 [==============================] - 0s 44us/sample - loss: 0.3262 - acc: 0.8924 - val_loss: 0.5655 - val_acc: 0.8261\n",
      "Epoch 66/100\n",
      "409/409 [==============================] - 0s 49us/sample - loss: 0.4661 - acc: 0.8557 - val_loss: 0.2500 - val_acc: 0.9130\n",
      "Epoch 67/100\n",
      "409/409 [==============================] - 0s 45us/sample - loss: 0.2937 - acc: 0.9120 - val_loss: 0.2868 - val_acc: 0.8913\n",
      "Epoch 68/100\n",
      "409/409 [==============================] - 0s 46us/sample - loss: 0.2265 - acc: 0.9267 - val_loss: 0.5437 - val_acc: 0.8478\n",
      "Epoch 69/100\n",
      "409/409 [==============================] - 0s 49us/sample - loss: 0.4651 - acc: 0.8680 - val_loss: 0.4877 - val_acc: 0.8696\n",
      "Epoch 70/100\n",
      "409/409 [==============================] - 0s 47us/sample - loss: 0.1328 - acc: 0.9291 - val_loss: 0.8423 - val_acc: 0.8261\n",
      "Epoch 71/100\n",
      "409/409 [==============================] - 0s 45us/sample - loss: 0.3368 - acc: 0.8826 - val_loss: 0.2662 - val_acc: 0.9565\n",
      "Epoch 72/100\n",
      "409/409 [==============================] - 0s 49us/sample - loss: 0.2813 - acc: 0.9193 - val_loss: 0.2822 - val_acc: 0.9348\n",
      "Epoch 73/100\n",
      "409/409 [==============================] - 0s 45us/sample - loss: 0.3590 - acc: 0.8924 - val_loss: 0.7480 - val_acc: 0.7391\n",
      "Epoch 74/100\n",
      "409/409 [==============================] - 0s 45us/sample - loss: 0.3096 - acc: 0.8631 - val_loss: 0.2529 - val_acc: 0.8913\n",
      "Epoch 75/100\n",
      "409/409 [==============================] - 0s 45us/sample - loss: 0.1507 - acc: 0.9487 - val_loss: 0.2066 - val_acc: 0.9130\n",
      "Epoch 76/100\n",
      "409/409 [==============================] - 0s 40us/sample - loss: 0.4177 - acc: 0.8802 - val_loss: 0.2155 - val_acc: 0.9130\n",
      "Epoch 77/100\n",
      "409/409 [==============================] - 0s 40us/sample - loss: 0.2727 - acc: 0.9120 - val_loss: 0.3150 - val_acc: 0.8913\n",
      "Epoch 78/100\n",
      "409/409 [==============================] - 0s 40us/sample - loss: 0.2696 - acc: 0.9095 - val_loss: 0.2030 - val_acc: 0.9348\n",
      "Epoch 79/100\n",
      "409/409 [==============================] - 0s 38us/sample - loss: 0.5032 - acc: 0.8655 - val_loss: 0.3391 - val_acc: 0.9130\n",
      "Epoch 80/100\n",
      "409/409 [==============================] - 0s 40us/sample - loss: 0.1224 - acc: 0.9389 - val_loss: 0.3684 - val_acc: 0.8913\n",
      "Epoch 81/100\n",
      "409/409 [==============================] - 0s 40us/sample - loss: 0.5126 - acc: 0.8435 - val_loss: 0.2580 - val_acc: 0.8913\n",
      "Epoch 82/100\n",
      "409/409 [==============================] - 0s 43us/sample - loss: 0.1613 - acc: 0.9267 - val_loss: 0.5827 - val_acc: 0.8261\n",
      "Epoch 83/100\n",
      "409/409 [==============================] - 0s 40us/sample - loss: 0.2609 - acc: 0.9046 - val_loss: 0.9839 - val_acc: 0.8261\n",
      "Epoch 84/100\n",
      "409/409 [==============================] - 0s 42us/sample - loss: 0.4243 - acc: 0.8680 - val_loss: 0.2063 - val_acc: 0.9130\n",
      "Epoch 85/100\n",
      "409/409 [==============================] - 0s 42us/sample - loss: 0.2031 - acc: 0.9389 - val_loss: 0.3020 - val_acc: 0.8913\n",
      "Epoch 86/100\n",
      "409/409 [==============================] - 0s 46us/sample - loss: 0.1932 - acc: 0.9193 - val_loss: 0.2480 - val_acc: 0.8913\n",
      "Epoch 87/100\n",
      "409/409 [==============================] - 0s 44us/sample - loss: 0.3495 - acc: 0.9022 - val_loss: 0.1970 - val_acc: 0.9348\n",
      "Epoch 88/100\n",
      "409/409 [==============================] - 0s 43us/sample - loss: 0.0964 - acc: 0.9584 - val_loss: 0.2555 - val_acc: 0.9565\n",
      "Epoch 89/100\n",
      "409/409 [==============================] - 0s 42us/sample - loss: 0.3764 - acc: 0.8900 - val_loss: 0.2066 - val_acc: 0.9130\n",
      "Epoch 90/100\n",
      "409/409 [==============================] - 0s 46us/sample - loss: 0.4069 - acc: 0.8900 - val_loss: 0.1911 - val_acc: 0.9130\n",
      "Epoch 91/100\n",
      "409/409 [==============================] - 0s 73us/sample - loss: 0.1454 - acc: 0.9340 - val_loss: 0.1978 - val_acc: 0.9130\n",
      "Epoch 92/100\n",
      "409/409 [==============================] - 0s 71us/sample - loss: 0.4403 - acc: 0.8802 - val_loss: 0.2562 - val_acc: 0.8913\n",
      "Epoch 93/100\n",
      "409/409 [==============================] - 0s 56us/sample - loss: 0.1481 - acc: 0.9413 - val_loss: 1.4904 - val_acc: 0.7826\n",
      "Epoch 94/100\n",
      "409/409 [==============================] - 0s 54us/sample - loss: 0.3831 - acc: 0.8900 - val_loss: 0.5111 - val_acc: 0.8696\n",
      "Epoch 95/100\n",
      "409/409 [==============================] - 0s 48us/sample - loss: 0.1812 - acc: 0.9315 - val_loss: 0.2353 - val_acc: 0.9565\n",
      "Epoch 96/100\n",
      "409/409 [==============================] - 0s 44us/sample - loss: 0.3561 - acc: 0.8949 - val_loss: 0.2462 - val_acc: 0.8913\n",
      "Epoch 97/100\n",
      "409/409 [==============================] - 0s 47us/sample - loss: 0.2964 - acc: 0.9242 - val_loss: 0.1883 - val_acc: 0.9130\n",
      "Epoch 98/100\n",
      "409/409 [==============================] - 0s 45us/sample - loss: 0.2814 - acc: 0.9022 - val_loss: 0.4790 - val_acc: 0.8696\n",
      "Epoch 99/100\n",
      "409/409 [==============================] - 0s 41us/sample - loss: 0.2292 - acc: 0.9340 - val_loss: 0.2125 - val_acc: 0.9565\n",
      "Epoch 100/100\n",
      "409/409 [==============================] - 0s 42us/sample - loss: 0.4140 - acc: 0.8875 - val_loss: 0.7469 - val_acc: 0.8261\n"
     ]
    }
   ],
   "source": [
    "# Printando a acurácia dos dados durante a evolução das épocas\n",
    "# Validation_split separa os 10% dos dados para a validação\n",
    "historic_epochs = model.fit(X_train, y_train, epochs=100, validation_split=0.10);"
   ]
  },
  {
   "cell_type": "markdown",
   "metadata": {},
   "source": [
    "#### Gráfico com a acurácia do modelo para os dados de teste"
   ]
  },
  {
   "cell_type": "code",
   "execution_count": 35,
   "metadata": {},
   "outputs": [
    {
     "data": {
      "image/png": "[encoded data removed]",
      "text/plain": [
       "<Figure size 432x288 with 1 Axes>"
      ]
     },
     "metadata": {
      "needs_background": "light"
     },
     "output_type": "display_data"
    }
   ],
   "source": [
    "acc = historic_epochs.history['acc']\n",
    "\n",
    "plt.plot(range(1, len(acc) + 1), acc)\n",
    "plt.xlabel('Epochs')\n",
    "plt.ylabel('Accuracy')\n",
    "plt.show()"
   ]
  },
  {
   "cell_type": "markdown",
   "metadata": {},
   "source": [
    "#### Verificando a época que obteve o melhor desempenho"
   ]
  },
  {
   "cell_type": "code",
   "execution_count": 36,
   "metadata": {
    "scrolled": true
   },
   "outputs": [
    {
     "name": "stdout",
     "output_type": "stream",
     "text": [
      "Época que obteve o melhor desempenho: \n"
     ]
    },
    {
     "data": {
      "text/html": [
       "<div>\n",
       "<style scoped>\n",
       "    .dataframe tbody tr th:only-of-type {\n",
       "        vertical-align: middle;\n",
       "    }\n",
       "\n",
       "    .dataframe tbody tr th {\n",
       "        vertical-align: top;\n",
       "    }\n",
       "\n",
       "    .dataframe thead th {\n",
       "        text-align: right;\n",
       "    }\n",
       "</style>\n",
       "<table border=\"1\" class=\"dataframe\">\n",
       "  <thead>\n",
       "    <tr style=\"text-align: right;\">\n",
       "      <th></th>\n",
       "      <th>loss</th>\n",
       "      <th>acc</th>\n",
       "      <th>val_loss</th>\n",
       "      <th>val_acc</th>\n",
       "    </tr>\n",
       "  </thead>\n",
       "  <tbody>\n",
       "    <tr>\n",
       "      <th>87</th>\n",
       "      <td>0.096364</td>\n",
       "      <td>0.958435</td>\n",
       "      <td>0.255458</td>\n",
       "      <td>0.956522</td>\n",
       "    </tr>\n",
       "  </tbody>\n",
       "</table>\n",
       "</div>"
      ],
      "text/plain": [
       "        loss       acc  val_loss   val_acc\n",
       "87  0.096364  0.958435  0.255458  0.956522"
      ]
     },
     "execution_count": 36,
     "metadata": {},
     "output_type": "execute_result"
    }
   ],
   "source": [
    "print(\"Época que obteve o melhor desempenho: \")\n",
    "\n",
    "df_history = pd.DataFrame(historic_epochs.history)\n",
    "\n",
    "df_history_values = df_history.nlargest(1, ['acc'])\n",
    "\n",
    "df_history_values"
   ]
  },
  {
   "cell_type": "code",
   "execution_count": 45,
   "metadata": {},
   "outputs": [
    {
     "data": {
      "text/plain": [
       "array([[0.09636374, 0.95843524, 0.25545814, 0.95652175]])"
      ]
     },
     "execution_count": 45,
     "metadata": {},
     "output_type": "execute_result"
    }
   ],
   "source": [
    "df_history_values."
   ]
  },
  {
   "cell_type": "code",
   "execution_count": 38,
   "metadata": {},
   "outputs": [],
   "source": [
    "# Retreinando o modelo, considerando a melhor época\n",
    "best_epoch = df_history_values['']\n",
    "\n",
    "model.fit(X_train, y_train, epochs=1, initial_epoch=96);"
   ]
  },
  {
   "cell_type": "code",
   "execution_count": 39,
   "metadata": {
    "scrolled": true
   },
   "outputs": [
    {
     "name": "stdout",
     "output_type": "stream",
     "text": [
      "114/114 [==============================] - 0s 92us/sample - loss: 0.2426 - acc: 0.9035\n"
     ]
    },
    {
     "data": {
      "text/plain": [
       "[0.24263992276565546, 0.9035088]"
      ]
     },
     "execution_count": 39,
     "metadata": {},
     "output_type": "execute_result"
    }
   ],
   "source": [
    "model.evaluate(X_test, y_test)"
   ]
  },
  {
   "cell_type": "markdown",
   "metadata": {},
   "source": [
    "Retreinando o modelo com os dados de treino+validação, considerando a melhor época, ao avaliar os dados de teste, a acurácia obtida foi 0.99122804."
   ]
  },
  {
   "cell_type": "code",
   "execution_count": null,
   "metadata": {},
   "outputs": [],
   "source": []
  }
 ],
 "metadata": {
  "kernelspec": {
   "display_name": "Python 3",
   "language": "python",
   "name": "python3"
  },
  "language_info": {
   "codemirror_mode": {
    "name": "ipython",
    "version": 3
   },
   "file_extension": ".py",
   "mimetype": "text/x-python",
   "name": "python",
   "nbconvert_exporter": "python",
   "pygments_lexer": "ipython3",
   "version": "3.7.3"
  }
 },
 "nbformat": 4,
 "nbformat_minor": 2
}
