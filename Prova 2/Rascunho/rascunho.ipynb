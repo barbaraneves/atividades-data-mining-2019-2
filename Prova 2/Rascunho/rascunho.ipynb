{
 "cells": [
  {
   "cell_type": "markdown",
   "metadata": {},
   "source": [
    "## Imports Iniciais"
   ]
  },
  {
   "cell_type": "code",
   "execution_count": 63,
   "metadata": {},
   "outputs": [],
   "source": [
    "import pandas as pd \n",
    "import numpy as np\n",
    "import matplotlib.pyplot as plt "
   ]
  },
  {
   "cell_type": "code",
   "execution_count": 64,
   "metadata": {
    "scrolled": true
   },
   "outputs": [
    {
     "data": {
      "text/html": [
       "<div>\n",
       "<style scoped>\n",
       "    .dataframe tbody tr th:only-of-type {\n",
       "        vertical-align: middle;\n",
       "    }\n",
       "\n",
       "    .dataframe tbody tr th {\n",
       "        vertical-align: top;\n",
       "    }\n",
       "\n",
       "    .dataframe thead th {\n",
       "        text-align: right;\n",
       "    }\n",
       "</style>\n",
       "<table border=\"1\" class=\"dataframe\">\n",
       "  <thead>\n",
       "    <tr style=\"text-align: right;\">\n",
       "      <th></th>\n",
       "      <th>0</th>\n",
       "      <th>1</th>\n",
       "      <th>2</th>\n",
       "      <th>3</th>\n",
       "      <th>4</th>\n",
       "      <th>5</th>\n",
       "      <th>6</th>\n",
       "      <th>7</th>\n",
       "      <th>8</th>\n",
       "      <th>9</th>\n",
       "      <th>...</th>\n",
       "      <th>22</th>\n",
       "      <th>23</th>\n",
       "      <th>24</th>\n",
       "      <th>25</th>\n",
       "      <th>26</th>\n",
       "      <th>27</th>\n",
       "      <th>28</th>\n",
       "      <th>29</th>\n",
       "      <th>30</th>\n",
       "      <th>y</th>\n",
       "    </tr>\n",
       "  </thead>\n",
       "  <tbody>\n",
       "    <tr>\n",
       "      <th>0</th>\n",
       "      <td>17.99</td>\n",
       "      <td>10.38</td>\n",
       "      <td>122.80</td>\n",
       "      <td>1001.0</td>\n",
       "      <td>0.11840</td>\n",
       "      <td>0.27760</td>\n",
       "      <td>0.3001</td>\n",
       "      <td>0.14710</td>\n",
       "      <td>0.2419</td>\n",
       "      <td>0.07871</td>\n",
       "      <td>...</td>\n",
       "      <td>184.60</td>\n",
       "      <td>2019.0</td>\n",
       "      <td>0.1622</td>\n",
       "      <td>0.6656</td>\n",
       "      <td>0.7119</td>\n",
       "      <td>0.2654</td>\n",
       "      <td>0.4601</td>\n",
       "      <td>0.11890</td>\n",
       "      <td>0.0</td>\n",
       "      <td>0</td>\n",
       "    </tr>\n",
       "    <tr>\n",
       "      <th>1</th>\n",
       "      <td>20.57</td>\n",
       "      <td>17.77</td>\n",
       "      <td>132.90</td>\n",
       "      <td>1326.0</td>\n",
       "      <td>0.08474</td>\n",
       "      <td>0.07864</td>\n",
       "      <td>0.0869</td>\n",
       "      <td>0.07017</td>\n",
       "      <td>0.1812</td>\n",
       "      <td>0.05667</td>\n",
       "      <td>...</td>\n",
       "      <td>158.80</td>\n",
       "      <td>1956.0</td>\n",
       "      <td>0.1238</td>\n",
       "      <td>0.1866</td>\n",
       "      <td>0.2416</td>\n",
       "      <td>0.1860</td>\n",
       "      <td>0.2750</td>\n",
       "      <td>0.08902</td>\n",
       "      <td>0.0</td>\n",
       "      <td>0</td>\n",
       "    </tr>\n",
       "    <tr>\n",
       "      <th>2</th>\n",
       "      <td>19.69</td>\n",
       "      <td>21.25</td>\n",
       "      <td>130.00</td>\n",
       "      <td>1203.0</td>\n",
       "      <td>0.10960</td>\n",
       "      <td>0.15990</td>\n",
       "      <td>0.1974</td>\n",
       "      <td>0.12790</td>\n",
       "      <td>0.2069</td>\n",
       "      <td>0.05999</td>\n",
       "      <td>...</td>\n",
       "      <td>152.50</td>\n",
       "      <td>1709.0</td>\n",
       "      <td>0.1444</td>\n",
       "      <td>0.4245</td>\n",
       "      <td>0.4504</td>\n",
       "      <td>0.2430</td>\n",
       "      <td>0.3613</td>\n",
       "      <td>0.08758</td>\n",
       "      <td>0.0</td>\n",
       "      <td>0</td>\n",
       "    </tr>\n",
       "    <tr>\n",
       "      <th>3</th>\n",
       "      <td>11.42</td>\n",
       "      <td>20.38</td>\n",
       "      <td>77.58</td>\n",
       "      <td>386.1</td>\n",
       "      <td>0.14250</td>\n",
       "      <td>0.28390</td>\n",
       "      <td>0.2414</td>\n",
       "      <td>0.10520</td>\n",
       "      <td>0.2597</td>\n",
       "      <td>0.09744</td>\n",
       "      <td>...</td>\n",
       "      <td>98.87</td>\n",
       "      <td>567.7</td>\n",
       "      <td>0.2098</td>\n",
       "      <td>0.8663</td>\n",
       "      <td>0.6869</td>\n",
       "      <td>0.2575</td>\n",
       "      <td>0.6638</td>\n",
       "      <td>0.17300</td>\n",
       "      <td>NaN</td>\n",
       "      <td>0</td>\n",
       "    </tr>\n",
       "    <tr>\n",
       "      <th>4</th>\n",
       "      <td>20.29</td>\n",
       "      <td>14.34</td>\n",
       "      <td>135.10</td>\n",
       "      <td>1297.0</td>\n",
       "      <td>0.10030</td>\n",
       "      <td>0.13280</td>\n",
       "      <td>0.1980</td>\n",
       "      <td>0.10430</td>\n",
       "      <td>0.1809</td>\n",
       "      <td>0.05883</td>\n",
       "      <td>...</td>\n",
       "      <td>152.20</td>\n",
       "      <td>1575.0</td>\n",
       "      <td>0.1374</td>\n",
       "      <td>0.2050</td>\n",
       "      <td>0.4000</td>\n",
       "      <td>0.1625</td>\n",
       "      <td>0.2364</td>\n",
       "      <td>0.07678</td>\n",
       "      <td>0.0</td>\n",
       "      <td>0</td>\n",
       "    </tr>\n",
       "  </tbody>\n",
       "</table>\n",
       "<p>5 rows × 32 columns</p>\n",
       "</div>"
      ],
      "text/plain": [
       "       0      1       2       3        4        5       6        7       8  \\\n",
       "0  17.99  10.38  122.80  1001.0  0.11840  0.27760  0.3001  0.14710  0.2419   \n",
       "1  20.57  17.77  132.90  1326.0  0.08474  0.07864  0.0869  0.07017  0.1812   \n",
       "2  19.69  21.25  130.00  1203.0  0.10960  0.15990  0.1974  0.12790  0.2069   \n",
       "3  11.42  20.38   77.58   386.1  0.14250  0.28390  0.2414  0.10520  0.2597   \n",
       "4  20.29  14.34  135.10  1297.0  0.10030  0.13280  0.1980  0.10430  0.1809   \n",
       "\n",
       "         9  ...      22      23      24      25      26      27      28  \\\n",
       "0  0.07871  ...  184.60  2019.0  0.1622  0.6656  0.7119  0.2654  0.4601   \n",
       "1  0.05667  ...  158.80  1956.0  0.1238  0.1866  0.2416  0.1860  0.2750   \n",
       "2  0.05999  ...  152.50  1709.0  0.1444  0.4245  0.4504  0.2430  0.3613   \n",
       "3  0.09744  ...   98.87   567.7  0.2098  0.8663  0.6869  0.2575  0.6638   \n",
       "4  0.05883  ...  152.20  1575.0  0.1374  0.2050  0.4000  0.1625  0.2364   \n",
       "\n",
       "        29   30  y  \n",
       "0  0.11890  0.0  0  \n",
       "1  0.08902  0.0  0  \n",
       "2  0.08758  0.0  0  \n",
       "3  0.17300  NaN  0  \n",
       "4  0.07678  0.0  0  \n",
       "\n",
       "[5 rows x 32 columns]"
      ]
     },
     "execution_count": 64,
     "metadata": {},
     "output_type": "execute_result"
    }
   ],
   "source": [
    "#Lendo o dataset\n",
    "df = pd.read_csv('breast_cancer_ap1.csv')\n",
    "\n",
    "df.head()"
   ]
  },
  {
   "cell_type": "code",
   "execution_count": 65,
   "metadata": {},
   "outputs": [
    {
     "name": "stdout",
     "output_type": "stream",
     "text": [
      "<class 'pandas.core.frame.DataFrame'>\n",
      "RangeIndex: 569 entries, 0 to 568\n",
      "Data columns (total 32 columns):\n",
      "0     561 non-null float64\n",
      "1     565 non-null float64\n",
      "2     558 non-null float64\n",
      "3     564 non-null float64\n",
      "4     564 non-null float64\n",
      "5     560 non-null float64\n",
      "6     561 non-null float64\n",
      "7     566 non-null float64\n",
      "8     558 non-null float64\n",
      "9     566 non-null float64\n",
      "10    564 non-null float64\n",
      "11    559 non-null float64\n",
      "12    564 non-null float64\n",
      "13    560 non-null float64\n",
      "14    563 non-null float64\n",
      "15    566 non-null float64\n",
      "16    559 non-null float64\n",
      "17    566 non-null float64\n",
      "18    560 non-null float64\n",
      "19    566 non-null float64\n",
      "20    559 non-null float64\n",
      "21    566 non-null float64\n",
      "22    564 non-null float64\n",
      "23    563 non-null float64\n",
      "24    560 non-null float64\n",
      "25    564 non-null float64\n",
      "26    563 non-null float64\n",
      "27    562 non-null float64\n",
      "28    563 non-null float64\n",
      "29    565 non-null float64\n",
      "30    561 non-null float64\n",
      "y     569 non-null int64\n",
      "dtypes: float64(31), int64(1)\n",
      "memory usage: 142.3 KB\n"
     ]
    }
   ],
   "source": [
    "df.info()"
   ]
  },
  {
   "cell_type": "code",
   "execution_count": 66,
   "metadata": {},
   "outputs": [
    {
     "data": {
      "text/plain": [
       "0      8\n",
       "1      4\n",
       "2     11\n",
       "3      5\n",
       "4      5\n",
       "5      9\n",
       "6      8\n",
       "7      3\n",
       "8     11\n",
       "9      3\n",
       "10     5\n",
       "11    10\n",
       "12     5\n",
       "13     9\n",
       "14     6\n",
       "15     3\n",
       "16    10\n",
       "17     3\n",
       "18     9\n",
       "19     3\n",
       "20    10\n",
       "21     3\n",
       "22     5\n",
       "23     6\n",
       "24     9\n",
       "25     5\n",
       "26     6\n",
       "27     7\n",
       "28     6\n",
       "29     4\n",
       "30     8\n",
       "y      0\n",
       "dtype: int64"
      ]
     },
     "execution_count": 66,
     "metadata": {},
     "output_type": "execute_result"
    }
   ],
   "source": [
    "#Verificando valores faltantes \n",
    "df.isna().sum()"
   ]
  },
  {
   "cell_type": "code",
   "execution_count": 67,
   "metadata": {},
   "outputs": [
    {
     "data": {
      "text/plain": [
       "14.135639928698764"
      ]
     },
     "execution_count": 67,
     "metadata": {},
     "output_type": "execute_result"
    }
   ],
   "source": [
    "df['0'].mean()"
   ]
  },
  {
   "cell_type": "code",
   "execution_count": 68,
   "metadata": {},
   "outputs": [],
   "source": [
    "#Preenchendo os valores faltantes\n",
    "df = df.fillna(df.mean())"
   ]
  },
  {
   "cell_type": "code",
   "execution_count": 69,
   "metadata": {},
   "outputs": [
    {
     "data": {
      "text/plain": [
       "14.135639928698764"
      ]
     },
     "execution_count": 69,
     "metadata": {},
     "output_type": "execute_result"
    }
   ],
   "source": [
    "df['0'].mean()"
   ]
  },
  {
   "cell_type": "code",
   "execution_count": 70,
   "metadata": {},
   "outputs": [
    {
     "data": {
      "text/plain": [
       "0     0\n",
       "1     0\n",
       "2     0\n",
       "3     0\n",
       "4     0\n",
       "5     0\n",
       "6     0\n",
       "7     0\n",
       "8     0\n",
       "9     0\n",
       "10    0\n",
       "11    0\n",
       "12    0\n",
       "13    0\n",
       "14    0\n",
       "15    0\n",
       "16    0\n",
       "17    0\n",
       "18    0\n",
       "19    0\n",
       "20    0\n",
       "21    0\n",
       "22    0\n",
       "23    0\n",
       "24    0\n",
       "25    0\n",
       "26    0\n",
       "27    0\n",
       "28    0\n",
       "29    0\n",
       "30    0\n",
       "y     0\n",
       "dtype: int64"
      ]
     },
     "execution_count": 70,
     "metadata": {},
     "output_type": "execute_result"
    }
   ],
   "source": [
    "df.isna().sum()"
   ]
  },
  {
   "cell_type": "code",
   "execution_count": 71,
   "metadata": {},
   "outputs": [],
   "source": [
    "#Separando os dados \n",
    "X = df.values[:, :-1]\n",
    "y = df.values[:, -1]"
   ]
  },
  {
   "cell_type": "code",
   "execution_count": 72,
   "metadata": {},
   "outputs": [],
   "source": [
    "from sklearn.model_selection import train_test_split\n",
    "\n",
    "X_train, X_test, y_train, y_test = train_test_split(X, y, test_size=0.20, random_state=42)"
   ]
  },
  {
   "cell_type": "code",
   "execution_count": 73,
   "metadata": {},
   "outputs": [
    {
     "data": {
      "text/plain": [
       "((455, 31), (455,))"
      ]
     },
     "execution_count": 73,
     "metadata": {},
     "output_type": "execute_result"
    }
   ],
   "source": [
    "X_train.shape, y_train.shape"
   ]
  },
  {
   "cell_type": "code",
   "execution_count": 74,
   "metadata": {},
   "outputs": [
    {
     "data": {
      "text/plain": [
       "((114, 31), (114,))"
      ]
     },
     "execution_count": 74,
     "metadata": {},
     "output_type": "execute_result"
    }
   ],
   "source": [
    "X_test.shape, y_test.shape"
   ]
  },
  {
   "cell_type": "code",
   "execution_count": 75,
   "metadata": {},
   "outputs": [],
   "source": [
    "from sklearn.preprocessing import StandardScaler\n",
    "from sklearn.pipeline import Pipeline\n",
    "from sklearn.model_selection import cross_val_score, GridSearchCV\n",
    "\n",
    "from sklearn.tree import DecisionTreeClassifier\n",
    "from sklearn.ensemble import BaggingClassifier, RandomForestClassifier, GradientBoostingClassifier\n",
    "\n",
    "from sklearn.metrics import accuracy_score, precision_score, recall_score"
   ]
  },
  {
   "cell_type": "code",
   "execution_count": 76,
   "metadata": {},
   "outputs": [],
   "source": [
    "#Definição dos métodos Emseble\n",
    "bcdt = BaggingClassifier(base_estimator=DecisionTreeClassifier(random_state=42), oob_score=True, n_jobs=-1)\n",
    "\n",
    "rfc = RandomForestClassifier(random_state=42)\n",
    "\n",
    "gbc = GradientBoostingClassifier(random_state=42)"
   ]
  },
  {
   "cell_type": "code",
   "execution_count": 77,
   "metadata": {},
   "outputs": [],
   "source": [
    "#Definindo os pipelines para a padronização\n",
    "BCDT = Pipeline([('transformer', StandardScaler()),\n",
    "                 ('estimator', bcdt)])\n",
    "RFC = Pipeline([('transformer', StandardScaler()),\n",
    "                ('estimator', rfc)])\n",
    "GBC = Pipeline([('transformer', StandardScaler()),\n",
    "                ('estimator', gbc)])"
   ]
  },
  {
   "cell_type": "code",
   "execution_count": null,
   "metadata": {},
   "outputs": [],
   "source": [
    "#Utilizando GridSearchCV para avaliar as combinações dos hiperparâmetros\n",
    "gbParam = {'estimator__learning_rate':[0.1, 0.05, 0.01], 'estimator__n_estimators':[50, 100, 200], \n",
    "           'estimator__max_depth':[3, 5, 7]}\n",
    "oParam = {'estimator__n_estimators':[50, 100, 200], 'estimator__max_depth':[3, 5, 7]}\n",
    "bParam = {'estimator__n_estimators':[50, 100, 200], 'estimator__base_estimator__max_depth':[3, 5, 7]}\n",
    "\n",
    "BCDT = GridSearchCV(BCDT, bParam, cv=3, scoring=['accuracy', 'precision', 'recall'], iid=True, \n",
    "                    return_train_score=True, refit=False)\n",
    "BCDT.fit(X_train, y_train)\n",
    "\n",
    "RFC = GridSearchCV(RFC, oParam, cv=3, scoring=['accuracy', 'precision', 'recall'], iid=True, \n",
    "                   return_train_score=True, refit=False)\n",
    "RFC.fit(X_train, y_train)\n",
    "\n",
    "GBC = GridSearchCV(GBC, gbParam, cv=3, scoring=['accuracy', 'precision', 'recall'], iid=True, \n",
    "                   return_train_score=True, refit=False)\n",
    "GBC.fit(X_train, y_train)"
   ]
  },
  {
   "cell_type": "code",
   "execution_count": null,
   "metadata": {},
   "outputs": [],
   "source": [
    "def resultados(model) :\n",
    "    df = pd.DataFrame(model.cv_results_)\n",
    "    \n",
    "    df_acc = df.nlargest(1, ['mean_test_accuracy'])\n",
    "    df_precision = df.nlargest(1, ['mean_test_precision'])\n",
    "    df_recall = df.nlargest(1, ['mean_test_recall'])\n",
    "\n",
    "    print('Valores das métricas:\\nAcurácia - ' + str(df_acc['mean_test_accuracy']) + '\\nPrecision - ' + \n",
    "          str( df_precision['mean_test_precision']) + '\\nRecall - ' + str(df_recall['mean_test_recall']))"
   ]
  },
  {
   "cell_type": "code",
   "execution_count": 60,
   "metadata": {
    "scrolled": true
   },
   "outputs": [
    {
     "name": "stdout",
     "output_type": "stream",
     "text": [
      "Valores das métricas:\n",
      "Acurácia - 0    0.995604\n",
      "Name: mean_test_accuracy, dtype: float64\n",
      "Precision - 0    0.993076\n",
      "Name: mean_test_precision, dtype: float64\n",
      "Recall - 0    1.0\n",
      "Name: mean_test_recall, dtype: float64\n"
     ]
    }
   ],
   "source": [
    "resultados(BCDT)"
   ]
  },
  {
   "cell_type": "code",
   "execution_count": 61,
   "metadata": {},
   "outputs": [
    {
     "name": "stdout",
     "output_type": "stream",
     "text": [
      "Valores das métricas:\n",
      "Acurácia - 3    0.995604\n",
      "Name: mean_test_accuracy, dtype: float64\n",
      "Precision - 3    0.993076\n",
      "Name: mean_test_precision, dtype: float64\n",
      "Recall - 0    1.0\n",
      "Name: mean_test_recall, dtype: float64\n"
     ]
    }
   ],
   "source": [
    "resultados(RFC)"
   ]
  },
  {
   "cell_type": "code",
   "execution_count": 62,
   "metadata": {
    "scrolled": true
   },
   "outputs": [
    {
     "name": "stdout",
     "output_type": "stream",
     "text": [
      "Valores das métricas:\n",
      "Acurácia - 0    0.993407\n",
      "Name: mean_test_accuracy, dtype: float64\n",
      "Precision - 0    0.99304\n",
      "Name: mean_test_precision, dtype: float64\n",
      "Recall - 0    0.996497\n",
      "Name: mean_test_recall, dtype: float64\n"
     ]
    }
   ],
   "source": [
    "resultados(GBC)"
   ]
  },
  {
   "cell_type": "code",
   "execution_count": 21,
   "metadata": {},
   "outputs": [],
   "source": [
    "sc = StandardScaler().fit(X_train)\n",
    "X_train_scaler = sc.transform(X_train)\n",
    "X_test_scaler = sc.transform(X_test)"
   ]
  },
  {
   "cell_type": "code",
   "execution_count": 22,
   "metadata": {},
   "outputs": [
    {
     "name": "stderr",
     "output_type": "stream",
     "text": [
      "/home/lorien/anaconda3/lib/python3.7/site-packages/sklearn/ensemble/bagging.py:611: UserWarning: Some inputs do not have OOB scores. This probably means too few estimators were used to compute any reliable oob estimates.\n",
      "  warn(\"Some inputs do not have OOB scores. \"\n",
      "/home/lorien/anaconda3/lib/python3.7/site-packages/sklearn/ensemble/bagging.py:616: RuntimeWarning: invalid value encountered in true_divide\n",
      "  predictions.sum(axis=1)[:, np.newaxis])\n"
     ]
    },
    {
     "data": {
      "text/plain": [
       "(1.0, 1.0, 1.0)"
      ]
     },
     "execution_count": 22,
     "metadata": {},
     "output_type": "execute_result"
    }
   ],
   "source": [
    "bcdt.fit(X_train_scaler, y_train)\n",
    "y_pred = bcdt.predict(X_test_scaler)\n",
    "accuracy_score(y_test, y_pred), precision_score(y_test, y_pred), recall_score(y_test, y_pred)"
   ]
  },
  {
   "cell_type": "code",
   "execution_count": 23,
   "metadata": {},
   "outputs": [
    {
     "name": "stdout",
     "output_type": "stream",
     "text": [
      "WARNING:tensorflow:From /home/lorien/anaconda3/lib/python3.7/site-packages/tensorflow/python/ops/resource_variable_ops.py:435: colocate_with (from tensorflow.python.framework.ops) is deprecated and will be removed in a future version.\n",
      "Instructions for updating:\n",
      "Colocations handled automatically by placer.\n"
     ]
    }
   ],
   "source": [
    "from tensorflow.keras.models import Sequential\n",
    "from tensorflow.keras.layers import Dense\n",
    "\n",
    "mpl = Sequential()\n",
    "mpl.add(Dense(32, activation='relu', input_shape=(X_train.shape[1],)))\n",
    "mpl.add(Dense(1, activation='sigmoid'))\n",
    "mpl.compile(optimizer='rmsprop', loss='binary_crossentropy', metrics=['acc'])"
   ]
  },
  {
   "cell_type": "code",
   "execution_count": 24,
   "metadata": {},
   "outputs": [
    {
     "name": "stdout",
     "output_type": "stream",
     "text": [
      "_________________________________________________________________\n",
      "Layer (type)                 Output Shape              Param #   \n",
      "=================================================================\n",
      "dense (Dense)                (None, 32)                1024      \n",
      "_________________________________________________________________\n",
      "dense_1 (Dense)              (None, 1)                 33        \n",
      "=================================================================\n",
      "Total params: 1,057\n",
      "Trainable params: 1,057\n",
      "Non-trainable params: 0\n",
      "_________________________________________________________________\n"
     ]
    }
   ],
   "source": [
    "mpl.summary()"
   ]
  },
  {
   "cell_type": "code",
   "execution_count": 25,
   "metadata": {},
   "outputs": [
    {
     "name": "stdout",
     "output_type": "stream",
     "text": [
      "Train on 409 samples, validate on 46 samples\n",
      "WARNING:tensorflow:From /home/lorien/anaconda3/lib/python3.7/site-packages/tensorflow/python/ops/math_ops.py:3066: to_int32 (from tensorflow.python.ops.math_ops) is deprecated and will be removed in a future version.\n",
      "Instructions for updating:\n",
      "Use tf.cast instead.\n",
      "Epoch 1/100\n",
      "409/409 [==============================] - 0s 443us/sample - loss: 4.5686 - acc: 0.4572 - val_loss: 1.5853 - val_acc: 0.4783\n",
      "Epoch 2/100\n",
      "409/409 [==============================] - 0s 35us/sample - loss: 2.2760 - acc: 0.5795 - val_loss: 0.5730 - val_acc: 0.7826\n",
      "Epoch 3/100\n",
      "409/409 [==============================] - 0s 36us/sample - loss: 1.7743 - acc: 0.5990 - val_loss: 0.9697 - val_acc: 0.6304\n",
      "Epoch 4/100\n",
      "409/409 [==============================] - 0s 36us/sample - loss: 1.0303 - acc: 0.7359 - val_loss: 0.5333 - val_acc: 0.7609\n",
      "Epoch 5/100\n",
      "409/409 [==============================] - 0s 45us/sample - loss: 1.0158 - acc: 0.7555 - val_loss: 1.0176 - val_acc: 0.8043\n",
      "Epoch 6/100\n",
      "409/409 [==============================] - 0s 52us/sample - loss: 1.1618 - acc: 0.7408 - val_loss: 0.4778 - val_acc: 0.8478\n",
      "Epoch 7/100\n",
      "409/409 [==============================] - 0s 37us/sample - loss: 0.6803 - acc: 0.8166 - val_loss: 0.6870 - val_acc: 0.8261\n",
      "Epoch 8/100\n",
      "409/409 [==============================] - 0s 38us/sample - loss: 0.6731 - acc: 0.8313 - val_loss: 0.9492 - val_acc: 0.8043\n",
      "Epoch 9/100\n",
      "409/409 [==============================] - 0s 36us/sample - loss: 0.7849 - acc: 0.7922 - val_loss: 0.4645 - val_acc: 0.8478\n",
      "Epoch 10/100\n",
      "409/409 [==============================] - 0s 35us/sample - loss: 0.6851 - acc: 0.8337 - val_loss: 0.4831 - val_acc: 0.8478\n",
      "Epoch 11/100\n",
      "409/409 [==============================] - 0s 35us/sample - loss: 0.8985 - acc: 0.7873 - val_loss: 0.5712 - val_acc: 0.8478\n",
      "Epoch 12/100\n",
      "409/409 [==============================] - 0s 36us/sample - loss: 0.6824 - acc: 0.8289 - val_loss: 0.7291 - val_acc: 0.8478\n",
      "Epoch 13/100\n",
      "409/409 [==============================] - 0s 37us/sample - loss: 0.6650 - acc: 0.8337 - val_loss: 0.6607 - val_acc: 0.8478\n",
      "Epoch 14/100\n",
      "409/409 [==============================] - 0s 35us/sample - loss: 0.7403 - acc: 0.8362 - val_loss: 0.5118 - val_acc: 0.8478\n",
      "Epoch 15/100\n",
      "409/409 [==============================] - 0s 35us/sample - loss: 0.4291 - acc: 0.8778 - val_loss: 0.5143 - val_acc: 0.9130\n",
      "Epoch 16/100\n",
      "409/409 [==============================] - 0s 37us/sample - loss: 0.6040 - acc: 0.8484 - val_loss: 2.7640 - val_acc: 0.7391\n",
      "Epoch 17/100\n",
      "409/409 [==============================] - 0s 39us/sample - loss: 0.8910 - acc: 0.8191 - val_loss: 0.4986 - val_acc: 0.8478\n",
      "Epoch 18/100\n",
      "409/409 [==============================] - 0s 34us/sample - loss: 0.7113 - acc: 0.8484 - val_loss: 0.5205 - val_acc: 0.8478\n",
      "Epoch 19/100\n",
      "409/409 [==============================] - 0s 39us/sample - loss: 0.5555 - acc: 0.8606 - val_loss: 0.4738 - val_acc: 0.9130\n",
      "Epoch 20/100\n",
      "409/409 [==============================] - 0s 45us/sample - loss: 0.6541 - acc: 0.8362 - val_loss: 0.4577 - val_acc: 0.8696\n",
      "Epoch 21/100\n",
      "409/409 [==============================] - 0s 36us/sample - loss: 0.7535 - acc: 0.8313 - val_loss: 0.5173 - val_acc: 0.8478\n",
      "Epoch 22/100\n",
      "409/409 [==============================] - 0s 39us/sample - loss: 0.5866 - acc: 0.8631 - val_loss: 0.4846 - val_acc: 0.9348\n",
      "Epoch 23/100\n",
      "409/409 [==============================] - 0s 42us/sample - loss: 0.7372 - acc: 0.8240 - val_loss: 0.8001 - val_acc: 0.8478\n",
      "Epoch 24/100\n",
      "409/409 [==============================] - 0s 42us/sample - loss: 0.5622 - acc: 0.8655 - val_loss: 1.4205 - val_acc: 0.6957\n",
      "Epoch 25/100\n",
      "409/409 [==============================] - 0s 45us/sample - loss: 0.4109 - acc: 0.8998 - val_loss: 1.2646 - val_acc: 0.8043\n",
      "Epoch 26/100\n",
      "409/409 [==============================] - 0s 42us/sample - loss: 0.6167 - acc: 0.8533 - val_loss: 0.7785 - val_acc: 0.8261\n",
      "Epoch 27/100\n",
      "409/409 [==============================] - 0s 42us/sample - loss: 0.6011 - acc: 0.8533 - val_loss: 0.7136 - val_acc: 0.8478\n",
      "Epoch 28/100\n",
      "409/409 [==============================] - 0s 42us/sample - loss: 0.6546 - acc: 0.8313 - val_loss: 0.5132 - val_acc: 0.8478\n",
      "Epoch 29/100\n",
      "409/409 [==============================] - 0s 39us/sample - loss: 0.3509 - acc: 0.9169 - val_loss: 0.4140 - val_acc: 0.8478\n",
      "Epoch 30/100\n",
      "409/409 [==============================] - 0s 41us/sample - loss: 0.7627 - acc: 0.8435 - val_loss: 1.7211 - val_acc: 0.8043\n",
      "Epoch 31/100\n",
      "409/409 [==============================] - 0s 40us/sample - loss: 0.5977 - acc: 0.8460 - val_loss: 0.7457 - val_acc: 0.8478\n",
      "Epoch 32/100\n",
      "409/409 [==============================] - 0s 40us/sample - loss: 0.5919 - acc: 0.8509 - val_loss: 0.4084 - val_acc: 0.8913\n",
      "Epoch 33/100\n",
      "409/409 [==============================] - 0s 37us/sample - loss: 0.5314 - acc: 0.8631 - val_loss: 0.6591 - val_acc: 0.8696\n",
      "Epoch 34/100\n",
      "409/409 [==============================] - 0s 38us/sample - loss: 0.4479 - acc: 0.8704 - val_loss: 0.3975 - val_acc: 0.8478\n",
      "Epoch 35/100\n",
      "409/409 [==============================] - 0s 38us/sample - loss: 0.4279 - acc: 0.8729 - val_loss: 0.3663 - val_acc: 0.9130\n",
      "Epoch 36/100\n",
      "409/409 [==============================] - 0s 38us/sample - loss: 0.7254 - acc: 0.8582 - val_loss: 0.7124 - val_acc: 0.8043\n",
      "Epoch 37/100\n",
      "409/409 [==============================] - 0s 39us/sample - loss: 0.5485 - acc: 0.8729 - val_loss: 0.4619 - val_acc: 0.8478\n",
      "Epoch 38/100\n",
      "409/409 [==============================] - 0s 38us/sample - loss: 0.5189 - acc: 0.8582 - val_loss: 0.4829 - val_acc: 0.8478\n",
      "Epoch 39/100\n",
      "409/409 [==============================] - 0s 37us/sample - loss: 0.4157 - acc: 0.8851 - val_loss: 1.1336 - val_acc: 0.7391\n",
      "Epoch 40/100\n",
      "409/409 [==============================] - 0s 35us/sample - loss: 0.3837 - acc: 0.8973 - val_loss: 2.2449 - val_acc: 0.5870\n",
      "Epoch 41/100\n",
      "409/409 [==============================] - 0s 36us/sample - loss: 0.5771 - acc: 0.8704 - val_loss: 0.4538 - val_acc: 0.8478\n",
      "Epoch 42/100\n",
      "409/409 [==============================] - 0s 37us/sample - loss: 0.7866 - acc: 0.8264 - val_loss: 0.3952 - val_acc: 0.8913\n",
      "Epoch 43/100\n",
      "409/409 [==============================] - 0s 36us/sample - loss: 0.3001 - acc: 0.9120 - val_loss: 0.4460 - val_acc: 0.8478\n",
      "Epoch 44/100\n",
      "409/409 [==============================] - 0s 37us/sample - loss: 0.6832 - acc: 0.8386 - val_loss: 0.3913 - val_acc: 0.8913\n",
      "Epoch 45/100\n",
      "409/409 [==============================] - 0s 36us/sample - loss: 0.3219 - acc: 0.9046 - val_loss: 0.4449 - val_acc: 0.9348\n",
      "Epoch 46/100\n",
      "409/409 [==============================] - 0s 36us/sample - loss: 0.3577 - acc: 0.9022 - val_loss: 1.3038 - val_acc: 0.7174\n",
      "Epoch 47/100\n",
      "409/409 [==============================] - 0s 35us/sample - loss: 0.6127 - acc: 0.8680 - val_loss: 0.3179 - val_acc: 0.8696\n",
      "Epoch 48/100\n",
      "409/409 [==============================] - ETA: 0s - loss: 0.1770 - acc: 0.968 - 0s 36us/sample - loss: 0.7385 - acc: 0.8704 - val_loss: 0.4034 - val_acc: 0.9348\n",
      "Epoch 49/100\n",
      "409/409 [==============================] - 0s 40us/sample - loss: 0.2585 - acc: 0.9291 - val_loss: 0.6902 - val_acc: 0.8478\n",
      "Epoch 50/100\n",
      "409/409 [==============================] - 0s 41us/sample - loss: 0.7396 - acc: 0.8386 - val_loss: 0.3402 - val_acc: 0.8478\n",
      "Epoch 51/100\n",
      "409/409 [==============================] - 0s 36us/sample - loss: 0.2439 - acc: 0.9046 - val_loss: 0.7743 - val_acc: 0.8478\n",
      "Epoch 52/100\n",
      "409/409 [==============================] - 0s 35us/sample - loss: 0.4408 - acc: 0.8851 - val_loss: 0.2893 - val_acc: 0.8913\n",
      "Epoch 53/100\n",
      "409/409 [==============================] - 0s 38us/sample - loss: 0.5300 - acc: 0.8509 - val_loss: 1.0642 - val_acc: 0.8261\n",
      "Epoch 54/100\n",
      "409/409 [==============================] - 0s 32us/sample - loss: 0.3085 - acc: 0.9120 - val_loss: 1.0694 - val_acc: 0.7391\n",
      "Epoch 55/100\n",
      "409/409 [==============================] - 0s 36us/sample - loss: 0.5053 - acc: 0.8753 - val_loss: 1.7217 - val_acc: 0.8043\n",
      "Epoch 56/100\n",
      "409/409 [==============================] - 0s 53us/sample - loss: 0.4647 - acc: 0.8826 - val_loss: 0.5500 - val_acc: 0.8696\n",
      "Epoch 57/100\n",
      "409/409 [==============================] - 0s 57us/sample - loss: 0.4478 - acc: 0.8875 - val_loss: 0.3082 - val_acc: 0.8913\n",
      "Epoch 58/100\n"
     ]
    },
    {
     "name": "stdout",
     "output_type": "stream",
     "text": [
      "409/409 [==============================] - 0s 65us/sample - loss: 0.2999 - acc: 0.8973 - val_loss: 0.4399 - val_acc: 0.8478\n",
      "Epoch 59/100\n",
      "409/409 [==============================] - 0s 59us/sample - loss: 0.5250 - acc: 0.8582 - val_loss: 1.4271 - val_acc: 0.8043\n",
      "Epoch 60/100\n",
      "409/409 [==============================] - ETA: 0s - loss: 1.9182 - acc: 0.687 - 0s 59us/sample - loss: 0.4512 - acc: 0.8875 - val_loss: 0.5961 - val_acc: 0.8478\n",
      "Epoch 61/100\n",
      "409/409 [==============================] - 0s 65us/sample - loss: 0.4865 - acc: 0.8973 - val_loss: 0.3555 - val_acc: 0.9348\n",
      "Epoch 62/100\n",
      "409/409 [==============================] - 0s 61us/sample - loss: 0.3218 - acc: 0.9169 - val_loss: 1.6196 - val_acc: 0.8043\n",
      "Epoch 63/100\n",
      "409/409 [==============================] - 0s 58us/sample - loss: 0.3015 - acc: 0.9046 - val_loss: 0.3532 - val_acc: 0.8478\n",
      "Epoch 64/100\n",
      "409/409 [==============================] - 0s 61us/sample - loss: 0.3124 - acc: 0.9144 - val_loss: 1.4083 - val_acc: 0.6957\n",
      "Epoch 65/100\n",
      "409/409 [==============================] - 0s 60us/sample - loss: 0.3443 - acc: 0.8973 - val_loss: 0.5238 - val_acc: 0.9130\n",
      "Epoch 66/100\n",
      "409/409 [==============================] - 0s 62us/sample - loss: 0.5858 - acc: 0.8704 - val_loss: 0.3471 - val_acc: 0.8478\n",
      "Epoch 67/100\n",
      "409/409 [==============================] - 0s 64us/sample - loss: 0.2220 - acc: 0.9315 - val_loss: 1.0104 - val_acc: 0.8261\n",
      "Epoch 68/100\n",
      "409/409 [==============================] - 0s 60us/sample - loss: 0.4929 - acc: 0.8802 - val_loss: 0.3066 - val_acc: 0.9130\n",
      "Epoch 69/100\n",
      "409/409 [==============================] - 0s 73us/sample - loss: 0.5201 - acc: 0.8484 - val_loss: 0.4024 - val_acc: 0.9348\n",
      "Epoch 70/100\n",
      "409/409 [==============================] - 0s 37us/sample - loss: 0.2758 - acc: 0.9218 - val_loss: 0.4053 - val_acc: 0.9348\n",
      "Epoch 71/100\n",
      "409/409 [==============================] - 0s 34us/sample - loss: 0.8316 - acc: 0.8606 - val_loss: 0.3209 - val_acc: 0.8478\n",
      "Epoch 72/100\n",
      "409/409 [==============================] - 0s 34us/sample - loss: 0.1450 - acc: 0.9438 - val_loss: 0.5987 - val_acc: 0.8913\n",
      "Epoch 73/100\n",
      "409/409 [==============================] - 0s 35us/sample - loss: 0.5315 - acc: 0.8533 - val_loss: 0.3478 - val_acc: 0.8478\n",
      "Epoch 74/100\n",
      "409/409 [==============================] - 0s 37us/sample - loss: 0.3304 - acc: 0.9193 - val_loss: 0.4594 - val_acc: 0.8913\n",
      "Epoch 75/100\n",
      "409/409 [==============================] - 0s 36us/sample - loss: 0.5148 - acc: 0.8924 - val_loss: 0.2942 - val_acc: 0.8913\n",
      "Epoch 76/100\n",
      "409/409 [==============================] - 0s 33us/sample - loss: 0.1998 - acc: 0.9340 - val_loss: 1.4569 - val_acc: 0.6739\n",
      "Epoch 77/100\n",
      "409/409 [==============================] - 0s 33us/sample - loss: 0.3749 - acc: 0.9046 - val_loss: 1.2484 - val_acc: 0.7174\n",
      "Epoch 78/100\n",
      "409/409 [==============================] - 0s 35us/sample - loss: 0.4066 - acc: 0.8826 - val_loss: 1.2255 - val_acc: 0.8043\n",
      "Epoch 79/100\n",
      "409/409 [==============================] - 0s 35us/sample - loss: 0.5535 - acc: 0.8582 - val_loss: 0.2876 - val_acc: 0.8913\n",
      "Epoch 80/100\n",
      "409/409 [==============================] - 0s 35us/sample - loss: 0.2884 - acc: 0.9046 - val_loss: 0.9236 - val_acc: 0.8261\n",
      "Epoch 81/100\n",
      "409/409 [==============================] - 0s 41us/sample - loss: 0.2916 - acc: 0.9071 - val_loss: 0.4875 - val_acc: 0.8913\n",
      "Epoch 82/100\n",
      "409/409 [==============================] - 0s 33us/sample - loss: 0.3335 - acc: 0.9022 - val_loss: 0.7142 - val_acc: 0.8696\n",
      "Epoch 83/100\n",
      "409/409 [==============================] - 0s 33us/sample - loss: 0.6204 - acc: 0.8704 - val_loss: 0.2484 - val_acc: 0.9130\n",
      "Epoch 84/100\n",
      "409/409 [==============================] - 0s 34us/sample - loss: 0.2687 - acc: 0.9291 - val_loss: 1.3450 - val_acc: 0.8043\n",
      "Epoch 85/100\n",
      "409/409 [==============================] - 0s 34us/sample - loss: 0.2937 - acc: 0.9144 - val_loss: 1.0109 - val_acc: 0.8261\n",
      "Epoch 86/100\n",
      "409/409 [==============================] - 0s 35us/sample - loss: 0.6880 - acc: 0.8729 - val_loss: 0.3455 - val_acc: 0.8696\n",
      "Epoch 87/100\n",
      "409/409 [==============================] - 0s 35us/sample - loss: 0.1512 - acc: 0.9413 - val_loss: 0.7643 - val_acc: 0.8478\n",
      "Epoch 88/100\n",
      "409/409 [==============================] - 0s 42us/sample - loss: 0.4562 - acc: 0.8998 - val_loss: 0.2715 - val_acc: 0.9348\n",
      "Epoch 89/100\n",
      "409/409 [==============================] - 0s 37us/sample - loss: 0.2723 - acc: 0.9242 - val_loss: 0.2843 - val_acc: 0.8913\n",
      "Epoch 90/100\n",
      "409/409 [==============================] - 0s 35us/sample - loss: 0.3324 - acc: 0.9071 - val_loss: 0.2555 - val_acc: 0.8913\n",
      "Epoch 91/100\n",
      "409/409 [==============================] - 0s 35us/sample - loss: 0.1373 - acc: 0.9438 - val_loss: 0.3654 - val_acc: 0.9348\n",
      "Epoch 92/100\n",
      "409/409 [==============================] - 0s 35us/sample - loss: 0.6265 - acc: 0.8484 - val_loss: 0.2736 - val_acc: 0.8478\n",
      "Epoch 93/100\n",
      "409/409 [==============================] - 0s 35us/sample - loss: 0.2269 - acc: 0.9315 - val_loss: 1.0141 - val_acc: 0.7609\n",
      "Epoch 94/100\n",
      "409/409 [==============================] - 0s 33us/sample - loss: 0.3650 - acc: 0.9144 - val_loss: 0.2375 - val_acc: 0.9348\n",
      "Epoch 95/100\n",
      "409/409 [==============================] - 0s 34us/sample - loss: 0.2562 - acc: 0.9340 - val_loss: 2.6200 - val_acc: 0.5435\n",
      "Epoch 96/100\n",
      "409/409 [==============================] - 0s 33us/sample - loss: 0.2479 - acc: 0.9242 - val_loss: 0.4387 - val_acc: 0.8913\n",
      "Epoch 97/100\n",
      "409/409 [==============================] - 0s 33us/sample - loss: 0.6769 - acc: 0.8509 - val_loss: 0.2895 - val_acc: 0.8913\n",
      "Epoch 98/100\n",
      "409/409 [==============================] - 0s 33us/sample - loss: 0.1330 - acc: 0.9511 - val_loss: 0.2323 - val_acc: 0.9130\n",
      "Epoch 99/100\n",
      "409/409 [==============================] - 0s 35us/sample - loss: 0.3542 - acc: 0.8998 - val_loss: 0.2581 - val_acc: 0.9130\n",
      "Epoch 100/100\n",
      "409/409 [==============================] - 0s 34us/sample - loss: 0.2832 - acc: 0.9071 - val_loss: 0.3071 - val_acc: 0.9348\n"
     ]
    }
   ],
   "source": [
    "historic_epochs = mpl.fit(X_train, y_train, epochs=100, validation_split=.1);"
   ]
  },
  {
   "cell_type": "code",
   "execution_count": 29,
   "metadata": {},
   "outputs": [
    {
     "data": {
      "image/png": "[encoded data removed]",
      "text/plain": [
       "<Figure size 432x288 with 1 Axes>"
      ]
     },
     "metadata": {
      "needs_background": "light"
     },
     "output_type": "display_data"
    }
   ],
   "source": [
    "acc = historic_epochs.history['acc']\n",
    "\n",
    "plt.plot(range(0,100), acc);\n",
    "plt.grid(True)"
   ]
  },
  {
   "cell_type": "code",
   "execution_count": 35,
   "metadata": {},
   "outputs": [
    {
     "name": "stdout",
     "output_type": "stream",
     "text": [
      "Época que obteve o melhor desempenho: \n"
     ]
    },
    {
     "data": {
      "text/html": [
       "<div>\n",
       "<style scoped>\n",
       "    .dataframe tbody tr th:only-of-type {\n",
       "        vertical-align: middle;\n",
       "    }\n",
       "\n",
       "    .dataframe tbody tr th {\n",
       "        vertical-align: top;\n",
       "    }\n",
       "\n",
       "    .dataframe thead th {\n",
       "        text-align: right;\n",
       "    }\n",
       "</style>\n",
       "<table border=\"1\" class=\"dataframe\">\n",
       "  <thead>\n",
       "    <tr style=\"text-align: right;\">\n",
       "      <th></th>\n",
       "      <th>loss</th>\n",
       "      <th>acc</th>\n",
       "      <th>val_loss</th>\n",
       "      <th>val_acc</th>\n",
       "    </tr>\n",
       "  </thead>\n",
       "  <tbody>\n",
       "    <tr>\n",
       "      <th>97</th>\n",
       "      <td>0.133007</td>\n",
       "      <td>0.9511</td>\n",
       "      <td>0.232317</td>\n",
       "      <td>0.913043</td>\n",
       "    </tr>\n",
       "  </tbody>\n",
       "</table>\n",
       "</div>"
      ],
      "text/plain": [
       "        loss     acc  val_loss   val_acc\n",
       "97  0.133007  0.9511  0.232317  0.913043"
      ]
     },
     "execution_count": 35,
     "metadata": {},
     "output_type": "execute_result"
    }
   ],
   "source": [
    "print(\"Época que obteve o melhor desempenho: \")\n",
    "\n",
    "df_history = pd.DataFrame(historic_epochs.history)\n",
    "\n",
    "df_history.nlargest(1, ['acc'])"
   ]
  },
  {
   "cell_type": "code",
   "execution_count": 45,
   "metadata": {},
   "outputs": [
    {
     "name": "stdout",
     "output_type": "stream",
     "text": [
      "455/455 [==============================] - 0s 32us/sample - loss: 0.0261 - acc: 0.9912\n"
     ]
    }
   ],
   "source": [
    "mpl.fit(X_train, y_train, epochs=1, callbacks=[historic_epochs]);"
   ]
  },
  {
   "cell_type": "code",
   "execution_count": 47,
   "metadata": {},
   "outputs": [
    {
     "name": "stdout",
     "output_type": "stream",
     "text": [
      "114/114 [==============================] - 0s 23us/sample - loss: 0.1032 - acc: 0.9912\n"
     ]
    }
   ],
   "source": [
    "mpl.evaluate(X_test, y_test);"
   ]
  },
  {
   "cell_type": "code",
   "execution_count": null,
   "metadata": {},
   "outputs": [],
   "source": []
  }
 ],
 "metadata": {
  "kernelspec": {
   "display_name": "Python 3",
   "language": "python",
   "name": "python3"
  },
  "language_info": {
   "codemirror_mode": {
    "name": "ipython",
    "version": 3
   },
   "file_extension": ".py",
   "mimetype": "text/x-python",
   "name": "python",
   "nbconvert_exporter": "python",
   "pygments_lexer": "ipython3",
   "version": "3.7.3"
  }
 },
 "nbformat": 4,
 "nbformat_minor": 2
}
